{
  "nbformat": 4,
  "nbformat_minor": 0,
  "metadata": {
    "colab": {
      "provenance": []
    },
    "kernelspec": {
      "name": "python3",
      "display_name": "Python 3"
    },
    "language_info": {
      "name": "python"
    }
  },
  "cells": [
    {
      "cell_type": "markdown",
      "source": [
        "# **Проект: взаимодействие пользователей с карточками Яндекс.Дзен**"
      ],
      "metadata": {
        "id": "vbzCs90liSPm"
      }
    },
    {
      "cell_type": "markdown",
      "source": [
        "##**1. Описание проекта**"
      ],
      "metadata": {
        "id": "M4ycvpixZAJz"
      }
    },
    {
      "cell_type": "markdown",
      "source": [
        "**Цель проекта:**\n",
        "\n",
        "автоматизация процесса анализа взаимодействия пользователей с карточками статей Яндекс.Дзен.\n",
        "\n",
        "**Метрики анализа взаимодействия пользователей с карточками статей Яндекс.Дзен:**\n",
        "\n",
        "- количество взаимодействий пользователей с карточками в разбивке по темам карточек;\n",
        "- количество карточек, генерируемых источники с разными темами;\n",
        "- соотношение тем карточек с темами источников.\n",
        "\n",
        "**Источник данных:**\n",
        "база данных ZEN.\n",
        "\n",
        "**План выполнения проекта:**\n",
        "\n",
        "- создать коннекция с базой данных ZEN;\n",
        "- выполнить SQL запрос;\n",
        "- создать csv файл с исходными данным.\n",
        "- написать скрипт дашборда согласно утвержденному макету;\n",
        "- создать дашборд с исходными данными;\n",
        "- подготовить презентация с отчетом.\n",
        "\n",
        "**Дополнительные данные:**\n",
        "\n",
        "- Каждую карточку определяют её тема и источник.\n",
        "- У каждого источника есть тема. \n",
        "- Пользователи разделены на возрастные категории. \n",
        "- Пайплайн будет брать данные из таблицы с сырыми данными, трансформировать данные и укладывать их в агрегирующую таблицу."
      ],
      "metadata": {
        "id": "n2zxwqxiZAeC"
      }
    },
    {
      "cell_type": "markdown",
      "source": [
        "## **2. Подготовительный этап анализа**"
      ],
      "metadata": {
        "id": "NEVrRiK3jc9d"
      }
    },
    {
      "cell_type": "markdown",
      "source": [
        "### **2.1. Загрузка библиотек**"
      ],
      "metadata": {
        "id": "VVERdvu3IHDJ"
      }
    },
    {
      "cell_type": "code",
      "execution_count": 1,
      "metadata": {
        "id": "pFrf8LyYWl1Q"
      },
      "outputs": [],
      "source": [
        "# импортируем библиотеки\n",
        "import pandas as pd\n",
        "from sqlalchemy import create_engine, text\n",
        "from IPython.display import Image\n",
        "from matplotlib import pyplot as plt\n",
        "import seaborn as sns"
      ]
    },
    {
      "cell_type": "markdown",
      "source": [
        "### **2.2.Загрузка данных**"
      ],
      "metadata": {
        "id": "M75ByEMyEg-b"
      }
    },
    {
      "cell_type": "code",
      "source": [
        "#создаем коннекцию к базе\n",
        "db_config = {'user': 'praktikum_student', # имя пользователя\n",
        "            'pwd': 'Sdf4$2;d-d30pp', # пароль\n",
        "            'host': 'rc1b-wcoijxj3yxfsf3fs.mdb.yandexcloud.net',\n",
        "            'port': 6432, # порт подключения\n",
        "            'db': 'data-analyst-zen-project-db'} # название базы данных\n",
        "\n",
        "#запрашиваем сырые данные\n",
        "connection_string = 'postgresql://{}:{}@{}:{}/{}'.format(db_config['user'],\n",
        "                                                db_config['pwd'],\n",
        "                                                db_config['host'],\n",
        "                                                db_config['port'],\n",
        "                                                db_config['db'])\n",
        "\n",
        "engine = create_engine(connection_string)"
      ],
      "metadata": {
        "id": "A-FJva6fbZ1J"
      },
      "execution_count": 3,
      "outputs": []
    },
    {
      "cell_type": "code",
      "source": [
        "# напишим запрос и выгрузим данные в датасет\n",
        "query = '''\n",
        "           SELECT *\n",
        "           FROM dash_visits\n",
        "        '''\n",
        "\n",
        "df = pd.read_sql_query(sql=text(query), con=engine.connect())"
      ],
      "metadata": {
        "id": "Bzn0e_ZGbgNM"
      },
      "execution_count": 4,
      "outputs": []
    },
    {
      "cell_type": "code",
      "source": [
        "# изменим тип дынных в столбце dt\n",
        "df['dt'] = pd.to_datetime(df['dt'])\n",
        "df.info()"
      ],
      "metadata": {
        "colab": {
          "base_uri": "https://localhost:8080/"
        },
        "id": "sxVPx8f-PTEx",
        "outputId": "f26ccc8b-1dad-491e-e273-9b56b23cd9db"
      },
      "execution_count": 5,
      "outputs": [
        {
          "output_type": "stream",
          "name": "stdout",
          "text": [
            "<class 'pandas.core.frame.DataFrame'>\n",
            "RangeIndex: 30745 entries, 0 to 30744\n",
            "Data columns (total 6 columns):\n",
            " #   Column        Non-Null Count  Dtype         \n",
            "---  ------        --------------  -----         \n",
            " 0   record_id     30745 non-null  int64         \n",
            " 1   item_topic    30745 non-null  object        \n",
            " 2   source_topic  30745 non-null  object        \n",
            " 3   age_segment   30745 non-null  object        \n",
            " 4   dt            30745 non-null  datetime64[ns]\n",
            " 5   visits        30745 non-null  int64         \n",
            "dtypes: datetime64[ns](1), int64(2), object(3)\n",
            "memory usage: 1.4+ MB\n"
          ]
        }
      ]
    },
    {
      "cell_type": "markdown",
      "source": [
        "##**3. Выгрузка данных**"
      ],
      "metadata": {
        "id": "zbxV-fHnulcD"
      }
    },
    {
      "cell_type": "code",
      "source": [
        "# вызрузим csv файл для создания дашборда\n",
        "df.to_csv('zen-project.csv', index = False)"
      ],
      "metadata": {
        "id": "lzsmkK4P_nU5"
      },
      "execution_count": 6,
      "outputs": []
    },
    {
      "cell_type": "markdown",
      "source": [
        "##**4. Дашборд**"
      ],
      "metadata": {
        "id": "RPUe4tbFXvWs"
      }
    },
    {
      "cell_type": "markdown",
      "source": [
        "https://public.tableau.com/app/profile/anna.chaplin/viz/Project_Yandex_Dzen_16852901117180/Dashboard1"
      ],
      "metadata": {
        "id": "MyDZoczvHfU7"
      }
    },
    {
      "cell_type": "markdown",
      "source": [
        "##**5. Презентация**"
      ],
      "metadata": {
        "id": "WDd2HPuJYYeR"
      }
    },
    {
      "cell_type": "markdown",
      "source": [
        "https://disk.yandex.ru/i/beTnaTlTnXZ5bg"
      ],
      "metadata": {
        "id": "Cdctrt06ic6t"
      }
    }
  ]
}