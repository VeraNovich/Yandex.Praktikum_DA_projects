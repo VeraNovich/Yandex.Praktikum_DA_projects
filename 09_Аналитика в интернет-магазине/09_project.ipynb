{
 "cells": [
  {
   "cell_type": "markdown",
   "metadata": {},
   "source": [
    "# **Приоритизация гипотез и анализ результатов А/В-теста**"
   ]
  },
  {
   "cell_type": "markdown",
   "metadata": {},
   "source": [
    "**Заказчик:**\n",
    "  крупный интернет-магазин.\n",
    "\n",
    "**Цель исследования:** \n",
    "- составить отсортированный по убыванию приоритета список гипотез по увеличению выручки;\n",
    "- провести анализ результатов А/В-теста;\n",
    "- обосновать целесообразность продолжения/остановки А/В-теста.\n",
    "\n",
    "**Этапы исследования:**\n",
    "- приоритизации гипотез с применением фреймворка ICE;\n",
    "- приоритизации гипотез с применением фреймворка RICE;\n",
    "- анализ результатов А/В-теста.\n",
    "\n",
    "**Источники данных:**\n",
    "  отдел маркетинга интернет-магазина.\n",
    "  \n",
    "**Данные:**\n",
    "- ***hypothesis.csv*** - файл с гипотезами и параметрами приоритизации, \n",
    "- ***orders.csv*** - файл с данными о заказах,\n",
    "- ***visitors.csv*** — файл с данными о пользователях.\n",
    "\n",
    "**Структура файлов  (названия столбцов):**\n",
    "\n",
    "Структура ***hypothesis.csv***:\n",
    "- __Hypothesis__ — краткое описание гипотезы;\n",
    "- __Reach__ — охват пользователей по 10-балльной шкале;\n",
    "- __Impact__ — влияние на пользователей по 10-балльной шкале;\n",
    "- __Confidence__ — уверенность в гипотезе по 10-балльной шкале;\n",
    "- __Efforts__ — затраты ресурсов на проверку гипотезы по 10-балльной шкале. \n",
    "\n",
    "Структура ***orders.csv***:\n",
    "- __transactionId__ — идентификатор заказа;\n",
    "- __visitorId__ — идентификатор пользователя, совершившего заказ;\n",
    "- __date__ — дата, когда был совершён заказ;\n",
    "- __revenue__ — выручка заказа;\n",
    "- __group__ — группа A/B-теста, в которую попал заказ.\n",
    "\n",
    "\n",
    "Структура ***visitors.csv***:\n",
    "- __date__ — дата;\n",
    "- __group__ — группа A/B-теста;\n",
    "- __visitors__ — количество пользователей в указанную дату в указанной группе A/B-теста."
   ]
  },
  {
   "cell_type": "markdown",
   "metadata": {},
   "source": [
    "<a id='seven'></a>\n",
    "[К выводам](#eight)"
   ]
  },
  {
   "cell_type": "markdown",
   "metadata": {},
   "source": [
    "**Импорт библиотек**"
   ]
  },
  {
   "cell_type": "code",
   "execution_count": 1,
   "metadata": {},
   "outputs": [],
   "source": [
    "import pandas as pd\n",
    "import numpy as np\n",
    "import datetime as dt\n",
    "from matplotlib import pyplot as plt\n",
    "import scipy.stats as stats\n",
    "import seaborn as sns"
   ]
  },
  {
   "cell_type": "markdown",
   "metadata": {},
   "source": [
    "## **Приоритизация гипотез.**\n"
   ]
  },
  {
   "cell_type": "markdown",
   "metadata": {},
   "source": [
    "### Загрузка данных и подготовка к анализу"
   ]
  },
  {
   "cell_type": "markdown",
   "metadata": {},
   "source": [
    "#### Загрузка файла"
   ]
  },
  {
   "cell_type": "code",
   "execution_count": 2,
   "metadata": {},
   "outputs": [],
   "source": [
    "data = pd.read_csv('/datasets/hypothesis.csv', sep=',')"
   ]
  },
  {
   "cell_type": "markdown",
   "metadata": {},
   "source": [
    "#### Проверка качества данных в датасете"
   ]
  },
  {
   "cell_type": "code",
   "execution_count": 3,
   "metadata": {},
   "outputs": [],
   "source": [
    "# функция для первичного знакомства с новым датасетом\n",
    "def first_info(df):\n",
    "    print('Вывод первых 5 строк датасета:', end='\\n\\n')\n",
    "    print(df.head(), end='\\n\\n')\n",
    "    print('Вывод общей информации по датасету:', end='\\n\\n')\n",
    "    print(df.info(), end='\\n\\n')\n",
    "    print('Проверка количественных данных:', end='\\n\\n')\n",
    "    print(df.describe(), end='\\n\\n')\n",
    "    print('Количество дубликатов по датасету:', df.duplicated().sum(), end='\\n\\n')\n",
    "    return "
   ]
  },
  {
   "cell_type": "code",
   "execution_count": 4,
   "metadata": {},
   "outputs": [
    {
     "name": "stdout",
     "output_type": "stream",
     "text": [
      "Вывод первых 5 строк датасета:\n",
      "\n",
      "                                          Hypothesis  Reach  Impact  \\\n",
      "0  Добавить два новых канала привлечения трафика,...      3      10   \n",
      "1  Запустить собственную службу доставки, что сок...      2       5   \n",
      "2  Добавить блоки рекомендаций товаров на сайт ин...      8       3   \n",
      "3  Изменить структура категорий, что увеличит кон...      8       3   \n",
      "4  Изменить цвет фона главной страницы, чтобы уве...      3       1   \n",
      "\n",
      "   Confidence  Efforts  \n",
      "0           8        6  \n",
      "1           4       10  \n",
      "2           7        3  \n",
      "3           3        8  \n",
      "4           1        1  \n",
      "\n",
      "Вывод общей информации по датасету:\n",
      "\n",
      "<class 'pandas.core.frame.DataFrame'>\n",
      "RangeIndex: 9 entries, 0 to 8\n",
      "Data columns (total 5 columns):\n",
      " #   Column      Non-Null Count  Dtype \n",
      "---  ------      --------------  ----- \n",
      " 0   Hypothesis  9 non-null      object\n",
      " 1   Reach       9 non-null      int64 \n",
      " 2   Impact      9 non-null      int64 \n",
      " 3   Confidence  9 non-null      int64 \n",
      " 4   Efforts     9 non-null      int64 \n",
      "dtypes: int64(4), object(1)\n",
      "memory usage: 488.0+ bytes\n",
      "None\n",
      "\n",
      "Проверка количественных данных:\n",
      "\n",
      "           Reach     Impact  Confidence    Efforts\n",
      "count   9.000000   9.000000    9.000000   9.000000\n",
      "mean    4.777778   4.777778    5.555556   4.888889\n",
      "std     3.153481   3.192874    3.045944   2.803767\n",
      "min     1.000000   1.000000    1.000000   1.000000\n",
      "25%     3.000000   3.000000    3.000000   3.000000\n",
      "50%     3.000000   3.000000    7.000000   5.000000\n",
      "75%     8.000000   7.000000    8.000000   6.000000\n",
      "max    10.000000  10.000000    9.000000  10.000000\n",
      "\n",
      "Количество дубликатов по датасету: 0\n",
      "\n"
     ]
    }
   ],
   "source": [
    "# первичное знакомство с датасетом data\n",
    "first_info(data)"
   ]
  },
  {
   "cell_type": "markdown",
   "metadata": {},
   "source": [
    "**Выводы:**\n",
    "\n",
    "- названия столбцов необходимо привести к стандартному виду;\n",
    "- типы данных указаны верно;\n",
    "- пропусков в датасете нет;\n",
    "- полных дубликатов в датасете нет;\n",
    "- всего 5 столбцов, 9 строк.\n",
    "\n",
    "Таким образом,\n",
    "\n",
    "нам предложено 9 гипотез по повышению выручки интернет-магазина и 4 параметра их приоритезации - Reach, Impact, Confidence, Efforts, рассчитанные по шкале от 0 до 10.\n",
    "\n",
    "Приоритизацию гипотез можно провести и с помощью фреймворка ICE, и с помощью фреймворка RICE."
   ]
  },
  {
   "cell_type": "code",
   "execution_count": 5,
   "metadata": {},
   "outputs": [
    {
     "data": {
      "text/plain": [
       "Index(['hypothesis', 'reach', 'impact', 'confidence', 'efforts'], dtype='object')"
      ]
     },
     "execution_count": 5,
     "metadata": {},
     "output_type": "execute_result"
    }
   ],
   "source": [
    "# переименование стобцов\n",
    "data.columns = data.columns.str.lower()\n",
    "data.columns"
   ]
  },
  {
   "cell_type": "markdown",
   "metadata": {},
   "source": [
    "### Приоритизация гипотез: фреймворк ICE "
   ]
  },
  {
   "cell_type": "code",
   "execution_count": 6,
   "metadata": {},
   "outputs": [],
   "source": [
    "# настройка формата вывода таблицы\n",
    "pd.options.display.max_colwidth = 110"
   ]
  },
  {
   "cell_type": "code",
   "execution_count": 7,
   "metadata": {},
   "outputs": [
    {
     "data": {
      "text/html": [
       "<style  type=\"text/css\" >\n",
       "#T_afea5_row0_col2{\n",
       "            background-color:  #def5e5;\n",
       "            color:  #000000;\n",
       "        }#T_afea5_row1_col2{\n",
       "            background-color:  #96ddb5;\n",
       "            color:  #000000;\n",
       "        }#T_afea5_row2_col2{\n",
       "            background-color:  #49c1ad;\n",
       "            color:  #000000;\n",
       "        }#T_afea5_row3_col2{\n",
       "            background-color:  #359eaa;\n",
       "            color:  #000000;\n",
       "        }#T_afea5_row4_col2{\n",
       "            background-color:  #357aa2;\n",
       "            color:  #000000;\n",
       "        }#T_afea5_row5_col2{\n",
       "            background-color:  #3c5598;\n",
       "            color:  #f1f1f1;\n",
       "        }#T_afea5_row6_col2{\n",
       "            background-color:  #3e3469;\n",
       "            color:  #f1f1f1;\n",
       "        }#T_afea5_row7_col2{\n",
       "            background-color:  #2a1b33;\n",
       "            color:  #f1f1f1;\n",
       "        }#T_afea5_row8_col2{\n",
       "            background-color:  #0b0405;\n",
       "            color:  #f1f1f1;\n",
       "        }</style><table id=\"T_afea5_\" ><thead>    <tr>        <th class=\"blank level0\" ></th>        <th class=\"col_heading level0 col0\" >hypothesis</th>        <th class=\"col_heading level0 col1\" >ice</th>        <th class=\"col_heading level0 col2\" >rank_ice</th>    </tr></thead><tbody>\n",
       "                <tr>\n",
       "                        <th id=\"T_afea5_level0_row0\" class=\"row_heading level0 row0\" >8</th>\n",
       "                        <td id=\"T_afea5_row0_col0\" class=\"data row0 col0\" >Запустить акцию, дающую скидку на товар в день рождения</td>\n",
       "                        <td id=\"T_afea5_row0_col1\" class=\"data row0 col1\" >16.200000</td>\n",
       "                        <td id=\"T_afea5_row0_col2\" class=\"data row0 col2\" >1</td>\n",
       "            </tr>\n",
       "            <tr>\n",
       "                        <th id=\"T_afea5_level0_row1\" class=\"row_heading level0 row1\" >0</th>\n",
       "                        <td id=\"T_afea5_row1_col0\" class=\"data row1 col0\" >Добавить два новых канала привлечения трафика, что позволит привлекать на 30% больше пользователей</td>\n",
       "                        <td id=\"T_afea5_row1_col1\" class=\"data row1 col1\" >13.330000</td>\n",
       "                        <td id=\"T_afea5_row1_col2\" class=\"data row1 col2\" >2</td>\n",
       "            </tr>\n",
       "            <tr>\n",
       "                        <th id=\"T_afea5_level0_row2\" class=\"row_heading level0 row2\" >7</th>\n",
       "                        <td id=\"T_afea5_row2_col0\" class=\"data row2 col0\" >Добавить форму подписки на все основные страницы, чтобы собрать базу клиентов для email-рассылок</td>\n",
       "                        <td id=\"T_afea5_row2_col1\" class=\"data row2 col1\" >11.200000</td>\n",
       "                        <td id=\"T_afea5_row2_col2\" class=\"data row2 col2\" >3</td>\n",
       "            </tr>\n",
       "            <tr>\n",
       "                        <th id=\"T_afea5_level0_row3\" class=\"row_heading level0 row3\" >6</th>\n",
       "                        <td id=\"T_afea5_row3_col0\" class=\"data row3 col0\" >Показать на главной странице баннеры с актуальными акциями и распродажами, чтобы увеличить конверсию</td>\n",
       "                        <td id=\"T_afea5_row3_col1\" class=\"data row3 col1\" >8.000000</td>\n",
       "                        <td id=\"T_afea5_row3_col2\" class=\"data row3 col2\" >4</td>\n",
       "            </tr>\n",
       "            <tr>\n",
       "                        <th id=\"T_afea5_level0_row4\" class=\"row_heading level0 row4\" >2</th>\n",
       "                        <td id=\"T_afea5_row4_col0\" class=\"data row4 col0\" >Добавить блоки рекомендаций товаров на сайт интернет магазина, чтобы повысить конверсию и средний чек заказа</td>\n",
       "                        <td id=\"T_afea5_row4_col1\" class=\"data row4 col1\" >7.000000</td>\n",
       "                        <td id=\"T_afea5_row4_col2\" class=\"data row4 col2\" >5</td>\n",
       "            </tr>\n",
       "            <tr>\n",
       "                        <th id=\"T_afea5_level0_row5\" class=\"row_heading level0 row5\" >1</th>\n",
       "                        <td id=\"T_afea5_row5_col0\" class=\"data row5 col0\" >Запустить собственную службу доставки, что сократит срок доставки заказов</td>\n",
       "                        <td id=\"T_afea5_row5_col1\" class=\"data row5 col1\" >2.000000</td>\n",
       "                        <td id=\"T_afea5_row5_col2\" class=\"data row5 col2\" >6</td>\n",
       "            </tr>\n",
       "            <tr>\n",
       "                        <th id=\"T_afea5_level0_row6\" class=\"row_heading level0 row6\" >5</th>\n",
       "                        <td id=\"T_afea5_row6_col0\" class=\"data row6 col0\" >Добавить страницу отзывов клиентов о магазине, что позволит увеличить количество заказов</td>\n",
       "                        <td id=\"T_afea5_row6_col1\" class=\"data row6 col1\" >1.330000</td>\n",
       "                        <td id=\"T_afea5_row6_col2\" class=\"data row6 col2\" >7</td>\n",
       "            </tr>\n",
       "            <tr>\n",
       "                        <th id=\"T_afea5_level0_row7\" class=\"row_heading level0 row7\" >3</th>\n",
       "                        <td id=\"T_afea5_row7_col0\" class=\"data row7 col0\" >Изменить структура категорий, что увеличит конверсию, т.к. пользователи быстрее найдут нужный товар</td>\n",
       "                        <td id=\"T_afea5_row7_col1\" class=\"data row7 col1\" >1.120000</td>\n",
       "                        <td id=\"T_afea5_row7_col2\" class=\"data row7 col2\" >8</td>\n",
       "            </tr>\n",
       "            <tr>\n",
       "                        <th id=\"T_afea5_level0_row8\" class=\"row_heading level0 row8\" >4</th>\n",
       "                        <td id=\"T_afea5_row8_col0\" class=\"data row8 col0\" >Изменить цвет фона главной страницы, чтобы увеличить вовлеченность пользователей</td>\n",
       "                        <td id=\"T_afea5_row8_col1\" class=\"data row8 col1\" >1.000000</td>\n",
       "                        <td id=\"T_afea5_row8_col2\" class=\"data row8 col2\" >9</td>\n",
       "            </tr>\n",
       "    </tbody></table>"
      ],
      "text/plain": [
       "<pandas.io.formats.style.Styler at 0x7f274eedba30>"
      ]
     },
     "execution_count": 7,
     "metadata": {},
     "output_type": "execute_result"
    }
   ],
   "source": [
    "# создание столбца 'ice'\n",
    "data['ice'] = (data['impact'] * data['confidence'])/data['efforts']\n",
    "data['rank_ice'] = data['ice'].rank(method='first', ascending=False).astype('int')\n",
    "(\n",
    "    data[['hypothesis', 'ice', 'rank_ice']]\n",
    "    .round(2)\n",
    "    .sort_values(by='ice', ascending=False)\n",
    "    .style\n",
    "    .background_gradient(cmap='mako_r', axis=0, subset=['rank_ice'])\n",
    ")"
   ]
  },
  {
   "cell_type": "markdown",
   "metadata": {},
   "source": [
    "### Приоритизация гипотез: фреймворк RICE "
   ]
  },
  {
   "cell_type": "code",
   "execution_count": 8,
   "metadata": {},
   "outputs": [
    {
     "data": {
      "text/html": [
       "<style  type=\"text/css\" >\n",
       "#T_da609_row0_col2{\n",
       "            background-color:  #def5e5;\n",
       "            color:  #000000;\n",
       "        }#T_da609_row1_col2{\n",
       "            background-color:  #96ddb5;\n",
       "            color:  #000000;\n",
       "        }#T_da609_row2_col2{\n",
       "            background-color:  #49c1ad;\n",
       "            color:  #000000;\n",
       "        }#T_da609_row3_col2{\n",
       "            background-color:  #359eaa;\n",
       "            color:  #000000;\n",
       "        }#T_da609_row4_col2{\n",
       "            background-color:  #357aa2;\n",
       "            color:  #000000;\n",
       "        }#T_da609_row5_col2{\n",
       "            background-color:  #3c5598;\n",
       "            color:  #f1f1f1;\n",
       "        }#T_da609_row6_col2{\n",
       "            background-color:  #3e3469;\n",
       "            color:  #f1f1f1;\n",
       "        }#T_da609_row7_col2{\n",
       "            background-color:  #2a1b33;\n",
       "            color:  #f1f1f1;\n",
       "        }#T_da609_row8_col2{\n",
       "            background-color:  #0b0405;\n",
       "            color:  #f1f1f1;\n",
       "        }</style><table id=\"T_da609_\" ><thead>    <tr>        <th class=\"blank level0\" ></th>        <th class=\"col_heading level0 col0\" >hypothesis</th>        <th class=\"col_heading level0 col1\" >rice</th>        <th class=\"col_heading level0 col2\" >rank_rice</th>    </tr></thead><tbody>\n",
       "                <tr>\n",
       "                        <th id=\"T_da609_level0_row0\" class=\"row_heading level0 row0\" >7</th>\n",
       "                        <td id=\"T_da609_row0_col0\" class=\"data row0 col0\" >Добавить форму подписки на все основные страницы, чтобы собрать базу клиентов для email-рассылок</td>\n",
       "                        <td id=\"T_da609_row0_col1\" class=\"data row0 col1\" >112.000000</td>\n",
       "                        <td id=\"T_da609_row0_col2\" class=\"data row0 col2\" >1</td>\n",
       "            </tr>\n",
       "            <tr>\n",
       "                        <th id=\"T_da609_level0_row1\" class=\"row_heading level0 row1\" >2</th>\n",
       "                        <td id=\"T_da609_row1_col0\" class=\"data row1 col0\" >Добавить блоки рекомендаций товаров на сайт интернет магазина, чтобы повысить конверсию и средний чек заказа</td>\n",
       "                        <td id=\"T_da609_row1_col1\" class=\"data row1 col1\" >56.000000</td>\n",
       "                        <td id=\"T_da609_row1_col2\" class=\"data row1 col2\" >2</td>\n",
       "            </tr>\n",
       "            <tr>\n",
       "                        <th id=\"T_da609_level0_row2\" class=\"row_heading level0 row2\" >0</th>\n",
       "                        <td id=\"T_da609_row2_col0\" class=\"data row2 col0\" >Добавить два новых канала привлечения трафика, что позволит привлекать на 30% больше пользователей</td>\n",
       "                        <td id=\"T_da609_row2_col1\" class=\"data row2 col1\" >40.000000</td>\n",
       "                        <td id=\"T_da609_row2_col2\" class=\"data row2 col2\" >3</td>\n",
       "            </tr>\n",
       "            <tr>\n",
       "                        <th id=\"T_da609_level0_row3\" class=\"row_heading level0 row3\" >6</th>\n",
       "                        <td id=\"T_da609_row3_col0\" class=\"data row3 col0\" >Показать на главной странице баннеры с актуальными акциями и распродажами, чтобы увеличить конверсию</td>\n",
       "                        <td id=\"T_da609_row3_col1\" class=\"data row3 col1\" >40.000000</td>\n",
       "                        <td id=\"T_da609_row3_col2\" class=\"data row3 col2\" >4</td>\n",
       "            </tr>\n",
       "            <tr>\n",
       "                        <th id=\"T_da609_level0_row4\" class=\"row_heading level0 row4\" >8</th>\n",
       "                        <td id=\"T_da609_row4_col0\" class=\"data row4 col0\" >Запустить акцию, дающую скидку на товар в день рождения</td>\n",
       "                        <td id=\"T_da609_row4_col1\" class=\"data row4 col1\" >16.200000</td>\n",
       "                        <td id=\"T_da609_row4_col2\" class=\"data row4 col2\" >5</td>\n",
       "            </tr>\n",
       "            <tr>\n",
       "                        <th id=\"T_da609_level0_row5\" class=\"row_heading level0 row5\" >3</th>\n",
       "                        <td id=\"T_da609_row5_col0\" class=\"data row5 col0\" >Изменить структура категорий, что увеличит конверсию, т.к. пользователи быстрее найдут нужный товар</td>\n",
       "                        <td id=\"T_da609_row5_col1\" class=\"data row5 col1\" >9.000000</td>\n",
       "                        <td id=\"T_da609_row5_col2\" class=\"data row5 col2\" >6</td>\n",
       "            </tr>\n",
       "            <tr>\n",
       "                        <th id=\"T_da609_level0_row6\" class=\"row_heading level0 row6\" >1</th>\n",
       "                        <td id=\"T_da609_row6_col0\" class=\"data row6 col0\" >Запустить собственную службу доставки, что сократит срок доставки заказов</td>\n",
       "                        <td id=\"T_da609_row6_col1\" class=\"data row6 col1\" >4.000000</td>\n",
       "                        <td id=\"T_da609_row6_col2\" class=\"data row6 col2\" >7</td>\n",
       "            </tr>\n",
       "            <tr>\n",
       "                        <th id=\"T_da609_level0_row7\" class=\"row_heading level0 row7\" >5</th>\n",
       "                        <td id=\"T_da609_row7_col0\" class=\"data row7 col0\" >Добавить страницу отзывов клиентов о магазине, что позволит увеличить количество заказов</td>\n",
       "                        <td id=\"T_da609_row7_col1\" class=\"data row7 col1\" >4.000000</td>\n",
       "                        <td id=\"T_da609_row7_col2\" class=\"data row7 col2\" >8</td>\n",
       "            </tr>\n",
       "            <tr>\n",
       "                        <th id=\"T_da609_level0_row8\" class=\"row_heading level0 row8\" >4</th>\n",
       "                        <td id=\"T_da609_row8_col0\" class=\"data row8 col0\" >Изменить цвет фона главной страницы, чтобы увеличить вовлеченность пользователей</td>\n",
       "                        <td id=\"T_da609_row8_col1\" class=\"data row8 col1\" >3.000000</td>\n",
       "                        <td id=\"T_da609_row8_col2\" class=\"data row8 col2\" >9</td>\n",
       "            </tr>\n",
       "    </tbody></table>"
      ],
      "text/plain": [
       "<pandas.io.formats.style.Styler at 0x7f274ee35c40>"
      ]
     },
     "execution_count": 8,
     "metadata": {},
     "output_type": "execute_result"
    }
   ],
   "source": [
    "# создание столбца 'rice'\n",
    "data['rice'] = (data['impact'] * data['confidence'] * data['reach'])/data['efforts']\n",
    "data['rank_rice'] = data['rice'].rank(method='first', ascending=False).astype('int')\n",
    "(\n",
    "    data[['hypothesis', 'rice', 'rank_rice']]\n",
    "    .round(2)\n",
    "    .sort_values(by='rice', ascending=False)\n",
    "    .style\n",
    "    .background_gradient(cmap='mako_r', axis=0, subset=['rank_rice'])\n",
    ")"
   ]
  },
  {
   "cell_type": "markdown",
   "metadata": {},
   "source": [
    "### Приоритизация гипотез: вывод"
   ]
  },
  {
   "cell_type": "code",
   "execution_count": 9,
   "metadata": {},
   "outputs": [
    {
     "data": {
      "text/html": [
       "<style  type=\"text/css\" >\n",
       "#T_7ea58_row0_col3,#T_7ea58_row2_col5{\n",
       "            background-color:  #49c1ad;\n",
       "            color:  #000000;\n",
       "        }#T_7ea58_row0_col5,#T_7ea58_row4_col3{\n",
       "            background-color:  #def5e5;\n",
       "            color:  #000000;\n",
       "        }#T_7ea58_row1_col3,#T_7ea58_row4_col5{\n",
       "            background-color:  #357aa2;\n",
       "            color:  #000000;\n",
       "        }#T_7ea58_row1_col5,#T_7ea58_row2_col3{\n",
       "            background-color:  #96ddb5;\n",
       "            color:  #000000;\n",
       "        }#T_7ea58_row3_col3,#T_7ea58_row3_col5{\n",
       "            background-color:  #359eaa;\n",
       "            color:  #000000;\n",
       "        }#T_7ea58_row5_col3,#T_7ea58_row7_col5{\n",
       "            background-color:  #2a1b33;\n",
       "            color:  #f1f1f1;\n",
       "        }#T_7ea58_row5_col5,#T_7ea58_row6_col3{\n",
       "            background-color:  #3c5598;\n",
       "            color:  #f1f1f1;\n",
       "        }#T_7ea58_row6_col5,#T_7ea58_row7_col3{\n",
       "            background-color:  #3e3469;\n",
       "            color:  #f1f1f1;\n",
       "        }#T_7ea58_row8_col3,#T_7ea58_row8_col5{\n",
       "            background-color:  #0b0405;\n",
       "            color:  #f1f1f1;\n",
       "        }</style><table id=\"T_7ea58_\" ><thead>    <tr>        <th class=\"blank level0\" ></th>        <th class=\"col_heading level0 col0\" >hypothesis</th>        <th class=\"col_heading level0 col1\" >reach</th>        <th class=\"col_heading level0 col2\" >ice</th>        <th class=\"col_heading level0 col3\" >rank_ice</th>        <th class=\"col_heading level0 col4\" >rice</th>        <th class=\"col_heading level0 col5\" >rank_rice</th>    </tr></thead><tbody>\n",
       "                <tr>\n",
       "                        <th id=\"T_7ea58_level0_row0\" class=\"row_heading level0 row0\" >7</th>\n",
       "                        <td id=\"T_7ea58_row0_col0\" class=\"data row0 col0\" >Добавить форму подписки на все основные страницы, чтобы собрать базу клиентов для email-рассылок</td>\n",
       "                        <td id=\"T_7ea58_row0_col1\" class=\"data row0 col1\" >10</td>\n",
       "                        <td id=\"T_7ea58_row0_col2\" class=\"data row0 col2\" >11.200000</td>\n",
       "                        <td id=\"T_7ea58_row0_col3\" class=\"data row0 col3\" >3</td>\n",
       "                        <td id=\"T_7ea58_row0_col4\" class=\"data row0 col4\" >112.000000</td>\n",
       "                        <td id=\"T_7ea58_row0_col5\" class=\"data row0 col5\" >1</td>\n",
       "            </tr>\n",
       "            <tr>\n",
       "                        <th id=\"T_7ea58_level0_row1\" class=\"row_heading level0 row1\" >2</th>\n",
       "                        <td id=\"T_7ea58_row1_col0\" class=\"data row1 col0\" >Добавить блоки рекомендаций товаров на сайт интернет магазина, чтобы повысить конверсию и средний чек заказа</td>\n",
       "                        <td id=\"T_7ea58_row1_col1\" class=\"data row1 col1\" >8</td>\n",
       "                        <td id=\"T_7ea58_row1_col2\" class=\"data row1 col2\" >7.000000</td>\n",
       "                        <td id=\"T_7ea58_row1_col3\" class=\"data row1 col3\" >5</td>\n",
       "                        <td id=\"T_7ea58_row1_col4\" class=\"data row1 col4\" >56.000000</td>\n",
       "                        <td id=\"T_7ea58_row1_col5\" class=\"data row1 col5\" >2</td>\n",
       "            </tr>\n",
       "            <tr>\n",
       "                        <th id=\"T_7ea58_level0_row2\" class=\"row_heading level0 row2\" >0</th>\n",
       "                        <td id=\"T_7ea58_row2_col0\" class=\"data row2 col0\" >Добавить два новых канала привлечения трафика, что позволит привлекать на 30% больше пользователей</td>\n",
       "                        <td id=\"T_7ea58_row2_col1\" class=\"data row2 col1\" >3</td>\n",
       "                        <td id=\"T_7ea58_row2_col2\" class=\"data row2 col2\" >13.330000</td>\n",
       "                        <td id=\"T_7ea58_row2_col3\" class=\"data row2 col3\" >2</td>\n",
       "                        <td id=\"T_7ea58_row2_col4\" class=\"data row2 col4\" >40.000000</td>\n",
       "                        <td id=\"T_7ea58_row2_col5\" class=\"data row2 col5\" >3</td>\n",
       "            </tr>\n",
       "            <tr>\n",
       "                        <th id=\"T_7ea58_level0_row3\" class=\"row_heading level0 row3\" >6</th>\n",
       "                        <td id=\"T_7ea58_row3_col0\" class=\"data row3 col0\" >Показать на главной странице баннеры с актуальными акциями и распродажами, чтобы увеличить конверсию</td>\n",
       "                        <td id=\"T_7ea58_row3_col1\" class=\"data row3 col1\" >5</td>\n",
       "                        <td id=\"T_7ea58_row3_col2\" class=\"data row3 col2\" >8.000000</td>\n",
       "                        <td id=\"T_7ea58_row3_col3\" class=\"data row3 col3\" >4</td>\n",
       "                        <td id=\"T_7ea58_row3_col4\" class=\"data row3 col4\" >40.000000</td>\n",
       "                        <td id=\"T_7ea58_row3_col5\" class=\"data row3 col5\" >4</td>\n",
       "            </tr>\n",
       "            <tr>\n",
       "                        <th id=\"T_7ea58_level0_row4\" class=\"row_heading level0 row4\" >8</th>\n",
       "                        <td id=\"T_7ea58_row4_col0\" class=\"data row4 col0\" >Запустить акцию, дающую скидку на товар в день рождения</td>\n",
       "                        <td id=\"T_7ea58_row4_col1\" class=\"data row4 col1\" >1</td>\n",
       "                        <td id=\"T_7ea58_row4_col2\" class=\"data row4 col2\" >16.200000</td>\n",
       "                        <td id=\"T_7ea58_row4_col3\" class=\"data row4 col3\" >1</td>\n",
       "                        <td id=\"T_7ea58_row4_col4\" class=\"data row4 col4\" >16.200000</td>\n",
       "                        <td id=\"T_7ea58_row4_col5\" class=\"data row4 col5\" >5</td>\n",
       "            </tr>\n",
       "            <tr>\n",
       "                        <th id=\"T_7ea58_level0_row5\" class=\"row_heading level0 row5\" >3</th>\n",
       "                        <td id=\"T_7ea58_row5_col0\" class=\"data row5 col0\" >Изменить структура категорий, что увеличит конверсию, т.к. пользователи быстрее найдут нужный товар</td>\n",
       "                        <td id=\"T_7ea58_row5_col1\" class=\"data row5 col1\" >8</td>\n",
       "                        <td id=\"T_7ea58_row5_col2\" class=\"data row5 col2\" >1.120000</td>\n",
       "                        <td id=\"T_7ea58_row5_col3\" class=\"data row5 col3\" >8</td>\n",
       "                        <td id=\"T_7ea58_row5_col4\" class=\"data row5 col4\" >9.000000</td>\n",
       "                        <td id=\"T_7ea58_row5_col5\" class=\"data row5 col5\" >6</td>\n",
       "            </tr>\n",
       "            <tr>\n",
       "                        <th id=\"T_7ea58_level0_row6\" class=\"row_heading level0 row6\" >1</th>\n",
       "                        <td id=\"T_7ea58_row6_col0\" class=\"data row6 col0\" >Запустить собственную службу доставки, что сократит срок доставки заказов</td>\n",
       "                        <td id=\"T_7ea58_row6_col1\" class=\"data row6 col1\" >2</td>\n",
       "                        <td id=\"T_7ea58_row6_col2\" class=\"data row6 col2\" >2.000000</td>\n",
       "                        <td id=\"T_7ea58_row6_col3\" class=\"data row6 col3\" >6</td>\n",
       "                        <td id=\"T_7ea58_row6_col4\" class=\"data row6 col4\" >4.000000</td>\n",
       "                        <td id=\"T_7ea58_row6_col5\" class=\"data row6 col5\" >7</td>\n",
       "            </tr>\n",
       "            <tr>\n",
       "                        <th id=\"T_7ea58_level0_row7\" class=\"row_heading level0 row7\" >5</th>\n",
       "                        <td id=\"T_7ea58_row7_col0\" class=\"data row7 col0\" >Добавить страницу отзывов клиентов о магазине, что позволит увеличить количество заказов</td>\n",
       "                        <td id=\"T_7ea58_row7_col1\" class=\"data row7 col1\" >3</td>\n",
       "                        <td id=\"T_7ea58_row7_col2\" class=\"data row7 col2\" >1.330000</td>\n",
       "                        <td id=\"T_7ea58_row7_col3\" class=\"data row7 col3\" >7</td>\n",
       "                        <td id=\"T_7ea58_row7_col4\" class=\"data row7 col4\" >4.000000</td>\n",
       "                        <td id=\"T_7ea58_row7_col5\" class=\"data row7 col5\" >8</td>\n",
       "            </tr>\n",
       "            <tr>\n",
       "                        <th id=\"T_7ea58_level0_row8\" class=\"row_heading level0 row8\" >4</th>\n",
       "                        <td id=\"T_7ea58_row8_col0\" class=\"data row8 col0\" >Изменить цвет фона главной страницы, чтобы увеличить вовлеченность пользователей</td>\n",
       "                        <td id=\"T_7ea58_row8_col1\" class=\"data row8 col1\" >3</td>\n",
       "                        <td id=\"T_7ea58_row8_col2\" class=\"data row8 col2\" >1.000000</td>\n",
       "                        <td id=\"T_7ea58_row8_col3\" class=\"data row8 col3\" >9</td>\n",
       "                        <td id=\"T_7ea58_row8_col4\" class=\"data row8 col4\" >3.000000</td>\n",
       "                        <td id=\"T_7ea58_row8_col5\" class=\"data row8 col5\" >9</td>\n",
       "            </tr>\n",
       "    </tbody></table>"
      ],
      "text/plain": [
       "<pandas.io.formats.style.Styler at 0x7f274ed46220>"
      ]
     },
     "execution_count": 9,
     "metadata": {},
     "output_type": "execute_result"
    }
   ],
   "source": [
    "# вывод промежуточной таблицы для сравнения результатов приоритизации фреймворками ice и rice\n",
    "rank_data = data[['hypothesis', 'reach', 'ice', 'rank_ice', 'rice', 'rank_rice']].round(2).sort_values(by='rice', ascending=False)\n",
    "(\n",
    "    rank_data\n",
    "    .style\n",
    "    .background_gradient(cmap='mako_r', axis=0, subset=['rank_ice', 'rank_rice'])\n",
    ")"
   ]
  },
  {
   "cell_type": "markdown",
   "metadata": {},
   "source": [
    "**Вывод**\n",
    "\n",
    "- согласно фреймворку ICE самые приоритетные гипотезы: 8, 0, 7;\n",
    "- согласно фреймворку RICE самые приоритетные гипотезы: 7, 2, 0;\n",
    "- фреймворк RICE учитывает показатель reach, оценивающий количество пользователей, которых затронет гипотеза, следовательно, оценку данного фреймворка можно считать более точной.\n",
    "\n",
    "Таким образом, тройка самых приоритетных гипотез:\n",
    "\n",
    "1. Добавить форму подписки на все основные страницы, чтобы собрать базу клиентов для email-рассылок(гипотеза №7);\n",
    "2. Добавить блоки рекомендаций товаров на сайт интернет магазина, чтобы повысить конверсию и средний чек заказа (гипотеза №2);\n",
    "3. Добавить два новых канала привлечения трафика, что позволит привлекать на 30% больше пользователей (гипотеза №0)."
   ]
  },
  {
   "cell_type": "markdown",
   "metadata": {},
   "source": [
    "# **Анализ результатов A/B-теста.**"
   ]
  },
  {
   "cell_type": "markdown",
   "metadata": {},
   "source": [
    "## Загрузка данных и подготовка к анализу"
   ]
  },
  {
   "cell_type": "markdown",
   "metadata": {},
   "source": [
    "### файл с данными о заказах"
   ]
  },
  {
   "cell_type": "code",
   "execution_count": 10,
   "metadata": {},
   "outputs": [],
   "source": [
    "orders = pd.read_csv('/datasets/orders.csv', sep=',')"
   ]
  },
  {
   "cell_type": "code",
   "execution_count": 11,
   "metadata": {},
   "outputs": [
    {
     "name": "stdout",
     "output_type": "stream",
     "text": [
      "Вывод первых 5 строк датасета:\n",
      "\n",
      "   transactionId   visitorId        date  revenue group\n",
      "0     3667963787  3312258926  2019-08-15     1650     B\n",
      "1     2804400009  3642806036  2019-08-15      730     B\n",
      "2     2961555356  4069496402  2019-08-15      400     A\n",
      "3     3797467345  1196621759  2019-08-15     9759     B\n",
      "4     2282983706  2322279887  2019-08-15     2308     B\n",
      "\n",
      "Вывод общей информации по датасету:\n",
      "\n",
      "<class 'pandas.core.frame.DataFrame'>\n",
      "RangeIndex: 1197 entries, 0 to 1196\n",
      "Data columns (total 5 columns):\n",
      " #   Column         Non-Null Count  Dtype \n",
      "---  ------         --------------  ----- \n",
      " 0   transactionId  1197 non-null   int64 \n",
      " 1   visitorId      1197 non-null   int64 \n",
      " 2   date           1197 non-null   object\n",
      " 3   revenue        1197 non-null   int64 \n",
      " 4   group          1197 non-null   object\n",
      "dtypes: int64(3), object(2)\n",
      "memory usage: 46.9+ KB\n",
      "None\n",
      "\n",
      "Проверка количественных данных:\n",
      "\n",
      "       transactionId     visitorId       revenue\n",
      "count   1.197000e+03  1.197000e+03  1.197000e+03\n",
      "mean    2.155621e+09  2.165960e+09  8.348006e+03\n",
      "std     1.229085e+09  1.236014e+09  3.919113e+04\n",
      "min     1.062393e+06  5.114589e+06  5.000000e+01\n",
      "25%     1.166776e+09  1.111826e+09  1.220000e+03\n",
      "50%     2.145194e+09  2.217985e+09  2.978000e+03\n",
      "75%     3.237740e+09  3.177606e+09  8.290000e+03\n",
      "max     4.293856e+09  4.283872e+09  1.294500e+06\n",
      "\n",
      "Количество дубликатов по датасету: 0\n",
      "\n"
     ]
    }
   ],
   "source": [
    "# первичное знакомство с датасетом orders\n",
    "first_info(orders)"
   ]
  },
  {
   "cell_type": "markdown",
   "metadata": {},
   "source": [
    "**Выводы:**\n",
    "\n",
    "- названия столбцов необходимо привести к стандартному виду;\n",
    "- необходимо заменить тип данных в столбце date;\n",
    "- пропусков в датасете нет;\n",
    "- полных дубликатов в датасете нет;\n",
    "- всего 5 столбцов, 1197 строк."
   ]
  },
  {
   "cell_type": "code",
   "execution_count": 12,
   "metadata": {},
   "outputs": [
    {
     "data": {
      "text/plain": [
       "Index(['transaction_id', 'visitor_id', 'date', 'revenue', 'group'], dtype='object')"
      ]
     },
     "execution_count": 12,
     "metadata": {},
     "output_type": "execute_result"
    }
   ],
   "source": [
    "# переименование столбцов\n",
    "orders.columns = orders.columns.str.lower().str.replace('id', '_id')\n",
    "orders.columns"
   ]
  },
  {
   "cell_type": "raw",
   "metadata": {},
   "source": [
    "# замена типа данных в столбце orders['date'] - способ из теории спринта\n",
    "orders['date'] = orders['date'].map(\n",
    "    lambda x: dt.datetime.strptime(x, '%Y-%m-%d')\n",
    ")"
   ]
  },
  {
   "cell_type": "code",
   "execution_count": 13,
   "metadata": {},
   "outputs": [],
   "source": [
    "# замена типа данных в столбце orders['date'] - способ из прошлых уроков\n",
    "orders['date'] = pd.to_datetime(orders['date'])"
   ]
  },
  {
   "cell_type": "markdown",
   "metadata": {},
   "source": [
    "Полных дубликатов в датафрейме orders. Однако нам интересна следующая информация:\n",
    "- количество групп, участвующих в А/В тесте;\n",
    "- количество пользователей в каждой группе;\n",
    "- наличие/отсутствие пользователей, задействованных в нескольких группах одновременно;\n",
    "- дата начала/окончания тестового периода"
   ]
  },
  {
   "cell_type": "code",
   "execution_count": 14,
   "metadata": {},
   "outputs": [
    {
     "data": {
      "text/plain": [
       "array(['B', 'A'], dtype=object)"
      ]
     },
     "execution_count": 14,
     "metadata": {},
     "output_type": "execute_result"
    }
   ],
   "source": [
    "# вывод на экран уникальных групп, участвующих в А/В-тесте\n",
    "orders['group'].unique()"
   ]
  },
  {
   "cell_type": "code",
   "execution_count": 15,
   "metadata": {},
   "outputs": [
    {
     "data": {
      "text/plain": [
       "1031"
      ]
     },
     "execution_count": 15,
     "metadata": {},
     "output_type": "execute_result"
    }
   ],
   "source": [
    "# количество уникальных id пользователей, оформивших заказ в тестовом периоде\n",
    "orders['visitor_id'].nunique()"
   ]
  },
  {
   "cell_type": "code",
   "execution_count": 16,
   "metadata": {},
   "outputs": [
    {
     "data": {
      "text/plain": [
       "166"
      ]
     },
     "execution_count": 16,
     "metadata": {},
     "output_type": "execute_result"
    }
   ],
   "source": [
    "# Количество дубликатов в столбце orders['visitor_id']\n",
    "orders['visitor_id'].duplicated().sum()"
   ]
  },
  {
   "cell_type": "code",
   "execution_count": 17,
   "metadata": {},
   "outputs": [
    {
     "data": {
      "text/plain": [
       "503"
      ]
     },
     "execution_count": 17,
     "metadata": {},
     "output_type": "execute_result"
    }
   ],
   "source": [
    "# Количество пользователей в А-группе\n",
    "orders.loc[orders['group']=='A', 'visitor_id'].nunique()"
   ]
  },
  {
   "cell_type": "code",
   "execution_count": 18,
   "metadata": {},
   "outputs": [
    {
     "data": {
      "text/plain": [
       "586"
      ]
     },
     "execution_count": 18,
     "metadata": {},
     "output_type": "execute_result"
    }
   ],
   "source": [
    "# Количество пользователей в В-группе\n",
    "orders.loc[orders['group']=='B', 'visitor_id'].nunique()"
   ]
  },
  {
   "cell_type": "code",
   "execution_count": 19,
   "metadata": {},
   "outputs": [
    {
     "data": {
      "text/plain": [
       "group\n",
       "1        973\n",
       "2         58\n",
       "dtype: int64"
      ]
     },
     "execution_count": 19,
     "metadata": {},
     "output_type": "execute_result"
    }
   ],
   "source": [
    "# Количество пользователей, задействованных одновременно в двух группах\n",
    "orders.groupby('visitor_id').agg({'group':'nunique'}).value_counts()"
   ]
  },
  {
   "cell_type": "code",
   "execution_count": 20,
   "metadata": {},
   "outputs": [
    {
     "data": {
      "text/plain": [
       "Timestamp('2019-08-01 00:00:00')"
      ]
     },
     "execution_count": 20,
     "metadata": {},
     "output_type": "execute_result"
    }
   ],
   "source": [
    "# Дата начала теста\n",
    "orders['date'].min()"
   ]
  },
  {
   "cell_type": "code",
   "execution_count": 21,
   "metadata": {},
   "outputs": [
    {
     "data": {
      "text/plain": [
       "Timestamp('2019-08-31 00:00:00')"
      ]
     },
     "execution_count": 21,
     "metadata": {},
     "output_type": "execute_result"
    }
   ],
   "source": [
    "# Последняя отчетная дата\n",
    "orders['date'].max()"
   ]
  },
  {
   "cell_type": "markdown",
   "metadata": {},
   "source": [
    "**Выводы:**\n",
    "\n",
    "- тестирование ведется в разрезе двух групп: А и В;\n",
    "- дата начала теста 2019-08-01, последняя отчетная дата - 2019-08-31;\n",
    "- имеется 1031 уникальный пользователь (visitor_id);\n",
    "- в А-группе  - 503 уникальных пользователя оформили заказ;\n",
    "- в В-группе - 586 уникальных пользователей оформили заказ;\n",
    "- 58 пользователей попали и в А, и в В группы (503+586-58=1031).\n",
    "\n",
    "Таким образом, \n",
    "\n",
    "тестирование ведется в течение месяца, в А-группе пользователй, совершивших покупку меньше, чем в В-группе ((586-503)/503) на 16.5%. По неизвестной причине 58 пользователей одновременно числятся в двух группах - это 11.5% от А-группы и 9.9% от В-группы или 5,6% от общего количества уникальных пользователей. **Думаю, этих пользователей нужно исключить из анализа результатов АВ-теста.** "
   ]
  },
  {
   "cell_type": "code",
   "execution_count": 22,
   "metadata": {},
   "outputs": [],
   "source": [
    "#  сохраню копию orders перед удалением дублирующихся в группах пользователей\n",
    "orders_old = orders.copy(deep=True)"
   ]
  },
  {
   "cell_type": "code",
   "execution_count": 23,
   "metadata": {},
   "outputs": [
    {
     "data": {
      "text/plain": [
       "group\n",
       "1        973\n",
       "dtype: int64"
      ]
     },
     "execution_count": 23,
     "metadata": {},
     "output_type": "execute_result"
    }
   ],
   "source": [
    "# удаляем пользователей, задействованных одновременно в двух группах\n",
    "mask = orders.groupby('visitor_id', as_index=False).agg({'group' : 'nunique'}).query('group>1')['visitor_id'].unique()\n",
    "orders = orders.query('visitor_id not in @mask')\n",
    "\n",
    "# проверим корректность исполнения кода\n",
    "orders.groupby('visitor_id').agg({'group':'nunique'}).value_counts()"
   ]
  },
  {
   "cell_type": "markdown",
   "metadata": {},
   "source": [
    "### файл с данными о пользователях"
   ]
  },
  {
   "cell_type": "code",
   "execution_count": 24,
   "metadata": {},
   "outputs": [],
   "source": [
    "visitors = pd.read_csv('/datasets/visitors.csv', sep=',')"
   ]
  },
  {
   "cell_type": "code",
   "execution_count": 25,
   "metadata": {},
   "outputs": [
    {
     "name": "stdout",
     "output_type": "stream",
     "text": [
      "Вывод первых 5 строк датасета:\n",
      "\n",
      "         date group  visitors\n",
      "0  2019-08-01     A       719\n",
      "1  2019-08-02     A       619\n",
      "2  2019-08-03     A       507\n",
      "3  2019-08-04     A       717\n",
      "4  2019-08-05     A       756\n",
      "\n",
      "Вывод общей информации по датасету:\n",
      "\n",
      "<class 'pandas.core.frame.DataFrame'>\n",
      "RangeIndex: 62 entries, 0 to 61\n",
      "Data columns (total 3 columns):\n",
      " #   Column    Non-Null Count  Dtype \n",
      "---  ------    --------------  ----- \n",
      " 0   date      62 non-null     object\n",
      " 1   group     62 non-null     object\n",
      " 2   visitors  62 non-null     int64 \n",
      "dtypes: int64(1), object(2)\n",
      "memory usage: 1.6+ KB\n",
      "None\n",
      "\n",
      "Проверка количественных данных:\n",
      "\n",
      "         visitors\n",
      "count   62.000000\n",
      "mean   607.290323\n",
      "std    114.400560\n",
      "min    361.000000\n",
      "25%    534.000000\n",
      "50%    624.500000\n",
      "75%    710.500000\n",
      "max    770.000000\n",
      "\n",
      "Количество дубликатов по датасету: 0\n",
      "\n"
     ]
    }
   ],
   "source": [
    "# первичное знакомство с датасетом visitors\n",
    "first_info(visitors)"
   ]
  },
  {
   "cell_type": "markdown",
   "metadata": {},
   "source": [
    "<a id='nine'></a>\n",
    "[К выводу](#ten)"
   ]
  },
  {
   "cell_type": "code",
   "execution_count": 26,
   "metadata": {},
   "outputs": [
    {
     "data": {
      "text/plain": [
       "604.0"
      ]
     },
     "execution_count": 26,
     "metadata": {},
     "output_type": "execute_result"
    }
   ],
   "source": [
    "# Среднее количество пользователей в день (А-группа)\n",
    "visitors_A_mean = visitors[visitors['group']=='A']['visitors'].mean().round()\n",
    "visitors_A_mean"
   ]
  },
  {
   "cell_type": "code",
   "execution_count": 27,
   "metadata": {},
   "outputs": [
    {
     "data": {
      "text/plain": [
       "610.0"
      ]
     },
     "execution_count": 27,
     "metadata": {},
     "output_type": "execute_result"
    }
   ],
   "source": [
    "# Среднее количество пользователей в день (B-группа)\n",
    "visitors_B_mean = visitors[visitors['group']=='B']['visitors'].mean().round()\n",
    "visitors_B_mean"
   ]
  },
  {
   "cell_type": "code",
   "execution_count": 28,
   "metadata": {},
   "outputs": [
    {
     "data": {
      "image/png": "[encoded data removed]",
      "text/plain": [
       "<Figure size 1080x360 with 1 Axes>"
      ]
     },
     "metadata": {
      "needs_background": "light"
     },
     "output_type": "display_data"
    }
   ],
   "source": [
    "# построим график дневного количества пользователей, посетивших интерне-магазин в тестовом периоде, в разрезе групп\n",
    "fig, ax = plt.subplots()\n",
    "\n",
    "plt.plot(visitors[visitors['group']=='A']['date'], visitors[visitors['group']=='A']['visitors'], label='A')\n",
    "plt.plot(visitors[visitors['group']=='B']['date'], visitors[visitors['group']=='B']['visitors'], label='B')\n",
    "\n",
    "fig.set_figwidth(15)\n",
    "fig.set_figheight(5)\n",
    "fig.autofmt_xdate()\n",
    "#plt.grid(True, axis='x', alpha=0.8)\n",
    "plt.legend(bbox_to_anchor=(1, 1))\n",
    "plt.xlabel('Date')\n",
    "plt.ylabel('Visitors')\n",
    "plt.axhline(y=visitors['visitors'].min(), color='grey', linestyle='--', alpha=0.5)\n",
    "plt.axhline(y=visitors['visitors'].max(), color='grey', linestyle='--', alpha=0.5)\n",
    "plt.axhline(y=visitors['visitors'].mean(), color='red', linestyle='--', alpha=0.5)\n",
    "plt.title('Динамика дневного количества посетителей интернет-магазина в разрезе групп А/В-теста', size=16, color='blue')\n",
    "plt.show();"
   ]
  },
  {
   "cell_type": "code",
   "execution_count": 29,
   "metadata": {},
   "outputs": [
    {
     "data": {
      "text/plain": [
       "'2019-08-01'"
      ]
     },
     "execution_count": 29,
     "metadata": {},
     "output_type": "execute_result"
    }
   ],
   "source": [
    "# Минимальная дата в столбце visitors['date']\n",
    "visitors['date'].min()"
   ]
  },
  {
   "cell_type": "code",
   "execution_count": 30,
   "metadata": {},
   "outputs": [
    {
     "data": {
      "text/plain": [
       "'2019-08-31'"
      ]
     },
     "execution_count": 30,
     "metadata": {},
     "output_type": "execute_result"
    }
   ],
   "source": [
    "# Максимальная дата в столбце visitors['date']\n",
    "visitors['date'].max()"
   ]
  },
  {
   "cell_type": "markdown",
   "metadata": {},
   "source": [
    "**Выводы:**\n",
    "\n",
    "- названия столбцов стандартные;\n",
    "- необходимо заменить тип данных в столбце date;\n",
    "- пропусков в датасете нет;\n",
    "- полных дубликатов в датасете нет;\n",
    "- в датасете представлены данные за период с 2019-08-01 по 2019-08-31 (что соответствует датасету orders);\n",
    "- всего 3 столбца, 62 строки.\n",
    "\n",
    "Разделение на группы прошло успешно, ежедневно количество пользователей в каждой группе примерно одинаковое и колеблится в диапазоне от 350 до 750 человек. Тенденции к росту или снижению количества пользователей нет.\n",
    "\n",
    "К сожалению, нет возможности очистить датафрейм visitors от пользователей, попавших по неизвестной причине в обе группы теста."
   ]
  },
  {
   "cell_type": "code",
   "execution_count": 31,
   "metadata": {},
   "outputs": [],
   "source": [
    "# заменим ти данных в столбце visitors['date'] - способ из теории текущего спринта\n",
    "visitors['date'] = visitors['date'].map(\n",
    "    lambda x: dt.datetime.strptime(x, '%Y-%m-%d')\n",
    ")"
   ]
  },
  {
   "cell_type": "raw",
   "metadata": {},
   "source": [
    "# заменим ти данных в столбце visitors['date'] - классический способ \n",
    "visitors['date'] = pd.to_datetime(visitors['date'])"
   ]
  },
  {
   "cell_type": "raw",
   "metadata": {},
   "source": [
    "visitors.info()"
   ]
  },
  {
   "cell_type": "markdown",
   "metadata": {},
   "source": [
    "## Анализ кумулятивной выручки по группам"
   ]
  },
  {
   "cell_type": "code",
   "execution_count": 32,
   "metadata": {},
   "outputs": [
    {
     "data": {
      "text/html": [
       "<div>\n",
       "<style scoped>\n",
       "    .dataframe tbody tr th:only-of-type {\n",
       "        vertical-align: middle;\n",
       "    }\n",
       "\n",
       "    .dataframe tbody tr th {\n",
       "        vertical-align: top;\n",
       "    }\n",
       "\n",
       "    .dataframe thead th {\n",
       "        text-align: right;\n",
       "    }\n",
       "</style>\n",
       "<table border=\"1\" class=\"dataframe\">\n",
       "  <thead>\n",
       "    <tr style=\"text-align: right;\">\n",
       "      <th></th>\n",
       "      <th>date</th>\n",
       "      <th>group</th>\n",
       "    </tr>\n",
       "  </thead>\n",
       "  <tbody>\n",
       "    <tr>\n",
       "      <th>0</th>\n",
       "      <td>2019-08-15</td>\n",
       "      <td>B</td>\n",
       "    </tr>\n",
       "    <tr>\n",
       "      <th>7</th>\n",
       "      <td>2019-08-15</td>\n",
       "      <td>A</td>\n",
       "    </tr>\n",
       "    <tr>\n",
       "      <th>45</th>\n",
       "      <td>2019-08-16</td>\n",
       "      <td>A</td>\n",
       "    </tr>\n",
       "    <tr>\n",
       "      <th>47</th>\n",
       "      <td>2019-08-16</td>\n",
       "      <td>B</td>\n",
       "    </tr>\n",
       "    <tr>\n",
       "      <th>55</th>\n",
       "      <td>2019-08-01</td>\n",
       "      <td>A</td>\n",
       "    </tr>\n",
       "  </tbody>\n",
       "</table>\n",
       "</div>"
      ],
      "text/plain": [
       "         date group\n",
       "0  2019-08-15     B\n",
       "7  2019-08-15     A\n",
       "45 2019-08-16     A\n",
       "47 2019-08-16     B\n",
       "55 2019-08-01     A"
      ]
     },
     "execution_count": 32,
     "metadata": {},
     "output_type": "execute_result"
    }
   ],
   "source": [
    "#создадим массив уникальных пар: дата-группа\n",
    "date_groups = orders[['date', 'group']].drop_duplicates()\n",
    "#date_groups.style.set_caption('Массив уникальных пар: дата-группа')\n",
    "date_groups.head()"
   ]
  },
  {
   "cell_type": "code",
   "execution_count": 33,
   "metadata": {},
   "outputs": [
    {
     "data": {
      "text/html": [
       "<div>\n",
       "<style scoped>\n",
       "    .dataframe tbody tr th:only-of-type {\n",
       "        vertical-align: middle;\n",
       "    }\n",
       "\n",
       "    .dataframe tbody tr th {\n",
       "        vertical-align: top;\n",
       "    }\n",
       "\n",
       "    .dataframe thead th {\n",
       "        text-align: right;\n",
       "    }\n",
       "</style>\n",
       "<table border=\"1\" class=\"dataframe\">\n",
       "  <thead>\n",
       "    <tr style=\"text-align: right;\">\n",
       "      <th></th>\n",
       "      <th>date</th>\n",
       "      <th>group</th>\n",
       "      <th>transaction_id</th>\n",
       "      <th>visitor_id</th>\n",
       "      <th>revenue</th>\n",
       "    </tr>\n",
       "  </thead>\n",
       "  <tbody>\n",
       "    <tr>\n",
       "      <th>55</th>\n",
       "      <td>2019-08-01</td>\n",
       "      <td>A</td>\n",
       "      <td>23</td>\n",
       "      <td>19</td>\n",
       "      <td>142779</td>\n",
       "    </tr>\n",
       "    <tr>\n",
       "      <th>66</th>\n",
       "      <td>2019-08-01</td>\n",
       "      <td>B</td>\n",
       "      <td>17</td>\n",
       "      <td>17</td>\n",
       "      <td>59758</td>\n",
       "    </tr>\n",
       "  </tbody>\n",
       "</table>\n",
       "</div>"
      ],
      "text/plain": [
       "         date group  transaction_id  visitor_id  revenue\n",
       "55 2019-08-01     A              23          19   142779\n",
       "66 2019-08-01     B              17          17    59758"
      ]
     },
     "execution_count": 33,
     "metadata": {},
     "output_type": "execute_result"
    }
   ],
   "source": [
    "#создадим датафрейм с агрегированными кумулятивными данными по заказам\n",
    "\n",
    "order_agg = (\n",
    "    date_groups.apply(lambda x: orders[np.logical_and(orders['date']<=x['date'], orders['group']==x['group'])]\n",
    "                      .agg({'date':'max', 'group':'max', 'transaction_id':'nunique', 'visitor_id':'nunique', 'revenue':'sum'}), axis=1)\n",
    "    .sort_values(by=['date', 'group'])\n",
    ")\n",
    "order_agg.head(2)"
   ]
  },
  {
   "cell_type": "code",
   "execution_count": 34,
   "metadata": {},
   "outputs": [
    {
     "data": {
      "text/html": [
       "<div>\n",
       "<style scoped>\n",
       "    .dataframe tbody tr th:only-of-type {\n",
       "        vertical-align: middle;\n",
       "    }\n",
       "\n",
       "    .dataframe tbody tr th {\n",
       "        vertical-align: top;\n",
       "    }\n",
       "\n",
       "    .dataframe thead th {\n",
       "        text-align: right;\n",
       "    }\n",
       "</style>\n",
       "<table border=\"1\" class=\"dataframe\">\n",
       "  <thead>\n",
       "    <tr style=\"text-align: right;\">\n",
       "      <th></th>\n",
       "      <th>date</th>\n",
       "      <th>group</th>\n",
       "      <th>visitors</th>\n",
       "    </tr>\n",
       "  </thead>\n",
       "  <tbody>\n",
       "    <tr>\n",
       "      <th>55</th>\n",
       "      <td>2019-08-01</td>\n",
       "      <td>A</td>\n",
       "      <td>719</td>\n",
       "    </tr>\n",
       "    <tr>\n",
       "      <th>66</th>\n",
       "      <td>2019-08-01</td>\n",
       "      <td>B</td>\n",
       "      <td>713</td>\n",
       "    </tr>\n",
       "  </tbody>\n",
       "</table>\n",
       "</div>"
      ],
      "text/plain": [
       "         date group  visitors\n",
       "55 2019-08-01     A       719\n",
       "66 2019-08-01     B       713"
      ]
     },
     "execution_count": 34,
     "metadata": {},
     "output_type": "execute_result"
    }
   ],
   "source": [
    "#создадим датафрейм с агрегированными кумулятивными данными по посетителям\n",
    "\n",
    "visitor_agg = (\n",
    "    date_groups.apply(lambda x: visitors[np.logical_and(visitors['date']<=x['date'], visitors['group']==x['group'])]\n",
    "                      .agg({'date':'max', 'group':'max', 'visitors':'sum'}), axis=1)\n",
    "    .sort_values(by=['date', 'group'])\n",
    ")\n",
    "visitor_agg.head(2)"
   ]
  },
  {
   "cell_type": "code",
   "execution_count": 35,
   "metadata": {},
   "outputs": [
    {
     "data": {
      "text/html": [
       "<div>\n",
       "<style scoped>\n",
       "    .dataframe tbody tr th:only-of-type {\n",
       "        vertical-align: middle;\n",
       "    }\n",
       "\n",
       "    .dataframe tbody tr th {\n",
       "        vertical-align: top;\n",
       "    }\n",
       "\n",
       "    .dataframe thead th {\n",
       "        text-align: right;\n",
       "    }\n",
       "</style>\n",
       "<table border=\"1\" class=\"dataframe\">\n",
       "  <thead>\n",
       "    <tr style=\"text-align: right;\">\n",
       "      <th></th>\n",
       "      <th>date</th>\n",
       "      <th>group</th>\n",
       "      <th>orders</th>\n",
       "      <th>buyers</th>\n",
       "      <th>revenue</th>\n",
       "      <th>visitors</th>\n",
       "    </tr>\n",
       "  </thead>\n",
       "  <tbody>\n",
       "    <tr>\n",
       "      <th>0</th>\n",
       "      <td>2019-08-01</td>\n",
       "      <td>A</td>\n",
       "      <td>23</td>\n",
       "      <td>19</td>\n",
       "      <td>142779</td>\n",
       "      <td>719</td>\n",
       "    </tr>\n",
       "    <tr>\n",
       "      <th>1</th>\n",
       "      <td>2019-08-01</td>\n",
       "      <td>B</td>\n",
       "      <td>17</td>\n",
       "      <td>17</td>\n",
       "      <td>59758</td>\n",
       "      <td>713</td>\n",
       "    </tr>\n",
       "  </tbody>\n",
       "</table>\n",
       "</div>"
      ],
      "text/plain": [
       "        date group  orders  buyers  revenue  visitors\n",
       "0 2019-08-01     A      23      19   142779       719\n",
       "1 2019-08-01     B      17      17    59758       713"
      ]
     },
     "execution_count": 35,
     "metadata": {},
     "output_type": "execute_result"
    }
   ],
   "source": [
    "#объединим агрегированные данные по заказам и по пользователям в один датафрейм\n",
    "\n",
    "cumulative_data = (\n",
    "    order_agg.merge(visitor_agg, left_on=['date', 'group'], right_on=['date', 'group'])\n",
    ")\n",
    "cumulative_data.columns = ['date', 'group', 'orders', 'buyers', 'revenue', 'visitors']\n",
    "cumulative_data.head(2)"
   ]
  },
  {
   "cell_type": "code",
   "execution_count": 36,
   "metadata": {},
   "outputs": [
    {
     "data": {
      "image/png": "[encoded data removed]",
      "text/plain": [
       "<Figure size 1080x360 with 1 Axes>"
      ]
     },
     "metadata": {
      "needs_background": "light"
     },
     "output_type": "display_data"
    }
   ],
   "source": [
    "# построим график кумулятивной выручки по дням и группам А/В-теста\n",
    "\n",
    "cum_revenue_a = cumulative_data[cumulative_data['group']=='A'][['date', 'revenue', 'orders']]\n",
    "cum_revenue_b = cumulative_data[cumulative_data['group']=='B'][['date', 'revenue', 'orders']]\n",
    "\n",
    "fig, ax = plt.subplots()\n",
    "\n",
    "plt.plot(cum_revenue_a['date'], cum_revenue_a['revenue'], label='A')\n",
    "plt.plot(cum_revenue_b['date'], cum_revenue_b['revenue'], label='B')\n",
    "\n",
    "fig.set_figwidth(15)\n",
    "fig.set_figheight(5)\n",
    "plt.grid(True, axis='x', alpha=0.8)\n",
    "plt.legend(bbox_to_anchor=(1, 1))\n",
    "plt.xlabel('Date')\n",
    "plt.ylabel('Cumulative revenue')\n",
    "plt.title('А/В-тест: график кумулятивной выручки по дням и группам', size=16, color='blue')\n",
    "plt.show;"
   ]
  },
  {
   "cell_type": "markdown",
   "metadata": {},
   "source": [
    "**Вывод:**\n",
    "\n",
    "- кумулятивная выручка растет в течение всего теста в обеих группах;\n",
    "- В-группа приносит больше выручки, чем А-группа;\n",
    "- темп роста выручки в В-группе выше, чем в А-группе;\n",
    "- на графике выручки В-группы 18-19 августа наблюдается резкий рост. Это может сигнализировать либо о всплеске числа заказов, либо о появлении очень дорогих заказов в выборке. Позже проанализируем выбросы."
   ]
  },
  {
   "cell_type": "markdown",
   "metadata": {},
   "source": [
    "## Анализ кумулятивного среднего чека по группам"
   ]
  },
  {
   "cell_type": "code",
   "execution_count": 37,
   "metadata": {},
   "outputs": [
    {
     "data": {
      "image/png": "[encoded data removed]",
      "text/plain": [
       "<Figure size 1080x360 with 1 Axes>"
      ]
     },
     "metadata": {
      "needs_background": "light"
     },
     "output_type": "display_data"
    }
   ],
   "source": [
    "# построим график кумулятивного среднего чека по группам\n",
    "\n",
    "fig, ax = plt.subplots()\n",
    "\n",
    "plt.plot(cum_revenue_a['date'], cum_revenue_a['revenue']/cum_revenue_a['orders'], label='A')\n",
    "plt.plot(cum_revenue_b['date'], cum_revenue_b['revenue']/cum_revenue_b['orders'], label='B')\n",
    "\n",
    "plt.grid(True, axis='x', alpha=0.8)\n",
    "plt.legend(bbox_to_anchor=(1, 1))\n",
    "plt.xlabel('Date')\n",
    "plt.ylabel('Cumulative average order')\n",
    "plt.title('А/В-тест: график кумулятивного среднего чека по группам', size=16, color='blue')\n",
    "fig.set_figwidth(15)\n",
    "fig.set_figheight(5)\n",
    "plt.show;"
   ]
  },
  {
   "cell_type": "markdown",
   "metadata": {},
   "source": [
    "**Вывод**\n",
    "\n",
    "- средний чек А-группы стабилизировался с середины августа;\n",
    "- средний чек В-группы резко вырос 18-19 августа, затем пошел на спад. Скорее всего причиной стал крупный заказ/заказы, для того чтобы средний чек по В-группе пришел к реальному среднему и установился на его уровне нужно больше данных.\n",
    "- наличие выброса в В-группе на данном этапе затрудняет сравнительный анализ кумулятивного среднего чека по группам."
   ]
  },
  {
   "cell_type": "code",
   "execution_count": 38,
   "metadata": {},
   "outputs": [],
   "source": [
    "# Удалим заказ с максимальной стоимостью из таблицы orders и пересчитаем все промежуточные таблицы\n",
    "orders0 = orders[orders['revenue']!=orders['revenue'].max()]\n",
    "date_groups0 = orders0[['date', 'group']].drop_duplicates()\n",
    "order_agg0 = (\n",
    "    date_groups0.apply(lambda x: orders0[np.logical_and(orders0['date']<=x['date'], orders0['group']==x['group'])]\n",
    "                      .agg({'date':'max', 'group':'max', 'transaction_id':'nunique', 'visitor_id':'nunique', 'revenue':'sum'}), axis=1)\n",
    "    .sort_values(by=['date', 'group'])\n",
    ")\n",
    "visitor_agg0 = (\n",
    "    date_groups0.apply(lambda x: visitors[np.logical_and(visitors['date']<=x['date'], visitors['group']==x['group'])]\n",
    "                      .agg({'date':'max', 'group':'max', 'visitors':'sum'}), axis=1)\n",
    "    .sort_values(by=['date', 'group'])\n",
    ")\n",
    "cumulative_data0 = (\n",
    "    order_agg0.merge(visitor_agg0, left_on=['date', 'group'], right_on=['date', 'group'])\n",
    ")\n",
    "cumulative_data0.columns = ['date', 'group', 'orders', 'buyers', 'revenue', 'visitors']\n",
    "cum_revenue_a0 = cumulative_data0[cumulative_data0['group']=='A'][['date', 'revenue', 'orders']]\n",
    "cum_revenue_b0 = cumulative_data0[cumulative_data0['group']=='B'][['date', 'revenue', 'orders']]"
   ]
  },
  {
   "cell_type": "code",
   "execution_count": 39,
   "metadata": {},
   "outputs": [
    {
     "data": {
      "image/png": "[encoded data removed]",
      "text/plain": [
       "<Figure size 1080x360 with 1 Axes>"
      ]
     },
     "metadata": {
      "needs_background": "light"
     },
     "output_type": "display_data"
    }
   ],
   "source": [
    "# построим график кумулятивной выручки по дням и группам А/В-теста без учета заказа с максимальной стоимостью\n",
    "fig, ax = plt.subplots()\n",
    "\n",
    "plt.plot(cum_revenue_a0['date'], cum_revenue_a0['revenue'], label='A')\n",
    "plt.plot(cum_revenue_b0['date'], cum_revenue_b0['revenue'], label='B')\n",
    "\n",
    "fig.set_figwidth(15)\n",
    "fig.set_figheight(5)\n",
    "plt.grid(True, axis='x', alpha=0.8)\n",
    "plt.legend(bbox_to_anchor=(1, 1))\n",
    "plt.xlabel('Date')\n",
    "plt.ylabel('Cumulative revenue')\n",
    "plt.title('А/В-тест: график кумулятивной выручки по дням и группам', size=16, color='blue')\n",
    "plt.show;"
   ]
  },
  {
   "cell_type": "code",
   "execution_count": 40,
   "metadata": {},
   "outputs": [
    {
     "data": {
      "image/png": "[encoded data removed]",
      "text/plain": [
       "<Figure size 1080x360 with 1 Axes>"
      ]
     },
     "metadata": {
      "needs_background": "light"
     },
     "output_type": "display_data"
    }
   ],
   "source": [
    "# построим график кумулятивного среднего чека по группам без учета заказа с максимальной стоимостью\n",
    "fig, ax = plt.subplots()\n",
    "\n",
    "plt.plot(cum_revenue_a0['date'], cum_revenue_a0['revenue']/cum_revenue_a0['orders'], label='A')\n",
    "plt.plot(cum_revenue_b0['date'], cum_revenue_b0['revenue']/cum_revenue_b0['orders'], label='B')\n",
    "\n",
    "plt.grid(True, axis='x', alpha=0.8)\n",
    "plt.legend(bbox_to_anchor=(1, 1))\n",
    "plt.xlabel('Date')\n",
    "plt.ylabel('Cumulative average order')\n",
    "plt.title('А/В-тест: график кумулятивного среднего чека по группам', size=16, color='blue')\n",
    "fig.set_figwidth(15)\n",
    "fig.set_figheight(5)\n",
    "plt.show;"
   ]
  },
  {
   "cell_type": "markdown",
   "metadata": {},
   "source": [
    "Картина поменялась, кумулятивная выручка в В-группе больше, чем в А-группе. А вот средний чек в группах почти одинаковый, в последние дни тестового периода средний чек А-группы выше, чем в В-группе. Таким образом, повышенная выручка в В-группе связана не со средним чеком, а с количеством заказов. "
   ]
  },
  {
   "cell_type": "markdown",
   "metadata": {},
   "source": [
    "## Анализ относительного изменения кумулятивного среднего чека группы B к группе A"
   ]
  },
  {
   "cell_type": "code",
   "execution_count": 41,
   "metadata": {},
   "outputs": [
    {
     "data": {
      "text/html": [
       "<div>\n",
       "<style scoped>\n",
       "    .dataframe tbody tr th:only-of-type {\n",
       "        vertical-align: middle;\n",
       "    }\n",
       "\n",
       "    .dataframe tbody tr th {\n",
       "        vertical-align: top;\n",
       "    }\n",
       "\n",
       "    .dataframe thead th {\n",
       "        text-align: right;\n",
       "    }\n",
       "</style>\n",
       "<table border=\"1\" class=\"dataframe\">\n",
       "  <thead>\n",
       "    <tr style=\"text-align: right;\">\n",
       "      <th></th>\n",
       "      <th>date</th>\n",
       "      <th>revenue_a</th>\n",
       "      <th>orders_a</th>\n",
       "      <th>revenue_b</th>\n",
       "      <th>orders_b</th>\n",
       "    </tr>\n",
       "  </thead>\n",
       "  <tbody>\n",
       "    <tr>\n",
       "      <th>0</th>\n",
       "      <td>2019-08-01</td>\n",
       "      <td>142779</td>\n",
       "      <td>23</td>\n",
       "      <td>59758</td>\n",
       "      <td>17</td>\n",
       "    </tr>\n",
       "    <tr>\n",
       "      <th>1</th>\n",
       "      <td>2019-08-02</td>\n",
       "      <td>234381</td>\n",
       "      <td>42</td>\n",
       "      <td>221801</td>\n",
       "      <td>40</td>\n",
       "    </tr>\n",
       "  </tbody>\n",
       "</table>\n",
       "</div>"
      ],
      "text/plain": [
       "        date  revenue_a  orders_a  revenue_b  orders_b\n",
       "0 2019-08-01     142779        23      59758        17\n",
       "1 2019-08-02     234381        42     221801        40"
      ]
     },
     "execution_count": 41,
     "metadata": {},
     "output_type": "execute_result"
    }
   ],
   "source": [
    "# соберем агрегированные данные о выручке по двум группам в один датасее\n",
    "\n",
    "cum_revenue_all = (\n",
    "    cum_revenue_a.merge(cum_revenue_b, left_on='date', right_on='date', how='left', suffixes=['_a', '_b'])\n",
    ")\n",
    "cum_revenue_all.head(2)"
   ]
  },
  {
   "cell_type": "markdown",
   "metadata": {},
   "source": [
    "<a id='two'></a>\n",
    "[Вернуться к выводу](#last)"
   ]
  },
  {
   "cell_type": "code",
   "execution_count": 42,
   "metadata": {},
   "outputs": [
    {
     "data": {
      "image/png": "[encoded data removed]",
      "text/plain": [
       "<Figure size 1080x360 with 1 Axes>"
      ]
     },
     "metadata": {
      "needs_background": "light"
     },
     "output_type": "display_data"
    }
   ],
   "source": [
    "# построим график относительного изменения кумулятивного среднего чека группы В к группе А\n",
    "fig, ax = plt.subplots()\n",
    "\n",
    "plt.plot(cum_revenue_all['date'], (cum_revenue_all['revenue_b']/cum_revenue_all['orders_b'])/(cum_revenue_all['revenue_a']/cum_revenue_all['orders_a'])-1)\n",
    "\n",
    "plt.grid(True, axis='x', alpha=0.8)\n",
    "plt.xlabel('Date')\n",
    "plt.ylabel('Relative cumulative average order')\n",
    "plt.title('А/В-тест: график относительного изменения кумулятивного среднего чека группы В к группе А', size=16, color='blue')\n",
    "fig.set_figwidth(15)\n",
    "fig.set_figheight(5)\n",
    "plt.axhline(y=0, color='red', linestyle='--')\n",
    "plt.show;"
   ]
  },
  {
   "cell_type": "markdown",
   "metadata": {},
   "source": [
    "**Вывод:**\n",
    "\n",
    "- большую часть времени в течение теста кумулятивный средний чек В-группы выше, чем кумулятивный средний чек А-группы;\n",
    "- в нескольких точках график  резко «скачет», что еще раз подтверждает наличие крупных заказов/выбросов в В-группе. "
   ]
  },
  {
   "cell_type": "markdown",
   "metadata": {},
   "source": [
    "## Анализ кумулятивного среднего количества заказов на посетителя по группам"
   ]
  },
  {
   "cell_type": "code",
   "execution_count": 43,
   "metadata": {},
   "outputs": [],
   "source": [
    "# создадим для каждой группы датафрейм с кумулятивными агрегированными данными о количестве заказов и количестве посетителей \n",
    "\n",
    "cum_orders_a = cumulative_data[cumulative_data['group']=='A'][['date', 'orders', 'visitors']]\n",
    "cum_orders_b = cumulative_data[cumulative_data['group']=='B'][['date', 'orders', 'visitors']]"
   ]
  },
  {
   "cell_type": "code",
   "execution_count": 44,
   "metadata": {},
   "outputs": [
    {
     "data": {
      "image/png": "[encoded data removed]",
      "text/plain": [
       "<Figure size 1080x360 with 1 Axes>"
      ]
     },
     "metadata": {
      "needs_background": "light"
     },
     "output_type": "display_data"
    }
   ],
   "source": [
    "# построим график кумулятивного среднего количества заказов на посетителя по группам\n",
    "\n",
    "fig, ax = plt.subplots()\n",
    "\n",
    "plt.plot(cum_orders_a['date'], cum_orders_a['orders']/cum_orders_a['visitors'], label='A')\n",
    "plt.plot(cum_orders_b['date'], cum_orders_b['orders']/cum_orders_b['visitors'], label='B')\n",
    "\n",
    "plt.grid(True, axis='x', alpha=0.8)\n",
    "plt.legend(bbox_to_anchor=(1, 1))\n",
    "plt.xlabel('Date')\n",
    "plt.ylabel('Cumulative average number of orders')\n",
    "plt.title('А/В-тест: график кумулятивного среднего количества заказов на посетителя по группам', size=16, color='blue')\n",
    "fig.set_figwidth(15)\n",
    "fig.set_figheight(5)\n",
    "plt.show;"
   ]
  },
  {
   "cell_type": "code",
   "execution_count": 45,
   "metadata": {},
   "outputs": [
    {
     "data": {
      "text/html": [
       "<div>\n",
       "<style scoped>\n",
       "    .dataframe tbody tr th:only-of-type {\n",
       "        vertical-align: middle;\n",
       "    }\n",
       "\n",
       "    .dataframe tbody tr th {\n",
       "        vertical-align: top;\n",
       "    }\n",
       "\n",
       "    .dataframe thead th {\n",
       "        text-align: right;\n",
       "    }\n",
       "</style>\n",
       "<table border=\"1\" class=\"dataframe\">\n",
       "  <thead>\n",
       "    <tr style=\"text-align: right;\">\n",
       "      <th></th>\n",
       "      <th>date</th>\n",
       "      <th>group</th>\n",
       "      <th>orders</th>\n",
       "      <th>buyers</th>\n",
       "      <th>revenue</th>\n",
       "      <th>visitors</th>\n",
       "      <th>conversion</th>\n",
       "    </tr>\n",
       "  </thead>\n",
       "  <tbody>\n",
       "    <tr>\n",
       "      <th>0</th>\n",
       "      <td>2019-08-01</td>\n",
       "      <td>A</td>\n",
       "      <td>23</td>\n",
       "      <td>19</td>\n",
       "      <td>142779</td>\n",
       "      <td>719</td>\n",
       "      <td>0.031989</td>\n",
       "    </tr>\n",
       "    <tr>\n",
       "      <th>1</th>\n",
       "      <td>2019-08-01</td>\n",
       "      <td>B</td>\n",
       "      <td>17</td>\n",
       "      <td>17</td>\n",
       "      <td>59758</td>\n",
       "      <td>713</td>\n",
       "      <td>0.023843</td>\n",
       "    </tr>\n",
       "  </tbody>\n",
       "</table>\n",
       "</div>"
      ],
      "text/plain": [
       "        date group  orders  buyers  revenue  visitors  conversion\n",
       "0 2019-08-01     A      23      19   142779       719    0.031989\n",
       "1 2019-08-01     B      17      17    59758       713    0.023843"
      ]
     },
     "execution_count": 45,
     "metadata": {},
     "output_type": "execute_result"
    }
   ],
   "source": [
    "# посчитаем кумулятивное среднее количество заказов на одного посетителя\n",
    "cumulative_data['conversion'] = cumulative_data['orders']/cumulative_data['visitors']\n",
    "cumulative_data.head(2)"
   ]
  },
  {
   "cell_type": "code",
   "execution_count": 46,
   "metadata": {},
   "outputs": [],
   "source": [
    "# разделим данные по группам\n",
    "cumulative_data_a = cumulative_data[cumulative_data['group']=='A']\n",
    "cumulative_data_b = cumulative_data[cumulative_data['group']=='B']"
   ]
  },
  {
   "cell_type": "code",
   "execution_count": 47,
   "metadata": {},
   "outputs": [
    {
     "data": {
      "image/png": "[encoded data removed]",
      "text/plain": [
       "<Figure size 1080x360 with 1 Axes>"
      ]
     },
     "metadata": {
      "needs_background": "light"
     },
     "output_type": "display_data"
    }
   ],
   "source": [
    "# построим график кумулятивного среднего количества заказов на посетителя по группам\n",
    "\n",
    "fig, ax = plt.subplots()\n",
    "\n",
    "plt.plot(cumulative_data_a['date'], cumulative_data_a['conversion'], label='A')\n",
    "plt.plot(cumulative_data_b['date'], cumulative_data_b['conversion'], label='B')\n",
    "\n",
    "plt.grid(True, axis='x', alpha=0.8)\n",
    "plt.legend(bbox_to_anchor=(1, 1))\n",
    "plt.xlabel('Date')\n",
    "plt.ylabel('Cumulative average number of orders')\n",
    "plt.title('А/В-тест: график кумулятивного среднего количества заказов на посетителя по группам', size=16, color='blue')\n",
    "fig.set_figwidth(15)\n",
    "fig.set_figheight(5)\n",
    "plt.ylim(0.01, 0.05)\n",
    "#fig.autofmt_xdate()\n",
    "#plt.axis([\"2019-08-01\", \"2019-08-31\", 0.01, 0.05])\n",
    "plt.show;"
   ]
  },
  {
   "cell_type": "markdown",
   "metadata": {},
   "source": [
    "**Вывод:**\n",
    "\n",
    "График ПОЧТИ симметричный, колебания идут вокруг одного значения. Однако 6 августа произошла смена лидера: кумулятивное среднее количество заказов на одного посетителя в В-группе превысило одноименный показатель А-группы, эта ситуация сохранилась до конца тестового периода."
   ]
  },
  {
   "cell_type": "markdown",
   "metadata": {},
   "source": [
    "## Анализ относительного изменения кумулятивного среднего количества заказов на посетителя группы B к группе A"
   ]
  },
  {
   "cell_type": "code",
   "execution_count": 48,
   "metadata": {},
   "outputs": [
    {
     "data": {
      "text/html": [
       "<div>\n",
       "<style scoped>\n",
       "    .dataframe tbody tr th:only-of-type {\n",
       "        vertical-align: middle;\n",
       "    }\n",
       "\n",
       "    .dataframe tbody tr th {\n",
       "        vertical-align: top;\n",
       "    }\n",
       "\n",
       "    .dataframe thead th {\n",
       "        text-align: right;\n",
       "    }\n",
       "</style>\n",
       "<table border=\"1\" class=\"dataframe\">\n",
       "  <thead>\n",
       "    <tr style=\"text-align: right;\">\n",
       "      <th></th>\n",
       "      <th>date</th>\n",
       "      <th>conversion_a</th>\n",
       "      <th>conversion_b</th>\n",
       "    </tr>\n",
       "  </thead>\n",
       "  <tbody>\n",
       "    <tr>\n",
       "      <th>0</th>\n",
       "      <td>2019-08-01</td>\n",
       "      <td>0.031989</td>\n",
       "      <td>0.023843</td>\n",
       "    </tr>\n",
       "    <tr>\n",
       "      <th>1</th>\n",
       "      <td>2019-08-02</td>\n",
       "      <td>0.031390</td>\n",
       "      <td>0.030912</td>\n",
       "    </tr>\n",
       "  </tbody>\n",
       "</table>\n",
       "</div>"
      ],
      "text/plain": [
       "        date  conversion_a  conversion_b\n",
       "0 2019-08-01      0.031989      0.023843\n",
       "1 2019-08-02      0.031390      0.030912"
      ]
     },
     "execution_count": 48,
     "metadata": {},
     "output_type": "execute_result"
    }
   ],
   "source": [
    "# объединим в один датафрейм данные о кумулятивном среднем количестве заказов на посетителя по группам\n",
    "\n",
    "cum_conversion = (\n",
    "    cumulative_data_a[['date', 'conversion']].merge(cumulative_data_b[['date', 'conversion']], \n",
    "                                left_on='date', right_on='date', how='left', suffixes=['_a', '_b'])\n",
    ")\n",
    "cum_conversion.head(2)"
   ]
  },
  {
   "cell_type": "markdown",
   "metadata": {},
   "source": [
    "<a id='one'></a>\n",
    "[Вернуться к выводу](#last)"
   ]
  },
  {
   "cell_type": "code",
   "execution_count": 49,
   "metadata": {},
   "outputs": [
    {
     "data": {
      "image/png": "[encoded data removed]",
      "text/plain": [
       "<Figure size 1080x360 with 1 Axes>"
      ]
     },
     "metadata": {
      "needs_background": "light"
     },
     "output_type": "display_data"
    }
   ],
   "source": [
    "# построим график относительного изменения кумулятивного среднего количества заказов на посетителя группы B к группе A\n",
    "\n",
    "fig, ax = plt.subplots()\n",
    "\n",
    "plt.plot(cum_conversion['date'], cum_conversion['conversion_b']/cum_conversion['conversion_a']-1)\n",
    "\n",
    "plt.grid(True, axis='x', alpha=0.8)\n",
    "plt.xlabel('Date')\n",
    "plt.ylabel('Relative cumulative average number of orders')\n",
    "plt.title('А/В-тест: график относительного изменения кумулятивного среднего количества заказов на посетителя группы B к группе A', size=16, color='blue')\n",
    "fig.set_figwidth(15)\n",
    "fig.set_figheight(5)\n",
    "plt.axhline(y=0, color='red', linestyle='--')\n",
    "plt.axhline(y=0.1, color='black', linestyle='--')\n",
    "plt.show;"
   ]
  },
  {
   "cell_type": "markdown",
   "metadata": {},
   "source": [
    "**Вывод:**\n",
    "\n",
    "В начале теста В-группа проигрывала А-группе, но с 06 августа вырвалась вперёд. Достигнув пика 14-15 августа кумулятивное среднее количество заказов на посетителя В-группы по отношению к А-группе начало коррекцию вниз, с 29 августа опять наметилась тенденция к его росту.\n",
    "\n",
    "Без анализа аномалий выводы по тесту нельзя, так как результаты могут измениться. "
   ]
  },
  {
   "cell_type": "markdown",
   "metadata": {},
   "source": [
    "## Анализ точечного графика количества заказов по пользователям"
   ]
  },
  {
   "cell_type": "markdown",
   "metadata": {},
   "source": [
    "Для анализа количества заказов на одного пользователя мне придется рассмотреть два датасета orders: старый - до удаления пользователей, попавших одновременно в обе группы А/В теста, и новая - очищенная от вышеупомянутых пользователей."
   ]
  },
  {
   "cell_type": "code",
   "execution_count": 50,
   "metadata": {},
   "outputs": [
    {
     "data": {
      "text/html": [
       "<div>\n",
       "<style scoped>\n",
       "    .dataframe tbody tr th:only-of-type {\n",
       "        vertical-align: middle;\n",
       "    }\n",
       "\n",
       "    .dataframe tbody tr th {\n",
       "        vertical-align: top;\n",
       "    }\n",
       "\n",
       "    .dataframe thead th {\n",
       "        text-align: right;\n",
       "    }\n",
       "</style>\n",
       "<table border=\"1\" class=\"dataframe\">\n",
       "  <thead>\n",
       "    <tr style=\"text-align: right;\">\n",
       "      <th></th>\n",
       "      <th>visitor_id</th>\n",
       "      <th>orders_count</th>\n",
       "    </tr>\n",
       "  </thead>\n",
       "  <tbody>\n",
       "    <tr>\n",
       "      <th>1023</th>\n",
       "      <td>4256040402</td>\n",
       "      <td>11</td>\n",
       "    </tr>\n",
       "    <tr>\n",
       "      <th>591</th>\n",
       "      <td>2458001652</td>\n",
       "      <td>11</td>\n",
       "    </tr>\n",
       "    <tr>\n",
       "      <th>569</th>\n",
       "      <td>2378935119</td>\n",
       "      <td>9</td>\n",
       "    </tr>\n",
       "    <tr>\n",
       "      <th>487</th>\n",
       "      <td>2038680547</td>\n",
       "      <td>8</td>\n",
       "    </tr>\n",
       "    <tr>\n",
       "      <th>44</th>\n",
       "      <td>199603092</td>\n",
       "      <td>5</td>\n",
       "    </tr>\n",
       "  </tbody>\n",
       "</table>\n",
       "</div>"
      ],
      "text/plain": [
       "      visitor_id  orders_count\n",
       "1023  4256040402            11\n",
       "591   2458001652            11\n",
       "569   2378935119             9\n",
       "487   2038680547             8\n",
       "44     199603092             5"
      ]
     },
     "execution_count": 50,
     "metadata": {},
     "output_type": "execute_result"
    }
   ],
   "source": [
    "# создадим вспомогательный датафрейм: количество заказов на одного пользователя (до удаления парных клиентов в п. 2.1.1.)\n",
    "\n",
    "orders_by_user_old = orders_old.groupby('visitor_id', as_index=False).agg({'transaction_id':'nunique'})\n",
    "orders_by_user_old.columns = ['visitor_id', 'orders_count']\n",
    "orders_by_user_old.sort_values(by='orders_count', ascending=False).head()"
   ]
  },
  {
   "cell_type": "code",
   "execution_count": 51,
   "metadata": {},
   "outputs": [
    {
     "data": {
      "text/plain": [
       "1     937\n",
       "2      64\n",
       "3      17\n",
       "5       6\n",
       "4       3\n",
       "11      2\n",
       "8       1\n",
       "9       1\n",
       "Name: orders_count, dtype: int64"
      ]
     },
     "execution_count": 51,
     "metadata": {},
     "output_type": "execute_result"
    }
   ],
   "source": [
    "# посмотрим какое количество пользователей совершили только один заказ за период теста, два заказа и тд...\n",
    "orders_by_user_old['orders_count'].value_counts()"
   ]
  },
  {
   "cell_type": "code",
   "execution_count": 52,
   "metadata": {},
   "outputs": [
    {
     "data": {
      "image/png": "[encoded data removed]",
      "text/plain": [
       "<Figure size 720x360 with 1 Axes>"
      ]
     },
     "metadata": {
      "needs_background": "light"
     },
     "output_type": "display_data"
    }
   ],
   "source": [
    "# построим точечного график количество заказов на одного пользователя (до удаления парных клиентов)\n",
    "\n",
    "fig, ax = plt.subplots()\n",
    "\n",
    "x_values = pd.Series(range(0,len(orders_by_user_old)))\n",
    "plt.scatter(x_values, orders_by_user_old['orders_count'])\n",
    "plt.xlabel('Users')\n",
    "plt.ylabel('Orders')\n",
    "plt.title('Количество заказов на одного пользователя (до удаления парных клиентов)', size=16, color='blue')\n",
    "fig.set_figwidth(10)\n",
    "fig.set_figheight(5)\n",
    "plt.grid(True, axis='y', alpha=0.8)\n",
    "plt.show;"
   ]
  },
  {
   "cell_type": "code",
   "execution_count": 53,
   "metadata": {},
   "outputs": [
    {
     "data": {
      "text/html": [
       "<div>\n",
       "<style scoped>\n",
       "    .dataframe tbody tr th:only-of-type {\n",
       "        vertical-align: middle;\n",
       "    }\n",
       "\n",
       "    .dataframe tbody tr th {\n",
       "        vertical-align: top;\n",
       "    }\n",
       "\n",
       "    .dataframe thead th {\n",
       "        text-align: right;\n",
       "    }\n",
       "</style>\n",
       "<table border=\"1\" class=\"dataframe\">\n",
       "  <thead>\n",
       "    <tr style=\"text-align: right;\">\n",
       "      <th></th>\n",
       "      <th>visitor_id</th>\n",
       "      <th>orders_count</th>\n",
       "    </tr>\n",
       "  </thead>\n",
       "  <tbody>\n",
       "    <tr>\n",
       "      <th>908</th>\n",
       "      <td>3967698036</td>\n",
       "      <td>3</td>\n",
       "    </tr>\n",
       "    <tr>\n",
       "      <th>55</th>\n",
       "      <td>249864742</td>\n",
       "      <td>3</td>\n",
       "    </tr>\n",
       "  </tbody>\n",
       "</table>\n",
       "</div>"
      ],
      "text/plain": [
       "     visitor_id  orders_count\n",
       "908  3967698036             3\n",
       "55    249864742             3"
      ]
     },
     "execution_count": 53,
     "metadata": {},
     "output_type": "execute_result"
    }
   ],
   "source": [
    "# создадим вспомогательный датафрейм: количество заказов на одного пользователя (после удаления парных клиентов в п. 2.1.1)\n",
    "\n",
    "orders_by_user = orders.groupby('visitor_id', as_index=False).agg({'transaction_id':'nunique'})\n",
    "orders_by_user.columns = ['visitor_id', 'orders_count']\n",
    "orders_by_user.sort_values(by='orders_count', ascending=False).head(2)"
   ]
  },
  {
   "cell_type": "code",
   "execution_count": 54,
   "metadata": {},
   "outputs": [
    {
     "data": {
      "image/png": "[encoded data removed]",
      "text/plain": [
       "<Figure size 720x360 with 1 Axes>"
      ]
     },
     "metadata": {
      "needs_background": "light"
     },
     "output_type": "display_data"
    }
   ],
   "source": [
    "# построим точечного график количество заказов на одного пользователя (после удаления парных клиентов)\n",
    "\n",
    "fig, ax = plt.subplots()\n",
    "\n",
    "x_values = pd.Series(range(0,len(orders_by_user)))\n",
    "plt.scatter(x_values, orders_by_user['orders_count'])\n",
    "plt.xlabel('Users')\n",
    "plt.ylabel('Orders')\n",
    "plt.title('Количество заказов на одного пользователя (после удаления парных клиентов)', size=16, color='blue')\n",
    "fig.set_figwidth(10)\n",
    "fig.set_figheight(5)\n",
    "plt.grid(True, axis='y', alpha=0.8)\n",
    "#plt.ylim([0, 4])\n",
    "plt.yticks(np.arange(0,5,1))\n",
    "plt.xlim([0, 937])\n",
    "plt.show;"
   ]
  },
  {
   "cell_type": "markdown",
   "metadata": {},
   "source": [
    "<a id='twelve'></a>\n",
    "[К выводу](#ten)"
   ]
  },
  {
   "cell_type": "code",
   "execution_count": 55,
   "metadata": {},
   "outputs": [
    {
     "data": {
      "text/plain": [
       "1.0295"
      ]
     },
     "execution_count": 55,
     "metadata": {},
     "output_type": "execute_result"
    }
   ],
   "source": [
    "orders_by_user0 = orders.groupby('visitor_id', as_index=False).agg({'transaction_id':'nunique', 'group':'first'})\n",
    "orders_by_user0.columns = ['visitor_id', 'orders_count', 'group']\n",
    "orders_by_user0[np.logical_and(orders_by_user0['group']=='A', orders_by_user0['orders_count']<3)]['orders_count'].mean().round(4)"
   ]
  },
  {
   "cell_type": "code",
   "execution_count": 56,
   "metadata": {},
   "outputs": [
    {
     "data": {
      "text/plain": [
       "1.0304"
      ]
     },
     "execution_count": 56,
     "metadata": {},
     "output_type": "execute_result"
    }
   ],
   "source": [
    "orders_by_user0 = orders.groupby('visitor_id', as_index=False).agg({'transaction_id':'nunique', 'group':'first'})\n",
    "orders_by_user0.columns = ['visitor_id', 'orders_count', 'group']\n",
    "orders_by_user0[np.logical_and(orders_by_user0['group']=='B', orders_by_user0['orders_count']<3)]['orders_count'].mean().round(4)"
   ]
  },
  {
   "cell_type": "markdown",
   "metadata": {},
   "source": [
    "**Вывод:**\n",
    "\n",
    "Основная масса пользователей оформляют 1 заказ.\n",
    "\n",
    "Странная ситуация с пользователями, которых учитывали и в А-группе и в В-группе. Эти же пользователи совершали аномально большое количество заказов (до 11 заказов в течение тестового периода). Однако, после удаления этих пользователей в п.2.1.1. аномальных выбросов в количестве заказов на одного пользователя не стало. Максимальное количество заказов на одного пользователя в очищенной выборке равно 3."
   ]
  },
  {
   "cell_type": "markdown",
   "metadata": {},
   "source": [
    "## Расчет границы для определения аномальных пользователей"
   ]
  },
  {
   "cell_type": "markdown",
   "metadata": {},
   "source": [
    "Вариантов количества заказов на одного пользователя в тестовом периоде не много, всего 3. Поэтому удобно использовать не только np.percentile, но и value_counts()"
   ]
  },
  {
   "cell_type": "code",
   "execution_count": 57,
   "metadata": {},
   "outputs": [
    {
     "data": {
      "text/plain": [
       "1    937\n",
       "2     29\n",
       "3      7\n",
       "Name: orders_count, dtype: int64"
      ]
     },
     "execution_count": 57,
     "metadata": {},
     "output_type": "execute_result"
    }
   ],
   "source": [
    "# посмотрим какое количество пользователей совершили только один заказ за период теста, два заказа и тд...\n",
    "orders_by_user['orders_count'].value_counts()"
   ]
  },
  {
   "cell_type": "markdown",
   "metadata": {},
   "source": [
    "<a id='three'></a>\n",
    "[Ссылка код, удалящий выбросы](#four)"
   ]
  },
  {
   "cell_type": "code",
   "execution_count": 58,
   "metadata": {},
   "outputs": [
    {
     "data": {
      "text/plain": [
       "array([1., 1., 2., 2.])"
      ]
     },
     "execution_count": 58,
     "metadata": {},
     "output_type": "execute_result"
    }
   ],
   "source": [
    "# Посчитаем выборочные перцентили количества заказов на одного пользователя:\n",
    "percentile_orders_count = np.percentile(orders_by_user['orders_count'], [90, 96, 97, 99])\n",
    "percentile_orders_count"
   ]
  },
  {
   "cell_type": "code",
   "execution_count": 59,
   "metadata": {},
   "outputs": [
    {
     "data": {
      "text/plain": [
       "2.0"
      ]
     },
     "execution_count": 59,
     "metadata": {},
     "output_type": "execute_result"
    }
   ],
   "source": [
    "limit_orders_count = percentile_orders_count[2]\n",
    "limit_orders_count"
   ]
  },
  {
   "cell_type": "markdown",
   "metadata": {},
   "source": [
    "**Вывод:**\n",
    "\n",
    "Более 96% посетителей нашего онлайн-магазина оформили за анализируемый период один заказ. Не более 4% оформляли 2-3 заказа.\n",
    "Я не считаю 2-3 заказа аномальным количеством заказов на одного пользователя, но для чистоты эксперемента (проекта) можно принять 2 заказа за верхнюю границу числа заказов и далее отсеять по ней \"аномальных\" пользователй."
   ]
  },
  {
   "cell_type": "markdown",
   "metadata": {},
   "source": [
    "## Анализ точечного графика стоимостей заказов"
   ]
  },
  {
   "cell_type": "code",
   "execution_count": 60,
   "metadata": {},
   "outputs": [
    {
     "data": {
      "image/png": "[encoded data removed]",
      "text/plain": [
       "<Figure size 864x360 with 1 Axes>"
      ]
     },
     "metadata": {
      "needs_background": "light"
     },
     "output_type": "display_data"
    }
   ],
   "source": [
    "# построим точечный график  стоимостей заказов\n",
    "\n",
    "fig, ax = plt.subplots()\n",
    "\n",
    "x_values_2 = pd.Series(range(0,len(orders['revenue'])))\n",
    "plt.scatter(x_values_2, orders['revenue']) \n",
    "\n",
    "plt.xlabel('Orders')\n",
    "plt.ylabel('Revenue')\n",
    "plt.title('Точечный график стоимости заказов', size=16, color='blue')\n",
    "fig.set_figwidth(12)\n",
    "fig.set_figheight(5)\n",
    "plt.grid(True, axis='y', alpha=0.8)\n",
    "plt.show;"
   ]
  },
  {
   "cell_type": "code",
   "execution_count": 61,
   "metadata": {},
   "outputs": [
    {
     "data": {
      "image/png": "[encoded data removed]",
      "text/plain": [
       "<Figure size 864x360 with 1 Axes>"
      ]
     },
     "metadata": {
      "needs_background": "light"
     },
     "output_type": "display_data"
    }
   ],
   "source": [
    "# построим точечный график  стоимостей заказов без первого выброса\n",
    "\n",
    "fig, ax = plt.subplots()\n",
    "\n",
    "x_values_2 = pd.Series(range(0,len(orders0['revenue'])))\n",
    "plt.scatter(x_values_2, orders0['revenue']) \n",
    "\n",
    "plt.xlabel('Orders')\n",
    "plt.ylabel('Revenue')\n",
    "plt.title('Точечный график стоимости заказов без первого выброса', size=16, color='blue')\n",
    "fig.set_figwidth(12)\n",
    "fig.set_figheight(5)\n",
    "plt.grid(True, axis='y', alpha=0.8)\n",
    "plt.show;"
   ]
  },
  {
   "cell_type": "code",
   "execution_count": 62,
   "metadata": {},
   "outputs": [
    {
     "data": {
      "image/png": "[encoded data removed]",
      "text/plain": [
       "<Figure size 864x360 with 1 Axes>"
      ]
     },
     "metadata": {
      "needs_background": "light"
     },
     "output_type": "display_data"
    }
   ],
   "source": [
    "# построим точечный график  стоимостей заказов без двух основных выбросов\n",
    "orders00 = orders0[orders0['revenue']!=orders0['revenue'].max()]\n",
    "\n",
    "fig, ax = plt.subplots()\n",
    "\n",
    "x_values_2 = pd.Series(range(0,len(orders00['revenue'])))\n",
    "plt.scatter(x_values_2, orders00['revenue']) \n",
    "\n",
    "plt.xlabel('Orders')\n",
    "plt.ylabel('Revenue')\n",
    "plt.title('Точечный график стоимости заказов без двух основных выбросов', size=16, color='blue')\n",
    "fig.set_figwidth(12)\n",
    "fig.set_figheight(5)\n",
    "plt.grid(True, axis='y', alpha=0.8)\n",
    "plt.show;"
   ]
  },
  {
   "cell_type": "code",
   "execution_count": 63,
   "metadata": {},
   "outputs": [
    {
     "data": {
      "image/png": "[encoded data removed]",
      "text/plain": [
       "<Figure size 864x360 with 1 Axes>"
      ]
     },
     "metadata": {
      "needs_background": "light"
     },
     "output_type": "display_data"
    }
   ],
   "source": [
    "# построим точечный график  стоимостей заказов без выбросов\n",
    "orders000 = orders0[orders0['revenue']<27000]\n",
    "\n",
    "#увы, на данном этапе прищлось проставить 27000 руками. Но я помню, что это плохой тон.\n",
    "\n",
    "fig, ax = plt.subplots()\n",
    "\n",
    "x_values_2 = pd.Series(range(0,len(orders000['revenue'])))\n",
    "plt.scatter(x_values_2, orders000['revenue']) \n",
    "\n",
    "plt.xlabel('Orders')\n",
    "plt.ylabel('Revenue')\n",
    "plt.title('Точечный график стоимости заказов без выбросов', size=16, color='blue')\n",
    "fig.set_figwidth(12)\n",
    "fig.set_figheight(5)\n",
    "plt.grid(True, axis='y', alpha=0.8)\n",
    "plt.show;"
   ]
  },
  {
   "cell_type": "markdown",
   "metadata": {},
   "source": [
    "<a id='eleven'></a>\n",
    "[К выводу](#ten)"
   ]
  },
  {
   "cell_type": "code",
   "execution_count": 64,
   "metadata": {},
   "outputs": [
    {
     "data": {
      "text/plain": [
       "5200.0"
      ]
     },
     "execution_count": 64,
     "metadata": {},
     "output_type": "execute_result"
    }
   ],
   "source": [
    "# Расчет среднего чека в А-группе после удаления заказов с аномальной стоимостью в В-группе\n",
    "orders000[orders000['group']=='A']['revenue'].mean().round()"
   ]
  },
  {
   "cell_type": "code",
   "execution_count": 65,
   "metadata": {},
   "outputs": [
    {
     "data": {
      "text/plain": [
       "4894.0"
      ]
     },
     "execution_count": 65,
     "metadata": {},
     "output_type": "execute_result"
    }
   ],
   "source": [
    "# Расчет среднего чека в В-группе после удаления заказов с аномальной стоимостью в В-группе \n",
    "orders000[orders000['group']=='B']['revenue'].mean().round()"
   ]
  },
  {
   "cell_type": "code",
   "execution_count": 66,
   "metadata": {},
   "outputs": [
    {
     "data": {
      "text/plain": [
       "count      965.000000\n",
       "mean      5035.363731\n",
       "std       5644.507129\n",
       "min         50.000000\n",
       "25%       1130.000000\n",
       "50%       2670.000000\n",
       "75%       6645.000000\n",
       "max      26550.000000\n",
       "Name: revenue, dtype: float64"
      ]
     },
     "execution_count": 66,
     "metadata": {},
     "output_type": "execute_result"
    }
   ],
   "source": [
    "orders000['revenue'].describe()"
   ]
  },
  {
   "cell_type": "code",
   "execution_count": 67,
   "metadata": {},
   "outputs": [
    {
     "data": {
      "text/html": [
       "<div>\n",
       "<style scoped>\n",
       "    .dataframe tbody tr th:only-of-type {\n",
       "        vertical-align: middle;\n",
       "    }\n",
       "\n",
       "    .dataframe tbody tr th {\n",
       "        vertical-align: top;\n",
       "    }\n",
       "\n",
       "    .dataframe thead th {\n",
       "        text-align: right;\n",
       "    }\n",
       "</style>\n",
       "<table border=\"1\" class=\"dataframe\">\n",
       "  <thead>\n",
       "    <tr style=\"text-align: right;\">\n",
       "      <th></th>\n",
       "      <th>transaction_id</th>\n",
       "      <th>visitor_id</th>\n",
       "      <th>date</th>\n",
       "      <th>revenue</th>\n",
       "      <th>group</th>\n",
       "    </tr>\n",
       "  </thead>\n",
       "  <tbody>\n",
       "    <tr>\n",
       "      <th>425</th>\n",
       "      <td>590470918</td>\n",
       "      <td>1920142716</td>\n",
       "      <td>2019-08-19</td>\n",
       "      <td>1294500</td>\n",
       "      <td>B</td>\n",
       "    </tr>\n",
       "  </tbody>\n",
       "</table>\n",
       "</div>"
      ],
      "text/plain": [
       "     transaction_id  visitor_id       date  revenue group\n",
       "425       590470918  1920142716 2019-08-19  1294500     B"
      ]
     },
     "execution_count": 67,
     "metadata": {},
     "output_type": "execute_result"
    }
   ],
   "source": [
    "# Изучим заказ с аномально высокой стоимостью\n",
    "orders.loc[orders['revenue']==orders['revenue'].max()]"
   ]
  },
  {
   "cell_type": "code",
   "execution_count": 68,
   "metadata": {},
   "outputs": [
    {
     "data": {
      "text/html": [
       "<div>\n",
       "<style scoped>\n",
       "    .dataframe tbody tr th:only-of-type {\n",
       "        vertical-align: middle;\n",
       "    }\n",
       "\n",
       "    .dataframe tbody tr th {\n",
       "        vertical-align: top;\n",
       "    }\n",
       "\n",
       "    .dataframe thead th {\n",
       "        text-align: right;\n",
       "    }\n",
       "</style>\n",
       "<table border=\"1\" class=\"dataframe\">\n",
       "  <thead>\n",
       "    <tr style=\"text-align: right;\">\n",
       "      <th></th>\n",
       "      <th>transaction_id</th>\n",
       "      <th>visitor_id</th>\n",
       "      <th>date</th>\n",
       "      <th>revenue</th>\n",
       "      <th>group</th>\n",
       "    </tr>\n",
       "  </thead>\n",
       "  <tbody>\n",
       "    <tr>\n",
       "      <th>425</th>\n",
       "      <td>590470918</td>\n",
       "      <td>1920142716</td>\n",
       "      <td>2019-08-19</td>\n",
       "      <td>1294500</td>\n",
       "      <td>B</td>\n",
       "    </tr>\n",
       "    <tr>\n",
       "      <th>1196</th>\n",
       "      <td>3936777065</td>\n",
       "      <td>2108080724</td>\n",
       "      <td>2019-08-15</td>\n",
       "      <td>202740</td>\n",
       "      <td>B</td>\n",
       "    </tr>\n",
       "    <tr>\n",
       "      <th>1136</th>\n",
       "      <td>666610489</td>\n",
       "      <td>1307669133</td>\n",
       "      <td>2019-08-13</td>\n",
       "      <td>92550</td>\n",
       "      <td>A</td>\n",
       "    </tr>\n",
       "    <tr>\n",
       "      <th>744</th>\n",
       "      <td>3668308183</td>\n",
       "      <td>888512513</td>\n",
       "      <td>2019-08-27</td>\n",
       "      <td>86620</td>\n",
       "      <td>B</td>\n",
       "    </tr>\n",
       "    <tr>\n",
       "      <th>743</th>\n",
       "      <td>3603576309</td>\n",
       "      <td>4133034833</td>\n",
       "      <td>2019-08-09</td>\n",
       "      <td>67990</td>\n",
       "      <td>A</td>\n",
       "    </tr>\n",
       "  </tbody>\n",
       "</table>\n",
       "</div>"
      ],
      "text/plain": [
       "      transaction_id  visitor_id       date  revenue group\n",
       "425        590470918  1920142716 2019-08-19  1294500     B\n",
       "1196      3936777065  2108080724 2019-08-15   202740     B\n",
       "1136       666610489  1307669133 2019-08-13    92550     A\n",
       "744       3668308183   888512513 2019-08-27    86620     B\n",
       "743       3603576309  4133034833 2019-08-09    67990     A"
      ]
     },
     "execution_count": 68,
     "metadata": {},
     "output_type": "execute_result"
    }
   ],
   "source": [
    "# Изучим пятерку самых дорогих заказов\n",
    "orders.sort_values(by = 'revenue', ascending=False).head()"
   ]
  },
  {
   "cell_type": "markdown",
   "metadata": {},
   "source": [
    "**Выводы:**\n",
    "\n",
    "Вот мы и нашли разгадку резкого скочка 19 августа на графике среднего кумулятивного чека в В-группе - это аномально крупный заказ от 19.08.2019 г на сумму 1 294 500 у.е., оформленный пользователем из В-группы.\n",
    "Еще один аномально крупный заказ был сделан 15.08.2019 г. и тоже в В-группе. \n",
    "\n",
    "За исключением двух вышеуказанных заказов, стоимость других заказов не превышала 100 000 у.е.\n",
    "\n",
    "Точную границу аномальной стоимости заказа определим далее."
   ]
  },
  {
   "cell_type": "markdown",
   "metadata": {},
   "source": [
    "## Расчет границы для определения аномальных заказов"
   ]
  },
  {
   "cell_type": "code",
   "execution_count": 69,
   "metadata": {},
   "outputs": [
    {
     "data": {
      "text/plain": [
       "count    1.016000e+03\n",
       "mean     8.300815e+03\n",
       "std      4.212199e+04\n",
       "min      5.000000e+01\n",
       "25%      1.190000e+03\n",
       "50%      2.955000e+03\n",
       "75%      8.134250e+03\n",
       "max      1.294500e+06\n",
       "Name: revenue, dtype: float64"
      ]
     },
     "execution_count": 69,
     "metadata": {},
     "output_type": "execute_result"
    }
   ],
   "source": [
    "# Изучим столбец orders['revenue'] с помощью ф-ции describe()\n",
    "orders['revenue'].describe()"
   ]
  },
  {
   "cell_type": "markdown",
   "metadata": {},
   "source": [
    "<a id='five'></a>\n",
    "[Ссылка код, удалящий выбросы](#six)"
   ]
  },
  {
   "cell_type": "code",
   "execution_count": 70,
   "metadata": {},
   "outputs": [
    {
     "data": {
      "text/plain": [
       "array([17990., 26785., 53904.])"
      ]
     },
     "execution_count": 70,
     "metadata": {},
     "output_type": "execute_result"
    }
   ],
   "source": [
    "# Определим 90, 95 и 99 перцентили среднего чека в выборке:\n",
    "percentile_revenue = np.percentile(orders['revenue'], [90, 95, 99])\n",
    "percentile_revenue"
   ]
  },
  {
   "cell_type": "code",
   "execution_count": 71,
   "metadata": {},
   "outputs": [
    {
     "data": {
      "text/plain": [
       "27000"
      ]
     },
     "execution_count": 71,
     "metadata": {},
     "output_type": "execute_result"
    }
   ],
   "source": [
    "limit_revenue = int((percentile_revenue[1]/1000).round())*1000\n",
    "limit_revenue "
   ]
  },
  {
   "cell_type": "markdown",
   "metadata": {},
   "source": [
    "Не более 5% заказов дороже 26785 у.е. и не более 1% дороже 53904 у.е.\n",
    "С помощью персентилей выберем 26000 - 27000 у.е.  за верхнюю границу стоимости заказа,  аномальных пользователей отсеем по ней в следующем подразделе."
   ]
  },
  {
   "cell_type": "markdown",
   "metadata": {},
   "source": [
    "## Расчет статистической значимости различий в среднем количестве заказов на посетителя между группами по «сырым» данным"
   ]
  },
  {
   "cell_type": "markdown",
   "metadata": {},
   "source": [
    "***Задача:*** \n",
    "\n",
    "посчитать статистическую значимость различий в среднем числе заказов на пользователя между группами по «сырым» данным (без удаления аномальных пользователей), использовав критерий Манна-Уитни."
   ]
  },
  {
   "cell_type": "markdown",
   "metadata": {},
   "source": [
    " **Сформулируем гипотезы:**\n",
    " \n",
    " - Н0: различий в среднем количестве заказов между группами нет;\n",
    " - Н1: различия в среднем между группами есть."
   ]
  },
  {
   "cell_type": "markdown",
   "metadata": {},
   "source": [
    "### Подготовка данных\n",
    "\n",
    "создадим сводный датафрейм df1"
   ]
  },
  {
   "cell_type": "code",
   "execution_count": 72,
   "metadata": {},
   "outputs": [
    {
     "data": {
      "text/html": [
       "<div>\n",
       "<style scoped>\n",
       "    .dataframe tbody tr th:only-of-type {\n",
       "        vertical-align: middle;\n",
       "    }\n",
       "\n",
       "    .dataframe tbody tr th {\n",
       "        vertical-align: top;\n",
       "    }\n",
       "\n",
       "    .dataframe thead th {\n",
       "        text-align: right;\n",
       "    }\n",
       "</style>\n",
       "<table border=\"1\" class=\"dataframe\">\n",
       "  <thead>\n",
       "    <tr style=\"text-align: right;\">\n",
       "      <th></th>\n",
       "      <th>date</th>\n",
       "      <th>visitorsPerDateA</th>\n",
       "    </tr>\n",
       "  </thead>\n",
       "  <tbody>\n",
       "    <tr>\n",
       "      <th>0</th>\n",
       "      <td>2019-08-01</td>\n",
       "      <td>719</td>\n",
       "    </tr>\n",
       "    <tr>\n",
       "      <th>1</th>\n",
       "      <td>2019-08-02</td>\n",
       "      <td>619</td>\n",
       "    </tr>\n",
       "  </tbody>\n",
       "</table>\n",
       "</div>"
      ],
      "text/plain": [
       "        date  visitorsPerDateA\n",
       "0 2019-08-01               719\n",
       "1 2019-08-02               619"
      ]
     },
     "execution_count": 72,
     "metadata": {},
     "output_type": "execute_result"
    }
   ],
   "source": [
    "# Создадим промежуточную таблицу visitorsADaily для А-группы: дата - кол-во пользователей\n",
    "visitorsADaily = visitors[visitors['group'] == 'A'][['date', 'visitors']]\n",
    "visitorsADaily.columns = ['date', 'visitorsPerDateA']\n",
    "visitorsADaily.head(2)"
   ]
  },
  {
   "cell_type": "raw",
   "metadata": {},
   "source": [
    "# Создадим промежуточную таблицу visitorsACummulative для А-группы:дата - накопленное кол-во пользователей (старый код)\n",
    "visitorsACummulative = visitorsADaily.apply(\n",
    "    lambda x: visitorsADaily[visitorsADaily['date'] <= x['date']].agg(\n",
    "        {'date': 'max', 'visitorsPerDateA': 'sum'}\n",
    "    ),\n",
    "    axis=1,\n",
    ")\n",
    "visitorsACummulative.columns = ['date', 'visitorsCummulativeA']\n",
    "visitorsACummulative.head(2)"
   ]
  },
  {
   "cell_type": "code",
   "execution_count": 73,
   "metadata": {},
   "outputs": [
    {
     "data": {
      "text/html": [
       "<div>\n",
       "<style scoped>\n",
       "    .dataframe tbody tr th:only-of-type {\n",
       "        vertical-align: middle;\n",
       "    }\n",
       "\n",
       "    .dataframe tbody tr th {\n",
       "        vertical-align: top;\n",
       "    }\n",
       "\n",
       "    .dataframe thead th {\n",
       "        text-align: right;\n",
       "    }\n",
       "</style>\n",
       "<table border=\"1\" class=\"dataframe\">\n",
       "  <thead>\n",
       "    <tr style=\"text-align: right;\">\n",
       "      <th></th>\n",
       "      <th>date</th>\n",
       "      <th>visitorsPerDateB</th>\n",
       "    </tr>\n",
       "  </thead>\n",
       "  <tbody>\n",
       "    <tr>\n",
       "      <th>31</th>\n",
       "      <td>2019-08-01</td>\n",
       "      <td>713</td>\n",
       "    </tr>\n",
       "    <tr>\n",
       "      <th>32</th>\n",
       "      <td>2019-08-02</td>\n",
       "      <td>581</td>\n",
       "    </tr>\n",
       "  </tbody>\n",
       "</table>\n",
       "</div>"
      ],
      "text/plain": [
       "         date  visitorsPerDateB\n",
       "31 2019-08-01               713\n",
       "32 2019-08-02               581"
      ]
     },
     "execution_count": 73,
     "metadata": {},
     "output_type": "execute_result"
    }
   ],
   "source": [
    "# Создадим промежуточную таблицу visitorsBDaily для В-группы: дата - кол-во пользователей\n",
    "visitorsBDaily = visitors[visitors['group'] == 'B'][['date', 'visitors']]\n",
    "visitorsBDaily.columns = ['date', 'visitorsPerDateB']\n",
    "visitorsBDaily.head(2)"
   ]
  },
  {
   "cell_type": "markdown",
   "metadata": {},
   "source": [
    "### Посчитаем статистическую значимость различия в среднем количестве заказов на посетителя между группами"
   ]
  },
  {
   "cell_type": "code",
   "execution_count": 74,
   "metadata": {},
   "outputs": [
    {
     "data": {
      "text/html": [
       "<div>\n",
       "<style scoped>\n",
       "    .dataframe tbody tr th:only-of-type {\n",
       "        vertical-align: middle;\n",
       "    }\n",
       "\n",
       "    .dataframe tbody tr th {\n",
       "        vertical-align: top;\n",
       "    }\n",
       "\n",
       "    .dataframe thead th {\n",
       "        text-align: right;\n",
       "    }\n",
       "</style>\n",
       "<table border=\"1\" class=\"dataframe\">\n",
       "  <thead>\n",
       "    <tr style=\"text-align: right;\">\n",
       "      <th></th>\n",
       "      <th>userId</th>\n",
       "      <th>orders</th>\n",
       "    </tr>\n",
       "  </thead>\n",
       "  <tbody>\n",
       "    <tr>\n",
       "      <th>0</th>\n",
       "      <td>11685486</td>\n",
       "      <td>1</td>\n",
       "    </tr>\n",
       "    <tr>\n",
       "      <th>1</th>\n",
       "      <td>54447517</td>\n",
       "      <td>1</td>\n",
       "    </tr>\n",
       "  </tbody>\n",
       "</table>\n",
       "</div>"
      ],
      "text/plain": [
       "     userId  orders\n",
       "0  11685486       1\n",
       "1  54447517       1"
      ]
     },
     "execution_count": 74,
     "metadata": {},
     "output_type": "execute_result"
    }
   ],
   "source": [
    "# Создадим промежуточную таблицу ordersByUsersA для А-группы: userId - количество заказов\n",
    "ordersByUsersA = (\n",
    "    orders[orders['group'] == 'A']\n",
    "    .groupby('visitor_id', as_index=False)\n",
    "    .agg({'transaction_id': pd.Series.nunique})\n",
    ")\n",
    "ordersByUsersA.columns = ['userId', 'orders']\n",
    "ordersByUsersA.head(2)"
   ]
  },
  {
   "cell_type": "code",
   "execution_count": 75,
   "metadata": {},
   "outputs": [
    {
     "data": {
      "text/html": [
       "<div>\n",
       "<style scoped>\n",
       "    .dataframe tbody tr th:only-of-type {\n",
       "        vertical-align: middle;\n",
       "    }\n",
       "\n",
       "    .dataframe tbody tr th {\n",
       "        vertical-align: top;\n",
       "    }\n",
       "\n",
       "    .dataframe thead th {\n",
       "        text-align: right;\n",
       "    }\n",
       "</style>\n",
       "<table border=\"1\" class=\"dataframe\">\n",
       "  <thead>\n",
       "    <tr style=\"text-align: right;\">\n",
       "      <th></th>\n",
       "      <th>userId</th>\n",
       "      <th>orders</th>\n",
       "    </tr>\n",
       "  </thead>\n",
       "  <tbody>\n",
       "    <tr>\n",
       "      <th>0</th>\n",
       "      <td>5114589</td>\n",
       "      <td>1</td>\n",
       "    </tr>\n",
       "    <tr>\n",
       "      <th>1</th>\n",
       "      <td>6958315</td>\n",
       "      <td>1</td>\n",
       "    </tr>\n",
       "  </tbody>\n",
       "</table>\n",
       "</div>"
      ],
      "text/plain": [
       "    userId  orders\n",
       "0  5114589       1\n",
       "1  6958315       1"
      ]
     },
     "execution_count": 75,
     "metadata": {},
     "output_type": "execute_result"
    }
   ],
   "source": [
    "# Создадим промежуточную таблицу ordersByUsersB для B-группы: userId - количество заказов\n",
    "ordersByUsersB = (\n",
    "    orders[orders['group'] == 'B']\n",
    "    .groupby('visitor_id', as_index=False)\n",
    "    .agg({'transaction_id': pd.Series.nunique})\n",
    ")\n",
    "ordersByUsersB.columns = ['userId', 'orders'] \n",
    "ordersByUsersB.head(2)"
   ]
  },
  {
   "cell_type": "markdown",
   "metadata": {},
   "source": [
    "Объявим переменные sampleA и sampleB, в которых пользователям из разных групп будет соответствовать количество заказов. Тем, кто ничего не заказал, будут соответствовать нули. Это нужно, чтобы подготовить выборки к проверке критерием Манна-Уитни."
   ]
  },
  {
   "cell_type": "code",
   "execution_count": 76,
   "metadata": {},
   "outputs": [
    {
     "data": {
      "text/plain": [
       "0    1\n",
       "1    1\n",
       "Name: orders, dtype: int64"
      ]
     },
     "execution_count": 76,
     "metadata": {},
     "output_type": "execute_result"
    }
   ],
   "source": [
    "# Создадим переменную sampleA\n",
    "sampleA = pd.concat(\n",
    "    [\n",
    "        ordersByUsersA['orders'],\n",
    "        pd.Series(\n",
    "            0,\n",
    "            index=np.arange(\n",
    "                visitorsADaily['visitorsPerDateA'].sum() - len(ordersByUsersA['orders'])\n",
    "            ),\n",
    "            name='orders',\n",
    "        ),\n",
    "    ],\n",
    "    axis=0,\n",
    ")\n",
    "sampleA.head(2)"
   ]
  },
  {
   "cell_type": "code",
   "execution_count": 77,
   "metadata": {},
   "outputs": [
    {
     "data": {
      "text/plain": [
       "0    1\n",
       "1    1\n",
       "Name: orders, dtype: int64"
      ]
     },
     "execution_count": 77,
     "metadata": {},
     "output_type": "execute_result"
    }
   ],
   "source": [
    "# Создадим переменную sampleB\n",
    "sampleB = pd.concat(\n",
    "    [\n",
    "        ordersByUsersB['orders'],\n",
    "        pd.Series(\n",
    "            0,\n",
    "            index=np.arange(\n",
    "                visitorsBDaily['visitorsPerDateB'].sum() - len(ordersByUsersB['orders'])\n",
    "            ),\n",
    "            name='orders',\n",
    "        ),\n",
    "    ],\n",
    "    axis=0,\n",
    ")\n",
    "sampleB.head(2)"
   ]
  },
  {
   "cell_type": "code",
   "execution_count": 78,
   "metadata": {},
   "outputs": [
    {
     "name": "stdout",
     "output_type": "stream",
     "text": [
      "p-значение для сравнения групп А и В: 0.011\n",
      "Отвергаем нулевую гипотезу для сравнения групп А и В\n"
     ]
    }
   ],
   "source": [
    "# Проверим гипотезу Н0 с помощью критерия Манна-Уитни\n",
    "alpha = 0.05\n",
    "res = stats.mannwhitneyu(sampleA, sampleB)\n",
    "print(f\"p-значение для сравнения групп А и В: {res[1]:.3f}\")\n",
    "if res.pvalue<alpha:\n",
    "    print('Отвергаем нулевую гипотезу для сравнения групп А и В')\n",
    "else:\n",
    "    print('Не получилось отвергнуть Н0 для сравнения групп А и В')"
   ]
  },
  {
   "cell_type": "code",
   "execution_count": 79,
   "metadata": {},
   "outputs": [
    {
     "data": {
      "text/plain": [
       "'0.160'"
      ]
     },
     "execution_count": 79,
     "metadata": {},
     "output_type": "execute_result"
    }
   ],
   "source": [
    "# Выведем относительный прирост среднего числа заказов группы B\n",
    "\"{0:.3f}\".format(sampleB.mean() / sampleA.mean() - 1)"
   ]
  },
  {
   "cell_type": "markdown",
   "metadata": {},
   "source": [
    "**Вывод:**\n",
    "\n",
    "p-value = 0.011, т.е. меньше уровня статистической значимости 0.05. Значит, нулевую гипотезу о том, что статистически значимых различий в среднем числе заказов между группами А и В нет, отвергаем. По «сырым» данным есть статистически значимые различия в среднем числе заказов групп A и B. \n",
    "\n",
    "Относительная развница в среднем числе заказов на пользователя около 16% (прирост группы B)"
   ]
  },
  {
   "cell_type": "markdown",
   "metadata": {},
   "source": [
    "## Расчет статистической значимости различий в среднем чеке заказа между группами по «сырым» данным"
   ]
  },
  {
   "cell_type": "markdown",
   "metadata": {},
   "source": [
    "***Задача:*** \n",
    "\n",
    "посчитать статистическую значимость различий в среднем чеке заказа между группами по «сырым» данным (без удаления аномальных пользователей), использовав критерий Манна-Уитни."
   ]
  },
  {
   "cell_type": "markdown",
   "metadata": {},
   "source": [
    " **Сформулируем гипотезы:**\n",
    " \n",
    " - Н0:  различий в среднем чеке между группами нет;\n",
    " - Н1:  различия в среднем чеке между группами есть."
   ]
  },
  {
   "cell_type": "code",
   "execution_count": 80,
   "metadata": {},
   "outputs": [
    {
     "name": "stdout",
     "output_type": "stream",
     "text": [
      "p-значение для сравнения групп А и В: 0.829\n",
      "Не получилось отвергнуть Н0 для сравнения групп А и В\n"
     ]
    }
   ],
   "source": [
    "# Проверим гипотезу Н0 с помощью критерия Манна-Уитни\n",
    "alpha = 0.05\n",
    "res = stats.mannwhitneyu(orders[orders['group']=='A']['revenue'], orders[orders['group']=='B']['revenue'])\n",
    "print(f\"p-значение для сравнения групп А и В: {res[1]:.3f}\")\n",
    "if res.pvalue<alpha:\n",
    "    print('Отвергаем нулевую гипотезу для сравнения групп А и В')\n",
    "else:\n",
    "    print('Не получилось отвергнуть Н0 для сравнения групп А и В')"
   ]
  },
  {
   "cell_type": "code",
   "execution_count": 81,
   "metadata": {},
   "outputs": [
    {
     "name": "stdout",
     "output_type": "stream",
     "text": [
      "0.287\n"
     ]
    }
   ],
   "source": [
    "# Выведем относительный прирост среднего чека группы B\n",
    "print('{0:.3f}'.format(orders[orders['group']=='B']['revenue'].mean()/orders[orders['group']=='A']['revenue'].mean()-1)) "
   ]
  },
  {
   "cell_type": "markdown",
   "metadata": {},
   "source": [
    "**Вывод:**\n",
    "\n",
    "P-value 0.829 значительно больше 0.05. Значит, причин отвергать нулевую гипотезу и считать, что в среднем чеке есть различия, нет. Средний чек В-группы значительно выше среднего чека А-группы - на 28.7%, что связано с выявленными ранее аномально крупными заказами."
   ]
  },
  {
   "cell_type": "markdown",
   "metadata": {},
   "source": [
    "## Расчет статистической значимости различий в среднем количестве заказов на посетителя между группами по «очищенным» данным"
   ]
  },
  {
   "cell_type": "markdown",
   "metadata": {},
   "source": [
    "Примем за аномальных пользователей тех, кто совершил более 2 заказов (п.2.8) или совершил заказ дороже 27 000 у.е. (п. 2.10). \n",
    "\n",
    "Так мы уберём 5% пользователей с наибольшим числом заказов и от 1% до 5% пользователей с дорогими заказами. "
   ]
  },
  {
   "cell_type": "markdown",
   "metadata": {},
   "source": [
    "[Ссылка на расчет границы аномального числа заказов](#three)\n",
    "<a id='four'></a>"
   ]
  },
  {
   "cell_type": "code",
   "execution_count": 82,
   "metadata": {},
   "outputs": [
    {
     "data": {
      "text/plain": [
       "58      611059232\n",
       "211    2108163459\n",
       "Name: userId, dtype: int64"
      ]
     },
     "execution_count": 82,
     "metadata": {},
     "output_type": "execute_result"
    }
   ],
   "source": [
    "# Сделаем срезы пользователей с числом заказов больше 2\n",
    "usersWithManyOrders = pd.concat(\n",
    "    [\n",
    "        ordersByUsersA[ordersByUsersA['orders'] > limit_orders_count]['userId'],\n",
    "        ordersByUsersB[ordersByUsersB['orders'] > limit_orders_count]['userId'],\n",
    "    ],\n",
    "    axis=0,\n",
    ")\n",
    "usersWithManyOrders.head(2)"
   ]
  },
  {
   "cell_type": "markdown",
   "metadata": {},
   "source": [
    "[Ссылка на расчет границы аномальной стоимости заказа](#five)\n",
    "<a id='six'></a>"
   ]
  },
  {
   "cell_type": "code",
   "execution_count": 83,
   "metadata": {},
   "outputs": [
    {
     "data": {
      "text/plain": [
       "73    2947100995\n",
       "77     787824685\n",
       "Name: visitor_id, dtype: int64"
      ]
     },
     "execution_count": 83,
     "metadata": {},
     "output_type": "execute_result"
    }
   ],
   "source": [
    "# Сделаем срезы пользователей, совершивших заказы дороже 27 000 у.е.\n",
    "usersWithExpensiveOrders = orders[orders['revenue'] > limit_revenue ]['visitor_id']\n",
    "usersWithExpensiveOrders.head(2)"
   ]
  },
  {
   "cell_type": "code",
   "execution_count": 84,
   "metadata": {},
   "outputs": [
    {
     "data": {
      "text/plain": [
       "568     113298937\n",
       "1099    148427295\n",
       "dtype: int64"
      ]
     },
     "execution_count": 84,
     "metadata": {},
     "output_type": "execute_result"
    }
   ],
   "source": [
    "# Объединим usersWithExpensiveOrders и  usersWithManyOrders в таблице abnormalUsers\n",
    "abnormalUsers = (\n",
    "    pd.concat([usersWithManyOrders, usersWithExpensiveOrders], axis=0)\n",
    "    .drop_duplicates()\n",
    "    .sort_values()\n",
    ")\n",
    "abnormalUsers.head(2)"
   ]
  },
  {
   "cell_type": "code",
   "execution_count": 85,
   "metadata": {},
   "outputs": [
    {
     "data": {
      "text/plain": [
       "58"
      ]
     },
     "execution_count": 85,
     "metadata": {},
     "output_type": "execute_result"
    }
   ],
   "source": [
    "# Узнаем, сколько всего аномальных пользователей \n",
    "abnormalUsers.shape[0]"
   ]
  },
  {
   "cell_type": "markdown",
   "metadata": {},
   "source": [
    "Всего 58 аномальных пользователей. \n",
    "\n",
    "Узнаем, как их действия повлияли на результаты теста. Посчитаем статистическую значимость различий в среднем количестве заказов между группами теста по очищенным данным."
   ]
  },
  {
   "cell_type": "code",
   "execution_count": 86,
   "metadata": {},
   "outputs": [
    {
     "data": {
      "text/plain": [
       "0    1\n",
       "1    1\n",
       "Name: orders, dtype: int64"
      ]
     },
     "execution_count": 86,
     "metadata": {},
     "output_type": "execute_result"
    }
   ],
   "source": [
    "# Подготовим выборки количества заказов по пользователям по группе А\n",
    "sampleAFiltered = pd.concat(\n",
    "    [\n",
    "        ordersByUsersA[\n",
    "            np.logical_not(ordersByUsersA['userId'].isin(abnormalUsers))\n",
    "        ]['orders'],\n",
    "        pd.Series(\n",
    "            0,\n",
    "            index=np.arange(\n",
    "                visitorsADaily['visitorsPerDateA'].sum() - len(ordersByUsersA['orders'])\n",
    "            ),\n",
    "            name='orders',\n",
    "        ),\n",
    "    ],\n",
    "    axis=0,\n",
    ")\n",
    "sampleAFiltered.head(2)"
   ]
  },
  {
   "cell_type": "code",
   "execution_count": 87,
   "metadata": {},
   "outputs": [
    {
     "data": {
      "text/plain": [
       "0    1\n",
       "1    1\n",
       "Name: orders, dtype: int64"
      ]
     },
     "execution_count": 87,
     "metadata": {},
     "output_type": "execute_result"
    }
   ],
   "source": [
    "# Подготовим выборки количества заказов по пользователям по группе B\n",
    "sampleBFiltered = pd.concat(\n",
    "    [\n",
    "        ordersByUsersB[\n",
    "            np.logical_not(ordersByUsersB['userId'].isin(abnormalUsers))\n",
    "        ]['orders'],\n",
    "        pd.Series(\n",
    "            0,\n",
    "            index=np.arange(\n",
    "                visitorsBDaily['visitorsPerDateB'].sum() - len(ordersByUsersB['orders'])\n",
    "            ),\n",
    "            name='orders',\n",
    "        ),\n",
    "    ],\n",
    "    axis=0,\n",
    ") \n",
    "sampleBFiltered.head(2)"
   ]
  },
  {
   "cell_type": "code",
   "execution_count": 88,
   "metadata": {},
   "outputs": [
    {
     "name": "stdout",
     "output_type": "stream",
     "text": [
      "p-значение для сравнения групп А и В: 0.012\n",
      "Отвергаем нулевую гипотезу для сравнения групп А и В\n"
     ]
    }
   ],
   "source": [
    "# Применим статистический критерий Манна-Уитни к полученным выборкам:\n",
    "\n",
    "alpha = 0.05\n",
    "res = stats.mannwhitneyu(sampleAFiltered, sampleBFiltered)\n",
    "print(f\"p-значение для сравнения групп А и В: {res[1]:.3f}\")\n",
    "if res.pvalue<alpha:\n",
    "    print('Отвергаем нулевую гипотезу для сравнения групп А и В')\n",
    "else:\n",
    "    print('Не получилось отвергнуть Н0 для сравнения групп А и В')"
   ]
  },
  {
   "cell_type": "code",
   "execution_count": 89,
   "metadata": {},
   "outputs": [
    {
     "name": "stdout",
     "output_type": "stream",
     "text": [
      "0.182\n"
     ]
    }
   ],
   "source": [
    "# Выведем относительный прирост среднего числа заказов группы B\n",
    "print('{0:.3f}'.format(sampleBFiltered.mean()/sampleAFiltered.mean()-1)) "
   ]
  },
  {
   "cell_type": "markdown",
   "metadata": {},
   "source": [
    "**Вывод:**\n",
    "\n",
    "Результаты по среднему количеству заказов практически не изменились. \n",
    "p-value = 0.012 (против 0.011 по \"неочищенным\" данным), т.е. меньше уровня статистической значимости 0.05. Значит, нулевую гипотезу о том, что статистически значимых различий в среднем числе заказов между группами А и В нет, отвергаем. По «очищенным» данным есть статистически значимые различия в среднем числе заказов групп A и B.\n",
    "\n",
    "Относительная развница в среднем числе заказов на пользователя около 18% (против 16% по \"неочищенным\" данным) (прирост группы B)"
   ]
  },
  {
   "cell_type": "markdown",
   "metadata": {},
   "source": [
    "## Расчет статистической значимости различий в среднем чеке заказа между группами по «очищенным» данным"
   ]
  },
  {
   "cell_type": "code",
   "execution_count": 90,
   "metadata": {},
   "outputs": [
    {
     "name": "stdout",
     "output_type": "stream",
     "text": [
      "p-значение для сравнения групп А и В: 0.646\n",
      "Не получилось отвергнуть Н0 для сравнения групп А и В\n"
     ]
    }
   ],
   "source": [
    "# Проверим гипотезу Н0 с помощью критерия Манна-Уитни\n",
    "alpha = 0.05\n",
    "res = stats.mannwhitneyu(\n",
    "    orders[\n",
    "                np.logical_and(\n",
    "                    orders['group'] == 'A',\n",
    "                    np.logical_not(orders['visitor_id'].isin(abnormalUsers)),\n",
    "                )\n",
    "            ]['revenue'],\n",
    "            orders[\n",
    "                np.logical_and(\n",
    "                    orders['group'] == 'B',\n",
    "                    np.logical_not(orders['visitor_id'].isin(abnormalUsers)),\n",
    "                )\n",
    "            ]['revenue'],\n",
    ")\n",
    "print(f\"p-значение для сравнения групп А и В: {res[1]:.3f}\")\n",
    "if res.pvalue<alpha:\n",
    "    print('Отвергаем нулевую гипотезу для сравнения групп А и В')\n",
    "else:\n",
    "    print('Не получилось отвергнуть Н0 для сравнения групп А и В')"
   ]
  },
  {
   "cell_type": "code",
   "execution_count": 91,
   "metadata": {},
   "outputs": [
    {
     "name": "stdout",
     "output_type": "stream",
     "text": [
      "-0.048\n"
     ]
    }
   ],
   "source": [
    "# Выведем относительный прирост среднего чека группы B\n",
    "print(\n",
    "    \"{0:.3f}\".format(\n",
    "        orders[\n",
    "            np.logical_and(\n",
    "                orders['group'] == 'B',\n",
    "                np.logical_not(orders['visitor_id'].isin(abnormalUsers)),\n",
    "            )\n",
    "        ]['revenue'].mean()\n",
    "        / orders[\n",
    "            np.logical_and(\n",
    "                orders['group'] == 'A',\n",
    "                np.logical_not(orders['visitor_id'].isin(abnormalUsers)),\n",
    "            )\n",
    "        ]['revenue'].mean()\n",
    "        - 1\n",
    "    )\n",
    ") "
   ]
  },
  {
   "cell_type": "markdown",
   "metadata": {},
   "source": [
    "**Вывод:**\n",
    "\n",
    "\n",
    "P-value снизился до 0.646 (против 0.829 по \"неочищенным\" данным), однако остался значительно больше 0.05. Значит, причин отвергать нулевую гипотезу и считать, что в среднем чеке есть различия, нет. По очищенным данным статистически значимых различий среднего чека между группами нет.\n",
    "\n",
    "А вот показатель относительного прироста среднего чека группы B изменился существенно: был прирост 28.7%, стал проигрыш группы В - 4.8%. Этот пример хорошо показывает, как сильно аномалии могут влиять на результаты A/B-теста!"
   ]
  },
  {
   "cell_type": "markdown",
   "metadata": {},
   "source": [
    "## Выводы и решение по результатам теста "
   ]
  },
  {
   "cell_type": "markdown",
   "metadata": {},
   "source": [
    "**Выводы по результатам А/В теста:**\n",
    "\n",
    "- есть статистически значимое различие по среднему количеству заказов между группами как по «сырым», так и по очищенным от  аномалий данным;\n",
    "- нет статистически значимого различия по среднему чеку между группами ни по «сырым», ни по данным после фильтрации аномалий;\n",
    "- график различия среднего количества заказов между группами сообщает, что результаты группы B лучше группы A, однако однозначной тенденции к дальнейшему улучшению нет [ссылка](#one);\n",
    "- график различия среднего чека показывает резкие колебания, вызванные аномально дорогими заказами в В-группе, делать выводы по данному графику нельзя [ссылка](#two).\n",
    "<a id='last'></a>"
   ]
  },
  {
   "cell_type": "markdown",
   "metadata": {},
   "source": [
    "**Решение:**\n",
    "\n",
    "Исходя из обнаруженных фактов, тест можно остановить, признав тестируемое изменение успешным. \n",
    "\n",
    "Основание: \n",
    "\n",
    "- наличие статистически значимого различия по по среднему количеству заказов на пользователя между группами, относительный прирост конверсии группы B около 18%;\n",
    "- завершение А/В теста с признанием победы В-группы и принятие тестируемого изменения в экплуатацию позволят увеличить выручку. Рассчетный прирост выручки составит 987511 у.е. в месяц.\n"
   ]
  },
  {
   "cell_type": "markdown",
   "metadata": {},
   "source": [
    "<a id='ten'></a>\n",
    "Расчет прироста месячной выручки, который может быть получен в результате внедрения тестируемого изменения:\n",
    "\n",
    "- среднедневное количество пользователей в А-группе: 604 чел. [к расчету показателя](#nine)\n",
    "- среднедневное количество пользователей в B-группе: 610 чел. [к расчету показателя](#nine)\n",
    "- средний чек в А-группе: 5200 у.е.[к расчету показателя](#eleven)\n",
    "- средний чек в В-группе после удаления заказа с аномальной стоимостью: 4894 у.е.[к расчету показателя](#eleven)\n",
    "- среднее количество заказов на 1 пользователя А-группа: 1.0295 шт. [к расчету показателя](#twelve)\n",
    "- среднее количество заказов на 1 пользователя В-группа: 1.0304 шт. [к расчету показателя](#twelve)\n",
    "- среднее количество дней в месяце: 30\n",
    "- ожидаемый прирост выручки = (610 * 1.0304 - 604 * 1.0295) * 30 * 4894=987511 у.е. \n",
    "\n",
    "средний чек игнорируем в расчете, так как нет статистически значимого различия по среднему чеку между группами."
   ]
  },
  {
   "cell_type": "markdown",
   "metadata": {},
   "source": [
    "<a id='eight'></a>\n",
    "[В начало](#seven)"
   ]
  },
  {
   "cell_type": "markdown",
   "metadata": {},
   "source": [
    "# Чек-лист готовности проекта"
   ]
  },
  {
   "cell_type": "markdown",
   "metadata": {},
   "source": [
    "- [x]  открыты 3 файла;\n",
    "- [x]  файлы изучены (выведены первые строки, метод info(), метод describe());\n",
    "- [x]  названия столбцов приведины к стандартному виду;\n",
    "- [x]  пропуски, дубликаты, сомнительные данные не обнаружены;\n",
    "- [x]  тип данных в столбцах соответствует данным;\n",
    "- [x]  проведена приоритизация гипотез с помощью фреймворка ICE;\n",
    "- [x]  проведена приоритизация гипотез с помощью фреймворка RICE;\n",
    "- [x]  составлена таблица приоритизации гипотез;\n",
    "- [x]  проведен анализ кумулятивной выручки по группам;\n",
    "- [x]  проведен анализ кумулятивного среднего чека по группам;\n",
    "- [x]  проведен анализ относительного изменения кумулятивного среднего чека группы B к группе A;\n",
    "- [x]  проведен анализ кумулятивного среднего количества заказов на посетителя по группам;\n",
    "- [x]  проведен анализ относительного изменения кумулятивного среднего количества заказов на посетителя группы B к группе A;\n",
    "- [x]  проведен анализ точечного графика количества заказов по пользователям;\n",
    "- [x]  проведен расчет границы для определения аномальных пользователей;\n",
    "- [x]  проведен анализ точечного графика стоимостей заказов;\n",
    "- [x]  проведен расчет границы для определения аномальных заказов;\n",
    "- [x]  проведен расчет статистической значимости различий в среднем количестве заказов на посетителя между группами по «сырым» данным;\n",
    "- [x]  проведен расчет статистической значимости различий в среднем чеке заказа между группами по «сырым» данным;\n",
    "- [x]  проведен расчет статистической значимости различий в среднем количестве заказов на посетителя между группами по «очищенным» данным;\n",
    "- [x]  проведен расчет статистической значимости различий в среднем чеке заказа между группами по «очищенным» данным;\n",
    "- [x]  обоснована целесообразность продолжения/остановки А/В-теста."
   ]
  }
 ],
 "metadata": {
  "ExecuteTimeLog": [
   {
    "duration": 1377,
    "start_time": "2023-04-13T09:48:18.453Z"
   },
   {
    "duration": 84,
    "start_time": "2023-04-13T09:48:23.182Z"
   },
   {
    "duration": 4,
    "start_time": "2023-04-13T09:50:21.512Z"
   },
   {
    "duration": 26,
    "start_time": "2023-04-13T09:50:54.544Z"
   },
   {
    "duration": 7,
    "start_time": "2023-04-13T10:06:31.423Z"
   },
   {
    "duration": 13,
    "start_time": "2023-04-13T10:13:08.417Z"
   },
   {
    "duration": 13,
    "start_time": "2023-04-13T10:17:20.140Z"
   },
   {
    "duration": 12,
    "start_time": "2023-04-13T10:17:31.948Z"
   },
   {
    "duration": 10,
    "start_time": "2023-04-13T10:18:24.784Z"
   },
   {
    "duration": 11,
    "start_time": "2023-04-13T10:19:25.344Z"
   },
   {
    "duration": 121,
    "start_time": "2023-04-13T10:21:04.842Z"
   },
   {
    "duration": 26,
    "start_time": "2023-04-13T10:21:11.717Z"
   },
   {
    "duration": 1085,
    "start_time": "2023-04-13T10:24:25.124Z"
   },
   {
    "duration": 23,
    "start_time": "2023-04-13T10:24:26.212Z"
   },
   {
    "duration": 4,
    "start_time": "2023-04-13T10:24:26.237Z"
   },
   {
    "duration": 42,
    "start_time": "2023-04-13T10:24:26.242Z"
   },
   {
    "duration": 6,
    "start_time": "2023-04-13T10:24:26.286Z"
   },
   {
    "duration": 21,
    "start_time": "2023-04-13T10:24:26.293Z"
   },
   {
    "duration": 11,
    "start_time": "2023-04-13T10:24:26.315Z"
   },
   {
    "duration": 1101,
    "start_time": "2023-04-13T10:24:57.705Z"
   },
   {
    "duration": 24,
    "start_time": "2023-04-13T10:24:58.808Z"
   },
   {
    "duration": 5,
    "start_time": "2023-04-13T10:24:58.833Z"
   },
   {
    "duration": 30,
    "start_time": "2023-04-13T10:24:58.840Z"
   },
   {
    "duration": 6,
    "start_time": "2023-04-13T10:24:58.872Z"
   },
   {
    "duration": 14,
    "start_time": "2023-04-13T10:24:58.880Z"
   },
   {
    "duration": 27,
    "start_time": "2023-04-13T10:24:58.897Z"
   },
   {
    "duration": 11,
    "start_time": "2023-04-13T10:26:41.998Z"
   },
   {
    "duration": 1134,
    "start_time": "2023-04-13T10:33:53.200Z"
   },
   {
    "duration": 23,
    "start_time": "2023-04-13T10:33:54.336Z"
   },
   {
    "duration": 4,
    "start_time": "2023-04-13T10:33:54.360Z"
   },
   {
    "duration": 27,
    "start_time": "2023-04-13T10:33:54.366Z"
   },
   {
    "duration": 5,
    "start_time": "2023-04-13T10:33:54.395Z"
   },
   {
    "duration": 27,
    "start_time": "2023-04-13T10:33:54.401Z"
   },
   {
    "duration": 13,
    "start_time": "2023-04-13T10:33:54.430Z"
   },
   {
    "duration": 19,
    "start_time": "2023-04-13T10:33:54.444Z"
   },
   {
    "duration": 1075,
    "start_time": "2023-04-13T10:34:41.236Z"
   },
   {
    "duration": 35,
    "start_time": "2023-04-13T10:34:42.313Z"
   },
   {
    "duration": 4,
    "start_time": "2023-04-13T10:34:42.350Z"
   },
   {
    "duration": 25,
    "start_time": "2023-04-13T10:34:42.355Z"
   },
   {
    "duration": 5,
    "start_time": "2023-04-13T10:34:42.381Z"
   },
   {
    "duration": 8,
    "start_time": "2023-04-13T10:34:42.388Z"
   },
   {
    "duration": 32,
    "start_time": "2023-04-13T10:34:42.397Z"
   },
   {
    "duration": 13,
    "start_time": "2023-04-13T10:34:42.431Z"
   },
   {
    "duration": 11,
    "start_time": "2023-04-13T10:34:42.445Z"
   },
   {
    "duration": 13,
    "start_time": "2023-04-13T10:36:15.499Z"
   },
   {
    "duration": 77,
    "start_time": "2023-04-13T10:52:38.336Z"
   },
   {
    "duration": 1091,
    "start_time": "2023-04-13T10:53:38.513Z"
   },
   {
    "duration": 25,
    "start_time": "2023-04-13T10:53:39.606Z"
   },
   {
    "duration": 4,
    "start_time": "2023-04-13T10:53:39.633Z"
   },
   {
    "duration": 27,
    "start_time": "2023-04-13T10:53:39.639Z"
   },
   {
    "duration": 5,
    "start_time": "2023-04-13T10:53:39.667Z"
   },
   {
    "duration": 3,
    "start_time": "2023-04-13T10:53:39.674Z"
   },
   {
    "duration": 18,
    "start_time": "2023-04-13T10:53:39.678Z"
   },
   {
    "duration": 10,
    "start_time": "2023-04-13T10:53:39.698Z"
   },
   {
    "duration": 11,
    "start_time": "2023-04-13T10:53:39.717Z"
   },
   {
    "duration": 36,
    "start_time": "2023-04-13T10:53:39.730Z"
   },
   {
    "duration": 23,
    "start_time": "2023-04-13T10:53:39.768Z"
   },
   {
    "duration": 147,
    "start_time": "2023-04-13T10:57:24.191Z"
   },
   {
    "duration": 6,
    "start_time": "2023-04-13T10:57:52.195Z"
   },
   {
    "duration": 6,
    "start_time": "2023-04-13T10:58:20.910Z"
   },
   {
    "duration": 6,
    "start_time": "2023-04-13T10:58:42.189Z"
   },
   {
    "duration": 86,
    "start_time": "2023-04-13T11:06:32.600Z"
   },
   {
    "duration": 1205,
    "start_time": "2023-04-13T11:07:16.112Z"
   },
   {
    "duration": 41,
    "start_time": "2023-04-13T11:07:17.326Z"
   },
   {
    "duration": 4,
    "start_time": "2023-04-13T11:07:17.368Z"
   },
   {
    "duration": 37,
    "start_time": "2023-04-13T11:07:17.374Z"
   },
   {
    "duration": 26,
    "start_time": "2023-04-13T11:07:17.412Z"
   },
   {
    "duration": 2,
    "start_time": "2023-04-13T11:07:17.444Z"
   },
   {
    "duration": 16,
    "start_time": "2023-04-13T11:07:17.449Z"
   },
   {
    "duration": 11,
    "start_time": "2023-04-13T11:07:17.467Z"
   },
   {
    "duration": 11,
    "start_time": "2023-04-13T11:07:17.479Z"
   },
   {
    "duration": 52,
    "start_time": "2023-04-13T11:07:17.492Z"
   },
   {
    "duration": 24,
    "start_time": "2023-04-13T11:07:17.545Z"
   },
   {
    "duration": 6,
    "start_time": "2023-04-13T11:07:17.570Z"
   },
   {
    "duration": 14,
    "start_time": "2023-04-13T11:07:17.578Z"
   },
   {
    "duration": 19,
    "start_time": "2023-04-13T11:07:17.594Z"
   },
   {
    "duration": 1514,
    "start_time": "2023-04-14T06:14:41.868Z"
   },
   {
    "duration": 98,
    "start_time": "2023-04-14T06:14:43.385Z"
   },
   {
    "duration": 4,
    "start_time": "2023-04-14T06:14:43.485Z"
   },
   {
    "duration": 44,
    "start_time": "2023-04-14T06:14:43.492Z"
   },
   {
    "duration": 17,
    "start_time": "2023-04-14T06:14:43.538Z"
   },
   {
    "duration": 53,
    "start_time": "2023-04-14T06:14:43.557Z"
   },
   {
    "duration": 29,
    "start_time": "2023-04-14T06:14:43.612Z"
   },
   {
    "duration": 20,
    "start_time": "2023-04-14T06:14:43.644Z"
   },
   {
    "duration": 36,
    "start_time": "2023-04-14T06:14:43.666Z"
   },
   {
    "duration": 109,
    "start_time": "2023-04-14T06:14:43.704Z"
   },
   {
    "duration": 29,
    "start_time": "2023-04-14T06:14:43.816Z"
   },
   {
    "duration": 35,
    "start_time": "2023-04-14T06:14:43.847Z"
   },
   {
    "duration": 91,
    "start_time": "2023-04-14T06:14:43.883Z"
   },
   {
    "duration": 28,
    "start_time": "2023-04-14T06:14:43.976Z"
   },
   {
    "duration": 525,
    "start_time": "2023-04-14T06:36:56.021Z"
   },
   {
    "duration": 526,
    "start_time": "2023-04-14T06:37:33.534Z"
   },
   {
    "duration": 366,
    "start_time": "2023-04-14T06:38:30.024Z"
   },
   {
    "duration": 13,
    "start_time": "2023-04-14T06:39:00.406Z"
   },
   {
    "duration": 712,
    "start_time": "2023-04-14T06:39:32.222Z"
   },
   {
    "duration": 742,
    "start_time": "2023-04-14T06:39:58.864Z"
   },
   {
    "duration": 853,
    "start_time": "2023-04-14T06:40:27.552Z"
   },
   {
    "duration": 843,
    "start_time": "2023-04-14T06:41:18.920Z"
   },
   {
    "duration": 428,
    "start_time": "2023-04-14T06:44:03.310Z"
   },
   {
    "duration": 501,
    "start_time": "2023-04-14T06:45:41.264Z"
   },
   {
    "duration": 1341,
    "start_time": "2023-04-14T06:47:00.816Z"
   },
   {
    "duration": 30,
    "start_time": "2023-04-14T06:47:02.161Z"
   },
   {
    "duration": 31,
    "start_time": "2023-04-14T06:47:02.193Z"
   },
   {
    "duration": 59,
    "start_time": "2023-04-14T06:47:02.226Z"
   },
   {
    "duration": 41,
    "start_time": "2023-04-14T06:47:02.287Z"
   },
   {
    "duration": 54,
    "start_time": "2023-04-14T06:47:02.330Z"
   },
   {
    "duration": 68,
    "start_time": "2023-04-14T06:47:02.386Z"
   },
   {
    "duration": 50,
    "start_time": "2023-04-14T06:47:02.456Z"
   },
   {
    "duration": 47,
    "start_time": "2023-04-14T06:47:02.508Z"
   },
   {
    "duration": 94,
    "start_time": "2023-04-14T06:47:02.558Z"
   },
   {
    "duration": 31,
    "start_time": "2023-04-14T06:47:02.655Z"
   },
   {
    "duration": 6,
    "start_time": "2023-04-14T06:47:02.688Z"
   },
   {
    "duration": 1317,
    "start_time": "2023-04-14T06:47:02.695Z"
   },
   {
    "duration": 0,
    "start_time": "2023-04-14T06:47:04.014Z"
   },
   {
    "duration": 0,
    "start_time": "2023-04-14T06:47:04.015Z"
   },
   {
    "duration": 14,
    "start_time": "2023-04-14T06:47:44.977Z"
   },
   {
    "duration": 1379,
    "start_time": "2023-04-14T06:48:31.144Z"
   },
   {
    "duration": 30,
    "start_time": "2023-04-14T06:48:32.525Z"
   },
   {
    "duration": 61,
    "start_time": "2023-04-14T06:48:32.557Z"
   },
   {
    "duration": 69,
    "start_time": "2023-04-14T06:48:32.620Z"
   },
   {
    "duration": 8,
    "start_time": "2023-04-14T06:48:32.691Z"
   },
   {
    "duration": 43,
    "start_time": "2023-04-14T06:48:32.701Z"
   },
   {
    "duration": 28,
    "start_time": "2023-04-14T06:48:32.746Z"
   },
   {
    "duration": 15,
    "start_time": "2023-04-14T06:48:32.777Z"
   },
   {
    "duration": 29,
    "start_time": "2023-04-14T06:48:32.794Z"
   },
   {
    "duration": 44,
    "start_time": "2023-04-14T06:48:32.827Z"
   },
   {
    "duration": 29,
    "start_time": "2023-04-14T06:48:32.873Z"
   },
   {
    "duration": 7,
    "start_time": "2023-04-14T06:48:32.904Z"
   },
   {
    "duration": 17,
    "start_time": "2023-04-14T06:48:32.913Z"
   },
   {
    "duration": 26,
    "start_time": "2023-04-14T06:48:32.932Z"
   },
   {
    "duration": 20,
    "start_time": "2023-04-14T06:48:32.960Z"
   },
   {
    "duration": 14,
    "start_time": "2023-04-14T06:48:32.982Z"
   },
   {
    "duration": 14,
    "start_time": "2023-04-14T08:33:30.135Z"
   },
   {
    "duration": 12,
    "start_time": "2023-04-14T08:33:42.658Z"
   },
   {
    "duration": 156,
    "start_time": "2023-04-14T08:35:21.734Z"
   },
   {
    "duration": 14,
    "start_time": "2023-04-14T08:35:53.373Z"
   },
   {
    "duration": 19,
    "start_time": "2023-04-14T08:36:18.892Z"
   },
   {
    "duration": 18,
    "start_time": "2023-04-14T08:36:49.135Z"
   },
   {
    "duration": 14,
    "start_time": "2023-04-14T08:37:41.818Z"
   },
   {
    "duration": 28,
    "start_time": "2023-04-14T08:37:58.598Z"
   },
   {
    "duration": 13,
    "start_time": "2023-04-14T08:38:28.292Z"
   },
   {
    "duration": 2608,
    "start_time": "2023-04-14T08:44:42.008Z"
   },
   {
    "duration": 31,
    "start_time": "2023-04-14T08:48:53.404Z"
   },
   {
    "duration": 1413,
    "start_time": "2023-04-14T08:49:15.574Z"
   },
   {
    "duration": 31,
    "start_time": "2023-04-14T08:49:16.989Z"
   },
   {
    "duration": 5,
    "start_time": "2023-04-14T08:49:17.023Z"
   },
   {
    "duration": 48,
    "start_time": "2023-04-14T08:49:17.030Z"
   },
   {
    "duration": 8,
    "start_time": "2023-04-14T08:49:17.081Z"
   },
   {
    "duration": 32,
    "start_time": "2023-04-14T08:49:17.091Z"
   },
   {
    "duration": 29,
    "start_time": "2023-04-14T08:49:17.125Z"
   },
   {
    "duration": 34,
    "start_time": "2023-04-14T08:49:17.157Z"
   },
   {
    "duration": 42,
    "start_time": "2023-04-14T08:49:17.194Z"
   },
   {
    "duration": 45,
    "start_time": "2023-04-14T08:49:17.239Z"
   },
   {
    "duration": 32,
    "start_time": "2023-04-14T08:49:17.287Z"
   },
   {
    "duration": 8,
    "start_time": "2023-04-14T08:49:17.322Z"
   },
   {
    "duration": 45,
    "start_time": "2023-04-14T08:49:17.332Z"
   },
   {
    "duration": 51,
    "start_time": "2023-04-14T08:49:17.382Z"
   },
   {
    "duration": 30,
    "start_time": "2023-04-14T08:49:17.435Z"
   },
   {
    "duration": 22,
    "start_time": "2023-04-14T08:49:17.467Z"
   },
   {
    "duration": 45,
    "start_time": "2023-04-14T08:49:17.491Z"
   },
   {
    "duration": 179,
    "start_time": "2023-04-14T08:49:17.538Z"
   },
   {
    "duration": 195,
    "start_time": "2023-04-14T08:50:47.963Z"
   },
   {
    "duration": 190,
    "start_time": "2023-04-14T08:51:02.082Z"
   },
   {
    "duration": 137,
    "start_time": "2023-04-14T08:55:40.358Z"
   },
   {
    "duration": 141,
    "start_time": "2023-04-14T08:55:50.991Z"
   },
   {
    "duration": 185,
    "start_time": "2023-04-14T08:57:53.163Z"
   },
   {
    "duration": 14,
    "start_time": "2023-04-14T09:00:32.241Z"
   },
   {
    "duration": 16,
    "start_time": "2023-04-14T09:02:57.980Z"
   },
   {
    "duration": 196,
    "start_time": "2023-04-14T09:04:24.982Z"
   },
   {
    "duration": 144,
    "start_time": "2023-04-14T09:04:31.055Z"
   },
   {
    "duration": 15,
    "start_time": "2023-04-14T09:04:36.226Z"
   },
   {
    "duration": 13,
    "start_time": "2023-04-14T09:08:30.772Z"
   },
   {
    "duration": 286,
    "start_time": "2023-04-14T09:10:51.433Z"
   },
   {
    "duration": 199,
    "start_time": "2023-04-14T09:11:04.374Z"
   },
   {
    "duration": 203,
    "start_time": "2023-04-14T09:13:22.888Z"
   },
   {
    "duration": 206,
    "start_time": "2023-04-14T09:15:05.674Z"
   },
   {
    "duration": 178,
    "start_time": "2023-04-14T09:16:24.211Z"
   },
   {
    "duration": 254,
    "start_time": "2023-04-14T09:17:25.348Z"
   },
   {
    "duration": 372,
    "start_time": "2023-04-14T09:17:39.558Z"
   },
   {
    "duration": 262,
    "start_time": "2023-04-14T09:18:11.048Z"
   },
   {
    "duration": 235,
    "start_time": "2023-04-14T09:18:26.824Z"
   },
   {
    "duration": 273,
    "start_time": "2023-04-14T09:20:16.631Z"
   },
   {
    "duration": 246,
    "start_time": "2023-04-14T09:21:01.963Z"
   },
   {
    "duration": 240,
    "start_time": "2023-04-14T09:21:15.691Z"
   },
   {
    "duration": 230,
    "start_time": "2023-04-14T09:22:38.460Z"
   },
   {
    "duration": 249,
    "start_time": "2023-04-14T09:24:26.027Z"
   },
   {
    "duration": 262,
    "start_time": "2023-04-14T09:24:40.819Z"
   },
   {
    "duration": 287,
    "start_time": "2023-04-14T09:24:52.842Z"
   },
   {
    "duration": 241,
    "start_time": "2023-04-14T09:24:59.946Z"
   },
   {
    "duration": 364,
    "start_time": "2023-04-14T09:25:40.120Z"
   },
   {
    "duration": 282,
    "start_time": "2023-04-14T09:26:15.654Z"
   },
   {
    "duration": 245,
    "start_time": "2023-04-14T09:39:06.133Z"
   },
   {
    "duration": 226,
    "start_time": "2023-04-14T09:39:34.908Z"
   },
   {
    "duration": 224,
    "start_time": "2023-04-14T09:39:47.648Z"
   },
   {
    "duration": 243,
    "start_time": "2023-04-14T09:40:47.144Z"
   },
   {
    "duration": 228,
    "start_time": "2023-04-14T09:41:15.359Z"
   },
   {
    "duration": 221,
    "start_time": "2023-04-14T09:41:49.349Z"
   },
   {
    "duration": 228,
    "start_time": "2023-04-14T09:42:07.287Z"
   },
   {
    "duration": 177,
    "start_time": "2023-04-14T09:42:43.075Z"
   },
   {
    "duration": 220,
    "start_time": "2023-04-14T09:43:10.377Z"
   },
   {
    "duration": 389,
    "start_time": "2023-04-14T09:43:47.473Z"
   },
   {
    "duration": 284,
    "start_time": "2023-04-14T09:44:00.506Z"
   },
   {
    "duration": 14,
    "start_time": "2023-04-14T09:59:41.573Z"
   },
   {
    "duration": 14,
    "start_time": "2023-04-14T10:00:20.888Z"
   },
   {
    "duration": 3182,
    "start_time": "2023-04-14T10:04:11.875Z"
   },
   {
    "duration": 2311,
    "start_time": "2023-04-14T10:05:47.926Z"
   },
   {
    "duration": 20,
    "start_time": "2023-04-14T10:06:44.336Z"
   },
   {
    "duration": 271,
    "start_time": "2023-04-14T10:06:48.298Z"
   },
   {
    "duration": 277,
    "start_time": "2023-04-14T10:09:12.992Z"
   },
   {
    "duration": 362,
    "start_time": "2023-04-14T10:09:23.144Z"
   },
   {
    "duration": 3080,
    "start_time": "2023-04-14T10:21:19.028Z"
   },
   {
    "duration": 8,
    "start_time": "2023-04-14T10:24:53.583Z"
   },
   {
    "duration": 280,
    "start_time": "2023-04-14T10:24:58.694Z"
   },
   {
    "duration": 7,
    "start_time": "2023-04-14T10:27:42.219Z"
   },
   {
    "duration": 12,
    "start_time": "2023-04-14T10:32:02.584Z"
   },
   {
    "duration": 8,
    "start_time": "2023-04-14T10:35:56.552Z"
   },
   {
    "duration": 262,
    "start_time": "2023-04-14T10:37:23.922Z"
   },
   {
    "duration": 287,
    "start_time": "2023-04-14T10:49:56.246Z"
   },
   {
    "duration": 297,
    "start_time": "2023-04-14T10:50:45.030Z"
   },
   {
    "duration": 435,
    "start_time": "2023-04-14T10:51:55.926Z"
   },
   {
    "duration": 283,
    "start_time": "2023-04-14T10:54:57.678Z"
   },
   {
    "duration": 279,
    "start_time": "2023-04-14T10:55:21.153Z"
   },
   {
    "duration": 298,
    "start_time": "2023-04-14T10:56:47.631Z"
   },
   {
    "duration": 131,
    "start_time": "2023-04-14T10:59:59.882Z"
   },
   {
    "duration": 297,
    "start_time": "2023-04-14T11:00:17.366Z"
   },
   {
    "duration": 279,
    "start_time": "2023-04-14T11:02:07.340Z"
   },
   {
    "duration": 284,
    "start_time": "2023-04-14T11:03:29.948Z"
   },
   {
    "duration": 162,
    "start_time": "2023-04-14T11:03:46.948Z"
   },
   {
    "duration": 270,
    "start_time": "2023-04-14T11:04:06.980Z"
   },
   {
    "duration": 312,
    "start_time": "2023-04-14T11:04:19.478Z"
   },
   {
    "duration": 320,
    "start_time": "2023-04-14T11:04:59.038Z"
   },
   {
    "duration": 428,
    "start_time": "2023-04-14T11:05:18.218Z"
   },
   {
    "duration": 371,
    "start_time": "2023-04-14T11:05:30.723Z"
   },
   {
    "duration": 298,
    "start_time": "2023-04-14T11:06:39.824Z"
   },
   {
    "duration": 351,
    "start_time": "2023-04-14T11:07:55.184Z"
   },
   {
    "duration": 398,
    "start_time": "2023-04-14T11:08:06.531Z"
   },
   {
    "duration": 399,
    "start_time": "2023-04-14T11:08:26.009Z"
   },
   {
    "duration": 313,
    "start_time": "2023-04-14T11:09:07.485Z"
   },
   {
    "duration": 409,
    "start_time": "2023-04-14T11:09:27.954Z"
   },
   {
    "duration": 326,
    "start_time": "2023-04-14T11:13:39.891Z"
   },
   {
    "duration": 374,
    "start_time": "2023-04-14T11:13:46.514Z"
   },
   {
    "duration": 346,
    "start_time": "2023-04-14T11:13:55.006Z"
   },
   {
    "duration": 462,
    "start_time": "2023-04-14T11:14:37.384Z"
   },
   {
    "duration": 290,
    "start_time": "2023-04-14T11:15:24.656Z"
   },
   {
    "duration": 18,
    "start_time": "2023-04-14T11:20:08.188Z"
   },
   {
    "duration": 19,
    "start_time": "2023-04-14T11:20:55.558Z"
   },
   {
    "duration": 22,
    "start_time": "2023-04-14T11:21:03.406Z"
   },
   {
    "duration": 19,
    "start_time": "2023-04-14T11:22:18.921Z"
   },
   {
    "duration": 291,
    "start_time": "2023-04-14T11:27:37.092Z"
   },
   {
    "duration": 336,
    "start_time": "2023-04-14T11:28:35.705Z"
   },
   {
    "duration": 392,
    "start_time": "2023-04-14T11:30:05.234Z"
   },
   {
    "duration": 424,
    "start_time": "2023-04-14T11:30:37.817Z"
   },
   {
    "duration": 422,
    "start_time": "2023-04-14T11:32:43.921Z"
   },
   {
    "duration": 422,
    "start_time": "2023-04-14T11:33:39.040Z"
   },
   {
    "duration": 443,
    "start_time": "2023-04-14T11:33:46.359Z"
   },
   {
    "duration": 354,
    "start_time": "2023-04-14T11:38:08.472Z"
   },
   {
    "duration": 224,
    "start_time": "2023-04-14T11:39:46.729Z"
   },
   {
    "duration": 373,
    "start_time": "2023-04-14T11:40:22.528Z"
   },
   {
    "duration": 227,
    "start_time": "2023-04-14T11:41:04.174Z"
   },
   {
    "duration": 233,
    "start_time": "2023-04-14T11:41:31.451Z"
   },
   {
    "duration": 224,
    "start_time": "2023-04-14T11:41:50.377Z"
   },
   {
    "duration": 257,
    "start_time": "2023-04-14T11:42:46.386Z"
   },
   {
    "duration": 223,
    "start_time": "2023-04-14T11:43:49.912Z"
   },
   {
    "duration": 244,
    "start_time": "2023-04-14T11:44:05.044Z"
   },
   {
    "duration": 335,
    "start_time": "2023-04-14T11:45:45.917Z"
   },
   {
    "duration": 254,
    "start_time": "2023-04-14T11:45:53.075Z"
   },
   {
    "duration": 281,
    "start_time": "2023-04-14T11:55:27.850Z"
   },
   {
    "duration": 1298,
    "start_time": "2023-04-14T11:59:57.412Z"
   },
   {
    "duration": 30,
    "start_time": "2023-04-14T11:59:58.713Z"
   },
   {
    "duration": 26,
    "start_time": "2023-04-14T11:59:58.745Z"
   },
   {
    "duration": 78,
    "start_time": "2023-04-14T11:59:58.773Z"
   },
   {
    "duration": 6,
    "start_time": "2023-04-14T11:59:58.853Z"
   },
   {
    "duration": 20,
    "start_time": "2023-04-14T11:59:58.861Z"
   },
   {
    "duration": 37,
    "start_time": "2023-04-14T11:59:58.883Z"
   },
   {
    "duration": 40,
    "start_time": "2023-04-14T11:59:58.922Z"
   },
   {
    "duration": 30,
    "start_time": "2023-04-14T11:59:58.965Z"
   },
   {
    "duration": 50,
    "start_time": "2023-04-14T11:59:58.998Z"
   },
   {
    "duration": 30,
    "start_time": "2023-04-14T11:59:59.050Z"
   },
   {
    "duration": 37,
    "start_time": "2023-04-14T11:59:59.081Z"
   },
   {
    "duration": 89,
    "start_time": "2023-04-14T11:59:59.119Z"
   },
   {
    "duration": 23,
    "start_time": "2023-04-14T11:59:59.210Z"
   },
   {
    "duration": 40,
    "start_time": "2023-04-14T11:59:59.235Z"
   },
   {
    "duration": 193,
    "start_time": "2023-04-14T11:59:59.277Z"
   },
   {
    "duration": 151,
    "start_time": "2023-04-14T11:59:59.472Z"
   },
   {
    "duration": 16,
    "start_time": "2023-04-14T11:59:59.641Z"
   },
   {
    "duration": 370,
    "start_time": "2023-04-14T11:59:59.658Z"
   },
   {
    "duration": 342,
    "start_time": "2023-04-14T12:00:00.030Z"
   },
   {
    "duration": 14,
    "start_time": "2023-04-14T12:00:00.374Z"
   },
   {
    "duration": 499,
    "start_time": "2023-04-14T12:00:00.390Z"
   },
   {
    "duration": 8,
    "start_time": "2023-04-14T12:00:00.891Z"
   },
   {
    "duration": 440,
    "start_time": "2023-04-14T12:00:00.901Z"
   },
   {
    "duration": 12,
    "start_time": "2023-04-14T12:00:01.343Z"
   },
   {
    "duration": 136,
    "start_time": "2023-04-14T12:00:01.357Z"
   },
   {
    "duration": 144,
    "start_time": "2023-04-14T12:00:01.495Z"
   },
   {
    "duration": 0,
    "start_time": "2023-04-14T12:00:01.642Z"
   },
   {
    "duration": 0,
    "start_time": "2023-04-14T12:00:01.643Z"
   },
   {
    "duration": 356,
    "start_time": "2023-04-14T12:00:23.904Z"
   },
   {
    "duration": 1383,
    "start_time": "2023-04-14T12:03:00.135Z"
   },
   {
    "duration": 30,
    "start_time": "2023-04-14T12:03:01.520Z"
   },
   {
    "duration": 124,
    "start_time": "2023-04-14T12:03:01.552Z"
   },
   {
    "duration": 216,
    "start_time": "2023-04-14T12:03:01.678Z"
   },
   {
    "duration": 109,
    "start_time": "2023-04-14T12:03:01.897Z"
   },
   {
    "duration": 141,
    "start_time": "2023-04-14T12:03:02.008Z"
   },
   {
    "duration": 55,
    "start_time": "2023-04-14T12:03:02.151Z"
   },
   {
    "duration": 41,
    "start_time": "2023-04-14T12:03:02.208Z"
   },
   {
    "duration": 93,
    "start_time": "2023-04-14T12:03:02.251Z"
   },
   {
    "duration": 98,
    "start_time": "2023-04-14T12:03:02.347Z"
   },
   {
    "duration": 61,
    "start_time": "2023-04-14T12:03:02.447Z"
   },
   {
    "duration": 68,
    "start_time": "2023-04-14T12:03:02.510Z"
   },
   {
    "duration": 97,
    "start_time": "2023-04-14T12:03:02.580Z"
   },
   {
    "duration": 65,
    "start_time": "2023-04-14T12:03:02.679Z"
   },
   {
    "duration": 54,
    "start_time": "2023-04-14T12:03:02.746Z"
   },
   {
    "duration": 10,
    "start_time": "2023-04-14T12:03:02.803Z"
   },
   {
    "duration": 72,
    "start_time": "2023-04-14T12:03:02.815Z"
   },
   {
    "duration": 222,
    "start_time": "2023-04-14T12:03:02.889Z"
   },
   {
    "duration": 168,
    "start_time": "2023-04-14T12:03:03.113Z"
   },
   {
    "duration": 15,
    "start_time": "2023-04-14T12:03:03.283Z"
   },
   {
    "duration": 365,
    "start_time": "2023-04-14T12:03:03.300Z"
   },
   {
    "duration": 254,
    "start_time": "2023-04-14T12:03:03.667Z"
   },
   {
    "duration": 25,
    "start_time": "2023-04-14T12:03:03.923Z"
   },
   {
    "duration": 343,
    "start_time": "2023-04-14T12:03:03.950Z"
   },
   {
    "duration": 7,
    "start_time": "2023-04-14T12:03:04.295Z"
   },
   {
    "duration": 307,
    "start_time": "2023-04-14T12:03:04.304Z"
   },
   {
    "duration": 13,
    "start_time": "2023-04-14T12:03:04.613Z"
   },
   {
    "duration": 5,
    "start_time": "2023-04-14T12:03:04.640Z"
   },
   {
    "duration": 417,
    "start_time": "2023-04-14T12:03:04.647Z"
   },
   {
    "duration": 0,
    "start_time": "2023-04-14T12:03:05.066Z"
   },
   {
    "duration": 0,
    "start_time": "2023-04-14T12:03:05.067Z"
   },
   {
    "duration": 253,
    "start_time": "2023-04-14T12:03:29.209Z"
   },
   {
    "duration": 17,
    "start_time": "2023-04-14T12:03:36.536Z"
   },
   {
    "duration": 340,
    "start_time": "2023-04-14T12:03:39.374Z"
   },
   {
    "duration": 6,
    "start_time": "2023-04-14T12:09:22.571Z"
   },
   {
    "duration": 348,
    "start_time": "2023-04-14T12:09:36.197Z"
   },
   {
    "duration": 301,
    "start_time": "2023-04-14T12:11:01.482Z"
   },
   {
    "duration": 1333,
    "start_time": "2023-04-14T12:11:09.775Z"
   },
   {
    "duration": 31,
    "start_time": "2023-04-14T12:11:11.110Z"
   },
   {
    "duration": 6,
    "start_time": "2023-04-14T12:11:11.151Z"
   },
   {
    "duration": 48,
    "start_time": "2023-04-14T12:11:11.159Z"
   },
   {
    "duration": 8,
    "start_time": "2023-04-14T12:11:11.209Z"
   },
   {
    "duration": 16,
    "start_time": "2023-04-14T12:11:11.219Z"
   },
   {
    "duration": 65,
    "start_time": "2023-04-14T12:11:11.237Z"
   },
   {
    "duration": 20,
    "start_time": "2023-04-14T12:11:11.304Z"
   },
   {
    "duration": 53,
    "start_time": "2023-04-14T12:11:11.326Z"
   },
   {
    "duration": 42,
    "start_time": "2023-04-14T12:11:11.383Z"
   },
   {
    "duration": 44,
    "start_time": "2023-04-14T12:11:11.427Z"
   },
   {
    "duration": 7,
    "start_time": "2023-04-14T12:11:11.473Z"
   },
   {
    "duration": 21,
    "start_time": "2023-04-14T12:11:11.482Z"
   },
   {
    "duration": 23,
    "start_time": "2023-04-14T12:11:11.506Z"
   },
   {
    "duration": 28,
    "start_time": "2023-04-14T12:11:11.531Z"
   },
   {
    "duration": 216,
    "start_time": "2023-04-14T12:11:11.561Z"
   },
   {
    "duration": 166,
    "start_time": "2023-04-14T12:11:11.779Z"
   },
   {
    "duration": 21,
    "start_time": "2023-04-14T12:11:11.947Z"
   },
   {
    "duration": 387,
    "start_time": "2023-04-14T12:11:11.970Z"
   },
   {
    "duration": 362,
    "start_time": "2023-04-14T12:11:12.360Z"
   },
   {
    "duration": 32,
    "start_time": "2023-04-14T12:11:12.724Z"
   },
   {
    "duration": 430,
    "start_time": "2023-04-14T12:11:12.758Z"
   },
   {
    "duration": 8,
    "start_time": "2023-04-14T12:11:13.190Z"
   },
   {
    "duration": 396,
    "start_time": "2023-04-14T12:11:13.200Z"
   },
   {
    "duration": 12,
    "start_time": "2023-04-14T12:11:13.598Z"
   },
   {
    "duration": 13,
    "start_time": "2023-04-14T12:11:13.612Z"
   },
   {
    "duration": 390,
    "start_time": "2023-04-14T12:11:13.627Z"
   },
   {
    "duration": 36,
    "start_time": "2023-04-14T12:11:14.020Z"
   },
   {
    "duration": 437,
    "start_time": "2023-04-14T12:11:14.058Z"
   },
   {
    "duration": 367,
    "start_time": "2023-04-14T12:12:25.179Z"
   },
   {
    "duration": 476,
    "start_time": "2023-04-14T12:12:49.744Z"
   },
   {
    "duration": 343,
    "start_time": "2023-04-14T12:13:03.468Z"
   },
   {
    "duration": 347,
    "start_time": "2023-04-14T12:13:09.894Z"
   },
   {
    "duration": 1353,
    "start_time": "2023-04-14T12:14:49.674Z"
   },
   {
    "duration": 30,
    "start_time": "2023-04-14T12:14:51.030Z"
   },
   {
    "duration": 11,
    "start_time": "2023-04-14T12:14:51.062Z"
   },
   {
    "duration": 89,
    "start_time": "2023-04-14T12:14:51.075Z"
   },
   {
    "duration": 13,
    "start_time": "2023-04-14T12:14:51.167Z"
   },
   {
    "duration": 23,
    "start_time": "2023-04-14T12:14:51.182Z"
   },
   {
    "duration": 60,
    "start_time": "2023-04-14T12:14:51.207Z"
   },
   {
    "duration": 20,
    "start_time": "2023-04-14T12:14:51.269Z"
   },
   {
    "duration": 29,
    "start_time": "2023-04-14T12:14:51.291Z"
   },
   {
    "duration": 54,
    "start_time": "2023-04-14T12:14:51.322Z"
   },
   {
    "duration": 29,
    "start_time": "2023-04-14T12:14:51.379Z"
   },
   {
    "duration": 62,
    "start_time": "2023-04-14T12:14:51.410Z"
   },
   {
    "duration": 77,
    "start_time": "2023-04-14T12:14:51.474Z"
   },
   {
    "duration": 46,
    "start_time": "2023-04-14T12:14:51.554Z"
   },
   {
    "duration": 36,
    "start_time": "2023-04-14T12:14:51.602Z"
   },
   {
    "duration": 6,
    "start_time": "2023-04-14T12:14:51.640Z"
   },
   {
    "duration": 21,
    "start_time": "2023-04-14T12:14:51.648Z"
   },
   {
    "duration": 216,
    "start_time": "2023-04-14T12:14:51.671Z"
   },
   {
    "duration": 170,
    "start_time": "2023-04-14T12:14:51.889Z"
   },
   {
    "duration": 16,
    "start_time": "2023-04-14T12:14:52.061Z"
   },
   {
    "duration": 371,
    "start_time": "2023-04-14T12:14:52.079Z"
   },
   {
    "duration": 255,
    "start_time": "2023-04-14T12:14:52.453Z"
   },
   {
    "duration": 14,
    "start_time": "2023-04-14T12:14:52.711Z"
   },
   {
    "duration": 366,
    "start_time": "2023-04-14T12:14:52.741Z"
   },
   {
    "duration": 8,
    "start_time": "2023-04-14T12:14:53.110Z"
   },
   {
    "duration": 326,
    "start_time": "2023-04-14T12:14:53.122Z"
   },
   {
    "duration": 15,
    "start_time": "2023-04-14T12:14:53.450Z"
   },
   {
    "duration": 49,
    "start_time": "2023-04-14T12:14:53.466Z"
   },
   {
    "duration": 288,
    "start_time": "2023-04-14T12:14:53.517Z"
   },
   {
    "duration": 17,
    "start_time": "2023-04-14T12:14:53.807Z"
   },
   {
    "duration": 382,
    "start_time": "2023-04-14T12:14:53.826Z"
   },
   {
    "duration": 1312,
    "start_time": "2023-04-14T13:34:11.924Z"
   },
   {
    "duration": 35,
    "start_time": "2023-04-14T13:34:13.240Z"
   },
   {
    "duration": 81,
    "start_time": "2023-04-14T13:34:13.277Z"
   },
   {
    "duration": 97,
    "start_time": "2023-04-14T13:34:13.361Z"
   },
   {
    "duration": 28,
    "start_time": "2023-04-14T13:34:13.460Z"
   },
   {
    "duration": 99,
    "start_time": "2023-04-14T13:34:13.490Z"
   },
   {
    "duration": 21,
    "start_time": "2023-04-14T13:34:13.591Z"
   },
   {
    "duration": 14,
    "start_time": "2023-04-14T13:34:13.614Z"
   },
   {
    "duration": 40,
    "start_time": "2023-04-14T13:34:13.630Z"
   },
   {
    "duration": 47,
    "start_time": "2023-04-14T13:34:13.674Z"
   },
   {
    "duration": 31,
    "start_time": "2023-04-14T13:34:13.724Z"
   },
   {
    "duration": 12,
    "start_time": "2023-04-14T13:34:13.757Z"
   },
   {
    "duration": 22,
    "start_time": "2023-04-14T13:34:13.771Z"
   },
   {
    "duration": 26,
    "start_time": "2023-04-14T13:34:13.795Z"
   },
   {
    "duration": 25,
    "start_time": "2023-04-14T13:34:13.823Z"
   },
   {
    "duration": 15,
    "start_time": "2023-04-14T13:34:13.850Z"
   },
   {
    "duration": 35,
    "start_time": "2023-04-14T13:34:13.867Z"
   },
   {
    "duration": 201,
    "start_time": "2023-04-14T13:34:13.903Z"
   },
   {
    "duration": 151,
    "start_time": "2023-04-14T13:34:14.106Z"
   },
   {
    "duration": 14,
    "start_time": "2023-04-14T13:34:14.259Z"
   },
   {
    "duration": 348,
    "start_time": "2023-04-14T13:34:14.275Z"
   },
   {
    "duration": 261,
    "start_time": "2023-04-14T13:34:14.625Z"
   },
   {
    "duration": 15,
    "start_time": "2023-04-14T13:34:14.888Z"
   },
   {
    "duration": 401,
    "start_time": "2023-04-14T13:34:14.906Z"
   },
   {
    "duration": 6,
    "start_time": "2023-04-14T13:34:15.310Z"
   },
   {
    "duration": 288,
    "start_time": "2023-04-14T13:34:15.318Z"
   },
   {
    "duration": 12,
    "start_time": "2023-04-14T13:34:15.608Z"
   },
   {
    "duration": 18,
    "start_time": "2023-04-14T13:34:15.623Z"
   },
   {
    "duration": 269,
    "start_time": "2023-04-14T13:34:15.643Z"
   },
   {
    "duration": 28,
    "start_time": "2023-04-14T13:34:15.914Z"
   },
   {
    "duration": 396,
    "start_time": "2023-04-14T13:34:15.945Z"
   },
   {
    "duration": 1492,
    "start_time": "2023-04-14T13:35:21.523Z"
   },
   {
    "duration": 29,
    "start_time": "2023-04-14T13:35:23.018Z"
   },
   {
    "duration": 22,
    "start_time": "2023-04-14T13:35:23.049Z"
   },
   {
    "duration": 85,
    "start_time": "2023-04-14T13:35:23.074Z"
   },
   {
    "duration": 8,
    "start_time": "2023-04-14T13:35:23.161Z"
   },
   {
    "duration": 24,
    "start_time": "2023-04-14T13:35:23.171Z"
   },
   {
    "duration": 38,
    "start_time": "2023-04-14T13:35:23.197Z"
   },
   {
    "duration": 18,
    "start_time": "2023-04-14T13:35:23.237Z"
   },
   {
    "duration": 54,
    "start_time": "2023-04-14T13:35:23.257Z"
   },
   {
    "duration": 55,
    "start_time": "2023-04-14T13:35:23.315Z"
   },
   {
    "duration": 30,
    "start_time": "2023-04-14T13:35:23.372Z"
   },
   {
    "duration": 6,
    "start_time": "2023-04-14T13:35:23.404Z"
   },
   {
    "duration": 17,
    "start_time": "2023-04-14T13:35:23.412Z"
   },
   {
    "duration": 46,
    "start_time": "2023-04-14T13:35:23.431Z"
   },
   {
    "duration": 78,
    "start_time": "2023-04-14T13:35:23.479Z"
   },
   {
    "duration": 7,
    "start_time": "2023-04-14T13:35:23.559Z"
   },
   {
    "duration": 25,
    "start_time": "2023-04-14T13:35:23.568Z"
   },
   {
    "duration": 197,
    "start_time": "2023-04-14T13:35:23.595Z"
   },
   {
    "duration": 162,
    "start_time": "2023-04-14T13:35:23.796Z"
   },
   {
    "duration": 14,
    "start_time": "2023-04-14T13:35:23.961Z"
   },
   {
    "duration": 349,
    "start_time": "2023-04-14T13:35:23.977Z"
   },
   {
    "duration": 258,
    "start_time": "2023-04-14T13:35:24.328Z"
   },
   {
    "duration": 14,
    "start_time": "2023-04-14T13:35:24.588Z"
   },
   {
    "duration": 373,
    "start_time": "2023-04-14T13:35:24.604Z"
   },
   {
    "duration": 8,
    "start_time": "2023-04-14T13:35:24.978Z"
   },
   {
    "duration": 292,
    "start_time": "2023-04-14T13:35:24.988Z"
   },
   {
    "duration": 13,
    "start_time": "2023-04-14T13:35:25.283Z"
   },
   {
    "duration": 8,
    "start_time": "2023-04-14T13:35:25.299Z"
   },
   {
    "duration": 287,
    "start_time": "2023-04-14T13:35:25.309Z"
   },
   {
    "duration": 16,
    "start_time": "2023-04-14T13:35:25.598Z"
   },
   {
    "duration": 427,
    "start_time": "2023-04-14T13:35:25.616Z"
   },
   {
    "duration": 389,
    "start_time": "2023-04-14T13:35:46.997Z"
   },
   {
    "duration": 362,
    "start_time": "2023-04-14T13:36:20.443Z"
   },
   {
    "duration": 5,
    "start_time": "2023-04-14T13:36:51.188Z"
   },
   {
    "duration": 13,
    "start_time": "2023-04-14T13:37:09.671Z"
   },
   {
    "duration": 398,
    "start_time": "2023-04-14T13:37:34.059Z"
   },
   {
    "duration": 1324,
    "start_time": "2023-04-14T13:37:47.478Z"
   },
   {
    "duration": 29,
    "start_time": "2023-04-14T13:37:48.805Z"
   },
   {
    "duration": 12,
    "start_time": "2023-04-14T13:37:48.836Z"
   },
   {
    "duration": 51,
    "start_time": "2023-04-14T13:37:48.851Z"
   },
   {
    "duration": 10,
    "start_time": "2023-04-14T13:37:48.904Z"
   },
   {
    "duration": 30,
    "start_time": "2023-04-14T13:37:48.917Z"
   },
   {
    "duration": 25,
    "start_time": "2023-04-14T13:37:48.949Z"
   },
   {
    "duration": 15,
    "start_time": "2023-04-14T13:37:48.976Z"
   },
   {
    "duration": 18,
    "start_time": "2023-04-14T13:37:48.993Z"
   },
   {
    "duration": 49,
    "start_time": "2023-04-14T13:37:49.014Z"
   },
   {
    "duration": 31,
    "start_time": "2023-04-14T13:37:49.065Z"
   },
   {
    "duration": 6,
    "start_time": "2023-04-14T13:37:49.098Z"
   },
   {
    "duration": 14,
    "start_time": "2023-04-14T13:37:49.106Z"
   },
   {
    "duration": 28,
    "start_time": "2023-04-14T13:37:49.122Z"
   },
   {
    "duration": 21,
    "start_time": "2023-04-14T13:37:49.153Z"
   },
   {
    "duration": 6,
    "start_time": "2023-04-14T13:37:49.176Z"
   },
   {
    "duration": 32,
    "start_time": "2023-04-14T13:37:49.184Z"
   },
   {
    "duration": 21,
    "start_time": "2023-04-14T13:37:49.218Z"
   },
   {
    "duration": 232,
    "start_time": "2023-04-14T13:37:49.241Z"
   },
   {
    "duration": 156,
    "start_time": "2023-04-14T13:37:49.475Z"
   },
   {
    "duration": 23,
    "start_time": "2023-04-14T13:37:49.633Z"
   },
   {
    "duration": 359,
    "start_time": "2023-04-14T13:37:49.659Z"
   },
   {
    "duration": 245,
    "start_time": "2023-04-14T13:37:50.038Z"
   },
   {
    "duration": 15,
    "start_time": "2023-04-14T13:37:50.285Z"
   },
   {
    "duration": 387,
    "start_time": "2023-04-14T13:37:50.301Z"
   },
   {
    "duration": 8,
    "start_time": "2023-04-14T13:37:50.690Z"
   },
   {
    "duration": 309,
    "start_time": "2023-04-14T13:37:50.700Z"
   },
   {
    "duration": 14,
    "start_time": "2023-04-14T13:37:51.013Z"
   },
   {
    "duration": 73,
    "start_time": "2023-04-14T13:37:51.028Z"
   },
   {
    "duration": 300,
    "start_time": "2023-04-14T13:37:51.103Z"
   },
   {
    "duration": 15,
    "start_time": "2023-04-14T13:37:51.405Z"
   },
   {
    "duration": 385,
    "start_time": "2023-04-14T13:37:51.422Z"
   },
   {
    "duration": 6,
    "start_time": "2023-04-14T13:39:43.170Z"
   },
   {
    "duration": 124,
    "start_time": "2023-04-14T13:40:27.191Z"
   },
   {
    "duration": 14,
    "start_time": "2023-04-14T13:40:42.255Z"
   },
   {
    "duration": 225,
    "start_time": "2023-04-14T13:40:49.711Z"
   },
   {
    "duration": 84,
    "start_time": "2023-04-14T13:41:05.809Z"
   },
   {
    "duration": 14,
    "start_time": "2023-04-14T13:41:12.289Z"
   },
   {
    "duration": 14,
    "start_time": "2023-04-14T13:41:17.745Z"
   },
   {
    "duration": 16,
    "start_time": "2023-04-14T13:41:32.551Z"
   },
   {
    "duration": 9,
    "start_time": "2023-04-14T13:42:18.134Z"
   },
   {
    "duration": 5,
    "start_time": "2023-04-14T13:42:26.096Z"
   },
   {
    "duration": 6,
    "start_time": "2023-04-14T13:42:48.986Z"
   },
   {
    "duration": 8,
    "start_time": "2023-04-14T13:44:00.923Z"
   },
   {
    "duration": 15,
    "start_time": "2023-04-14T13:45:37.903Z"
   },
   {
    "duration": 13,
    "start_time": "2023-04-14T13:45:56.492Z"
   },
   {
    "duration": 14,
    "start_time": "2023-04-14T13:46:29.432Z"
   },
   {
    "duration": 17,
    "start_time": "2023-04-14T13:47:07.364Z"
   },
   {
    "duration": 15,
    "start_time": "2023-04-14T13:47:14.984Z"
   },
   {
    "duration": 14,
    "start_time": "2023-04-14T13:47:48.212Z"
   },
   {
    "duration": 13,
    "start_time": "2023-04-14T13:48:03.839Z"
   },
   {
    "duration": 5,
    "start_time": "2023-04-14T13:49:56.294Z"
   },
   {
    "duration": 7,
    "start_time": "2023-04-14T13:55:07.887Z"
   },
   {
    "duration": 6,
    "start_time": "2023-04-14T13:55:39.591Z"
   },
   {
    "duration": 12,
    "start_time": "2023-04-14T13:58:52.575Z"
   },
   {
    "duration": 1564,
    "start_time": "2023-04-14T16:03:34.395Z"
   },
   {
    "duration": 93,
    "start_time": "2023-04-14T16:03:35.962Z"
   },
   {
    "duration": 5,
    "start_time": "2023-04-14T16:03:36.064Z"
   },
   {
    "duration": 49,
    "start_time": "2023-04-14T16:03:36.071Z"
   },
   {
    "duration": 8,
    "start_time": "2023-04-14T16:03:36.122Z"
   },
   {
    "duration": 7,
    "start_time": "2023-04-14T16:03:36.132Z"
   },
   {
    "duration": 19,
    "start_time": "2023-04-14T16:03:36.141Z"
   },
   {
    "duration": 27,
    "start_time": "2023-04-14T16:03:36.162Z"
   },
   {
    "duration": 28,
    "start_time": "2023-04-14T16:03:36.191Z"
   },
   {
    "duration": 77,
    "start_time": "2023-04-14T16:03:36.222Z"
   },
   {
    "duration": 30,
    "start_time": "2023-04-14T16:03:36.303Z"
   },
   {
    "duration": 7,
    "start_time": "2023-04-14T16:03:36.335Z"
   },
   {
    "duration": 14,
    "start_time": "2023-04-14T16:03:36.344Z"
   },
   {
    "duration": 7,
    "start_time": "2023-04-14T16:03:36.361Z"
   },
   {
    "duration": 54,
    "start_time": "2023-04-14T16:03:36.370Z"
   },
   {
    "duration": 5,
    "start_time": "2023-04-14T16:03:36.428Z"
   },
   {
    "duration": 9,
    "start_time": "2023-04-14T16:03:36.435Z"
   },
   {
    "duration": 13,
    "start_time": "2023-04-14T16:03:36.446Z"
   },
   {
    "duration": 10,
    "start_time": "2023-04-14T16:03:36.461Z"
   },
   {
    "duration": 77,
    "start_time": "2023-04-14T16:03:36.472Z"
   },
   {
    "duration": 24,
    "start_time": "2023-04-14T16:03:36.551Z"
   },
   {
    "duration": 6,
    "start_time": "2023-04-14T16:03:36.577Z"
   },
   {
    "duration": 32,
    "start_time": "2023-04-14T16:03:36.585Z"
   },
   {
    "duration": 14,
    "start_time": "2023-04-14T16:03:36.621Z"
   },
   {
    "duration": 198,
    "start_time": "2023-04-14T16:03:36.637Z"
   },
   {
    "duration": 147,
    "start_time": "2023-04-14T16:03:36.837Z"
   },
   {
    "duration": 25,
    "start_time": "2023-04-14T16:03:36.985Z"
   },
   {
    "duration": 375,
    "start_time": "2023-04-14T16:03:37.011Z"
   },
   {
    "duration": 269,
    "start_time": "2023-04-14T16:03:37.389Z"
   },
   {
    "duration": 12,
    "start_time": "2023-04-14T16:03:37.660Z"
   },
   {
    "duration": 421,
    "start_time": "2023-04-14T16:03:37.692Z"
   },
   {
    "duration": 7,
    "start_time": "2023-04-14T16:03:38.119Z"
   },
   {
    "duration": 278,
    "start_time": "2023-04-14T16:03:38.129Z"
   },
   {
    "duration": 15,
    "start_time": "2023-04-14T16:03:38.409Z"
   },
   {
    "duration": 4,
    "start_time": "2023-04-14T16:03:38.426Z"
   },
   {
    "duration": 290,
    "start_time": "2023-04-14T16:03:38.432Z"
   },
   {
    "duration": 15,
    "start_time": "2023-04-14T16:03:38.725Z"
   },
   {
    "duration": 337,
    "start_time": "2023-04-14T16:03:38.741Z"
   },
   {
    "duration": 11,
    "start_time": "2023-04-14T16:27:16.824Z"
   },
   {
    "duration": 15,
    "start_time": "2023-04-14T16:28:24.875Z"
   },
   {
    "duration": 13,
    "start_time": "2023-04-14T16:28:47.763Z"
   },
   {
    "duration": 9,
    "start_time": "2023-04-14T16:30:46.973Z"
   },
   {
    "duration": 11,
    "start_time": "2023-04-14T16:31:04.444Z"
   },
   {
    "duration": 5,
    "start_time": "2023-04-14T16:33:46.525Z"
   },
   {
    "duration": 5,
    "start_time": "2023-04-14T16:34:29.277Z"
   },
   {
    "duration": 1466,
    "start_time": "2023-04-15T04:08:37.012Z"
   },
   {
    "duration": 79,
    "start_time": "2023-04-15T04:08:38.480Z"
   },
   {
    "duration": 4,
    "start_time": "2023-04-15T04:08:38.561Z"
   },
   {
    "duration": 36,
    "start_time": "2023-04-15T04:08:38.567Z"
   },
   {
    "duration": 6,
    "start_time": "2023-04-15T04:08:38.605Z"
   },
   {
    "duration": 6,
    "start_time": "2023-04-15T04:08:38.612Z"
   },
   {
    "duration": 35,
    "start_time": "2023-04-15T04:08:38.619Z"
   },
   {
    "duration": 14,
    "start_time": "2023-04-15T04:08:38.657Z"
   },
   {
    "duration": 24,
    "start_time": "2023-04-15T04:08:38.672Z"
   },
   {
    "duration": 91,
    "start_time": "2023-04-15T04:08:38.698Z"
   },
   {
    "duration": 24,
    "start_time": "2023-04-15T04:08:38.791Z"
   },
   {
    "duration": 8,
    "start_time": "2023-04-15T04:08:38.817Z"
   },
   {
    "duration": 7,
    "start_time": "2023-04-15T04:08:38.827Z"
   },
   {
    "duration": 26,
    "start_time": "2023-04-15T04:08:38.836Z"
   },
   {
    "duration": 13,
    "start_time": "2023-04-15T04:08:38.864Z"
   },
   {
    "duration": 11,
    "start_time": "2023-04-15T04:08:38.879Z"
   },
   {
    "duration": 10,
    "start_time": "2023-04-15T04:08:38.891Z"
   },
   {
    "duration": 9,
    "start_time": "2023-04-15T04:08:38.902Z"
   },
   {
    "duration": 12,
    "start_time": "2023-04-15T04:08:38.913Z"
   },
   {
    "duration": 6,
    "start_time": "2023-04-15T04:08:38.927Z"
   },
   {
    "duration": 15,
    "start_time": "2023-04-15T04:08:38.935Z"
   },
   {
    "duration": 71,
    "start_time": "2023-04-15T04:08:38.952Z"
   },
   {
    "duration": 25,
    "start_time": "2023-04-15T04:08:39.025Z"
   },
   {
    "duration": 33,
    "start_time": "2023-04-15T04:08:39.052Z"
   },
   {
    "duration": 14,
    "start_time": "2023-04-15T04:08:39.087Z"
   },
   {
    "duration": 11,
    "start_time": "2023-04-15T04:08:39.103Z"
   },
   {
    "duration": 205,
    "start_time": "2023-04-15T04:08:39.116Z"
   },
   {
    "duration": 142,
    "start_time": "2023-04-15T04:08:39.325Z"
   },
   {
    "duration": 16,
    "start_time": "2023-04-15T04:08:39.469Z"
   },
   {
    "duration": 341,
    "start_time": "2023-04-15T04:08:39.486Z"
   },
   {
    "duration": 221,
    "start_time": "2023-04-15T04:08:39.828Z"
   },
   {
    "duration": 12,
    "start_time": "2023-04-15T04:08:40.053Z"
   },
   {
    "duration": 426,
    "start_time": "2023-04-15T04:08:40.068Z"
   },
   {
    "duration": 8,
    "start_time": "2023-04-15T04:08:40.495Z"
   },
   {
    "duration": 281,
    "start_time": "2023-04-15T04:08:40.504Z"
   },
   {
    "duration": 10,
    "start_time": "2023-04-15T04:08:40.786Z"
   },
   {
    "duration": 17,
    "start_time": "2023-04-15T04:08:40.798Z"
   },
   {
    "duration": 278,
    "start_time": "2023-04-15T04:08:40.817Z"
   },
   {
    "duration": 14,
    "start_time": "2023-04-15T04:08:41.096Z"
   },
   {
    "duration": 411,
    "start_time": "2023-04-15T04:08:41.112Z"
   },
   {
    "duration": 108,
    "start_time": "2023-04-15T04:19:02.089Z"
   },
   {
    "duration": 12,
    "start_time": "2023-04-15T04:19:17.261Z"
   },
   {
    "duration": 16,
    "start_time": "2023-04-15T04:20:04.391Z"
   },
   {
    "duration": 169,
    "start_time": "2023-04-15T04:21:17.834Z"
   },
   {
    "duration": 16,
    "start_time": "2023-04-15T04:21:34.094Z"
   },
   {
    "duration": 12,
    "start_time": "2023-04-15T04:24:28.154Z"
   },
   {
    "duration": 9,
    "start_time": "2023-04-15T04:26:18.018Z"
   },
   {
    "duration": 279,
    "start_time": "2023-04-15T04:26:28.332Z"
   },
   {
    "duration": 170,
    "start_time": "2023-04-15T04:26:55.456Z"
   },
   {
    "duration": 251,
    "start_time": "2023-04-15T04:27:04.487Z"
   },
   {
    "duration": 271,
    "start_time": "2023-04-15T04:30:00.505Z"
   },
   {
    "duration": 447,
    "start_time": "2023-04-15T04:30:29.619Z"
   },
   {
    "duration": 423,
    "start_time": "2023-04-15T04:30:45.104Z"
   },
   {
    "duration": 174,
    "start_time": "2023-04-15T04:35:08.282Z"
   },
   {
    "duration": 256,
    "start_time": "2023-04-15T04:38:13.523Z"
   },
   {
    "duration": 252,
    "start_time": "2023-04-15T04:39:49.596Z"
   },
   {
    "duration": 362,
    "start_time": "2023-04-15T04:40:58.968Z"
   },
   {
    "duration": 1296,
    "start_time": "2023-04-15T04:46:15.963Z"
   },
   {
    "duration": 48,
    "start_time": "2023-04-15T04:46:17.260Z"
   },
   {
    "duration": 5,
    "start_time": "2023-04-15T04:46:17.310Z"
   },
   {
    "duration": 60,
    "start_time": "2023-04-15T04:46:17.317Z"
   },
   {
    "duration": 21,
    "start_time": "2023-04-15T04:46:17.383Z"
   },
   {
    "duration": 11,
    "start_time": "2023-04-15T04:46:17.407Z"
   },
   {
    "duration": 22,
    "start_time": "2023-04-15T04:46:17.420Z"
   },
   {
    "duration": 50,
    "start_time": "2023-04-15T04:46:17.444Z"
   },
   {
    "duration": 15,
    "start_time": "2023-04-15T04:46:17.495Z"
   },
   {
    "duration": 80,
    "start_time": "2023-04-15T04:46:17.512Z"
   },
   {
    "duration": 28,
    "start_time": "2023-04-15T04:46:17.594Z"
   },
   {
    "duration": 8,
    "start_time": "2023-04-15T04:46:17.625Z"
   },
   {
    "duration": 66,
    "start_time": "2023-04-15T04:46:17.636Z"
   },
   {
    "duration": 11,
    "start_time": "2023-04-15T04:46:17.706Z"
   },
   {
    "duration": 70,
    "start_time": "2023-04-15T04:46:17.718Z"
   },
   {
    "duration": 14,
    "start_time": "2023-04-15T04:46:17.789Z"
   },
   {
    "duration": 10,
    "start_time": "2023-04-15T04:46:17.805Z"
   },
   {
    "duration": 20,
    "start_time": "2023-04-15T04:46:17.817Z"
   },
   {
    "duration": 50,
    "start_time": "2023-04-15T04:46:17.839Z"
   },
   {
    "duration": 16,
    "start_time": "2023-04-15T04:46:17.892Z"
   },
   {
    "duration": 10,
    "start_time": "2023-04-15T04:46:17.910Z"
   },
   {
    "duration": 44,
    "start_time": "2023-04-15T04:46:17.922Z"
   },
   {
    "duration": 48,
    "start_time": "2023-04-15T04:46:17.972Z"
   },
   {
    "duration": 25,
    "start_time": "2023-04-15T04:46:18.023Z"
   },
   {
    "duration": 449,
    "start_time": "2023-04-15T04:46:18.051Z"
   },
   {
    "duration": 5,
    "start_time": "2023-04-15T04:46:18.502Z"
   },
   {
    "duration": 14,
    "start_time": "2023-04-15T04:46:18.509Z"
   },
   {
    "duration": 43,
    "start_time": "2023-04-15T04:46:18.526Z"
   },
   {
    "duration": 179,
    "start_time": "2023-04-15T04:46:18.575Z"
   },
   {
    "duration": 156,
    "start_time": "2023-04-15T04:46:18.761Z"
   },
   {
    "duration": 47,
    "start_time": "2023-04-15T04:46:18.919Z"
   },
   {
    "duration": 320,
    "start_time": "2023-04-15T04:46:18.968Z"
   },
   {
    "duration": 291,
    "start_time": "2023-04-15T04:46:19.290Z"
   },
   {
    "duration": 12,
    "start_time": "2023-04-15T04:46:19.583Z"
   },
   {
    "duration": 391,
    "start_time": "2023-04-15T04:46:19.597Z"
   },
   {
    "duration": 6,
    "start_time": "2023-04-15T04:46:19.990Z"
   },
   {
    "duration": 275,
    "start_time": "2023-04-15T04:46:19.997Z"
   },
   {
    "duration": 12,
    "start_time": "2023-04-15T04:46:20.274Z"
   },
   {
    "duration": 11,
    "start_time": "2023-04-15T04:46:20.288Z"
   },
   {
    "duration": 292,
    "start_time": "2023-04-15T04:46:20.301Z"
   },
   {
    "duration": 17,
    "start_time": "2023-04-15T04:46:20.598Z"
   },
   {
    "duration": 399,
    "start_time": "2023-04-15T04:46:20.617Z"
   },
   {
    "duration": 328,
    "start_time": "2023-04-15T04:48:02.078Z"
   },
   {
    "duration": 5,
    "start_time": "2023-04-15T05:00:24.164Z"
   },
   {
    "duration": 5,
    "start_time": "2023-04-15T05:00:59.911Z"
   },
   {
    "duration": 383,
    "start_time": "2023-04-15T05:05:32.028Z"
   },
   {
    "duration": 259,
    "start_time": "2023-04-15T05:06:12.928Z"
   },
   {
    "duration": 269,
    "start_time": "2023-04-15T05:06:32.259Z"
   },
   {
    "duration": 8,
    "start_time": "2023-04-15T05:07:03.680Z"
   },
   {
    "duration": 5,
    "start_time": "2023-04-15T05:07:13.213Z"
   },
   {
    "duration": 11,
    "start_time": "2023-04-15T05:07:27.075Z"
   },
   {
    "duration": 12,
    "start_time": "2023-04-15T05:07:59.509Z"
   },
   {
    "duration": 33,
    "start_time": "2023-04-15T05:08:18.430Z"
   },
   {
    "duration": 8,
    "start_time": "2023-04-15T05:09:15.000Z"
   },
   {
    "duration": 4,
    "start_time": "2023-04-15T05:09:51.915Z"
   },
   {
    "duration": 238,
    "start_time": "2023-04-15T05:10:06.952Z"
   },
   {
    "duration": 387,
    "start_time": "2023-04-15T05:10:17.715Z"
   },
   {
    "duration": 242,
    "start_time": "2023-04-15T05:10:45.587Z"
   },
   {
    "duration": 388,
    "start_time": "2023-04-15T05:11:01.066Z"
   },
   {
    "duration": 339,
    "start_time": "2023-04-15T05:11:21.068Z"
   },
   {
    "duration": 376,
    "start_time": "2023-04-15T05:11:41.514Z"
   },
   {
    "duration": 385,
    "start_time": "2023-04-15T05:11:54.484Z"
   },
   {
    "duration": 434,
    "start_time": "2023-04-15T05:12:13.069Z"
   },
   {
    "duration": 435,
    "start_time": "2023-04-15T05:12:33.589Z"
   },
   {
    "duration": 16,
    "start_time": "2023-04-15T07:29:54.235Z"
   },
   {
    "duration": 9,
    "start_time": "2023-04-15T07:30:33.660Z"
   },
   {
    "duration": 12,
    "start_time": "2023-04-15T07:31:22.317Z"
   },
   {
    "duration": 13,
    "start_time": "2023-04-15T07:31:43.414Z"
   },
   {
    "duration": 10,
    "start_time": "2023-04-15T07:31:52.388Z"
   },
   {
    "duration": 163,
    "start_time": "2023-04-15T07:32:24.627Z"
   },
   {
    "duration": 132,
    "start_time": "2023-04-15T07:32:33.390Z"
   },
   {
    "duration": 109,
    "start_time": "2023-04-15T07:32:39.441Z"
   },
   {
    "duration": 1188,
    "start_time": "2023-04-15T07:32:59.727Z"
   },
   {
    "duration": 9,
    "start_time": "2023-04-15T07:33:42.356Z"
   },
   {
    "duration": 10,
    "start_time": "2023-04-15T07:33:51.024Z"
   },
   {
    "duration": 8,
    "start_time": "2023-04-15T07:34:27.539Z"
   },
   {
    "duration": 162,
    "start_time": "2023-04-15T07:36:04.606Z"
   },
   {
    "duration": 114,
    "start_time": "2023-04-15T07:41:19.485Z"
   },
   {
    "duration": 8,
    "start_time": "2023-04-15T07:42:44.812Z"
   },
   {
    "duration": 6,
    "start_time": "2023-04-15T07:43:18.834Z"
   },
   {
    "duration": 1240,
    "start_time": "2023-04-15T07:48:29.254Z"
   },
   {
    "duration": 28,
    "start_time": "2023-04-15T07:48:30.496Z"
   },
   {
    "duration": 27,
    "start_time": "2023-04-15T07:48:30.525Z"
   },
   {
    "duration": 76,
    "start_time": "2023-04-15T07:48:30.555Z"
   },
   {
    "duration": 58,
    "start_time": "2023-04-15T07:48:30.633Z"
   },
   {
    "duration": 99,
    "start_time": "2023-04-15T07:48:30.693Z"
   },
   {
    "duration": 84,
    "start_time": "2023-04-15T07:48:30.794Z"
   },
   {
    "duration": 80,
    "start_time": "2023-04-15T07:48:30.880Z"
   },
   {
    "duration": 65,
    "start_time": "2023-04-15T07:48:30.962Z"
   },
   {
    "duration": 86,
    "start_time": "2023-04-15T07:48:31.030Z"
   },
   {
    "duration": 43,
    "start_time": "2023-04-15T07:48:31.118Z"
   },
   {
    "duration": 55,
    "start_time": "2023-04-15T07:48:31.163Z"
   },
   {
    "duration": 61,
    "start_time": "2023-04-15T07:48:31.219Z"
   },
   {
    "duration": 28,
    "start_time": "2023-04-15T07:48:31.282Z"
   },
   {
    "duration": 44,
    "start_time": "2023-04-15T07:48:31.312Z"
   },
   {
    "duration": 37,
    "start_time": "2023-04-15T07:48:31.357Z"
   },
   {
    "duration": 81,
    "start_time": "2023-04-15T07:48:31.396Z"
   },
   {
    "duration": 49,
    "start_time": "2023-04-15T07:48:31.478Z"
   },
   {
    "duration": 38,
    "start_time": "2023-04-15T07:48:31.528Z"
   },
   {
    "duration": 32,
    "start_time": "2023-04-15T07:48:31.568Z"
   },
   {
    "duration": 37,
    "start_time": "2023-04-15T07:48:31.602Z"
   },
   {
    "duration": 58,
    "start_time": "2023-04-15T07:48:31.642Z"
   },
   {
    "duration": 51,
    "start_time": "2023-04-15T07:48:31.701Z"
   },
   {
    "duration": 44,
    "start_time": "2023-04-15T07:48:31.754Z"
   },
   {
    "duration": 17,
    "start_time": "2023-04-15T07:48:31.799Z"
   },
   {
    "duration": 497,
    "start_time": "2023-04-15T07:48:31.818Z"
   },
   {
    "duration": 5,
    "start_time": "2023-04-15T07:48:32.317Z"
   },
   {
    "duration": 5,
    "start_time": "2023-04-15T07:48:32.325Z"
   },
   {
    "duration": 22,
    "start_time": "2023-04-15T07:48:32.331Z"
   },
   {
    "duration": 15,
    "start_time": "2023-04-15T07:48:32.355Z"
   },
   {
    "duration": 188,
    "start_time": "2023-04-15T07:48:32.372Z"
   },
   {
    "duration": 151,
    "start_time": "2023-04-15T07:48:32.562Z"
   },
   {
    "duration": 27,
    "start_time": "2023-04-15T07:48:32.715Z"
   },
   {
    "duration": 349,
    "start_time": "2023-04-15T07:48:32.744Z"
   },
   {
    "duration": 246,
    "start_time": "2023-04-15T07:48:33.095Z"
   },
   {
    "duration": 14,
    "start_time": "2023-04-15T07:48:33.343Z"
   },
   {
    "duration": 324,
    "start_time": "2023-04-15T07:48:33.359Z"
   },
   {
    "duration": 6,
    "start_time": "2023-04-15T07:48:33.685Z"
   },
   {
    "duration": 227,
    "start_time": "2023-04-15T07:48:33.693Z"
   },
   {
    "duration": 26,
    "start_time": "2023-04-15T07:48:33.921Z"
   },
   {
    "duration": 17,
    "start_time": "2023-04-15T07:48:33.951Z"
   },
   {
    "duration": 225,
    "start_time": "2023-04-15T07:48:33.970Z"
   },
   {
    "duration": 12,
    "start_time": "2023-04-15T07:48:34.197Z"
   },
   {
    "duration": 364,
    "start_time": "2023-04-15T07:48:34.210Z"
   },
   {
    "duration": 11,
    "start_time": "2023-04-15T07:48:34.575Z"
   },
   {
    "duration": 261,
    "start_time": "2023-04-15T07:48:34.587Z"
   },
   {
    "duration": 7,
    "start_time": "2023-04-15T07:48:34.851Z"
   },
   {
    "duration": 11,
    "start_time": "2023-04-15T07:49:19.598Z"
   },
   {
    "duration": 132,
    "start_time": "2023-04-15T07:49:38.683Z"
   },
   {
    "duration": 1454,
    "start_time": "2023-04-15T17:03:56.203Z"
   },
   {
    "duration": 60,
    "start_time": "2023-04-15T17:03:57.660Z"
   },
   {
    "duration": 4,
    "start_time": "2023-04-15T17:03:57.722Z"
   },
   {
    "duration": 35,
    "start_time": "2023-04-15T17:03:57.728Z"
   },
   {
    "duration": 6,
    "start_time": "2023-04-15T17:03:57.766Z"
   },
   {
    "duration": 8,
    "start_time": "2023-04-15T17:03:57.774Z"
   },
   {
    "duration": 17,
    "start_time": "2023-04-15T17:03:57.784Z"
   },
   {
    "duration": 20,
    "start_time": "2023-04-15T17:03:57.803Z"
   },
   {
    "duration": 17,
    "start_time": "2023-04-15T17:03:57.826Z"
   },
   {
    "duration": 73,
    "start_time": "2023-04-15T17:03:57.845Z"
   },
   {
    "duration": 26,
    "start_time": "2023-04-15T17:03:57.920Z"
   },
   {
    "duration": 5,
    "start_time": "2023-04-15T17:03:57.948Z"
   },
   {
    "duration": 7,
    "start_time": "2023-04-15T17:03:57.955Z"
   },
   {
    "duration": 5,
    "start_time": "2023-04-15T17:03:57.966Z"
   },
   {
    "duration": 8,
    "start_time": "2023-04-15T17:03:57.972Z"
   },
   {
    "duration": 35,
    "start_time": "2023-04-15T17:03:57.982Z"
   },
   {
    "duration": 5,
    "start_time": "2023-04-15T17:03:58.019Z"
   },
   {
    "duration": 5,
    "start_time": "2023-04-15T17:03:58.026Z"
   },
   {
    "duration": 10,
    "start_time": "2023-04-15T17:03:58.033Z"
   },
   {
    "duration": 4,
    "start_time": "2023-04-15T17:03:58.045Z"
   },
   {
    "duration": 16,
    "start_time": "2023-04-15T17:03:58.051Z"
   },
   {
    "duration": 9,
    "start_time": "2023-04-15T17:03:58.069Z"
   },
   {
    "duration": 43,
    "start_time": "2023-04-15T17:03:58.079Z"
   },
   {
    "duration": 59,
    "start_time": "2023-04-15T17:03:58.124Z"
   },
   {
    "duration": 20,
    "start_time": "2023-04-15T17:03:58.185Z"
   },
   {
    "duration": 554,
    "start_time": "2023-04-15T17:03:58.206Z"
   },
   {
    "duration": 5,
    "start_time": "2023-04-15T17:03:58.762Z"
   },
   {
    "duration": 7,
    "start_time": "2023-04-15T17:03:58.769Z"
   },
   {
    "duration": 6,
    "start_time": "2023-04-15T17:03:58.777Z"
   },
   {
    "duration": 15,
    "start_time": "2023-04-15T17:03:58.785Z"
   },
   {
    "duration": 222,
    "start_time": "2023-04-15T17:03:58.803Z"
   },
   {
    "duration": 170,
    "start_time": "2023-04-15T17:03:59.027Z"
   },
   {
    "duration": 23,
    "start_time": "2023-04-15T17:03:59.199Z"
   },
   {
    "duration": 302,
    "start_time": "2023-04-15T17:03:59.224Z"
   },
   {
    "duration": 228,
    "start_time": "2023-04-15T17:03:59.528Z"
   },
   {
    "duration": 10,
    "start_time": "2023-04-15T17:03:59.758Z"
   },
   {
    "duration": 327,
    "start_time": "2023-04-15T17:03:59.770Z"
   },
   {
    "duration": 15,
    "start_time": "2023-04-15T17:04:00.098Z"
   },
   {
    "duration": 258,
    "start_time": "2023-04-15T17:04:00.115Z"
   },
   {
    "duration": 10,
    "start_time": "2023-04-15T17:04:00.375Z"
   },
   {
    "duration": 32,
    "start_time": "2023-04-15T17:04:00.389Z"
   },
   {
    "duration": 262,
    "start_time": "2023-04-15T17:04:00.423Z"
   },
   {
    "duration": 29,
    "start_time": "2023-04-15T17:04:00.688Z"
   },
   {
    "duration": 433,
    "start_time": "2023-04-15T17:04:00.720Z"
   },
   {
    "duration": 13,
    "start_time": "2023-04-15T17:04:01.155Z"
   },
   {
    "duration": 136,
    "start_time": "2023-04-15T17:04:01.170Z"
   },
   {
    "duration": 6,
    "start_time": "2023-04-15T17:04:01.312Z"
   },
   {
    "duration": 12,
    "start_time": "2023-04-15T17:05:52.696Z"
   },
   {
    "duration": 102,
    "start_time": "2023-04-15T17:06:12.400Z"
   },
   {
    "duration": 5,
    "start_time": "2023-04-15T17:06:31.930Z"
   },
   {
    "duration": 190,
    "start_time": "2023-04-15T17:07:22.758Z"
   },
   {
    "duration": 180,
    "start_time": "2023-04-15T17:08:00.422Z"
   },
   {
    "duration": 199,
    "start_time": "2023-04-15T17:08:25.926Z"
   },
   {
    "duration": 163,
    "start_time": "2023-04-15T17:10:20.415Z"
   },
   {
    "duration": 164,
    "start_time": "2023-04-15T17:11:08.730Z"
   },
   {
    "duration": 141,
    "start_time": "2023-04-15T17:11:39.842Z"
   },
   {
    "duration": 148,
    "start_time": "2023-04-15T17:12:10.352Z"
   },
   {
    "duration": 11,
    "start_time": "2023-04-15T17:13:27.518Z"
   },
   {
    "duration": 165,
    "start_time": "2023-04-15T17:14:17.403Z"
   },
   {
    "duration": 5,
    "start_time": "2023-04-15T17:15:16.623Z"
   },
   {
    "duration": 135,
    "start_time": "2023-04-15T17:18:08.620Z"
   },
   {
    "duration": 10,
    "start_time": "2023-04-15T17:18:52.823Z"
   },
   {
    "duration": 9,
    "start_time": "2023-04-15T17:19:19.358Z"
   },
   {
    "duration": 8,
    "start_time": "2023-04-15T17:20:09.957Z"
   },
   {
    "duration": 5,
    "start_time": "2023-04-15T17:20:38.551Z"
   },
   {
    "duration": 6,
    "start_time": "2023-04-15T17:24:52.742Z"
   },
   {
    "duration": 9,
    "start_time": "2023-04-15T17:27:11.379Z"
   },
   {
    "duration": 125,
    "start_time": "2023-04-15T17:27:57.325Z"
   },
   {
    "duration": 129,
    "start_time": "2023-04-15T17:29:26.544Z"
   },
   {
    "duration": 245,
    "start_time": "2023-04-15T17:36:00.813Z"
   },
   {
    "duration": 162,
    "start_time": "2023-04-15T17:36:12.151Z"
   },
   {
    "duration": 6,
    "start_time": "2023-04-15T17:37:32.014Z"
   },
   {
    "duration": 158,
    "start_time": "2023-04-15T17:38:57.155Z"
   },
   {
    "duration": 5,
    "start_time": "2023-04-15T17:39:34.927Z"
   },
   {
    "duration": 9,
    "start_time": "2023-04-15T17:40:16.319Z"
   },
   {
    "duration": 4,
    "start_time": "2023-04-15T17:43:50.571Z"
   },
   {
    "duration": 1204,
    "start_time": "2023-04-15T17:46:16.730Z"
   },
   {
    "duration": 24,
    "start_time": "2023-04-15T17:46:17.936Z"
   },
   {
    "duration": 3,
    "start_time": "2023-04-15T17:46:17.962Z"
   },
   {
    "duration": 33,
    "start_time": "2023-04-15T17:46:17.967Z"
   },
   {
    "duration": 6,
    "start_time": "2023-04-15T17:46:18.002Z"
   },
   {
    "duration": 6,
    "start_time": "2023-04-15T17:46:18.009Z"
   },
   {
    "duration": 15,
    "start_time": "2023-04-15T17:46:18.017Z"
   },
   {
    "duration": 13,
    "start_time": "2023-04-15T17:46:18.034Z"
   },
   {
    "duration": 32,
    "start_time": "2023-04-15T17:46:18.048Z"
   },
   {
    "duration": 38,
    "start_time": "2023-04-15T17:46:18.082Z"
   },
   {
    "duration": 27,
    "start_time": "2023-04-15T17:46:18.122Z"
   },
   {
    "duration": 6,
    "start_time": "2023-04-15T17:46:18.151Z"
   },
   {
    "duration": 7,
    "start_time": "2023-04-15T17:46:18.158Z"
   },
   {
    "duration": 4,
    "start_time": "2023-04-15T17:46:18.168Z"
   },
   {
    "duration": 11,
    "start_time": "2023-04-15T17:46:18.174Z"
   },
   {
    "duration": 5,
    "start_time": "2023-04-15T17:46:18.187Z"
   },
   {
    "duration": 6,
    "start_time": "2023-04-15T17:46:18.212Z"
   },
   {
    "duration": 8,
    "start_time": "2023-04-15T17:46:18.220Z"
   },
   {
    "duration": 30,
    "start_time": "2023-04-15T17:46:18.230Z"
   },
   {
    "duration": 4,
    "start_time": "2023-04-15T17:46:18.262Z"
   },
   {
    "duration": 9,
    "start_time": "2023-04-15T17:46:18.268Z"
   },
   {
    "duration": 5,
    "start_time": "2023-04-15T17:46:18.279Z"
   },
   {
    "duration": 37,
    "start_time": "2023-04-15T17:46:18.286Z"
   },
   {
    "duration": 15,
    "start_time": "2023-04-15T17:46:18.325Z"
   },
   {
    "duration": 21,
    "start_time": "2023-04-15T17:46:18.341Z"
   },
   {
    "duration": 522,
    "start_time": "2023-04-15T17:46:18.363Z"
   },
   {
    "duration": 5,
    "start_time": "2023-04-15T17:46:18.887Z"
   },
   {
    "duration": 8,
    "start_time": "2023-04-15T17:46:18.893Z"
   },
   {
    "duration": 6,
    "start_time": "2023-04-15T17:46:18.903Z"
   },
   {
    "duration": 14,
    "start_time": "2023-04-15T17:46:18.912Z"
   },
   {
    "duration": 243,
    "start_time": "2023-04-15T17:46:18.928Z"
   },
   {
    "duration": 145,
    "start_time": "2023-04-15T17:46:19.173Z"
   },
   {
    "duration": 12,
    "start_time": "2023-04-15T17:46:19.320Z"
   },
   {
    "duration": 307,
    "start_time": "2023-04-15T17:46:19.334Z"
   },
   {
    "duration": 225,
    "start_time": "2023-04-15T17:46:19.643Z"
   },
   {
    "duration": 12,
    "start_time": "2023-04-15T17:46:19.869Z"
   },
   {
    "duration": 361,
    "start_time": "2023-04-15T17:46:19.884Z"
   },
   {
    "duration": 7,
    "start_time": "2023-04-15T17:46:20.247Z"
   },
   {
    "duration": 262,
    "start_time": "2023-04-15T17:46:20.256Z"
   },
   {
    "duration": 11,
    "start_time": "2023-04-15T17:46:20.520Z"
   },
   {
    "duration": 18,
    "start_time": "2023-04-15T17:46:20.536Z"
   },
   {
    "duration": 245,
    "start_time": "2023-04-15T17:46:20.556Z"
   },
   {
    "duration": 18,
    "start_time": "2023-04-15T17:46:20.803Z"
   },
   {
    "duration": 440,
    "start_time": "2023-04-15T17:46:20.822Z"
   },
   {
    "duration": 12,
    "start_time": "2023-04-15T17:46:21.264Z"
   },
   {
    "duration": 5,
    "start_time": "2023-04-15T17:46:21.278Z"
   },
   {
    "duration": 163,
    "start_time": "2023-04-15T17:46:21.284Z"
   },
   {
    "duration": 5,
    "start_time": "2023-04-15T17:46:21.449Z"
   },
   {
    "duration": 11,
    "start_time": "2023-04-15T17:46:21.456Z"
   },
   {
    "duration": 184,
    "start_time": "2023-04-15T17:46:21.469Z"
   },
   {
    "duration": 5,
    "start_time": "2023-04-15T17:46:21.655Z"
   },
   {
    "duration": 9,
    "start_time": "2023-04-15T17:46:21.662Z"
   },
   {
    "duration": 163,
    "start_time": "2023-04-15T17:46:21.673Z"
   },
   {
    "duration": 9,
    "start_time": "2023-04-15T17:46:21.838Z"
   },
   {
    "duration": 20,
    "start_time": "2023-04-15T17:46:21.848Z"
   },
   {
    "duration": 102,
    "start_time": "2023-04-15T17:48:54.627Z"
   },
   {
    "duration": 13,
    "start_time": "2023-04-15T17:49:21.250Z"
   },
   {
    "duration": 11,
    "start_time": "2023-04-15T17:49:38.141Z"
   },
   {
    "duration": 11,
    "start_time": "2023-04-15T17:49:46.084Z"
   },
   {
    "duration": 12,
    "start_time": "2023-04-15T17:58:29.821Z"
   },
   {
    "duration": 160,
    "start_time": "2023-04-15T18:10:06.727Z"
   },
   {
    "duration": 187,
    "start_time": "2023-04-15T18:10:33.750Z"
   },
   {
    "duration": 164,
    "start_time": "2023-04-15T18:10:42.119Z"
   },
   {
    "duration": 152,
    "start_time": "2023-04-15T18:12:15.055Z"
   },
   {
    "duration": 186,
    "start_time": "2023-04-15T18:12:30.519Z"
   },
   {
    "duration": 169,
    "start_time": "2023-04-15T18:15:58.068Z"
   },
   {
    "duration": 170,
    "start_time": "2023-04-15T18:16:20.806Z"
   },
   {
    "duration": 191,
    "start_time": "2023-04-15T18:16:34.094Z"
   },
   {
    "duration": 262,
    "start_time": "2023-04-15T18:17:01.746Z"
   },
   {
    "duration": 154,
    "start_time": "2023-04-15T18:17:47.486Z"
   },
   {
    "duration": 164,
    "start_time": "2023-04-15T18:20:15.950Z"
   },
   {
    "duration": 166,
    "start_time": "2023-04-15T18:20:39.225Z"
   },
   {
    "duration": 127,
    "start_time": "2023-04-15T18:25:21.853Z"
   },
   {
    "duration": 131,
    "start_time": "2023-04-15T18:25:33.634Z"
   },
   {
    "duration": 5,
    "start_time": "2023-04-15T18:36:28.131Z"
   },
   {
    "duration": 5,
    "start_time": "2023-04-15T18:36:36.447Z"
   },
   {
    "duration": 4,
    "start_time": "2023-04-15T18:36:42.050Z"
   },
   {
    "duration": 6,
    "start_time": "2023-04-15T18:38:14.853Z"
   },
   {
    "duration": 6,
    "start_time": "2023-04-15T18:38:28.517Z"
   },
   {
    "duration": 9,
    "start_time": "2023-04-15T18:56:54.966Z"
   },
   {
    "duration": 1284,
    "start_time": "2023-04-16T11:00:57.127Z"
   },
   {
    "duration": 91,
    "start_time": "2023-04-16T11:00:58.413Z"
   },
   {
    "duration": 4,
    "start_time": "2023-04-16T11:00:58.506Z"
   },
   {
    "duration": 27,
    "start_time": "2023-04-16T11:00:58.512Z"
   },
   {
    "duration": 7,
    "start_time": "2023-04-16T11:00:58.541Z"
   },
   {
    "duration": 17,
    "start_time": "2023-04-16T11:00:58.550Z"
   },
   {
    "duration": 41,
    "start_time": "2023-04-16T11:00:58.569Z"
   },
   {
    "duration": 12,
    "start_time": "2023-04-16T11:00:58.611Z"
   },
   {
    "duration": 21,
    "start_time": "2023-04-16T11:00:58.624Z"
   },
   {
    "duration": 100,
    "start_time": "2023-04-16T11:00:58.648Z"
   },
   {
    "duration": 28,
    "start_time": "2023-04-16T11:00:58.749Z"
   },
   {
    "duration": 8,
    "start_time": "2023-04-16T11:00:58.785Z"
   },
   {
    "duration": 12,
    "start_time": "2023-04-16T11:00:58.794Z"
   },
   {
    "duration": 11,
    "start_time": "2023-04-16T11:00:58.807Z"
   },
   {
    "duration": 13,
    "start_time": "2023-04-16T11:00:58.819Z"
   },
   {
    "duration": 28,
    "start_time": "2023-04-16T11:00:58.833Z"
   },
   {
    "duration": 25,
    "start_time": "2023-04-16T11:00:58.863Z"
   },
   {
    "duration": 9,
    "start_time": "2023-04-16T11:00:58.890Z"
   },
   {
    "duration": 10,
    "start_time": "2023-04-16T11:00:58.900Z"
   },
   {
    "duration": 5,
    "start_time": "2023-04-16T11:00:58.912Z"
   },
   {
    "duration": 7,
    "start_time": "2023-04-16T11:00:58.919Z"
   },
   {
    "duration": 16,
    "start_time": "2023-04-16T11:00:58.927Z"
   },
   {
    "duration": 24,
    "start_time": "2023-04-16T11:00:58.945Z"
   },
   {
    "duration": 98,
    "start_time": "2023-04-16T11:00:58.971Z"
   },
   {
    "duration": 26,
    "start_time": "2023-04-16T11:00:59.071Z"
   },
   {
    "duration": 496,
    "start_time": "2023-04-16T11:00:59.098Z"
   },
   {
    "duration": 5,
    "start_time": "2023-04-16T11:00:59.596Z"
   },
   {
    "duration": 10,
    "start_time": "2023-04-16T11:00:59.604Z"
   },
   {
    "duration": 13,
    "start_time": "2023-04-16T11:00:59.616Z"
   },
   {
    "duration": 21,
    "start_time": "2023-04-16T11:00:59.630Z"
   },
   {
    "duration": 172,
    "start_time": "2023-04-16T11:00:59.653Z"
   },
   {
    "duration": 114,
    "start_time": "2023-04-16T11:00:59.827Z"
   },
   {
    "duration": 11,
    "start_time": "2023-04-16T11:00:59.943Z"
   },
   {
    "duration": 269,
    "start_time": "2023-04-16T11:00:59.973Z"
   },
   {
    "duration": 204,
    "start_time": "2023-04-16T11:01:00.243Z"
   },
   {
    "duration": 10,
    "start_time": "2023-04-16T11:01:00.448Z"
   },
   {
    "duration": 343,
    "start_time": "2023-04-16T11:01:00.459Z"
   },
   {
    "duration": 7,
    "start_time": "2023-04-16T11:01:00.804Z"
   },
   {
    "duration": 237,
    "start_time": "2023-04-16T11:01:00.813Z"
   },
   {
    "duration": 16,
    "start_time": "2023-04-16T11:01:01.051Z"
   },
   {
    "duration": 71,
    "start_time": "2023-04-16T11:01:01.070Z"
   },
   {
    "duration": 253,
    "start_time": "2023-04-16T11:01:01.143Z"
   },
   {
    "duration": 13,
    "start_time": "2023-04-16T11:01:01.398Z"
   },
   {
    "duration": 401,
    "start_time": "2023-04-16T11:01:01.413Z"
   },
   {
    "duration": 12,
    "start_time": "2023-04-16T11:01:01.816Z"
   },
   {
    "duration": 122,
    "start_time": "2023-04-16T11:01:01.830Z"
   },
   {
    "duration": 186,
    "start_time": "2023-04-16T11:01:01.954Z"
   },
   {
    "duration": 9,
    "start_time": "2023-04-16T11:01:02.142Z"
   },
   {
    "duration": 140,
    "start_time": "2023-04-16T11:01:02.152Z"
   },
   {
    "duration": 4,
    "start_time": "2023-04-16T11:01:02.294Z"
   },
   {
    "duration": 38,
    "start_time": "2023-04-16T11:01:02.300Z"
   },
   {
    "duration": 184,
    "start_time": "2023-04-16T11:01:02.340Z"
   },
   {
    "duration": 8,
    "start_time": "2023-04-16T11:01:02.525Z"
   },
   {
    "duration": 15,
    "start_time": "2023-04-16T11:01:02.535Z"
   },
   {
    "duration": 26,
    "start_time": "2023-04-16T11:01:02.551Z"
   },
   {
    "duration": 102,
    "start_time": "2023-04-16T11:01:02.590Z"
   },
   {
    "duration": 12,
    "start_time": "2023-04-16T11:21:01.299Z"
   },
   {
    "duration": 50,
    "start_time": "2023-04-16T11:22:00.796Z"
   },
   {
    "duration": 60,
    "start_time": "2023-04-16T11:22:18.538Z"
   },
   {
    "duration": 9,
    "start_time": "2023-04-16T11:26:30.313Z"
   },
   {
    "duration": 45,
    "start_time": "2023-04-16T11:28:03.911Z"
   },
   {
    "duration": 107,
    "start_time": "2023-04-16T11:31:15.835Z"
   },
   {
    "duration": 9,
    "start_time": "2023-04-16T11:31:58.335Z"
   },
   {
    "duration": 17,
    "start_time": "2023-04-16T11:32:29.805Z"
   },
   {
    "duration": 17,
    "start_time": "2023-04-16T11:32:55.637Z"
   },
   {
    "duration": 44,
    "start_time": "2023-04-16T11:35:02.094Z"
   },
   {
    "duration": 46,
    "start_time": "2023-04-16T11:35:28.101Z"
   },
   {
    "duration": 17,
    "start_time": "2023-04-16T11:37:45.789Z"
   },
   {
    "duration": 17,
    "start_time": "2023-04-16T11:37:57.739Z"
   },
   {
    "duration": 48,
    "start_time": "2023-04-16T11:38:58.722Z"
   },
   {
    "duration": 20,
    "start_time": "2023-04-16T11:40:59.393Z"
   },
   {
    "duration": 29,
    "start_time": "2023-04-16T11:41:14.641Z"
   },
   {
    "duration": 8,
    "start_time": "2023-04-16T11:45:41.634Z"
   },
   {
    "duration": 480,
    "start_time": "2023-04-16T11:46:10.920Z"
   },
   {
    "duration": 86,
    "start_time": "2023-04-16T11:47:23.308Z"
   },
   {
    "duration": 73,
    "start_time": "2023-04-16T11:49:08.797Z"
   },
   {
    "duration": 79,
    "start_time": "2023-04-16T11:52:01.390Z"
   },
   {
    "duration": 83,
    "start_time": "2023-04-16T11:52:18.702Z"
   },
   {
    "duration": 1313,
    "start_time": "2023-04-16T11:53:26.306Z"
   },
   {
    "duration": 7,
    "start_time": "2023-04-16T11:54:30.044Z"
   },
   {
    "duration": 9,
    "start_time": "2023-04-16T11:54:38.388Z"
   },
   {
    "duration": 17,
    "start_time": "2023-04-16T11:54:58.570Z"
   },
   {
    "duration": 6,
    "start_time": "2023-04-16T11:58:07.799Z"
   },
   {
    "duration": 34,
    "start_time": "2023-04-16T12:03:54.217Z"
   },
   {
    "duration": 38,
    "start_time": "2023-04-16T12:04:15.391Z"
   },
   {
    "duration": 22,
    "start_time": "2023-04-16T12:06:07.191Z"
   },
   {
    "duration": 21,
    "start_time": "2023-04-16T12:06:38.696Z"
   },
   {
    "duration": 38,
    "start_time": "2023-04-16T12:12:34.299Z"
   },
   {
    "duration": 6,
    "start_time": "2023-04-16T12:16:00.468Z"
   },
   {
    "duration": 14,
    "start_time": "2023-04-16T12:27:02.302Z"
   },
   {
    "duration": 23,
    "start_time": "2023-04-16T12:28:19.370Z"
   },
   {
    "duration": 39,
    "start_time": "2023-04-16T12:28:28.715Z"
   },
   {
    "duration": 7,
    "start_time": "2023-04-16T12:28:38.995Z"
   },
   {
    "duration": 9,
    "start_time": "2023-04-16T12:54:42.626Z"
   },
   {
    "duration": 12,
    "start_time": "2023-04-16T12:59:28.705Z"
   },
   {
    "duration": 7,
    "start_time": "2023-04-16T12:59:47.107Z"
   },
   {
    "duration": 19,
    "start_time": "2023-04-16T13:01:27.959Z"
   },
   {
    "duration": 13,
    "start_time": "2023-04-16T13:01:37.068Z"
   },
   {
    "duration": 4,
    "start_time": "2023-04-16T13:02:17.722Z"
   },
   {
    "duration": 2133,
    "start_time": "2023-04-16T13:12:02.995Z"
   },
   {
    "duration": 5,
    "start_time": "2023-04-16T13:12:25.795Z"
   },
   {
    "duration": 9,
    "start_time": "2023-04-16T13:12:39.096Z"
   },
   {
    "duration": 8,
    "start_time": "2023-04-16T13:13:13.010Z"
   },
   {
    "duration": 10,
    "start_time": "2023-04-16T13:13:15.653Z"
   },
   {
    "duration": 35,
    "start_time": "2023-04-16T13:14:53.701Z"
   },
   {
    "duration": 5,
    "start_time": "2023-04-16T13:15:49.902Z"
   },
   {
    "duration": 1319,
    "start_time": "2023-04-16T13:25:35.741Z"
   },
   {
    "duration": 10,
    "start_time": "2023-04-16T13:26:32.449Z"
   },
   {
    "duration": 11,
    "start_time": "2023-04-16T13:27:02.088Z"
   },
   {
    "duration": 7,
    "start_time": "2023-04-16T13:28:38.994Z"
   },
   {
    "duration": 3221,
    "start_time": "2023-04-16T13:40:01.809Z"
   },
   {
    "duration": 28,
    "start_time": "2023-04-16T13:40:05.033Z"
   },
   {
    "duration": 5,
    "start_time": "2023-04-16T13:40:05.062Z"
   },
   {
    "duration": 35,
    "start_time": "2023-04-16T13:40:05.069Z"
   },
   {
    "duration": 7,
    "start_time": "2023-04-16T13:40:05.107Z"
   },
   {
    "duration": 27,
    "start_time": "2023-04-16T13:40:05.116Z"
   },
   {
    "duration": 14,
    "start_time": "2023-04-16T13:40:05.145Z"
   },
   {
    "duration": 12,
    "start_time": "2023-04-16T13:40:05.161Z"
   },
   {
    "duration": 33,
    "start_time": "2023-04-16T13:40:05.175Z"
   },
   {
    "duration": 55,
    "start_time": "2023-04-16T13:40:05.210Z"
   },
   {
    "duration": 28,
    "start_time": "2023-04-16T13:40:05.267Z"
   },
   {
    "duration": 6,
    "start_time": "2023-04-16T13:40:05.297Z"
   },
   {
    "duration": 15,
    "start_time": "2023-04-16T13:40:05.304Z"
   },
   {
    "duration": 19,
    "start_time": "2023-04-16T13:40:05.323Z"
   },
   {
    "duration": 9,
    "start_time": "2023-04-16T13:40:05.344Z"
   },
   {
    "duration": 19,
    "start_time": "2023-04-16T13:40:05.355Z"
   },
   {
    "duration": 6,
    "start_time": "2023-04-16T13:40:05.376Z"
   },
   {
    "duration": 10,
    "start_time": "2023-04-16T13:40:05.384Z"
   },
   {
    "duration": 14,
    "start_time": "2023-04-16T13:40:05.396Z"
   },
   {
    "duration": 5,
    "start_time": "2023-04-16T13:40:05.412Z"
   },
   {
    "duration": 36,
    "start_time": "2023-04-16T13:40:05.418Z"
   },
   {
    "duration": 12,
    "start_time": "2023-04-16T13:40:05.455Z"
   },
   {
    "duration": 31,
    "start_time": "2023-04-16T13:40:05.468Z"
   },
   {
    "duration": 17,
    "start_time": "2023-04-16T13:40:05.500Z"
   },
   {
    "duration": 24,
    "start_time": "2023-04-16T13:40:05.519Z"
   },
   {
    "duration": 502,
    "start_time": "2023-04-16T13:40:05.545Z"
   },
   {
    "duration": 5,
    "start_time": "2023-04-16T13:40:06.049Z"
   },
   {
    "duration": 13,
    "start_time": "2023-04-16T13:40:06.056Z"
   },
   {
    "duration": 14,
    "start_time": "2023-04-16T13:40:06.071Z"
   },
   {
    "duration": 20,
    "start_time": "2023-04-16T13:40:06.087Z"
   },
   {
    "duration": 207,
    "start_time": "2023-04-16T13:40:06.110Z"
   },
   {
    "duration": 153,
    "start_time": "2023-04-16T13:40:06.319Z"
   },
   {
    "duration": 13,
    "start_time": "2023-04-16T13:40:06.474Z"
   },
   {
    "duration": 294,
    "start_time": "2023-04-16T13:40:06.488Z"
   },
   {
    "duration": 218,
    "start_time": "2023-04-16T13:40:06.783Z"
   },
   {
    "duration": 11,
    "start_time": "2023-04-16T13:40:07.003Z"
   },
   {
    "duration": 322,
    "start_time": "2023-04-16T13:40:07.015Z"
   },
   {
    "duration": 5,
    "start_time": "2023-04-16T13:40:07.339Z"
   },
   {
    "duration": 222,
    "start_time": "2023-04-16T13:40:07.345Z"
   },
   {
    "duration": 12,
    "start_time": "2023-04-16T13:40:07.568Z"
   },
   {
    "duration": 7,
    "start_time": "2023-04-16T13:40:07.584Z"
   },
   {
    "duration": 236,
    "start_time": "2023-04-16T13:40:07.593Z"
   },
   {
    "duration": 13,
    "start_time": "2023-04-16T13:40:07.831Z"
   },
   {
    "duration": 362,
    "start_time": "2023-04-16T13:40:07.846Z"
   },
   {
    "duration": 11,
    "start_time": "2023-04-16T13:40:08.210Z"
   },
   {
    "duration": 4,
    "start_time": "2023-04-16T13:40:08.223Z"
   },
   {
    "duration": 170,
    "start_time": "2023-04-16T13:40:08.228Z"
   },
   {
    "duration": 11,
    "start_time": "2023-04-16T13:40:08.400Z"
   },
   {
    "duration": 145,
    "start_time": "2023-04-16T13:40:08.412Z"
   },
   {
    "duration": 5,
    "start_time": "2023-04-16T13:40:08.559Z"
   },
   {
    "duration": 14,
    "start_time": "2023-04-16T13:40:08.572Z"
   },
   {
    "duration": 207,
    "start_time": "2023-04-16T13:40:08.588Z"
   },
   {
    "duration": 11,
    "start_time": "2023-04-16T13:40:08.797Z"
   },
   {
    "duration": 19,
    "start_time": "2023-04-16T13:40:08.809Z"
   },
   {
    "duration": 8,
    "start_time": "2023-04-16T13:40:08.830Z"
   },
   {
    "duration": 8,
    "start_time": "2023-04-16T13:40:08.840Z"
   },
   {
    "duration": 32,
    "start_time": "2023-04-16T13:40:08.849Z"
   },
   {
    "duration": 47,
    "start_time": "2023-04-16T13:40:08.882Z"
   },
   {
    "duration": 12,
    "start_time": "2023-04-16T13:40:08.931Z"
   },
   {
    "duration": 64,
    "start_time": "2023-04-16T13:40:08.944Z"
   },
   {
    "duration": 21,
    "start_time": "2023-04-16T13:40:09.010Z"
   },
   {
    "duration": 72,
    "start_time": "2023-04-16T13:40:09.033Z"
   },
   {
    "duration": 24,
    "start_time": "2023-04-16T13:40:09.107Z"
   },
   {
    "duration": 62,
    "start_time": "2023-04-16T13:40:09.132Z"
   },
   {
    "duration": 28,
    "start_time": "2023-04-16T13:40:09.196Z"
   },
   {
    "duration": 88,
    "start_time": "2023-04-16T13:40:09.225Z"
   },
   {
    "duration": 113,
    "start_time": "2023-04-16T13:40:09.314Z"
   },
   {
    "duration": 8,
    "start_time": "2023-04-16T13:40:09.429Z"
   },
   {
    "duration": 9,
    "start_time": "2023-04-16T13:40:09.438Z"
   },
   {
    "duration": 54,
    "start_time": "2023-04-16T13:40:09.449Z"
   },
   {
    "duration": 4,
    "start_time": "2023-04-16T13:40:09.505Z"
   },
   {
    "duration": 13,
    "start_time": "2023-04-16T13:40:09.511Z"
   },
   {
    "duration": 6,
    "start_time": "2023-04-16T13:40:09.526Z"
   },
   {
    "duration": 7,
    "start_time": "2023-04-16T13:40:09.533Z"
   },
   {
    "duration": 36,
    "start_time": "2023-04-16T13:40:09.541Z"
   },
   {
    "duration": 7,
    "start_time": "2023-04-16T13:40:09.579Z"
   },
   {
    "duration": 4,
    "start_time": "2023-04-16T13:40:09.588Z"
   },
   {
    "duration": 14,
    "start_time": "2023-04-16T13:40:09.594Z"
   },
   {
    "duration": 13,
    "start_time": "2023-04-16T13:40:09.609Z"
   },
   {
    "duration": 58,
    "start_time": "2023-04-16T13:40:09.623Z"
   },
   {
    "duration": 4,
    "start_time": "2023-04-16T13:40:09.683Z"
   },
   {
    "duration": 13,
    "start_time": "2023-04-16T13:40:09.689Z"
   },
   {
    "duration": 8,
    "start_time": "2023-04-16T13:40:09.704Z"
   },
   {
    "duration": 11,
    "start_time": "2023-04-16T14:12:21.967Z"
   },
   {
    "duration": 1119,
    "start_time": "2023-04-16T15:14:40.627Z"
   },
   {
    "duration": 27,
    "start_time": "2023-04-16T15:14:41.748Z"
   },
   {
    "duration": 4,
    "start_time": "2023-04-16T15:14:41.777Z"
   },
   {
    "duration": 32,
    "start_time": "2023-04-16T15:14:41.783Z"
   },
   {
    "duration": 7,
    "start_time": "2023-04-16T15:14:41.817Z"
   },
   {
    "duration": 4,
    "start_time": "2023-04-16T15:14:41.826Z"
   },
   {
    "duration": 20,
    "start_time": "2023-04-16T15:14:41.831Z"
   },
   {
    "duration": 15,
    "start_time": "2023-04-16T15:14:41.872Z"
   },
   {
    "duration": 18,
    "start_time": "2023-04-16T15:14:41.888Z"
   },
   {
    "duration": 41,
    "start_time": "2023-04-16T15:14:41.909Z"
   },
   {
    "duration": 29,
    "start_time": "2023-04-16T15:14:41.952Z"
   },
   {
    "duration": 5,
    "start_time": "2023-04-16T15:14:41.982Z"
   },
   {
    "duration": 11,
    "start_time": "2023-04-16T15:14:41.988Z"
   },
   {
    "duration": 10,
    "start_time": "2023-04-16T15:14:42.000Z"
   },
   {
    "duration": 8,
    "start_time": "2023-04-16T15:14:42.011Z"
   },
   {
    "duration": 7,
    "start_time": "2023-04-16T15:14:42.020Z"
   },
   {
    "duration": 8,
    "start_time": "2023-04-16T15:14:42.029Z"
   },
   {
    "duration": 7,
    "start_time": "2023-04-16T15:14:42.039Z"
   },
   {
    "duration": 31,
    "start_time": "2023-04-16T15:14:42.047Z"
   },
   {
    "duration": 5,
    "start_time": "2023-04-16T15:14:42.079Z"
   },
   {
    "duration": 9,
    "start_time": "2023-04-16T15:14:42.086Z"
   },
   {
    "duration": 6,
    "start_time": "2023-04-16T15:14:42.096Z"
   },
   {
    "duration": 23,
    "start_time": "2023-04-16T15:14:42.103Z"
   },
   {
    "duration": 16,
    "start_time": "2023-04-16T15:14:42.128Z"
   },
   {
    "duration": 32,
    "start_time": "2023-04-16T15:14:42.145Z"
   },
   {
    "duration": 489,
    "start_time": "2023-04-16T15:14:42.178Z"
   },
   {
    "duration": 5,
    "start_time": "2023-04-16T15:14:42.669Z"
   },
   {
    "duration": 26,
    "start_time": "2023-04-16T15:14:42.678Z"
   },
   {
    "duration": 20,
    "start_time": "2023-04-16T15:14:42.706Z"
   },
   {
    "duration": 17,
    "start_time": "2023-04-16T15:14:42.728Z"
   },
   {
    "duration": 173,
    "start_time": "2023-04-16T15:14:42.747Z"
   },
   {
    "duration": 139,
    "start_time": "2023-04-16T15:14:42.922Z"
   },
   {
    "duration": 17,
    "start_time": "2023-04-16T15:14:43.063Z"
   },
   {
    "duration": 291,
    "start_time": "2023-04-16T15:14:43.082Z"
   },
   {
    "duration": 211,
    "start_time": "2023-04-16T15:14:43.375Z"
   },
   {
    "duration": 15,
    "start_time": "2023-04-16T15:14:43.588Z"
   },
   {
    "duration": 282,
    "start_time": "2023-04-16T15:14:43.604Z"
   },
   {
    "duration": 6,
    "start_time": "2023-04-16T15:14:43.888Z"
   },
   {
    "duration": 227,
    "start_time": "2023-04-16T15:14:43.896Z"
   },
   {
    "duration": 11,
    "start_time": "2023-04-16T15:14:44.125Z"
   },
   {
    "duration": 9,
    "start_time": "2023-04-16T15:14:44.138Z"
   },
   {
    "duration": 219,
    "start_time": "2023-04-16T15:14:44.148Z"
   },
   {
    "duration": 15,
    "start_time": "2023-04-16T15:14:44.372Z"
   },
   {
    "duration": 383,
    "start_time": "2023-04-16T15:14:44.389Z"
   },
   {
    "duration": 11,
    "start_time": "2023-04-16T15:14:44.774Z"
   },
   {
    "duration": 14,
    "start_time": "2023-04-16T15:14:44.787Z"
   },
   {
    "duration": 196,
    "start_time": "2023-04-16T15:14:44.803Z"
   },
   {
    "duration": 14,
    "start_time": "2023-04-16T15:14:45.001Z"
   },
   {
    "duration": 141,
    "start_time": "2023-04-16T15:14:45.017Z"
   },
   {
    "duration": 14,
    "start_time": "2023-04-16T15:14:45.160Z"
   },
   {
    "duration": 5,
    "start_time": "2023-04-16T15:14:45.175Z"
   },
   {
    "duration": 145,
    "start_time": "2023-04-16T15:14:45.182Z"
   },
   {
    "duration": 9,
    "start_time": "2023-04-16T15:14:45.328Z"
   },
   {
    "duration": 15,
    "start_time": "2023-04-16T15:14:45.339Z"
   },
   {
    "duration": 20,
    "start_time": "2023-04-16T15:14:45.356Z"
   },
   {
    "duration": 9,
    "start_time": "2023-04-16T15:14:45.378Z"
   },
   {
    "duration": 10,
    "start_time": "2023-04-16T15:14:45.389Z"
   },
   {
    "duration": 79,
    "start_time": "2023-04-16T15:14:45.401Z"
   },
   {
    "duration": 10,
    "start_time": "2023-04-16T15:14:45.482Z"
   },
   {
    "duration": 63,
    "start_time": "2023-04-16T15:14:45.494Z"
   },
   {
    "duration": 22,
    "start_time": "2023-04-16T15:14:45.572Z"
   },
   {
    "duration": 52,
    "start_time": "2023-04-16T15:14:45.595Z"
   },
   {
    "duration": 56,
    "start_time": "2023-04-16T15:14:45.648Z"
   },
   {
    "duration": 73,
    "start_time": "2023-04-16T15:14:45.706Z"
   },
   {
    "duration": 32,
    "start_time": "2023-04-16T15:14:45.781Z"
   },
   {
    "duration": 63,
    "start_time": "2023-04-16T15:14:45.815Z"
   },
   {
    "duration": 75,
    "start_time": "2023-04-16T15:14:45.880Z"
   },
   {
    "duration": 8,
    "start_time": "2023-04-16T15:14:45.972Z"
   },
   {
    "duration": 8,
    "start_time": "2023-04-16T15:14:45.981Z"
   },
   {
    "duration": 38,
    "start_time": "2023-04-16T15:14:45.991Z"
   },
   {
    "duration": 5,
    "start_time": "2023-04-16T15:14:46.031Z"
   },
   {
    "duration": 42,
    "start_time": "2023-04-16T15:14:46.037Z"
   },
   {
    "duration": 22,
    "start_time": "2023-04-16T15:14:46.081Z"
   },
   {
    "duration": 9,
    "start_time": "2023-04-16T15:14:46.105Z"
   },
   {
    "duration": 7,
    "start_time": "2023-04-16T15:14:46.117Z"
   },
   {
    "duration": 10,
    "start_time": "2023-04-16T15:14:46.126Z"
   },
   {
    "duration": 5,
    "start_time": "2023-04-16T15:14:46.137Z"
   },
   {
    "duration": 32,
    "start_time": "2023-04-16T15:14:46.144Z"
   },
   {
    "duration": 10,
    "start_time": "2023-04-16T15:14:46.178Z"
   },
   {
    "duration": 20,
    "start_time": "2023-04-16T15:14:46.190Z"
   },
   {
    "duration": 3,
    "start_time": "2023-04-16T15:14:46.212Z"
   },
   {
    "duration": 12,
    "start_time": "2023-04-16T15:14:46.220Z"
   },
   {
    "duration": 43,
    "start_time": "2023-04-16T15:14:46.234Z"
   },
   {
    "duration": 1082,
    "start_time": "2023-04-16T15:16:08.337Z"
   },
   {
    "duration": 27,
    "start_time": "2023-04-16T15:16:09.420Z"
   },
   {
    "duration": 4,
    "start_time": "2023-04-16T15:16:09.449Z"
   },
   {
    "duration": 35,
    "start_time": "2023-04-16T15:16:09.455Z"
   },
   {
    "duration": 6,
    "start_time": "2023-04-16T15:16:09.492Z"
   },
   {
    "duration": 6,
    "start_time": "2023-04-16T15:16:09.500Z"
   },
   {
    "duration": 16,
    "start_time": "2023-04-16T15:16:09.507Z"
   },
   {
    "duration": 13,
    "start_time": "2023-04-16T15:16:09.524Z"
   },
   {
    "duration": 35,
    "start_time": "2023-04-16T15:16:09.538Z"
   },
   {
    "duration": 43,
    "start_time": "2023-04-16T15:16:09.575Z"
   },
   {
    "duration": 27,
    "start_time": "2023-04-16T15:16:09.619Z"
   },
   {
    "duration": 5,
    "start_time": "2023-04-16T15:16:09.647Z"
   },
   {
    "duration": 10,
    "start_time": "2023-04-16T15:16:09.654Z"
   },
   {
    "duration": 8,
    "start_time": "2023-04-16T15:16:09.665Z"
   },
   {
    "duration": 4,
    "start_time": "2023-04-16T15:16:09.675Z"
   },
   {
    "duration": 6,
    "start_time": "2023-04-16T15:16:09.681Z"
   },
   {
    "duration": 6,
    "start_time": "2023-04-16T15:16:09.689Z"
   },
   {
    "duration": 7,
    "start_time": "2023-04-16T15:16:09.697Z"
   },
   {
    "duration": 8,
    "start_time": "2023-04-16T15:16:09.706Z"
   },
   {
    "duration": 6,
    "start_time": "2023-04-16T15:16:09.715Z"
   },
   {
    "duration": 7,
    "start_time": "2023-04-16T15:16:09.722Z"
   },
   {
    "duration": 5,
    "start_time": "2023-04-16T15:16:09.730Z"
   },
   {
    "duration": 37,
    "start_time": "2023-04-16T15:16:09.737Z"
   },
   {
    "duration": 15,
    "start_time": "2023-04-16T15:16:09.775Z"
   },
   {
    "duration": 15,
    "start_time": "2023-04-16T15:16:09.792Z"
   },
   {
    "duration": 487,
    "start_time": "2023-04-16T15:16:09.808Z"
   },
   {
    "duration": 5,
    "start_time": "2023-04-16T15:16:10.297Z"
   },
   {
    "duration": 7,
    "start_time": "2023-04-16T15:16:10.307Z"
   },
   {
    "duration": 11,
    "start_time": "2023-04-16T15:16:10.316Z"
   },
   {
    "duration": 12,
    "start_time": "2023-04-16T15:16:10.330Z"
   },
   {
    "duration": 166,
    "start_time": "2023-04-16T15:16:10.343Z"
   },
   {
    "duration": 145,
    "start_time": "2023-04-16T15:16:10.511Z"
   },
   {
    "duration": 18,
    "start_time": "2023-04-16T15:16:10.657Z"
   },
   {
    "duration": 287,
    "start_time": "2023-04-16T15:16:10.677Z"
   },
   {
    "duration": 244,
    "start_time": "2023-04-16T15:16:10.966Z"
   },
   {
    "duration": 10,
    "start_time": "2023-04-16T15:16:11.212Z"
   },
   {
    "duration": 450,
    "start_time": "2023-04-16T15:16:11.224Z"
   },
   {
    "duration": 7,
    "start_time": "2023-04-16T15:16:11.675Z"
   },
   {
    "duration": 231,
    "start_time": "2023-04-16T15:16:11.684Z"
   },
   {
    "duration": 10,
    "start_time": "2023-04-16T15:16:11.916Z"
   },
   {
    "duration": 7,
    "start_time": "2023-04-16T15:16:11.928Z"
   },
   {
    "duration": 242,
    "start_time": "2023-04-16T15:16:11.937Z"
   },
   {
    "duration": 12,
    "start_time": "2023-04-16T15:16:12.181Z"
   },
   {
    "duration": 402,
    "start_time": "2023-04-16T15:16:12.195Z"
   },
   {
    "duration": 12,
    "start_time": "2023-04-16T15:16:12.599Z"
   },
   {
    "duration": 6,
    "start_time": "2023-04-16T15:16:12.612Z"
   },
   {
    "duration": 172,
    "start_time": "2023-04-16T15:16:12.619Z"
   },
   {
    "duration": 11,
    "start_time": "2023-04-16T15:16:12.792Z"
   },
   {
    "duration": 170,
    "start_time": "2023-04-16T15:16:12.804Z"
   },
   {
    "duration": 10,
    "start_time": "2023-04-16T15:16:12.976Z"
   },
   {
    "duration": 5,
    "start_time": "2023-04-16T15:16:12.988Z"
   },
   {
    "duration": 179,
    "start_time": "2023-04-16T15:16:12.995Z"
   },
   {
    "duration": 9,
    "start_time": "2023-04-16T15:16:13.175Z"
   },
   {
    "duration": 18,
    "start_time": "2023-04-16T15:16:13.186Z"
   },
   {
    "duration": 10,
    "start_time": "2023-04-16T15:16:13.206Z"
   },
   {
    "duration": 6,
    "start_time": "2023-04-16T15:16:13.218Z"
   },
   {
    "duration": 12,
    "start_time": "2023-04-16T15:16:13.225Z"
   },
   {
    "duration": 75,
    "start_time": "2023-04-16T15:16:13.239Z"
   },
   {
    "duration": 9,
    "start_time": "2023-04-16T15:16:13.316Z"
   },
   {
    "duration": 59,
    "start_time": "2023-04-16T15:16:13.327Z"
   },
   {
    "duration": 23,
    "start_time": "2023-04-16T15:16:13.388Z"
   },
   {
    "duration": 65,
    "start_time": "2023-04-16T15:16:13.413Z"
   },
   {
    "duration": 26,
    "start_time": "2023-04-16T15:16:13.480Z"
   },
   {
    "duration": 53,
    "start_time": "2023-04-16T15:16:13.508Z"
   },
   {
    "duration": 36,
    "start_time": "2023-04-16T15:16:13.563Z"
   },
   {
    "duration": 89,
    "start_time": "2023-04-16T15:16:13.601Z"
   },
   {
    "duration": 99,
    "start_time": "2023-04-16T15:16:13.691Z"
   },
   {
    "duration": 8,
    "start_time": "2023-04-16T15:16:13.792Z"
   },
   {
    "duration": 7,
    "start_time": "2023-04-16T15:16:13.802Z"
   },
   {
    "duration": 36,
    "start_time": "2023-04-16T15:16:13.811Z"
   },
   {
    "duration": 5,
    "start_time": "2023-04-16T15:16:13.872Z"
   },
   {
    "duration": 10,
    "start_time": "2023-04-16T15:16:13.879Z"
   },
   {
    "duration": 7,
    "start_time": "2023-04-16T15:16:13.891Z"
   },
   {
    "duration": 11,
    "start_time": "2023-04-16T15:16:13.899Z"
   },
   {
    "duration": 8,
    "start_time": "2023-04-16T15:16:13.911Z"
   },
   {
    "duration": 12,
    "start_time": "2023-04-16T15:16:13.920Z"
   },
   {
    "duration": 8,
    "start_time": "2023-04-16T15:16:13.934Z"
   },
   {
    "duration": 9,
    "start_time": "2023-04-16T15:16:13.972Z"
   },
   {
    "duration": 8,
    "start_time": "2023-04-16T15:16:13.982Z"
   },
   {
    "duration": 21,
    "start_time": "2023-04-16T15:16:13.991Z"
   },
   {
    "duration": 4,
    "start_time": "2023-04-16T15:16:14.014Z"
   },
   {
    "duration": 11,
    "start_time": "2023-04-16T15:16:14.022Z"
   },
   {
    "duration": 43,
    "start_time": "2023-04-16T15:16:14.034Z"
   },
   {
    "duration": 1186,
    "start_time": "2023-04-16T17:19:56.858Z"
   },
   {
    "duration": 28,
    "start_time": "2023-04-16T17:19:58.046Z"
   },
   {
    "duration": 5,
    "start_time": "2023-04-16T17:19:58.076Z"
   },
   {
    "duration": 60,
    "start_time": "2023-04-16T17:19:58.083Z"
   },
   {
    "duration": 6,
    "start_time": "2023-04-16T17:19:58.145Z"
   },
   {
    "duration": 38,
    "start_time": "2023-04-16T17:19:58.153Z"
   },
   {
    "duration": 32,
    "start_time": "2023-04-16T17:19:58.192Z"
   },
   {
    "duration": 14,
    "start_time": "2023-04-16T17:19:58.225Z"
   },
   {
    "duration": 30,
    "start_time": "2023-04-16T17:19:58.240Z"
   },
   {
    "duration": 52,
    "start_time": "2023-04-16T17:19:58.272Z"
   },
   {
    "duration": 27,
    "start_time": "2023-04-16T17:19:58.326Z"
   },
   {
    "duration": 15,
    "start_time": "2023-04-16T17:19:58.355Z"
   },
   {
    "duration": 9,
    "start_time": "2023-04-16T17:19:58.371Z"
   },
   {
    "duration": 29,
    "start_time": "2023-04-16T17:19:58.382Z"
   },
   {
    "duration": 13,
    "start_time": "2023-04-16T17:19:58.413Z"
   },
   {
    "duration": 15,
    "start_time": "2023-04-16T17:19:58.428Z"
   },
   {
    "duration": 14,
    "start_time": "2023-04-16T17:19:58.444Z"
   },
   {
    "duration": 18,
    "start_time": "2023-04-16T17:19:58.460Z"
   },
   {
    "duration": 30,
    "start_time": "2023-04-16T17:19:58.480Z"
   },
   {
    "duration": 5,
    "start_time": "2023-04-16T17:19:58.512Z"
   },
   {
    "duration": 31,
    "start_time": "2023-04-16T17:19:58.518Z"
   },
   {
    "duration": 27,
    "start_time": "2023-04-16T17:19:58.551Z"
   },
   {
    "duration": 38,
    "start_time": "2023-04-16T17:19:58.580Z"
   },
   {
    "duration": 24,
    "start_time": "2023-04-16T17:19:58.620Z"
   },
   {
    "duration": 18,
    "start_time": "2023-04-16T17:19:58.646Z"
   },
   {
    "duration": 468,
    "start_time": "2023-04-16T17:19:58.666Z"
   },
   {
    "duration": 4,
    "start_time": "2023-04-16T17:19:59.136Z"
   },
   {
    "duration": 30,
    "start_time": "2023-04-16T17:19:59.144Z"
   },
   {
    "duration": 23,
    "start_time": "2023-04-16T17:19:59.175Z"
   },
   {
    "duration": 30,
    "start_time": "2023-04-16T17:19:59.199Z"
   },
   {
    "duration": 177,
    "start_time": "2023-04-16T17:19:59.231Z"
   },
   {
    "duration": 138,
    "start_time": "2023-04-16T17:19:59.410Z"
   },
   {
    "duration": 11,
    "start_time": "2023-04-16T17:19:59.549Z"
   },
   {
    "duration": 291,
    "start_time": "2023-04-16T17:19:59.562Z"
   },
   {
    "duration": 227,
    "start_time": "2023-04-16T17:19:59.854Z"
   },
   {
    "duration": 11,
    "start_time": "2023-04-16T17:20:00.082Z"
   },
   {
    "duration": 364,
    "start_time": "2023-04-16T17:20:00.095Z"
   },
   {
    "duration": 6,
    "start_time": "2023-04-16T17:20:00.460Z"
   },
   {
    "duration": 267,
    "start_time": "2023-04-16T17:20:00.468Z"
   },
   {
    "duration": 12,
    "start_time": "2023-04-16T17:20:00.737Z"
   },
   {
    "duration": 90,
    "start_time": "2023-04-16T17:20:00.751Z"
   },
   {
    "duration": 272,
    "start_time": "2023-04-16T17:20:00.843Z"
   },
   {
    "duration": 17,
    "start_time": "2023-04-16T17:20:01.117Z"
   },
   {
    "duration": 334,
    "start_time": "2023-04-16T17:20:01.136Z"
   },
   {
    "duration": 13,
    "start_time": "2023-04-16T17:20:01.472Z"
   },
   {
    "duration": 29,
    "start_time": "2023-04-16T17:20:01.487Z"
   },
   {
    "duration": 246,
    "start_time": "2023-04-16T17:20:01.518Z"
   },
   {
    "duration": 11,
    "start_time": "2023-04-16T17:20:01.766Z"
   },
   {
    "duration": 164,
    "start_time": "2023-04-16T17:20:01.779Z"
   },
   {
    "duration": 5,
    "start_time": "2023-04-16T17:20:01.944Z"
   },
   {
    "duration": 85,
    "start_time": "2023-04-16T17:20:01.951Z"
   },
   {
    "duration": 209,
    "start_time": "2023-04-16T17:20:02.038Z"
   },
   {
    "duration": 9,
    "start_time": "2023-04-16T17:20:02.249Z"
   },
   {
    "duration": 18,
    "start_time": "2023-04-16T17:20:02.260Z"
   },
   {
    "duration": 26,
    "start_time": "2023-04-16T17:20:02.280Z"
   },
   {
    "duration": 16,
    "start_time": "2023-04-16T17:20:02.308Z"
   },
   {
    "duration": 14,
    "start_time": "2023-04-16T17:20:02.326Z"
   },
   {
    "duration": 74,
    "start_time": "2023-04-16T17:20:02.342Z"
   },
   {
    "duration": 26,
    "start_time": "2023-04-16T17:20:02.418Z"
   },
   {
    "duration": 90,
    "start_time": "2023-04-16T17:20:02.446Z"
   },
   {
    "duration": 23,
    "start_time": "2023-04-16T17:20:02.538Z"
   },
   {
    "duration": 84,
    "start_time": "2023-04-16T17:20:02.562Z"
   },
   {
    "duration": 50,
    "start_time": "2023-04-16T17:20:02.648Z"
   },
   {
    "duration": 83,
    "start_time": "2023-04-16T17:20:02.699Z"
   },
   {
    "duration": 47,
    "start_time": "2023-04-16T17:20:02.783Z"
   },
   {
    "duration": 62,
    "start_time": "2023-04-16T17:20:02.832Z"
   },
   {
    "duration": 103,
    "start_time": "2023-04-16T17:20:02.896Z"
   },
   {
    "duration": 13,
    "start_time": "2023-04-16T17:20:03.002Z"
   },
   {
    "duration": 20,
    "start_time": "2023-04-16T17:20:03.017Z"
   },
   {
    "duration": 29,
    "start_time": "2023-04-16T17:20:03.038Z"
   },
   {
    "duration": 11,
    "start_time": "2023-04-16T17:20:03.068Z"
   },
   {
    "duration": 29,
    "start_time": "2023-04-16T17:20:03.080Z"
   },
   {
    "duration": 11,
    "start_time": "2023-04-16T17:20:03.111Z"
   },
   {
    "duration": 33,
    "start_time": "2023-04-16T17:20:03.123Z"
   },
   {
    "duration": 14,
    "start_time": "2023-04-16T17:20:03.158Z"
   },
   {
    "duration": 24,
    "start_time": "2023-04-16T17:20:03.174Z"
   },
   {
    "duration": 8,
    "start_time": "2023-04-16T17:20:03.199Z"
   },
   {
    "duration": 9,
    "start_time": "2023-04-16T17:20:03.209Z"
   },
   {
    "duration": 25,
    "start_time": "2023-04-16T17:20:03.220Z"
   },
   {
    "duration": 25,
    "start_time": "2023-04-16T17:20:03.246Z"
   },
   {
    "duration": 3,
    "start_time": "2023-04-16T17:20:03.273Z"
   },
   {
    "duration": 17,
    "start_time": "2023-04-16T17:20:03.281Z"
   },
   {
    "duration": 25,
    "start_time": "2023-04-16T17:20:03.300Z"
   },
   {
    "duration": 1537,
    "start_time": "2023-04-16T19:59:50.630Z"
   },
   {
    "duration": 141,
    "start_time": "2023-04-16T19:59:52.169Z"
   },
   {
    "duration": 11,
    "start_time": "2023-04-16T19:59:52.315Z"
   },
   {
    "duration": 56,
    "start_time": "2023-04-16T19:59:52.329Z"
   },
   {
    "duration": 24,
    "start_time": "2023-04-16T19:59:52.400Z"
   },
   {
    "duration": 27,
    "start_time": "2023-04-16T19:59:52.429Z"
   },
   {
    "duration": 36,
    "start_time": "2023-04-16T19:59:52.458Z"
   },
   {
    "duration": 62,
    "start_time": "2023-04-16T19:59:52.497Z"
   },
   {
    "duration": 39,
    "start_time": "2023-04-16T19:59:52.561Z"
   },
   {
    "duration": 248,
    "start_time": "2023-04-16T19:59:52.609Z"
   },
   {
    "duration": 37,
    "start_time": "2023-04-16T19:59:52.859Z"
   },
   {
    "duration": 50,
    "start_time": "2023-04-16T19:59:52.902Z"
   },
   {
    "duration": 68,
    "start_time": "2023-04-16T19:59:52.954Z"
   },
   {
    "duration": 70,
    "start_time": "2023-04-16T19:59:53.026Z"
   },
   {
    "duration": 62,
    "start_time": "2023-04-16T19:59:53.098Z"
   },
   {
    "duration": 104,
    "start_time": "2023-04-16T19:59:53.161Z"
   },
   {
    "duration": 81,
    "start_time": "2023-04-16T19:59:53.267Z"
   },
   {
    "duration": 25,
    "start_time": "2023-04-16T19:59:53.352Z"
   },
   {
    "duration": 81,
    "start_time": "2023-04-16T19:59:53.378Z"
   },
   {
    "duration": 18,
    "start_time": "2023-04-16T19:59:53.460Z"
   },
   {
    "duration": 69,
    "start_time": "2023-04-16T19:59:53.480Z"
   },
   {
    "duration": 8,
    "start_time": "2023-04-16T19:59:53.551Z"
   },
   {
    "duration": 22,
    "start_time": "2023-04-16T19:59:53.560Z"
   },
   {
    "duration": 159,
    "start_time": "2023-04-16T19:59:53.589Z"
   },
   {
    "duration": 20,
    "start_time": "2023-04-16T19:59:53.750Z"
   },
   {
    "duration": 552,
    "start_time": "2023-04-16T19:59:53.772Z"
   },
   {
    "duration": 16,
    "start_time": "2023-04-16T19:59:54.325Z"
   },
   {
    "duration": 30,
    "start_time": "2023-04-16T19:59:54.350Z"
   },
   {
    "duration": 65,
    "start_time": "2023-04-16T19:59:54.382Z"
   },
   {
    "duration": 23,
    "start_time": "2023-04-16T19:59:54.450Z"
   },
   {
    "duration": 195,
    "start_time": "2023-04-16T19:59:54.475Z"
   },
   {
    "duration": 141,
    "start_time": "2023-04-16T19:59:54.672Z"
   },
   {
    "duration": 12,
    "start_time": "2023-04-16T19:59:54.815Z"
   },
   {
    "duration": 438,
    "start_time": "2023-04-16T19:59:54.829Z"
   },
   {
    "duration": 294,
    "start_time": "2023-04-16T19:59:55.269Z"
   },
   {
    "duration": 49,
    "start_time": "2023-04-16T19:59:55.565Z"
   },
   {
    "duration": 347,
    "start_time": "2023-04-16T19:59:55.627Z"
   },
   {
    "duration": 20,
    "start_time": "2023-04-16T19:59:55.976Z"
   },
   {
    "duration": 304,
    "start_time": "2023-04-16T19:59:56.003Z"
   },
   {
    "duration": 14,
    "start_time": "2023-04-16T19:59:56.310Z"
   },
   {
    "duration": 53,
    "start_time": "2023-04-16T19:59:56.329Z"
   },
   {
    "duration": 372,
    "start_time": "2023-04-16T19:59:56.385Z"
   },
   {
    "duration": 17,
    "start_time": "2023-04-16T19:59:56.759Z"
   },
   {
    "duration": 427,
    "start_time": "2023-04-16T19:59:56.791Z"
   },
   {
    "duration": 15,
    "start_time": "2023-04-16T19:59:57.222Z"
   },
   {
    "duration": 20,
    "start_time": "2023-04-16T19:59:57.243Z"
   },
   {
    "duration": 271,
    "start_time": "2023-04-16T19:59:57.265Z"
   },
   {
    "duration": 22,
    "start_time": "2023-04-16T19:59:57.543Z"
   },
   {
    "duration": 194,
    "start_time": "2023-04-16T19:59:57.567Z"
   },
   {
    "duration": 6,
    "start_time": "2023-04-16T19:59:57.763Z"
   },
   {
    "duration": 35,
    "start_time": "2023-04-16T19:59:57.771Z"
   },
   {
    "duration": 235,
    "start_time": "2023-04-16T19:59:57.815Z"
   },
   {
    "duration": 12,
    "start_time": "2023-04-16T19:59:58.052Z"
   },
   {
    "duration": 48,
    "start_time": "2023-04-16T19:59:58.066Z"
   },
   {
    "duration": 24,
    "start_time": "2023-04-16T19:59:58.127Z"
   },
   {
    "duration": 7,
    "start_time": "2023-04-16T19:59:58.153Z"
   },
   {
    "duration": 16,
    "start_time": "2023-04-16T19:59:58.161Z"
   },
   {
    "duration": 110,
    "start_time": "2023-04-16T19:59:58.178Z"
   },
   {
    "duration": 65,
    "start_time": "2023-04-16T19:59:58.289Z"
   },
   {
    "duration": 79,
    "start_time": "2023-04-16T19:59:58.356Z"
   },
   {
    "duration": 37,
    "start_time": "2023-04-16T19:59:58.437Z"
   },
   {
    "duration": 88,
    "start_time": "2023-04-16T19:59:58.476Z"
   },
   {
    "duration": 35,
    "start_time": "2023-04-16T19:59:58.566Z"
   },
   {
    "duration": 117,
    "start_time": "2023-04-16T19:59:58.603Z"
   },
   {
    "duration": 57,
    "start_time": "2023-04-16T19:59:58.722Z"
   },
   {
    "duration": 71,
    "start_time": "2023-04-16T19:59:58.780Z"
   },
   {
    "duration": 97,
    "start_time": "2023-04-16T19:59:58.854Z"
   },
   {
    "duration": 6,
    "start_time": "2023-04-16T19:59:58.953Z"
   },
   {
    "duration": 18,
    "start_time": "2023-04-16T19:59:58.961Z"
   },
   {
    "duration": 53,
    "start_time": "2023-04-16T19:59:58.981Z"
   },
   {
    "duration": 19,
    "start_time": "2023-04-16T19:59:59.036Z"
   },
   {
    "duration": 12,
    "start_time": "2023-04-16T19:59:59.056Z"
   },
   {
    "duration": 6,
    "start_time": "2023-04-16T19:59:59.070Z"
   },
   {
    "duration": 20,
    "start_time": "2023-04-16T19:59:59.077Z"
   },
   {
    "duration": 54,
    "start_time": "2023-04-16T19:59:59.100Z"
   },
   {
    "duration": 36,
    "start_time": "2023-04-16T19:59:59.156Z"
   },
   {
    "duration": 60,
    "start_time": "2023-04-16T19:59:59.193Z"
   },
   {
    "duration": 17,
    "start_time": "2023-04-16T19:59:59.255Z"
   },
   {
    "duration": 17,
    "start_time": "2023-04-16T19:59:59.273Z"
   },
   {
    "duration": 76,
    "start_time": "2023-04-16T19:59:59.291Z"
   },
   {
    "duration": 4,
    "start_time": "2023-04-16T19:59:59.369Z"
   },
   {
    "duration": 25,
    "start_time": "2023-04-16T19:59:59.378Z"
   },
   {
    "duration": 49,
    "start_time": "2023-04-16T19:59:59.409Z"
   },
   {
    "duration": 149,
    "start_time": "2023-04-16T20:14:15.111Z"
   },
   {
    "duration": 16,
    "start_time": "2023-04-16T20:14:26.335Z"
   },
   {
    "duration": 598,
    "start_time": "2023-04-16T20:14:57.753Z"
   },
   {
    "duration": 44,
    "start_time": "2023-04-16T20:16:16.380Z"
   },
   {
    "duration": 28,
    "start_time": "2023-04-16T20:16:34.626Z"
   },
   {
    "duration": 41,
    "start_time": "2023-04-16T20:16:40.983Z"
   },
   {
    "duration": 34,
    "start_time": "2023-04-16T20:17:06.811Z"
   },
   {
    "duration": 20,
    "start_time": "2023-04-16T20:17:31.372Z"
   },
   {
    "duration": 26,
    "start_time": "2023-04-16T20:20:35.937Z"
   },
   {
    "duration": 13,
    "start_time": "2023-04-16T20:23:14.653Z"
   },
   {
    "duration": 24,
    "start_time": "2023-04-16T20:24:04.658Z"
   },
   {
    "duration": 18,
    "start_time": "2023-04-16T20:24:26.460Z"
   },
   {
    "duration": 35,
    "start_time": "2023-04-16T20:25:55.178Z"
   },
   {
    "duration": 32,
    "start_time": "2023-04-16T20:26:03.007Z"
   },
   {
    "duration": 23,
    "start_time": "2023-04-16T20:26:52.610Z"
   },
   {
    "duration": 15,
    "start_time": "2023-04-16T20:30:28.540Z"
   },
   {
    "duration": 19,
    "start_time": "2023-04-16T20:30:38.223Z"
   },
   {
    "duration": 30,
    "start_time": "2023-04-16T20:33:50.280Z"
   },
   {
    "duration": 18,
    "start_time": "2023-04-16T20:34:06.318Z"
   },
   {
    "duration": 15,
    "start_time": "2023-04-16T20:34:45.834Z"
   },
   {
    "duration": 19,
    "start_time": "2023-04-16T20:35:29.658Z"
   },
   {
    "duration": 52,
    "start_time": "2023-04-16T20:37:11.322Z"
   },
   {
    "duration": 23,
    "start_time": "2023-04-16T20:37:15.212Z"
   },
   {
    "duration": 19,
    "start_time": "2023-04-16T20:37:46.524Z"
   },
   {
    "duration": 19,
    "start_time": "2023-04-16T20:37:58.527Z"
   },
   {
    "duration": 24,
    "start_time": "2023-04-16T20:38:06.613Z"
   },
   {
    "duration": 19,
    "start_time": "2023-04-16T20:41:45.513Z"
   },
   {
    "duration": 32,
    "start_time": "2023-04-16T20:41:52.570Z"
   },
   {
    "duration": 28,
    "start_time": "2023-04-16T20:43:27.980Z"
   },
   {
    "duration": 24,
    "start_time": "2023-04-16T20:43:37.520Z"
   },
   {
    "duration": 16,
    "start_time": "2023-04-16T20:44:03.397Z"
   },
   {
    "duration": 21,
    "start_time": "2023-04-16T20:44:11.724Z"
   },
   {
    "duration": 18,
    "start_time": "2023-04-16T20:44:27.837Z"
   },
   {
    "duration": 21,
    "start_time": "2023-04-16T20:45:45.224Z"
   },
   {
    "duration": 21,
    "start_time": "2023-04-16T20:48:00.006Z"
   },
   {
    "duration": 40,
    "start_time": "2023-04-16T20:48:11.842Z"
   },
   {
    "duration": 35,
    "start_time": "2023-04-16T20:49:16.639Z"
   },
   {
    "duration": 45,
    "start_time": "2023-04-16T20:49:27.039Z"
   },
   {
    "duration": 28,
    "start_time": "2023-04-16T20:50:06.797Z"
   },
   {
    "duration": 24,
    "start_time": "2023-04-16T20:52:32.079Z"
   },
   {
    "duration": 35,
    "start_time": "2023-04-16T20:52:44.001Z"
   },
   {
    "duration": 19,
    "start_time": "2023-04-16T20:55:33.112Z"
   },
   {
    "duration": 45,
    "start_time": "2023-04-16T20:55:46.182Z"
   },
   {
    "duration": 20,
    "start_time": "2023-04-16T20:58:02.707Z"
   },
   {
    "duration": 80,
    "start_time": "2023-04-16T20:59:23.698Z"
   },
   {
    "duration": 24,
    "start_time": "2023-04-16T20:59:37.007Z"
   },
   {
    "duration": 45,
    "start_time": "2023-04-16T21:00:04.851Z"
   },
   {
    "duration": 35,
    "start_time": "2023-04-16T21:00:38.630Z"
   },
   {
    "duration": 24,
    "start_time": "2023-04-16T21:00:48.053Z"
   },
   {
    "duration": 25,
    "start_time": "2023-04-16T21:01:43.831Z"
   },
   {
    "duration": 19,
    "start_time": "2023-04-16T21:01:58.861Z"
   },
   {
    "duration": 19,
    "start_time": "2023-04-16T21:02:20.557Z"
   },
   {
    "duration": 28,
    "start_time": "2023-04-16T21:03:12.505Z"
   },
   {
    "duration": 29,
    "start_time": "2023-04-16T21:03:40.623Z"
   },
   {
    "duration": 29,
    "start_time": "2023-04-16T21:03:47.392Z"
   },
   {
    "duration": 30,
    "start_time": "2023-04-16T21:04:33.452Z"
   },
   {
    "duration": 28,
    "start_time": "2023-04-16T21:04:48.548Z"
   },
   {
    "duration": 31,
    "start_time": "2023-04-16T21:04:56.604Z"
   },
   {
    "duration": 28,
    "start_time": "2023-04-16T21:05:12.769Z"
   },
   {
    "duration": 26,
    "start_time": "2023-04-16T21:05:28.847Z"
   },
   {
    "duration": 44,
    "start_time": "2023-04-16T21:06:00.769Z"
   },
   {
    "duration": 38,
    "start_time": "2023-04-16T21:06:15.575Z"
   },
   {
    "duration": 29,
    "start_time": "2023-04-16T21:06:24.632Z"
   },
   {
    "duration": 23,
    "start_time": "2023-04-16T21:06:49.448Z"
   },
   {
    "duration": 41,
    "start_time": "2023-04-16T21:07:07.693Z"
   },
   {
    "duration": 27,
    "start_time": "2023-04-16T21:07:58.312Z"
   },
   {
    "duration": 38,
    "start_time": "2023-04-16T21:18:06.869Z"
   },
   {
    "duration": 30,
    "start_time": "2023-04-16T21:18:20.619Z"
   },
   {
    "duration": 43,
    "start_time": "2023-04-16T21:18:40.821Z"
   },
   {
    "duration": 24,
    "start_time": "2023-04-16T21:19:02.872Z"
   },
   {
    "duration": 19,
    "start_time": "2023-04-16T21:20:21.011Z"
   },
   {
    "duration": 25,
    "start_time": "2023-04-16T21:22:11.936Z"
   },
   {
    "duration": 33,
    "start_time": "2023-04-16T21:22:26.185Z"
   },
   {
    "duration": 19,
    "start_time": "2023-04-16T21:22:48.235Z"
   },
   {
    "duration": 31,
    "start_time": "2023-04-16T21:23:40.444Z"
   },
   {
    "duration": 20,
    "start_time": "2023-04-16T21:23:58.717Z"
   },
   {
    "duration": 17,
    "start_time": "2023-04-16T21:24:13.626Z"
   },
   {
    "duration": 38,
    "start_time": "2023-04-16T21:24:42.269Z"
   },
   {
    "duration": 18,
    "start_time": "2023-04-16T21:24:50.461Z"
   },
   {
    "duration": 32,
    "start_time": "2023-04-16T21:25:46.308Z"
   },
   {
    "duration": 19,
    "start_time": "2023-04-16T21:25:54.613Z"
   },
   {
    "duration": 230,
    "start_time": "2023-04-16T21:47:56.278Z"
   },
   {
    "duration": 69,
    "start_time": "2023-04-16T21:57:01.173Z"
   },
   {
    "duration": 1299,
    "start_time": "2023-04-16T21:57:50.869Z"
   },
   {
    "duration": 49,
    "start_time": "2023-04-16T21:57:52.170Z"
   },
   {
    "duration": 5,
    "start_time": "2023-04-16T21:57:52.220Z"
   },
   {
    "duration": 79,
    "start_time": "2023-04-16T21:57:52.227Z"
   },
   {
    "duration": 12,
    "start_time": "2023-04-16T21:57:52.314Z"
   },
   {
    "duration": 20,
    "start_time": "2023-04-16T21:57:52.328Z"
   },
   {
    "duration": 108,
    "start_time": "2023-04-16T21:57:52.350Z"
   },
   {
    "duration": 20,
    "start_time": "2023-04-16T21:57:52.460Z"
   },
   {
    "duration": 69,
    "start_time": "2023-04-16T21:57:52.481Z"
   },
   {
    "duration": 67,
    "start_time": "2023-04-16T21:57:52.554Z"
   },
   {
    "duration": 28,
    "start_time": "2023-04-16T21:57:52.622Z"
   },
   {
    "duration": 14,
    "start_time": "2023-04-16T21:57:52.652Z"
   },
   {
    "duration": 52,
    "start_time": "2023-04-16T21:57:52.668Z"
   },
   {
    "duration": 38,
    "start_time": "2023-04-16T21:57:52.722Z"
   },
   {
    "duration": 30,
    "start_time": "2023-04-16T21:57:52.762Z"
   },
   {
    "duration": 50,
    "start_time": "2023-04-16T21:57:52.794Z"
   },
   {
    "duration": 15,
    "start_time": "2023-04-16T21:57:52.846Z"
   },
   {
    "duration": 56,
    "start_time": "2023-04-16T21:57:52.863Z"
   },
   {
    "duration": 40,
    "start_time": "2023-04-16T21:57:52.921Z"
   },
   {
    "duration": 52,
    "start_time": "2023-04-16T21:57:52.963Z"
   },
   {
    "duration": 22,
    "start_time": "2023-04-16T21:57:53.017Z"
   },
   {
    "duration": 17,
    "start_time": "2023-04-16T21:57:53.040Z"
   },
   {
    "duration": 64,
    "start_time": "2023-04-16T21:57:53.058Z"
   },
   {
    "duration": 25,
    "start_time": "2023-04-16T21:57:53.124Z"
   },
   {
    "duration": 27,
    "start_time": "2023-04-16T21:57:53.151Z"
   },
   {
    "duration": 523,
    "start_time": "2023-04-16T21:57:53.180Z"
   },
   {
    "duration": 7,
    "start_time": "2023-04-16T21:57:53.712Z"
   },
   {
    "duration": 16,
    "start_time": "2023-04-16T21:57:53.725Z"
   },
   {
    "duration": 25,
    "start_time": "2023-04-16T21:57:53.744Z"
   },
   {
    "duration": 57,
    "start_time": "2023-04-16T21:57:53.772Z"
   },
   {
    "duration": 230,
    "start_time": "2023-04-16T21:57:53.832Z"
   },
   {
    "duration": 164,
    "start_time": "2023-04-16T21:57:54.064Z"
   },
   {
    "duration": 13,
    "start_time": "2023-04-16T21:57:54.230Z"
   },
   {
    "duration": 335,
    "start_time": "2023-04-16T21:57:54.245Z"
   },
   {
    "duration": 1186,
    "start_time": "2023-04-16T21:58:42.628Z"
   },
   {
    "duration": 29,
    "start_time": "2023-04-16T21:58:43.817Z"
   },
   {
    "duration": 5,
    "start_time": "2023-04-16T21:58:43.848Z"
   },
   {
    "duration": 43,
    "start_time": "2023-04-16T21:58:43.856Z"
   },
   {
    "duration": 8,
    "start_time": "2023-04-16T21:58:43.905Z"
   },
   {
    "duration": 8,
    "start_time": "2023-04-16T21:58:43.915Z"
   },
   {
    "duration": 55,
    "start_time": "2023-04-16T21:58:43.925Z"
   },
   {
    "duration": 33,
    "start_time": "2023-04-16T21:58:43.982Z"
   },
   {
    "duration": 18,
    "start_time": "2023-04-16T21:58:44.017Z"
   },
   {
    "duration": 41,
    "start_time": "2023-04-16T21:58:44.038Z"
   },
   {
    "duration": 38,
    "start_time": "2023-04-16T21:58:44.081Z"
   },
   {
    "duration": 4,
    "start_time": "2023-04-16T21:58:44.122Z"
   },
   {
    "duration": 6,
    "start_time": "2023-04-16T21:58:44.128Z"
   },
   {
    "duration": 6,
    "start_time": "2023-04-16T21:58:44.136Z"
   },
   {
    "duration": 13,
    "start_time": "2023-04-16T21:58:44.143Z"
   },
   {
    "duration": 10,
    "start_time": "2023-04-16T21:58:44.157Z"
   },
   {
    "duration": 28,
    "start_time": "2023-04-16T21:58:44.168Z"
   },
   {
    "duration": 9,
    "start_time": "2023-04-16T21:58:44.203Z"
   },
   {
    "duration": 9,
    "start_time": "2023-04-16T21:58:44.214Z"
   },
   {
    "duration": 4,
    "start_time": "2023-04-16T21:58:44.225Z"
   },
   {
    "duration": 6,
    "start_time": "2023-04-16T21:58:44.231Z"
   },
   {
    "duration": 6,
    "start_time": "2023-04-16T21:58:44.238Z"
   },
   {
    "duration": 33,
    "start_time": "2023-04-16T21:58:44.245Z"
   },
   {
    "duration": 34,
    "start_time": "2023-04-16T21:58:44.280Z"
   },
   {
    "duration": 20,
    "start_time": "2023-04-16T21:58:44.316Z"
   },
   {
    "duration": 538,
    "start_time": "2023-04-16T21:58:44.338Z"
   },
   {
    "duration": 20,
    "start_time": "2023-04-16T21:58:44.878Z"
   },
   {
    "duration": 33,
    "start_time": "2023-04-16T21:58:44.910Z"
   },
   {
    "duration": 16,
    "start_time": "2023-04-16T21:58:44.944Z"
   },
   {
    "duration": 54,
    "start_time": "2023-04-16T21:58:44.962Z"
   },
   {
    "duration": 209,
    "start_time": "2023-04-16T21:58:45.017Z"
   },
   {
    "duration": 137,
    "start_time": "2023-04-16T21:58:45.227Z"
   },
   {
    "duration": 11,
    "start_time": "2023-04-16T21:58:45.366Z"
   },
   {
    "duration": 321,
    "start_time": "2023-04-16T21:58:45.399Z"
   },
   {
    "duration": 252,
    "start_time": "2023-04-16T21:58:45.721Z"
   },
   {
    "duration": 24,
    "start_time": "2023-04-16T21:58:45.975Z"
   },
   {
    "duration": 339,
    "start_time": "2023-04-16T21:58:46.002Z"
   },
   {
    "duration": 7,
    "start_time": "2023-04-16T21:58:46.343Z"
   },
   {
    "duration": 270,
    "start_time": "2023-04-16T21:58:46.352Z"
   },
   {
    "duration": 11,
    "start_time": "2023-04-16T21:58:46.623Z"
   },
   {
    "duration": 10,
    "start_time": "2023-04-16T21:58:46.636Z"
   },
   {
    "duration": 270,
    "start_time": "2023-04-16T21:58:46.648Z"
   },
   {
    "duration": 14,
    "start_time": "2023-04-16T21:58:46.920Z"
   },
   {
    "duration": 416,
    "start_time": "2023-04-16T21:58:46.936Z"
   },
   {
    "duration": 12,
    "start_time": "2023-04-16T21:58:47.354Z"
   },
   {
    "duration": 35,
    "start_time": "2023-04-16T21:58:47.368Z"
   },
   {
    "duration": 166,
    "start_time": "2023-04-16T21:58:47.405Z"
   },
   {
    "duration": 39,
    "start_time": "2023-04-16T21:58:47.573Z"
   },
   {
    "duration": 137,
    "start_time": "2023-04-16T21:58:47.614Z"
   },
   {
    "duration": 7,
    "start_time": "2023-04-16T21:58:47.752Z"
   },
   {
    "duration": 26,
    "start_time": "2023-04-16T21:58:47.760Z"
   },
   {
    "duration": 283,
    "start_time": "2023-04-16T21:58:47.788Z"
   },
   {
    "duration": 40,
    "start_time": "2023-04-16T21:58:48.073Z"
   },
   {
    "duration": 24,
    "start_time": "2023-04-16T21:58:48.116Z"
   },
   {
    "duration": 18,
    "start_time": "2023-04-16T21:58:48.142Z"
   },
   {
    "duration": 12,
    "start_time": "2023-04-16T21:58:48.162Z"
   },
   {
    "duration": 59,
    "start_time": "2023-04-16T21:58:48.176Z"
   },
   {
    "duration": 64,
    "start_time": "2023-04-16T21:58:48.236Z"
   },
   {
    "duration": 33,
    "start_time": "2023-04-16T21:58:48.304Z"
   },
   {
    "duration": 89,
    "start_time": "2023-04-16T21:58:48.338Z"
   },
   {
    "duration": 25,
    "start_time": "2023-04-16T21:58:48.428Z"
   },
   {
    "duration": 78,
    "start_time": "2023-04-16T21:58:48.455Z"
   },
   {
    "duration": 21,
    "start_time": "2023-04-16T21:58:48.534Z"
   },
   {
    "duration": 105,
    "start_time": "2023-04-16T21:58:48.556Z"
   },
   {
    "duration": 69,
    "start_time": "2023-04-16T21:58:48.663Z"
   },
   {
    "duration": 65,
    "start_time": "2023-04-16T21:58:48.734Z"
   },
   {
    "duration": 69,
    "start_time": "2023-04-16T21:58:48.800Z"
   },
   {
    "duration": 32,
    "start_time": "2023-04-16T21:58:48.870Z"
   },
   {
    "duration": 23,
    "start_time": "2023-04-16T21:58:48.906Z"
   },
   {
    "duration": 42,
    "start_time": "2023-04-16T21:58:48.930Z"
   },
   {
    "duration": 5,
    "start_time": "2023-04-16T21:58:48.973Z"
   },
   {
    "duration": 59,
    "start_time": "2023-04-16T21:58:48.979Z"
   },
   {
    "duration": 35,
    "start_time": "2023-04-16T21:58:49.039Z"
   },
   {
    "duration": 46,
    "start_time": "2023-04-16T21:58:49.076Z"
   },
   {
    "duration": 22,
    "start_time": "2023-04-16T21:58:49.123Z"
   },
   {
    "duration": 20,
    "start_time": "2023-04-16T21:58:49.147Z"
   },
   {
    "duration": 46,
    "start_time": "2023-04-16T21:58:49.169Z"
   },
   {
    "duration": 25,
    "start_time": "2023-04-16T21:58:49.216Z"
   },
   {
    "duration": 30,
    "start_time": "2023-04-16T21:58:49.243Z"
   },
   {
    "duration": 63,
    "start_time": "2023-04-16T21:58:49.274Z"
   },
   {
    "duration": 4,
    "start_time": "2023-04-16T21:58:49.338Z"
   },
   {
    "duration": 77,
    "start_time": "2023-04-16T21:58:49.347Z"
   },
   {
    "duration": 33,
    "start_time": "2023-04-16T21:58:49.427Z"
   },
   {
    "duration": 5,
    "start_time": "2023-04-16T22:01:09.336Z"
   },
   {
    "duration": 329,
    "start_time": "2023-04-16T22:02:47.771Z"
   },
   {
    "duration": 364,
    "start_time": "2023-04-16T22:03:38.417Z"
   },
   {
    "duration": 408,
    "start_time": "2023-04-16T22:04:49.710Z"
   },
   {
    "duration": 294,
    "start_time": "2023-04-16T22:06:12.042Z"
   },
   {
    "duration": 244,
    "start_time": "2023-04-16T22:06:58.891Z"
   },
   {
    "duration": 247,
    "start_time": "2023-04-16T22:08:37.050Z"
   },
   {
    "duration": 1526,
    "start_time": "2023-04-17T03:13:17.186Z"
   },
   {
    "duration": 94,
    "start_time": "2023-04-17T03:13:18.714Z"
   },
   {
    "duration": 5,
    "start_time": "2023-04-17T03:13:18.811Z"
   },
   {
    "duration": 48,
    "start_time": "2023-04-17T03:13:18.819Z"
   },
   {
    "duration": 9,
    "start_time": "2023-04-17T03:13:18.870Z"
   },
   {
    "duration": 6,
    "start_time": "2023-04-17T03:13:18.881Z"
   },
   {
    "duration": 82,
    "start_time": "2023-04-17T03:13:18.888Z"
   },
   {
    "duration": 18,
    "start_time": "2023-04-17T03:13:18.971Z"
   },
   {
    "duration": 19,
    "start_time": "2023-04-17T03:13:18.990Z"
   },
   {
    "duration": 113,
    "start_time": "2023-04-17T03:13:19.013Z"
   },
   {
    "duration": 31,
    "start_time": "2023-04-17T03:13:19.127Z"
   },
   {
    "duration": 11,
    "start_time": "2023-04-17T03:13:19.160Z"
   },
   {
    "duration": 7,
    "start_time": "2023-04-17T03:13:19.173Z"
   },
   {
    "duration": 17,
    "start_time": "2023-04-17T03:13:19.182Z"
   },
   {
    "duration": 6,
    "start_time": "2023-04-17T03:13:19.200Z"
   },
   {
    "duration": 7,
    "start_time": "2023-04-17T03:13:19.208Z"
   },
   {
    "duration": 15,
    "start_time": "2023-04-17T03:13:19.217Z"
   },
   {
    "duration": 19,
    "start_time": "2023-04-17T03:13:19.234Z"
   },
   {
    "duration": 33,
    "start_time": "2023-04-17T03:13:19.255Z"
   },
   {
    "duration": 19,
    "start_time": "2023-04-17T03:13:19.289Z"
   },
   {
    "duration": 21,
    "start_time": "2023-04-17T03:13:19.309Z"
   },
   {
    "duration": 7,
    "start_time": "2023-04-17T03:13:19.332Z"
   },
   {
    "duration": 50,
    "start_time": "2023-04-17T03:13:19.341Z"
   },
   {
    "duration": 73,
    "start_time": "2023-04-17T03:13:19.392Z"
   },
   {
    "duration": 20,
    "start_time": "2023-04-17T03:13:19.467Z"
   },
   {
    "duration": 657,
    "start_time": "2023-04-17T03:13:19.488Z"
   },
   {
    "duration": 5,
    "start_time": "2023-04-17T03:13:20.147Z"
   },
   {
    "duration": 34,
    "start_time": "2023-04-17T03:13:20.159Z"
   },
   {
    "duration": 25,
    "start_time": "2023-04-17T03:13:20.194Z"
   },
   {
    "duration": 28,
    "start_time": "2023-04-17T03:13:20.221Z"
   },
   {
    "duration": 198,
    "start_time": "2023-04-17T03:13:20.251Z"
   },
   {
    "duration": 143,
    "start_time": "2023-04-17T03:13:20.451Z"
   },
   {
    "duration": 12,
    "start_time": "2023-04-17T03:13:20.596Z"
   },
   {
    "duration": 386,
    "start_time": "2023-04-17T03:13:20.610Z"
   },
   {
    "duration": 270,
    "start_time": "2023-04-17T03:13:20.999Z"
   },
   {
    "duration": 326,
    "start_time": "2023-04-17T03:13:21.271Z"
   },
   {
    "duration": 292,
    "start_time": "2023-04-17T03:13:21.600Z"
   },
   {
    "duration": 276,
    "start_time": "2023-04-17T03:13:21.894Z"
   },
   {
    "duration": 12,
    "start_time": "2023-04-17T03:13:22.173Z"
   },
   {
    "duration": 322,
    "start_time": "2023-04-17T03:13:22.187Z"
   },
   {
    "duration": 6,
    "start_time": "2023-04-17T03:13:22.511Z"
   },
   {
    "duration": 321,
    "start_time": "2023-04-17T03:13:22.519Z"
   },
   {
    "duration": 16,
    "start_time": "2023-04-17T03:13:22.842Z"
   },
   {
    "duration": 18,
    "start_time": "2023-04-17T03:13:22.860Z"
   },
   {
    "duration": 308,
    "start_time": "2023-04-17T03:13:22.880Z"
   },
   {
    "duration": 19,
    "start_time": "2023-04-17T03:13:23.190Z"
   },
   {
    "duration": 392,
    "start_time": "2023-04-17T03:13:23.210Z"
   },
   {
    "duration": 13,
    "start_time": "2023-04-17T03:13:23.604Z"
   },
   {
    "duration": 6,
    "start_time": "2023-04-17T03:13:23.620Z"
   },
   {
    "duration": 177,
    "start_time": "2023-04-17T03:13:23.628Z"
   },
   {
    "duration": 11,
    "start_time": "2023-04-17T03:13:23.806Z"
   },
   {
    "duration": 171,
    "start_time": "2023-04-17T03:13:23.819Z"
   },
   {
    "duration": 6,
    "start_time": "2023-04-17T03:13:23.993Z"
   },
   {
    "duration": 13,
    "start_time": "2023-04-17T03:13:24.001Z"
   },
   {
    "duration": 173,
    "start_time": "2023-04-17T03:13:24.016Z"
   },
   {
    "duration": 11,
    "start_time": "2023-04-17T03:13:24.191Z"
   },
   {
    "duration": 13,
    "start_time": "2023-04-17T03:13:24.204Z"
   },
   {
    "duration": 8,
    "start_time": "2023-04-17T03:13:24.219Z"
   },
   {
    "duration": 23,
    "start_time": "2023-04-17T03:13:24.228Z"
   },
   {
    "duration": 25,
    "start_time": "2023-04-17T03:13:24.253Z"
   },
   {
    "duration": 49,
    "start_time": "2023-04-17T03:13:24.280Z"
   },
   {
    "duration": 19,
    "start_time": "2023-04-17T03:13:24.330Z"
   },
   {
    "duration": 84,
    "start_time": "2023-04-17T03:13:24.351Z"
   },
   {
    "duration": 31,
    "start_time": "2023-04-17T03:13:24.437Z"
   },
   {
    "duration": 103,
    "start_time": "2023-04-17T03:13:24.470Z"
   },
   {
    "duration": 61,
    "start_time": "2023-04-17T03:13:24.575Z"
   },
   {
    "duration": 74,
    "start_time": "2023-04-17T03:13:24.639Z"
   },
   {
    "duration": 36,
    "start_time": "2023-04-17T03:13:24.715Z"
   },
   {
    "duration": 75,
    "start_time": "2023-04-17T03:13:24.752Z"
   },
   {
    "duration": 110,
    "start_time": "2023-04-17T03:13:24.829Z"
   },
   {
    "duration": 7,
    "start_time": "2023-04-17T03:13:24.950Z"
   },
   {
    "duration": 11,
    "start_time": "2023-04-17T03:13:24.958Z"
   },
   {
    "duration": 48,
    "start_time": "2023-04-17T03:13:24.971Z"
   },
   {
    "duration": 7,
    "start_time": "2023-04-17T03:13:25.021Z"
   },
   {
    "duration": 54,
    "start_time": "2023-04-17T03:13:25.030Z"
   },
   {
    "duration": 11,
    "start_time": "2023-04-17T03:13:25.086Z"
   },
   {
    "duration": 15,
    "start_time": "2023-04-17T03:13:25.099Z"
   },
   {
    "duration": 18,
    "start_time": "2023-04-17T03:13:25.115Z"
   },
   {
    "duration": 19,
    "start_time": "2023-04-17T03:13:25.135Z"
   },
   {
    "duration": 14,
    "start_time": "2023-04-17T03:13:25.156Z"
   },
   {
    "duration": 21,
    "start_time": "2023-04-17T03:13:25.172Z"
   },
   {
    "duration": 9,
    "start_time": "2023-04-17T03:13:25.198Z"
   },
   {
    "duration": 25,
    "start_time": "2023-04-17T03:13:25.208Z"
   },
   {
    "duration": 14,
    "start_time": "2023-04-17T03:13:25.235Z"
   },
   {
    "duration": 12,
    "start_time": "2023-04-17T03:13:25.251Z"
   },
   {
    "duration": 14,
    "start_time": "2023-04-17T03:13:25.265Z"
   },
   {
    "duration": 164,
    "start_time": "2023-04-17T03:15:59.821Z"
   },
   {
    "duration": 143,
    "start_time": "2023-04-17T03:17:39.578Z"
   },
   {
    "duration": 165,
    "start_time": "2023-04-17T03:18:15.275Z"
   },
   {
    "duration": 149,
    "start_time": "2023-04-17T03:18:54.840Z"
   },
   {
    "duration": 155,
    "start_time": "2023-04-17T03:20:41.860Z"
   },
   {
    "duration": 8,
    "start_time": "2023-04-17T03:23:48.900Z"
   },
   {
    "duration": 4,
    "start_time": "2023-04-17T04:04:26.631Z"
   },
   {
    "duration": 2,
    "start_time": "2023-04-17T04:04:38.398Z"
   },
   {
    "duration": 3,
    "start_time": "2023-04-17T04:04:49.298Z"
   },
   {
    "duration": 7,
    "start_time": "2023-04-17T04:05:28.949Z"
   },
   {
    "duration": 5,
    "start_time": "2023-04-17T04:11:33.482Z"
   },
   {
    "duration": 2,
    "start_time": "2023-04-17T04:12:31.540Z"
   },
   {
    "duration": 108,
    "start_time": "2023-04-17T04:12:46.129Z"
   },
   {
    "duration": 8,
    "start_time": "2023-04-17T04:13:09.039Z"
   },
   {
    "duration": 8,
    "start_time": "2023-04-17T04:13:33.954Z"
   },
   {
    "duration": 3,
    "start_time": "2023-04-17T04:14:19.683Z"
   },
   {
    "duration": 92,
    "start_time": "2023-04-17T04:15:12.996Z"
   },
   {
    "duration": 5,
    "start_time": "2023-04-17T04:15:15.875Z"
   },
   {
    "duration": 406,
    "start_time": "2023-04-17T04:15:18.936Z"
   },
   {
    "duration": 1158,
    "start_time": "2023-04-17T04:15:30.300Z"
   },
   {
    "duration": 27,
    "start_time": "2023-04-17T04:15:31.460Z"
   },
   {
    "duration": 4,
    "start_time": "2023-04-17T04:15:31.488Z"
   },
   {
    "duration": 53,
    "start_time": "2023-04-17T04:15:31.494Z"
   },
   {
    "duration": 6,
    "start_time": "2023-04-17T04:15:31.549Z"
   },
   {
    "duration": 24,
    "start_time": "2023-04-17T04:15:31.557Z"
   },
   {
    "duration": 72,
    "start_time": "2023-04-17T04:15:31.582Z"
   },
   {
    "duration": 17,
    "start_time": "2023-04-17T04:15:31.656Z"
   },
   {
    "duration": 39,
    "start_time": "2023-04-17T04:15:31.675Z"
   },
   {
    "duration": 53,
    "start_time": "2023-04-17T04:15:31.717Z"
   },
   {
    "duration": 22,
    "start_time": "2023-04-17T04:15:31.772Z"
   },
   {
    "duration": 18,
    "start_time": "2023-04-17T04:15:31.795Z"
   },
   {
    "duration": 29,
    "start_time": "2023-04-17T04:15:31.814Z"
   },
   {
    "duration": 22,
    "start_time": "2023-04-17T04:15:31.844Z"
   },
   {
    "duration": 12,
    "start_time": "2023-04-17T04:15:31.868Z"
   },
   {
    "duration": 18,
    "start_time": "2023-04-17T04:15:31.882Z"
   },
   {
    "duration": 32,
    "start_time": "2023-04-17T04:15:31.901Z"
   },
   {
    "duration": 24,
    "start_time": "2023-04-17T04:15:31.934Z"
   },
   {
    "duration": 21,
    "start_time": "2023-04-17T04:15:31.959Z"
   },
   {
    "duration": 13,
    "start_time": "2023-04-17T04:15:31.981Z"
   },
   {
    "duration": 15,
    "start_time": "2023-04-17T04:15:31.995Z"
   },
   {
    "duration": 17,
    "start_time": "2023-04-17T04:15:32.011Z"
   },
   {
    "duration": 36,
    "start_time": "2023-04-17T04:15:32.029Z"
   },
   {
    "duration": 15,
    "start_time": "2023-04-17T04:15:32.067Z"
   },
   {
    "duration": 36,
    "start_time": "2023-04-17T04:15:32.084Z"
   },
   {
    "duration": 459,
    "start_time": "2023-04-17T04:15:32.121Z"
   },
   {
    "duration": 4,
    "start_time": "2023-04-17T04:15:32.582Z"
   },
   {
    "duration": 7,
    "start_time": "2023-04-17T04:15:32.591Z"
   },
   {
    "duration": 12,
    "start_time": "2023-04-17T04:15:32.599Z"
   },
   {
    "duration": 18,
    "start_time": "2023-04-17T04:15:32.612Z"
   },
   {
    "duration": 164,
    "start_time": "2023-04-17T04:15:32.631Z"
   },
   {
    "duration": 128,
    "start_time": "2023-04-17T04:15:32.796Z"
   },
   {
    "duration": 13,
    "start_time": "2023-04-17T04:15:32.925Z"
   },
   {
    "duration": 286,
    "start_time": "2023-04-17T04:15:32.948Z"
   },
   {
    "duration": 218,
    "start_time": "2023-04-17T04:15:33.236Z"
   },
   {
    "duration": 281,
    "start_time": "2023-04-17T04:15:33.455Z"
   },
   {
    "duration": 213,
    "start_time": "2023-04-17T04:15:33.738Z"
   },
   {
    "duration": 224,
    "start_time": "2023-04-17T04:15:33.953Z"
   },
   {
    "duration": 11,
    "start_time": "2023-04-17T04:15:34.179Z"
   },
   {
    "duration": 311,
    "start_time": "2023-04-17T04:15:34.192Z"
   },
   {
    "duration": 8,
    "start_time": "2023-04-17T04:15:34.505Z"
   },
   {
    "duration": 358,
    "start_time": "2023-04-17T04:15:34.515Z"
   },
   {
    "duration": 10,
    "start_time": "2023-04-17T04:15:34.875Z"
   },
   {
    "duration": 7,
    "start_time": "2023-04-17T04:15:34.886Z"
   },
   {
    "duration": 237,
    "start_time": "2023-04-17T04:15:34.895Z"
   },
   {
    "duration": 21,
    "start_time": "2023-04-17T04:15:35.134Z"
   },
   {
    "duration": 323,
    "start_time": "2023-04-17T04:15:35.156Z"
   },
   {
    "duration": 10,
    "start_time": "2023-04-17T04:15:35.481Z"
   },
   {
    "duration": 4,
    "start_time": "2023-04-17T04:15:35.492Z"
   },
   {
    "duration": 154,
    "start_time": "2023-04-17T04:15:35.497Z"
   },
   {
    "duration": 10,
    "start_time": "2023-04-17T04:15:35.653Z"
   },
   {
    "duration": 134,
    "start_time": "2023-04-17T04:15:35.664Z"
   },
   {
    "duration": 5,
    "start_time": "2023-04-17T04:15:35.800Z"
   },
   {
    "duration": 27,
    "start_time": "2023-04-17T04:15:35.806Z"
   },
   {
    "duration": 13,
    "start_time": "2023-04-17T04:15:35.835Z"
   },
   {
    "duration": 154,
    "start_time": "2023-04-17T04:15:35.849Z"
   },
   {
    "duration": 160,
    "start_time": "2023-04-17T04:15:36.005Z"
   },
   {
    "duration": 147,
    "start_time": "2023-04-17T04:15:36.166Z"
   },
   {
    "duration": 157,
    "start_time": "2023-04-17T04:15:36.315Z"
   },
   {
    "duration": 9,
    "start_time": "2023-04-17T04:15:36.473Z"
   },
   {
    "duration": 10,
    "start_time": "2023-04-17T04:15:36.483Z"
   },
   {
    "duration": 15,
    "start_time": "2023-04-17T04:15:36.495Z"
   },
   {
    "duration": 10,
    "start_time": "2023-04-17T04:15:36.511Z"
   },
   {
    "duration": 27,
    "start_time": "2023-04-17T04:15:36.522Z"
   },
   {
    "duration": 84,
    "start_time": "2023-04-17T04:15:36.551Z"
   },
   {
    "duration": 0,
    "start_time": "2023-04-17T04:15:36.637Z"
   },
   {
    "duration": 0,
    "start_time": "2023-04-17T04:15:36.638Z"
   },
   {
    "duration": 0,
    "start_time": "2023-04-17T04:15:36.640Z"
   },
   {
    "duration": 0,
    "start_time": "2023-04-17T04:15:36.640Z"
   },
   {
    "duration": 0,
    "start_time": "2023-04-17T04:15:36.642Z"
   },
   {
    "duration": 0,
    "start_time": "2023-04-17T04:15:36.643Z"
   },
   {
    "duration": 1,
    "start_time": "2023-04-17T04:15:36.643Z"
   },
   {
    "duration": 0,
    "start_time": "2023-04-17T04:15:36.644Z"
   },
   {
    "duration": 0,
    "start_time": "2023-04-17T04:15:36.645Z"
   },
   {
    "duration": 0,
    "start_time": "2023-04-17T04:15:36.647Z"
   },
   {
    "duration": 0,
    "start_time": "2023-04-17T04:15:36.648Z"
   },
   {
    "duration": 0,
    "start_time": "2023-04-17T04:15:36.649Z"
   },
   {
    "duration": 0,
    "start_time": "2023-04-17T04:15:36.650Z"
   },
   {
    "duration": 0,
    "start_time": "2023-04-17T04:15:36.652Z"
   },
   {
    "duration": 0,
    "start_time": "2023-04-17T04:15:36.653Z"
   },
   {
    "duration": 0,
    "start_time": "2023-04-17T04:15:36.654Z"
   },
   {
    "duration": 0,
    "start_time": "2023-04-17T04:15:36.655Z"
   },
   {
    "duration": 0,
    "start_time": "2023-04-17T04:15:36.656Z"
   },
   {
    "duration": 0,
    "start_time": "2023-04-17T04:15:36.657Z"
   },
   {
    "duration": 0,
    "start_time": "2023-04-17T04:15:36.658Z"
   },
   {
    "duration": 0,
    "start_time": "2023-04-17T04:15:36.659Z"
   },
   {
    "duration": 0,
    "start_time": "2023-04-17T04:15:36.659Z"
   },
   {
    "duration": 0,
    "start_time": "2023-04-17T04:15:36.660Z"
   },
   {
    "duration": 0,
    "start_time": "2023-04-17T04:15:36.661Z"
   },
   {
    "duration": 0,
    "start_time": "2023-04-17T04:15:36.662Z"
   },
   {
    "duration": 0,
    "start_time": "2023-04-17T04:15:36.663Z"
   },
   {
    "duration": 0,
    "start_time": "2023-04-17T04:15:36.664Z"
   },
   {
    "duration": 4,
    "start_time": "2023-04-17T04:16:00.815Z"
   },
   {
    "duration": 4,
    "start_time": "2023-04-17T04:16:26.692Z"
   },
   {
    "duration": 4,
    "start_time": "2023-04-17T04:17:34.702Z"
   },
   {
    "duration": 4,
    "start_time": "2023-04-17T04:18:00.918Z"
   },
   {
    "duration": 4,
    "start_time": "2023-04-17T04:18:13.744Z"
   },
   {
    "duration": 6,
    "start_time": "2023-04-17T04:18:44.348Z"
   },
   {
    "duration": 1170,
    "start_time": "2023-04-17T04:19:04.089Z"
   },
   {
    "duration": 28,
    "start_time": "2023-04-17T04:19:05.261Z"
   },
   {
    "duration": 5,
    "start_time": "2023-04-17T04:19:05.290Z"
   },
   {
    "duration": 26,
    "start_time": "2023-04-17T04:19:05.297Z"
   },
   {
    "duration": 6,
    "start_time": "2023-04-17T04:19:05.325Z"
   },
   {
    "duration": 36,
    "start_time": "2023-04-17T04:19:05.333Z"
   },
   {
    "duration": 56,
    "start_time": "2023-04-17T04:19:05.370Z"
   },
   {
    "duration": 15,
    "start_time": "2023-04-17T04:19:05.428Z"
   },
   {
    "duration": 15,
    "start_time": "2023-04-17T04:19:05.444Z"
   },
   {
    "duration": 43,
    "start_time": "2023-04-17T04:19:05.461Z"
   },
   {
    "duration": 22,
    "start_time": "2023-04-17T04:19:05.505Z"
   },
   {
    "duration": 5,
    "start_time": "2023-04-17T04:19:05.528Z"
   },
   {
    "duration": 6,
    "start_time": "2023-04-17T04:19:05.534Z"
   },
   {
    "duration": 7,
    "start_time": "2023-04-17T04:19:05.541Z"
   },
   {
    "duration": 5,
    "start_time": "2023-04-17T04:19:05.550Z"
   },
   {
    "duration": 6,
    "start_time": "2023-04-17T04:19:05.556Z"
   },
   {
    "duration": 9,
    "start_time": "2023-04-17T04:19:05.564Z"
   },
   {
    "duration": 14,
    "start_time": "2023-04-17T04:19:05.575Z"
   },
   {
    "duration": 12,
    "start_time": "2023-04-17T04:19:05.590Z"
   },
   {
    "duration": 4,
    "start_time": "2023-04-17T04:19:05.604Z"
   },
   {
    "duration": 9,
    "start_time": "2023-04-17T04:19:05.610Z"
   },
   {
    "duration": 6,
    "start_time": "2023-04-17T04:19:05.621Z"
   },
   {
    "duration": 45,
    "start_time": "2023-04-17T04:19:05.628Z"
   },
   {
    "duration": 17,
    "start_time": "2023-04-17T04:19:05.674Z"
   },
   {
    "duration": 20,
    "start_time": "2023-04-17T04:19:05.692Z"
   },
   {
    "duration": 463,
    "start_time": "2023-04-17T04:19:05.713Z"
   },
   {
    "duration": 5,
    "start_time": "2023-04-17T04:19:06.178Z"
   },
   {
    "duration": 20,
    "start_time": "2023-04-17T04:19:06.186Z"
   },
   {
    "duration": 6,
    "start_time": "2023-04-17T04:19:06.208Z"
   },
   {
    "duration": 12,
    "start_time": "2023-04-17T04:19:06.216Z"
   },
   {
    "duration": 159,
    "start_time": "2023-04-17T04:19:06.229Z"
   },
   {
    "duration": 125,
    "start_time": "2023-04-17T04:19:06.389Z"
   },
   {
    "duration": 13,
    "start_time": "2023-04-17T04:19:06.516Z"
   },
   {
    "duration": 292,
    "start_time": "2023-04-17T04:19:06.530Z"
   },
   {
    "duration": 214,
    "start_time": "2023-04-17T04:19:06.823Z"
   },
   {
    "duration": 271,
    "start_time": "2023-04-17T04:19:07.039Z"
   },
   {
    "duration": 214,
    "start_time": "2023-04-17T04:19:07.311Z"
   },
   {
    "duration": 228,
    "start_time": "2023-04-17T04:19:07.527Z"
   },
   {
    "duration": 11,
    "start_time": "2023-04-17T04:19:07.756Z"
   },
   {
    "duration": 301,
    "start_time": "2023-04-17T04:19:07.768Z"
   },
   {
    "duration": 7,
    "start_time": "2023-04-17T04:19:08.071Z"
   },
   {
    "duration": 290,
    "start_time": "2023-04-17T04:19:08.080Z"
   },
   {
    "duration": 11,
    "start_time": "2023-04-17T04:19:08.371Z"
   },
   {
    "duration": 6,
    "start_time": "2023-04-17T04:19:08.384Z"
   },
   {
    "duration": 249,
    "start_time": "2023-04-17T04:19:08.392Z"
   },
   {
    "duration": 15,
    "start_time": "2023-04-17T04:19:08.643Z"
   },
   {
    "duration": 351,
    "start_time": "2023-04-17T04:19:08.660Z"
   },
   {
    "duration": 13,
    "start_time": "2023-04-17T04:19:09.013Z"
   },
   {
    "duration": 25,
    "start_time": "2023-04-17T04:19:09.027Z"
   },
   {
    "duration": 168,
    "start_time": "2023-04-17T04:19:09.054Z"
   },
   {
    "duration": 13,
    "start_time": "2023-04-17T04:19:09.223Z"
   },
   {
    "duration": 147,
    "start_time": "2023-04-17T04:19:09.237Z"
   },
   {
    "duration": 5,
    "start_time": "2023-04-17T04:19:09.386Z"
   },
   {
    "duration": 10,
    "start_time": "2023-04-17T04:19:09.393Z"
   },
   {
    "duration": 38,
    "start_time": "2023-04-17T04:19:09.404Z"
   },
   {
    "duration": 159,
    "start_time": "2023-04-17T04:19:09.443Z"
   },
   {
    "duration": 174,
    "start_time": "2023-04-17T04:19:09.604Z"
   },
   {
    "duration": 177,
    "start_time": "2023-04-17T04:19:09.780Z"
   },
   {
    "duration": 180,
    "start_time": "2023-04-17T04:19:09.959Z"
   },
   {
    "duration": 13,
    "start_time": "2023-04-17T04:19:10.141Z"
   },
   {
    "duration": 24,
    "start_time": "2023-04-17T04:19:10.155Z"
   },
   {
    "duration": 20,
    "start_time": "2023-04-17T04:19:10.182Z"
   },
   {
    "duration": 15,
    "start_time": "2023-04-17T04:19:10.204Z"
   },
   {
    "duration": 10,
    "start_time": "2023-04-17T04:19:10.221Z"
   },
   {
    "duration": 21,
    "start_time": "2023-04-17T04:19:10.232Z"
   },
   {
    "duration": 27,
    "start_time": "2023-04-17T04:19:10.255Z"
   },
   {
    "duration": 51,
    "start_time": "2023-04-17T04:19:10.284Z"
   },
   {
    "duration": 18,
    "start_time": "2023-04-17T04:19:10.336Z"
   },
   {
    "duration": 52,
    "start_time": "2023-04-17T04:19:10.356Z"
   },
   {
    "duration": 22,
    "start_time": "2023-04-17T04:19:10.409Z"
   },
   {
    "duration": 57,
    "start_time": "2023-04-17T04:19:10.432Z"
   },
   {
    "duration": 35,
    "start_time": "2023-04-17T04:19:10.491Z"
   },
   {
    "duration": 51,
    "start_time": "2023-04-17T04:19:10.528Z"
   },
   {
    "duration": 37,
    "start_time": "2023-04-17T04:19:10.581Z"
   },
   {
    "duration": 71,
    "start_time": "2023-04-17T04:19:10.619Z"
   },
   {
    "duration": 112,
    "start_time": "2023-04-17T04:19:10.691Z"
   },
   {
    "duration": 8,
    "start_time": "2023-04-17T04:19:10.805Z"
   },
   {
    "duration": 15,
    "start_time": "2023-04-17T04:19:10.814Z"
   },
   {
    "duration": 33,
    "start_time": "2023-04-17T04:19:10.831Z"
   },
   {
    "duration": 5,
    "start_time": "2023-04-17T04:19:10.865Z"
   },
   {
    "duration": 19,
    "start_time": "2023-04-17T04:19:10.872Z"
   },
   {
    "duration": 7,
    "start_time": "2023-04-17T04:19:10.897Z"
   },
   {
    "duration": 12,
    "start_time": "2023-04-17T04:19:10.905Z"
   },
   {
    "duration": 32,
    "start_time": "2023-04-17T04:19:10.918Z"
   },
   {
    "duration": 14,
    "start_time": "2023-04-17T04:19:10.952Z"
   },
   {
    "duration": 5,
    "start_time": "2023-04-17T04:19:10.968Z"
   },
   {
    "duration": 23,
    "start_time": "2023-04-17T04:19:10.974Z"
   },
   {
    "duration": 18,
    "start_time": "2023-04-17T04:19:10.999Z"
   },
   {
    "duration": 40,
    "start_time": "2023-04-17T04:19:11.018Z"
   },
   {
    "duration": 4,
    "start_time": "2023-04-17T04:19:11.060Z"
   },
   {
    "duration": 28,
    "start_time": "2023-04-17T04:19:11.066Z"
   },
   {
    "duration": 21,
    "start_time": "2023-04-17T04:19:11.096Z"
   },
   {
    "duration": 3,
    "start_time": "2023-04-17T04:22:20.173Z"
   },
   {
    "duration": 6,
    "start_time": "2023-04-17T04:22:33.373Z"
   },
   {
    "duration": 1206,
    "start_time": "2023-04-17T05:21:33.958Z"
   },
   {
    "duration": 28,
    "start_time": "2023-04-17T05:21:35.166Z"
   },
   {
    "duration": 30,
    "start_time": "2023-04-17T05:21:35.195Z"
   },
   {
    "duration": 68,
    "start_time": "2023-04-17T05:21:35.227Z"
   },
   {
    "duration": 5,
    "start_time": "2023-04-17T05:21:35.297Z"
   },
   {
    "duration": 5,
    "start_time": "2023-04-17T05:21:35.304Z"
   },
   {
    "duration": 58,
    "start_time": "2023-04-17T05:21:35.311Z"
   },
   {
    "duration": 16,
    "start_time": "2023-04-17T05:21:35.370Z"
   },
   {
    "duration": 16,
    "start_time": "2023-04-17T05:21:35.388Z"
   },
   {
    "duration": 49,
    "start_time": "2023-04-17T05:21:35.406Z"
   },
   {
    "duration": 27,
    "start_time": "2023-04-17T05:21:35.456Z"
   },
   {
    "duration": 16,
    "start_time": "2023-04-17T05:21:35.485Z"
   },
   {
    "duration": 15,
    "start_time": "2023-04-17T05:21:35.502Z"
   },
   {
    "duration": 19,
    "start_time": "2023-04-17T05:21:35.519Z"
   },
   {
    "duration": 19,
    "start_time": "2023-04-17T05:21:35.540Z"
   },
   {
    "duration": 17,
    "start_time": "2023-04-17T05:21:35.560Z"
   },
   {
    "duration": 17,
    "start_time": "2023-04-17T05:21:35.578Z"
   },
   {
    "duration": 36,
    "start_time": "2023-04-17T05:21:35.596Z"
   },
   {
    "duration": 28,
    "start_time": "2023-04-17T05:21:35.633Z"
   },
   {
    "duration": 24,
    "start_time": "2023-04-17T05:21:35.663Z"
   },
   {
    "duration": 25,
    "start_time": "2023-04-17T05:21:35.688Z"
   },
   {
    "duration": 23,
    "start_time": "2023-04-17T05:21:35.714Z"
   },
   {
    "duration": 38,
    "start_time": "2023-04-17T05:21:35.739Z"
   },
   {
    "duration": 19,
    "start_time": "2023-04-17T05:21:35.778Z"
   },
   {
    "duration": 19,
    "start_time": "2023-04-17T05:21:35.799Z"
   },
   {
    "duration": 480,
    "start_time": "2023-04-17T05:21:35.820Z"
   },
   {
    "duration": 6,
    "start_time": "2023-04-17T05:21:36.302Z"
   },
   {
    "duration": 10,
    "start_time": "2023-04-17T05:21:36.312Z"
   },
   {
    "duration": 12,
    "start_time": "2023-04-17T05:21:36.323Z"
   },
   {
    "duration": 14,
    "start_time": "2023-04-17T05:21:36.337Z"
   },
   {
    "duration": 169,
    "start_time": "2023-04-17T05:21:36.353Z"
   },
   {
    "duration": 152,
    "start_time": "2023-04-17T05:21:36.524Z"
   },
   {
    "duration": 12,
    "start_time": "2023-04-17T05:21:36.677Z"
   },
   {
    "duration": 295,
    "start_time": "2023-04-17T05:21:36.690Z"
   },
   {
    "duration": 224,
    "start_time": "2023-04-17T05:21:36.987Z"
   },
   {
    "duration": 273,
    "start_time": "2023-04-17T05:21:37.212Z"
   },
   {
    "duration": 220,
    "start_time": "2023-04-17T05:21:37.486Z"
   },
   {
    "duration": 230,
    "start_time": "2023-04-17T05:21:37.708Z"
   },
   {
    "duration": 17,
    "start_time": "2023-04-17T05:21:37.940Z"
   },
   {
    "duration": 306,
    "start_time": "2023-04-17T05:21:37.958Z"
   },
   {
    "duration": 6,
    "start_time": "2023-04-17T05:21:38.265Z"
   },
   {
    "duration": 299,
    "start_time": "2023-04-17T05:21:38.272Z"
   },
   {
    "duration": 10,
    "start_time": "2023-04-17T05:21:38.573Z"
   },
   {
    "duration": 12,
    "start_time": "2023-04-17T05:21:38.585Z"
   },
   {
    "duration": 225,
    "start_time": "2023-04-17T05:21:38.599Z"
   },
   {
    "duration": 13,
    "start_time": "2023-04-17T05:21:38.825Z"
   },
   {
    "duration": 328,
    "start_time": "2023-04-17T05:21:38.848Z"
   },
   {
    "duration": 11,
    "start_time": "2023-04-17T05:21:39.177Z"
   },
   {
    "duration": 7,
    "start_time": "2023-04-17T05:21:39.190Z"
   },
   {
    "duration": 154,
    "start_time": "2023-04-17T05:21:39.199Z"
   },
   {
    "duration": 10,
    "start_time": "2023-04-17T05:21:39.355Z"
   },
   {
    "duration": 138,
    "start_time": "2023-04-17T05:21:39.367Z"
   },
   {
    "duration": 4,
    "start_time": "2023-04-17T05:21:39.507Z"
   },
   {
    "duration": 6,
    "start_time": "2023-04-17T05:21:39.513Z"
   },
   {
    "duration": 10,
    "start_time": "2023-04-17T05:21:39.520Z"
   },
   {
    "duration": 173,
    "start_time": "2023-04-17T05:21:39.532Z"
   },
   {
    "duration": 188,
    "start_time": "2023-04-17T05:21:39.707Z"
   },
   {
    "duration": 156,
    "start_time": "2023-04-17T05:21:39.896Z"
   },
   {
    "duration": 159,
    "start_time": "2023-04-17T05:21:40.054Z"
   },
   {
    "duration": 7,
    "start_time": "2023-04-17T05:21:40.214Z"
   },
   {
    "duration": 25,
    "start_time": "2023-04-17T05:21:40.223Z"
   },
   {
    "duration": 16,
    "start_time": "2023-04-17T05:21:40.250Z"
   },
   {
    "duration": 17,
    "start_time": "2023-04-17T05:21:40.267Z"
   },
   {
    "duration": 5,
    "start_time": "2023-04-17T05:21:40.286Z"
   },
   {
    "duration": 18,
    "start_time": "2023-04-17T05:21:40.292Z"
   },
   {
    "duration": 16,
    "start_time": "2023-04-17T05:21:40.312Z"
   },
   {
    "duration": 47,
    "start_time": "2023-04-17T05:21:40.330Z"
   },
   {
    "duration": 15,
    "start_time": "2023-04-17T05:21:40.379Z"
   },
   {
    "duration": 55,
    "start_time": "2023-04-17T05:21:40.395Z"
   },
   {
    "duration": 27,
    "start_time": "2023-04-17T05:21:40.452Z"
   },
   {
    "duration": 52,
    "start_time": "2023-04-17T05:21:40.481Z"
   },
   {
    "duration": 28,
    "start_time": "2023-04-17T05:21:40.535Z"
   },
   {
    "duration": 50,
    "start_time": "2023-04-17T05:21:40.565Z"
   },
   {
    "duration": 48,
    "start_time": "2023-04-17T05:21:40.617Z"
   },
   {
    "duration": 65,
    "start_time": "2023-04-17T05:21:40.666Z"
   },
   {
    "duration": 73,
    "start_time": "2023-04-17T05:21:40.749Z"
   },
   {
    "duration": 25,
    "start_time": "2023-04-17T05:21:40.824Z"
   },
   {
    "duration": 6,
    "start_time": "2023-04-17T05:21:40.851Z"
   },
   {
    "duration": 23,
    "start_time": "2023-04-17T05:21:40.859Z"
   },
   {
    "duration": 5,
    "start_time": "2023-04-17T05:21:40.883Z"
   },
   {
    "duration": 11,
    "start_time": "2023-04-17T05:21:40.889Z"
   },
   {
    "duration": 7,
    "start_time": "2023-04-17T05:21:40.905Z"
   },
   {
    "duration": 9,
    "start_time": "2023-04-17T05:21:40.913Z"
   },
   {
    "duration": 7,
    "start_time": "2023-04-17T05:21:40.949Z"
   },
   {
    "duration": 7,
    "start_time": "2023-04-17T05:21:40.958Z"
   },
   {
    "duration": 5,
    "start_time": "2023-04-17T05:21:40.966Z"
   },
   {
    "duration": 11,
    "start_time": "2023-04-17T05:21:40.972Z"
   },
   {
    "duration": 18,
    "start_time": "2023-04-17T05:21:40.984Z"
   },
   {
    "duration": 49,
    "start_time": "2023-04-17T05:21:41.004Z"
   },
   {
    "duration": 5,
    "start_time": "2023-04-17T05:21:41.055Z"
   },
   {
    "duration": 23,
    "start_time": "2023-04-17T05:21:41.061Z"
   },
   {
    "duration": 13,
    "start_time": "2023-04-17T05:21:41.087Z"
   },
   {
    "duration": 5,
    "start_time": "2023-04-17T06:18:08.677Z"
   },
   {
    "duration": 8,
    "start_time": "2023-04-17T06:18:24.482Z"
   },
   {
    "duration": 4,
    "start_time": "2023-04-17T06:18:39.976Z"
   },
   {
    "duration": 5,
    "start_time": "2023-04-17T06:19:06.347Z"
   },
   {
    "duration": 5,
    "start_time": "2023-04-17T06:19:24.250Z"
   },
   {
    "duration": 5,
    "start_time": "2023-04-17T06:20:59.601Z"
   },
   {
    "duration": 5,
    "start_time": "2023-04-17T06:21:02.515Z"
   },
   {
    "duration": 6,
    "start_time": "2023-04-17T06:27:46.830Z"
   },
   {
    "duration": 5,
    "start_time": "2023-04-17T06:27:55.071Z"
   },
   {
    "duration": 6,
    "start_time": "2023-04-17T06:28:09.635Z"
   },
   {
    "duration": 1290,
    "start_time": "2023-04-17T06:35:19.666Z"
   },
   {
    "duration": 29,
    "start_time": "2023-04-17T06:35:20.958Z"
   },
   {
    "duration": 4,
    "start_time": "2023-04-17T06:35:20.989Z"
   },
   {
    "duration": 61,
    "start_time": "2023-04-17T06:35:20.995Z"
   },
   {
    "duration": 15,
    "start_time": "2023-04-17T06:35:21.058Z"
   },
   {
    "duration": 14,
    "start_time": "2023-04-17T06:35:21.076Z"
   },
   {
    "duration": 82,
    "start_time": "2023-04-17T06:35:21.092Z"
   },
   {
    "duration": 19,
    "start_time": "2023-04-17T06:35:21.176Z"
   },
   {
    "duration": 16,
    "start_time": "2023-04-17T06:35:21.197Z"
   },
   {
    "duration": 59,
    "start_time": "2023-04-17T06:35:21.215Z"
   },
   {
    "duration": 23,
    "start_time": "2023-04-17T06:35:21.276Z"
   },
   {
    "duration": 5,
    "start_time": "2023-04-17T06:35:21.301Z"
   },
   {
    "duration": 12,
    "start_time": "2023-04-17T06:35:21.308Z"
   },
   {
    "duration": 13,
    "start_time": "2023-04-17T06:35:21.321Z"
   },
   {
    "duration": 15,
    "start_time": "2023-04-17T06:35:21.336Z"
   },
   {
    "duration": 5,
    "start_time": "2023-04-17T06:35:21.353Z"
   },
   {
    "duration": 10,
    "start_time": "2023-04-17T06:35:21.359Z"
   },
   {
    "duration": 8,
    "start_time": "2023-04-17T06:35:21.370Z"
   },
   {
    "duration": 11,
    "start_time": "2023-04-17T06:35:21.379Z"
   },
   {
    "duration": 16,
    "start_time": "2023-04-17T06:35:21.392Z"
   },
   {
    "duration": 14,
    "start_time": "2023-04-17T06:35:21.409Z"
   },
   {
    "duration": 30,
    "start_time": "2023-04-17T06:35:21.425Z"
   },
   {
    "duration": 21,
    "start_time": "2023-04-17T06:35:21.457Z"
   },
   {
    "duration": 15,
    "start_time": "2023-04-17T06:35:21.479Z"
   },
   {
    "duration": 18,
    "start_time": "2023-04-17T06:35:21.496Z"
   },
   {
    "duration": 12,
    "start_time": "2023-04-17T06:35:21.515Z"
   },
   {
    "duration": 12,
    "start_time": "2023-04-17T06:35:21.528Z"
   },
   {
    "duration": 446,
    "start_time": "2023-04-17T06:35:21.546Z"
   },
   {
    "duration": 6,
    "start_time": "2023-04-17T06:35:21.994Z"
   },
   {
    "duration": 10,
    "start_time": "2023-04-17T06:35:22.001Z"
   },
   {
    "duration": 13,
    "start_time": "2023-04-17T06:35:22.013Z"
   },
   {
    "duration": 22,
    "start_time": "2023-04-17T06:35:22.028Z"
   },
   {
    "duration": 185,
    "start_time": "2023-04-17T06:35:22.052Z"
   },
   {
    "duration": 133,
    "start_time": "2023-04-17T06:35:22.239Z"
   },
   {
    "duration": 12,
    "start_time": "2023-04-17T06:35:22.374Z"
   },
   {
    "duration": 297,
    "start_time": "2023-04-17T06:35:22.388Z"
   },
   {
    "duration": 224,
    "start_time": "2023-04-17T06:35:22.687Z"
   },
   {
    "duration": 290,
    "start_time": "2023-04-17T06:35:22.913Z"
   },
   {
    "duration": 217,
    "start_time": "2023-04-17T06:35:23.204Z"
   },
   {
    "duration": 236,
    "start_time": "2023-04-17T06:35:23.422Z"
   },
   {
    "duration": 12,
    "start_time": "2023-04-17T06:35:23.660Z"
   },
   {
    "duration": 302,
    "start_time": "2023-04-17T06:35:23.674Z"
   },
   {
    "duration": 6,
    "start_time": "2023-04-17T06:35:23.977Z"
   },
   {
    "duration": 298,
    "start_time": "2023-04-17T06:35:23.984Z"
   },
   {
    "duration": 14,
    "start_time": "2023-04-17T06:35:24.284Z"
   },
   {
    "duration": 41,
    "start_time": "2023-04-17T06:35:24.300Z"
   },
   {
    "duration": 331,
    "start_time": "2023-04-17T06:35:24.343Z"
   },
   {
    "duration": 12,
    "start_time": "2023-04-17T06:35:24.676Z"
   },
   {
    "duration": 287,
    "start_time": "2023-04-17T06:35:24.690Z"
   },
   {
    "duration": 11,
    "start_time": "2023-04-17T06:35:24.979Z"
   },
   {
    "duration": 4,
    "start_time": "2023-04-17T06:35:24.992Z"
   },
   {
    "duration": 167,
    "start_time": "2023-04-17T06:35:24.998Z"
   },
   {
    "duration": 11,
    "start_time": "2023-04-17T06:35:25.167Z"
   },
   {
    "duration": 146,
    "start_time": "2023-04-17T06:35:25.179Z"
   },
   {
    "duration": 5,
    "start_time": "2023-04-17T06:35:25.326Z"
   },
   {
    "duration": 18,
    "start_time": "2023-04-17T06:35:25.332Z"
   },
   {
    "duration": 20,
    "start_time": "2023-04-17T06:35:25.351Z"
   },
   {
    "duration": 151,
    "start_time": "2023-04-17T06:35:25.373Z"
   },
   {
    "duration": 163,
    "start_time": "2023-04-17T06:35:25.525Z"
   },
   {
    "duration": 160,
    "start_time": "2023-04-17T06:35:25.689Z"
   },
   {
    "duration": 164,
    "start_time": "2023-04-17T06:35:25.851Z"
   },
   {
    "duration": 5,
    "start_time": "2023-04-17T06:35:26.017Z"
   },
   {
    "duration": 18,
    "start_time": "2023-04-17T06:35:26.023Z"
   },
   {
    "duration": 10,
    "start_time": "2023-04-17T06:35:26.043Z"
   },
   {
    "duration": 8,
    "start_time": "2023-04-17T06:35:26.055Z"
   },
   {
    "duration": 13,
    "start_time": "2023-04-17T06:35:26.064Z"
   },
   {
    "duration": 10,
    "start_time": "2023-04-17T06:35:26.078Z"
   },
   {
    "duration": 28,
    "start_time": "2023-04-17T06:35:26.089Z"
   },
   {
    "duration": 6,
    "start_time": "2023-04-17T06:35:26.119Z"
   },
   {
    "duration": 10,
    "start_time": "2023-04-17T06:35:26.126Z"
   },
   {
    "duration": 57,
    "start_time": "2023-04-17T06:35:26.137Z"
   },
   {
    "duration": 9,
    "start_time": "2023-04-17T06:35:26.196Z"
   },
   {
    "duration": 57,
    "start_time": "2023-04-17T06:35:26.207Z"
   },
   {
    "duration": 19,
    "start_time": "2023-04-17T06:35:26.266Z"
   },
   {
    "duration": 62,
    "start_time": "2023-04-17T06:35:26.287Z"
   },
   {
    "duration": 19,
    "start_time": "2023-04-17T06:35:26.350Z"
   },
   {
    "duration": 61,
    "start_time": "2023-04-17T06:35:26.370Z"
   },
   {
    "duration": 40,
    "start_time": "2023-04-17T06:35:26.432Z"
   },
   {
    "duration": 80,
    "start_time": "2023-04-17T06:35:26.473Z"
   },
   {
    "duration": 95,
    "start_time": "2023-04-17T06:35:26.554Z"
   },
   {
    "duration": 7,
    "start_time": "2023-04-17T06:35:26.650Z"
   },
   {
    "duration": 6,
    "start_time": "2023-04-17T06:35:26.662Z"
   },
   {
    "duration": 31,
    "start_time": "2023-04-17T06:35:26.670Z"
   },
   {
    "duration": 4,
    "start_time": "2023-04-17T06:35:26.702Z"
   },
   {
    "duration": 7,
    "start_time": "2023-04-17T06:35:26.708Z"
   },
   {
    "duration": 34,
    "start_time": "2023-04-17T06:35:26.716Z"
   },
   {
    "duration": 7,
    "start_time": "2023-04-17T06:35:26.751Z"
   },
   {
    "duration": 11,
    "start_time": "2023-04-17T06:35:26.760Z"
   },
   {
    "duration": 10,
    "start_time": "2023-04-17T06:35:26.773Z"
   },
   {
    "duration": 13,
    "start_time": "2023-04-17T06:35:26.784Z"
   },
   {
    "duration": 9,
    "start_time": "2023-04-17T06:35:26.799Z"
   },
   {
    "duration": 7,
    "start_time": "2023-04-17T06:35:26.809Z"
   },
   {
    "duration": 49,
    "start_time": "2023-04-17T06:35:26.817Z"
   },
   {
    "duration": 5,
    "start_time": "2023-04-17T06:35:26.868Z"
   },
   {
    "duration": 22,
    "start_time": "2023-04-17T06:35:26.875Z"
   },
   {
    "duration": 7,
    "start_time": "2023-04-17T06:35:26.900Z"
   },
   {
    "duration": 3187,
    "start_time": "2023-04-17T07:29:37.647Z"
   },
   {
    "duration": 96,
    "start_time": "2023-04-17T07:30:37.275Z"
   },
   {
    "duration": 88,
    "start_time": "2023-04-17T07:30:51.636Z"
   },
   {
    "duration": 101,
    "start_time": "2023-04-17T07:30:59.549Z"
   },
   {
    "duration": 92,
    "start_time": "2023-04-17T07:31:16.605Z"
   },
   {
    "duration": 98,
    "start_time": "2023-04-17T07:32:03.378Z"
   },
   {
    "duration": 94,
    "start_time": "2023-04-17T07:32:17.322Z"
   },
   {
    "duration": 103,
    "start_time": "2023-04-17T07:32:29.783Z"
   },
   {
    "duration": 11,
    "start_time": "2023-04-17T07:33:50.409Z"
   },
   {
    "duration": 11,
    "start_time": "2023-04-17T07:33:58.816Z"
   },
   {
    "duration": 431,
    "start_time": "2023-04-17T07:36:03.372Z"
   },
   {
    "duration": 489,
    "start_time": "2023-04-17T07:36:11.445Z"
   },
   {
    "duration": 15,
    "start_time": "2023-04-17T07:36:19.071Z"
   },
   {
    "duration": 4,
    "start_time": "2023-04-17T07:39:40.677Z"
   },
   {
    "duration": 11,
    "start_time": "2023-04-17T07:41:10.813Z"
   },
   {
    "duration": 12,
    "start_time": "2023-04-17T07:43:58.743Z"
   },
   {
    "duration": 5,
    "start_time": "2023-04-17T07:52:39.624Z"
   },
   {
    "duration": 1229,
    "start_time": "2023-04-17T08:16:54.629Z"
   },
   {
    "duration": 28,
    "start_time": "2023-04-17T08:16:55.860Z"
   },
   {
    "duration": 4,
    "start_time": "2023-04-17T08:16:55.889Z"
   },
   {
    "duration": 44,
    "start_time": "2023-04-17T08:16:55.896Z"
   },
   {
    "duration": 7,
    "start_time": "2023-04-17T08:16:55.941Z"
   },
   {
    "duration": 14,
    "start_time": "2023-04-17T08:16:55.950Z"
   },
   {
    "duration": 61,
    "start_time": "2023-04-17T08:16:55.965Z"
   },
   {
    "duration": 22,
    "start_time": "2023-04-17T08:16:56.028Z"
   },
   {
    "duration": 16,
    "start_time": "2023-04-17T08:16:56.051Z"
   },
   {
    "duration": 41,
    "start_time": "2023-04-17T08:16:56.070Z"
   },
   {
    "duration": 24,
    "start_time": "2023-04-17T08:16:56.112Z"
   },
   {
    "duration": 5,
    "start_time": "2023-04-17T08:16:56.138Z"
   },
   {
    "duration": 5,
    "start_time": "2023-04-17T08:16:56.149Z"
   },
   {
    "duration": 22,
    "start_time": "2023-04-17T08:16:56.156Z"
   },
   {
    "duration": 20,
    "start_time": "2023-04-17T08:16:56.180Z"
   },
   {
    "duration": 4,
    "start_time": "2023-04-17T08:16:56.202Z"
   },
   {
    "duration": 19,
    "start_time": "2023-04-17T08:16:56.207Z"
   },
   {
    "duration": 12,
    "start_time": "2023-04-17T08:16:56.228Z"
   },
   {
    "duration": 12,
    "start_time": "2023-04-17T08:16:56.241Z"
   },
   {
    "duration": 5,
    "start_time": "2023-04-17T08:16:56.254Z"
   },
   {
    "duration": 20,
    "start_time": "2023-04-17T08:16:56.260Z"
   },
   {
    "duration": 12,
    "start_time": "2023-04-17T08:16:56.281Z"
   },
   {
    "duration": 30,
    "start_time": "2023-04-17T08:16:56.295Z"
   },
   {
    "duration": 15,
    "start_time": "2023-04-17T08:16:56.327Z"
   },
   {
    "duration": 24,
    "start_time": "2023-04-17T08:16:56.344Z"
   },
   {
    "duration": 8,
    "start_time": "2023-04-17T08:16:56.369Z"
   },
   {
    "duration": 31,
    "start_time": "2023-04-17T08:16:56.378Z"
   },
   {
    "duration": 471,
    "start_time": "2023-04-17T08:16:56.413Z"
   },
   {
    "duration": 5,
    "start_time": "2023-04-17T08:16:56.886Z"
   },
   {
    "duration": 8,
    "start_time": "2023-04-17T08:16:56.893Z"
   },
   {
    "duration": 6,
    "start_time": "2023-04-17T08:16:56.903Z"
   },
   {
    "duration": 13,
    "start_time": "2023-04-17T08:16:56.911Z"
   },
   {
    "duration": 173,
    "start_time": "2023-04-17T08:16:56.926Z"
   },
   {
    "duration": 133,
    "start_time": "2023-04-17T08:16:57.100Z"
   },
   {
    "duration": 25,
    "start_time": "2023-04-17T08:16:57.235Z"
   },
   {
    "duration": 309,
    "start_time": "2023-04-17T08:16:57.262Z"
   },
   {
    "duration": 221,
    "start_time": "2023-04-17T08:16:57.573Z"
   },
   {
    "duration": 289,
    "start_time": "2023-04-17T08:16:57.796Z"
   },
   {
    "duration": 219,
    "start_time": "2023-04-17T08:16:58.087Z"
   },
   {
    "duration": 227,
    "start_time": "2023-04-17T08:16:58.308Z"
   },
   {
    "duration": 17,
    "start_time": "2023-04-17T08:16:58.537Z"
   },
   {
    "duration": 308,
    "start_time": "2023-04-17T08:16:58.555Z"
   },
   {
    "duration": 6,
    "start_time": "2023-04-17T08:16:58.864Z"
   },
   {
    "duration": 308,
    "start_time": "2023-04-17T08:16:58.871Z"
   },
   {
    "duration": 10,
    "start_time": "2023-04-17T08:16:59.181Z"
   },
   {
    "duration": 6,
    "start_time": "2023-04-17T08:16:59.193Z"
   },
   {
    "duration": 236,
    "start_time": "2023-04-17T08:16:59.200Z"
   },
   {
    "duration": 19,
    "start_time": "2023-04-17T08:16:59.438Z"
   },
   {
    "duration": 342,
    "start_time": "2023-04-17T08:16:59.459Z"
   },
   {
    "duration": 14,
    "start_time": "2023-04-17T08:16:59.810Z"
   },
   {
    "duration": 16,
    "start_time": "2023-04-17T08:16:59.826Z"
   },
   {
    "duration": 164,
    "start_time": "2023-04-17T08:16:59.844Z"
   },
   {
    "duration": 12,
    "start_time": "2023-04-17T08:17:00.010Z"
   },
   {
    "duration": 154,
    "start_time": "2023-04-17T08:17:00.024Z"
   },
   {
    "duration": 11,
    "start_time": "2023-04-17T08:17:00.180Z"
   },
   {
    "duration": 23,
    "start_time": "2023-04-17T08:17:00.193Z"
   },
   {
    "duration": 8,
    "start_time": "2023-04-17T08:17:00.217Z"
   },
   {
    "duration": 8,
    "start_time": "2023-04-17T08:17:00.226Z"
   },
   {
    "duration": 4,
    "start_time": "2023-04-17T08:17:00.248Z"
   },
   {
    "duration": 163,
    "start_time": "2023-04-17T08:17:00.253Z"
   },
   {
    "duration": 180,
    "start_time": "2023-04-17T08:17:00.417Z"
   },
   {
    "duration": 177,
    "start_time": "2023-04-17T08:17:00.599Z"
   },
   {
    "duration": 184,
    "start_time": "2023-04-17T08:17:00.778Z"
   },
   {
    "duration": 7,
    "start_time": "2023-04-17T08:17:00.963Z"
   },
   {
    "duration": 18,
    "start_time": "2023-04-17T08:17:00.972Z"
   },
   {
    "duration": 23,
    "start_time": "2023-04-17T08:17:00.992Z"
   },
   {
    "duration": 37,
    "start_time": "2023-04-17T08:17:01.017Z"
   },
   {
    "duration": 32,
    "start_time": "2023-04-17T08:17:01.057Z"
   },
   {
    "duration": 40,
    "start_time": "2023-04-17T08:17:01.090Z"
   },
   {
    "duration": 28,
    "start_time": "2023-04-17T08:17:01.132Z"
   },
   {
    "duration": 52,
    "start_time": "2023-04-17T08:17:01.162Z"
   },
   {
    "duration": 43,
    "start_time": "2023-04-17T08:17:01.216Z"
   },
   {
    "duration": 124,
    "start_time": "2023-04-17T08:17:01.260Z"
   },
   {
    "duration": 83,
    "start_time": "2023-04-17T08:17:01.386Z"
   },
   {
    "duration": 120,
    "start_time": "2023-04-17T08:17:01.471Z"
   },
   {
    "duration": 88,
    "start_time": "2023-04-17T08:17:01.593Z"
   },
   {
    "duration": 76,
    "start_time": "2023-04-17T08:17:01.683Z"
   },
   {
    "duration": 97,
    "start_time": "2023-04-17T08:17:01.761Z"
   },
   {
    "duration": 179,
    "start_time": "2023-04-17T08:17:01.861Z"
   },
   {
    "duration": 117,
    "start_time": "2023-04-17T08:17:02.042Z"
   },
   {
    "duration": 104,
    "start_time": "2023-04-17T08:17:02.161Z"
   },
   {
    "duration": 132,
    "start_time": "2023-04-17T08:17:02.271Z"
   },
   {
    "duration": 0,
    "start_time": "2023-04-17T08:17:02.404Z"
   },
   {
    "duration": 0,
    "start_time": "2023-04-17T08:17:02.406Z"
   },
   {
    "duration": 0,
    "start_time": "2023-04-17T08:17:02.408Z"
   },
   {
    "duration": 0,
    "start_time": "2023-04-17T08:17:02.409Z"
   },
   {
    "duration": 0,
    "start_time": "2023-04-17T08:17:02.410Z"
   },
   {
    "duration": 0,
    "start_time": "2023-04-17T08:17:02.412Z"
   },
   {
    "duration": 0,
    "start_time": "2023-04-17T08:17:02.413Z"
   },
   {
    "duration": 0,
    "start_time": "2023-04-17T08:17:02.415Z"
   },
   {
    "duration": 0,
    "start_time": "2023-04-17T08:17:02.417Z"
   },
   {
    "duration": 0,
    "start_time": "2023-04-17T08:17:02.424Z"
   },
   {
    "duration": 0,
    "start_time": "2023-04-17T08:17:02.449Z"
   },
   {
    "duration": 0,
    "start_time": "2023-04-17T08:17:02.451Z"
   },
   {
    "duration": 0,
    "start_time": "2023-04-17T08:17:02.453Z"
   },
   {
    "duration": 0,
    "start_time": "2023-04-17T08:17:02.455Z"
   },
   {
    "duration": 0,
    "start_time": "2023-04-17T08:17:02.456Z"
   },
   {
    "duration": 7,
    "start_time": "2023-04-17T08:19:38.147Z"
   },
   {
    "duration": 9,
    "start_time": "2023-04-17T08:20:42.628Z"
   },
   {
    "duration": 22,
    "start_time": "2023-04-17T08:20:49.129Z"
   },
   {
    "duration": 5,
    "start_time": "2023-04-17T08:20:51.283Z"
   },
   {
    "duration": 1283,
    "start_time": "2023-04-17T08:22:11.258Z"
   },
   {
    "duration": 27,
    "start_time": "2023-04-17T08:22:12.543Z"
   },
   {
    "duration": 4,
    "start_time": "2023-04-17T08:22:12.574Z"
   },
   {
    "duration": 39,
    "start_time": "2023-04-17T08:22:12.580Z"
   },
   {
    "duration": 6,
    "start_time": "2023-04-17T08:22:12.620Z"
   },
   {
    "duration": 11,
    "start_time": "2023-04-17T08:22:12.627Z"
   },
   {
    "duration": 65,
    "start_time": "2023-04-17T08:22:12.639Z"
   },
   {
    "duration": 16,
    "start_time": "2023-04-17T08:22:12.705Z"
   },
   {
    "duration": 35,
    "start_time": "2023-04-17T08:22:12.724Z"
   },
   {
    "duration": 51,
    "start_time": "2023-04-17T08:22:12.761Z"
   },
   {
    "duration": 26,
    "start_time": "2023-04-17T08:22:12.814Z"
   },
   {
    "duration": 9,
    "start_time": "2023-04-17T08:22:12.842Z"
   },
   {
    "duration": 22,
    "start_time": "2023-04-17T08:22:12.853Z"
   },
   {
    "duration": 15,
    "start_time": "2023-04-17T08:22:12.877Z"
   },
   {
    "duration": 15,
    "start_time": "2023-04-17T08:22:12.893Z"
   },
   {
    "duration": 16,
    "start_time": "2023-04-17T08:22:12.910Z"
   },
   {
    "duration": 17,
    "start_time": "2023-04-17T08:22:12.927Z"
   },
   {
    "duration": 10,
    "start_time": "2023-04-17T08:22:12.946Z"
   },
   {
    "duration": 12,
    "start_time": "2023-04-17T08:22:12.957Z"
   },
   {
    "duration": 6,
    "start_time": "2023-04-17T08:22:12.971Z"
   },
   {
    "duration": 21,
    "start_time": "2023-04-17T08:22:12.979Z"
   },
   {
    "duration": 18,
    "start_time": "2023-04-17T08:22:13.002Z"
   },
   {
    "duration": 29,
    "start_time": "2023-04-17T08:22:13.022Z"
   },
   {
    "duration": 27,
    "start_time": "2023-04-17T08:22:13.053Z"
   },
   {
    "duration": 21,
    "start_time": "2023-04-17T08:22:13.081Z"
   },
   {
    "duration": 15,
    "start_time": "2023-04-17T08:22:13.104Z"
   },
   {
    "duration": 7,
    "start_time": "2023-04-17T08:22:13.123Z"
   },
   {
    "duration": 481,
    "start_time": "2023-04-17T08:22:13.131Z"
   },
   {
    "duration": 4,
    "start_time": "2023-04-17T08:22:13.614Z"
   },
   {
    "duration": 8,
    "start_time": "2023-04-17T08:22:13.619Z"
   },
   {
    "duration": 5,
    "start_time": "2023-04-17T08:22:13.629Z"
   },
   {
    "duration": 18,
    "start_time": "2023-04-17T08:22:13.636Z"
   },
   {
    "duration": 177,
    "start_time": "2023-04-17T08:22:13.656Z"
   },
   {
    "duration": 140,
    "start_time": "2023-04-17T08:22:13.835Z"
   },
   {
    "duration": 13,
    "start_time": "2023-04-17T08:22:13.976Z"
   },
   {
    "duration": 309,
    "start_time": "2023-04-17T08:22:13.991Z"
   },
   {
    "duration": 231,
    "start_time": "2023-04-17T08:22:14.301Z"
   },
   {
    "duration": 402,
    "start_time": "2023-04-17T08:22:14.534Z"
   },
   {
    "duration": 230,
    "start_time": "2023-04-17T08:22:14.937Z"
   },
   {
    "duration": 234,
    "start_time": "2023-04-17T08:22:15.169Z"
   },
   {
    "duration": 13,
    "start_time": "2023-04-17T08:22:15.405Z"
   },
   {
    "duration": 410,
    "start_time": "2023-04-17T08:22:15.420Z"
   },
   {
    "duration": 17,
    "start_time": "2023-04-17T08:22:15.832Z"
   },
   {
    "duration": 271,
    "start_time": "2023-04-17T08:22:15.852Z"
   },
   {
    "duration": 12,
    "start_time": "2023-04-17T08:22:16.125Z"
   },
   {
    "duration": 15,
    "start_time": "2023-04-17T08:22:16.139Z"
   },
   {
    "duration": 249,
    "start_time": "2023-04-17T08:22:16.156Z"
   },
   {
    "duration": 13,
    "start_time": "2023-04-17T08:22:16.406Z"
   },
   {
    "duration": 359,
    "start_time": "2023-04-17T08:22:16.420Z"
   },
   {
    "duration": 12,
    "start_time": "2023-04-17T08:22:16.780Z"
   },
   {
    "duration": 48,
    "start_time": "2023-04-17T08:22:16.793Z"
   },
   {
    "duration": 169,
    "start_time": "2023-04-17T08:22:16.842Z"
   },
   {
    "duration": 10,
    "start_time": "2023-04-17T08:22:17.013Z"
   },
   {
    "duration": 169,
    "start_time": "2023-04-17T08:22:17.024Z"
   },
   {
    "duration": 12,
    "start_time": "2023-04-17T08:22:17.194Z"
   },
   {
    "duration": 53,
    "start_time": "2023-04-17T08:22:17.208Z"
   },
   {
    "duration": 37,
    "start_time": "2023-04-17T08:22:17.263Z"
   },
   {
    "duration": 59,
    "start_time": "2023-04-17T08:22:17.302Z"
   },
   {
    "duration": 21,
    "start_time": "2023-04-17T08:22:17.362Z"
   },
   {
    "duration": 180,
    "start_time": "2023-04-17T08:22:17.384Z"
   },
   {
    "duration": 167,
    "start_time": "2023-04-17T08:22:17.566Z"
   },
   {
    "duration": 160,
    "start_time": "2023-04-17T08:22:17.735Z"
   },
   {
    "duration": 177,
    "start_time": "2023-04-17T08:22:17.897Z"
   },
   {
    "duration": 6,
    "start_time": "2023-04-17T08:22:18.075Z"
   },
   {
    "duration": 55,
    "start_time": "2023-04-17T08:22:18.083Z"
   },
   {
    "duration": 42,
    "start_time": "2023-04-17T08:22:18.141Z"
   },
   {
    "duration": 32,
    "start_time": "2023-04-17T08:22:18.185Z"
   },
   {
    "duration": 33,
    "start_time": "2023-04-17T08:22:18.219Z"
   },
   {
    "duration": 31,
    "start_time": "2023-04-17T08:22:18.254Z"
   },
   {
    "duration": 66,
    "start_time": "2023-04-17T08:22:18.287Z"
   },
   {
    "duration": 44,
    "start_time": "2023-04-17T08:22:18.355Z"
   },
   {
    "duration": 41,
    "start_time": "2023-04-17T08:22:18.401Z"
   },
   {
    "duration": 127,
    "start_time": "2023-04-17T08:22:18.444Z"
   },
   {
    "duration": 39,
    "start_time": "2023-04-17T08:22:18.572Z"
   },
   {
    "duration": 94,
    "start_time": "2023-04-17T08:22:18.614Z"
   },
   {
    "duration": 29,
    "start_time": "2023-04-17T08:22:18.710Z"
   },
   {
    "duration": 71,
    "start_time": "2023-04-17T08:22:18.742Z"
   },
   {
    "duration": 39,
    "start_time": "2023-04-17T08:22:18.815Z"
   },
   {
    "duration": 86,
    "start_time": "2023-04-17T08:22:18.857Z"
   },
   {
    "duration": 102,
    "start_time": "2023-04-17T08:22:18.944Z"
   },
   {
    "duration": 82,
    "start_time": "2023-04-17T08:22:19.052Z"
   },
   {
    "duration": 18,
    "start_time": "2023-04-17T08:22:19.135Z"
   },
   {
    "duration": 37,
    "start_time": "2023-04-17T08:22:19.154Z"
   },
   {
    "duration": 44,
    "start_time": "2023-04-17T08:22:19.193Z"
   },
   {
    "duration": 5,
    "start_time": "2023-04-17T08:22:19.238Z"
   },
   {
    "duration": 15,
    "start_time": "2023-04-17T08:22:19.245Z"
   },
   {
    "duration": 6,
    "start_time": "2023-04-17T08:22:19.262Z"
   },
   {
    "duration": 17,
    "start_time": "2023-04-17T08:22:19.270Z"
   },
   {
    "duration": 12,
    "start_time": "2023-04-17T08:22:19.289Z"
   },
   {
    "duration": 9,
    "start_time": "2023-04-17T08:22:19.303Z"
   },
   {
    "duration": 35,
    "start_time": "2023-04-17T08:22:19.314Z"
   },
   {
    "duration": 120,
    "start_time": "2023-04-17T08:22:19.351Z"
   },
   {
    "duration": 0,
    "start_time": "2023-04-17T08:22:19.473Z"
   },
   {
    "duration": 0,
    "start_time": "2023-04-17T08:22:19.474Z"
   },
   {
    "duration": 0,
    "start_time": "2023-04-17T08:22:19.475Z"
   },
   {
    "duration": 0,
    "start_time": "2023-04-17T08:22:19.476Z"
   },
   {
    "duration": 0,
    "start_time": "2023-04-17T08:22:19.477Z"
   },
   {
    "duration": 9,
    "start_time": "2023-04-17T08:24:18.765Z"
   },
   {
    "duration": 2468,
    "start_time": "2023-04-17T08:30:42.183Z"
   },
   {
    "duration": 9,
    "start_time": "2023-04-17T08:30:53.732Z"
   },
   {
    "duration": 21,
    "start_time": "2023-04-17T08:30:56.809Z"
   },
   {
    "duration": 4,
    "start_time": "2023-04-17T08:31:02.168Z"
   },
   {
    "duration": 1235,
    "start_time": "2023-04-17T08:31:25.729Z"
   },
   {
    "duration": 29,
    "start_time": "2023-04-17T08:31:26.966Z"
   },
   {
    "duration": 4,
    "start_time": "2023-04-17T08:31:26.997Z"
   },
   {
    "duration": 29,
    "start_time": "2023-04-17T08:31:27.003Z"
   },
   {
    "duration": 7,
    "start_time": "2023-04-17T08:31:27.034Z"
   },
   {
    "duration": 7,
    "start_time": "2023-04-17T08:31:27.044Z"
   },
   {
    "duration": 63,
    "start_time": "2023-04-17T08:31:27.053Z"
   },
   {
    "duration": 19,
    "start_time": "2023-04-17T08:31:27.117Z"
   },
   {
    "duration": 18,
    "start_time": "2023-04-17T08:31:27.148Z"
   },
   {
    "duration": 42,
    "start_time": "2023-04-17T08:31:27.170Z"
   },
   {
    "duration": 39,
    "start_time": "2023-04-17T08:31:27.214Z"
   },
   {
    "duration": 8,
    "start_time": "2023-04-17T08:31:27.255Z"
   },
   {
    "duration": 7,
    "start_time": "2023-04-17T08:31:27.265Z"
   },
   {
    "duration": 6,
    "start_time": "2023-04-17T08:31:27.274Z"
   },
   {
    "duration": 8,
    "start_time": "2023-04-17T08:31:27.282Z"
   },
   {
    "duration": 11,
    "start_time": "2023-04-17T08:31:27.291Z"
   },
   {
    "duration": 8,
    "start_time": "2023-04-17T08:31:27.304Z"
   },
   {
    "duration": 5,
    "start_time": "2023-04-17T08:31:27.313Z"
   },
   {
    "duration": 34,
    "start_time": "2023-04-17T08:31:27.320Z"
   },
   {
    "duration": 4,
    "start_time": "2023-04-17T08:31:27.356Z"
   },
   {
    "duration": 10,
    "start_time": "2023-04-17T08:31:27.361Z"
   },
   {
    "duration": 6,
    "start_time": "2023-04-17T08:31:27.372Z"
   },
   {
    "duration": 19,
    "start_time": "2023-04-17T08:31:27.380Z"
   },
   {
    "duration": 18,
    "start_time": "2023-04-17T08:31:27.401Z"
   },
   {
    "duration": 35,
    "start_time": "2023-04-17T08:31:27.420Z"
   },
   {
    "duration": 12,
    "start_time": "2023-04-17T08:31:27.457Z"
   },
   {
    "duration": 9,
    "start_time": "2023-04-17T08:31:27.471Z"
   },
   {
    "duration": 476,
    "start_time": "2023-04-17T08:31:27.484Z"
   },
   {
    "duration": 4,
    "start_time": "2023-04-17T08:31:27.962Z"
   },
   {
    "duration": 30,
    "start_time": "2023-04-17T08:31:27.967Z"
   },
   {
    "duration": 18,
    "start_time": "2023-04-17T08:31:27.998Z"
   },
   {
    "duration": 15,
    "start_time": "2023-04-17T08:31:28.017Z"
   },
   {
    "duration": 177,
    "start_time": "2023-04-17T08:31:28.034Z"
   },
   {
    "duration": 137,
    "start_time": "2023-04-17T08:31:28.212Z"
   },
   {
    "duration": 13,
    "start_time": "2023-04-17T08:31:28.350Z"
   },
   {
    "duration": 300,
    "start_time": "2023-04-17T08:31:28.364Z"
   },
   {
    "duration": 209,
    "start_time": "2023-04-17T08:31:28.666Z"
   },
   {
    "duration": 302,
    "start_time": "2023-04-17T08:31:28.877Z"
   },
   {
    "duration": 217,
    "start_time": "2023-04-17T08:31:29.180Z"
   },
   {
    "duration": 229,
    "start_time": "2023-04-17T08:31:29.399Z"
   },
   {
    "duration": 11,
    "start_time": "2023-04-17T08:31:29.630Z"
   },
   {
    "duration": 310,
    "start_time": "2023-04-17T08:31:29.649Z"
   },
   {
    "duration": 7,
    "start_time": "2023-04-17T08:31:29.960Z"
   },
   {
    "duration": 311,
    "start_time": "2023-04-17T08:31:29.968Z"
   },
   {
    "duration": 12,
    "start_time": "2023-04-17T08:31:30.281Z"
   },
   {
    "duration": 28,
    "start_time": "2023-04-17T08:31:30.294Z"
   },
   {
    "duration": 247,
    "start_time": "2023-04-17T08:31:30.323Z"
   },
   {
    "duration": 17,
    "start_time": "2023-04-17T08:31:30.572Z"
   },
   {
    "duration": 360,
    "start_time": "2023-04-17T08:31:30.591Z"
   },
   {
    "duration": 12,
    "start_time": "2023-04-17T08:31:30.952Z"
   },
   {
    "duration": 40,
    "start_time": "2023-04-17T08:31:30.965Z"
   },
   {
    "duration": 186,
    "start_time": "2023-04-17T08:31:31.007Z"
   },
   {
    "duration": 15,
    "start_time": "2023-04-17T08:31:31.195Z"
   },
   {
    "duration": 155,
    "start_time": "2023-04-17T08:31:31.212Z"
   },
   {
    "duration": 11,
    "start_time": "2023-04-17T08:31:31.368Z"
   },
   {
    "duration": 50,
    "start_time": "2023-04-17T08:31:31.381Z"
   },
   {
    "duration": 44,
    "start_time": "2023-04-17T08:31:31.433Z"
   },
   {
    "duration": 32,
    "start_time": "2023-04-17T08:31:31.478Z"
   },
   {
    "duration": 28,
    "start_time": "2023-04-17T08:31:31.512Z"
   },
   {
    "duration": 175,
    "start_time": "2023-04-17T08:31:31.541Z"
   },
   {
    "duration": 177,
    "start_time": "2023-04-17T08:31:31.718Z"
   },
   {
    "duration": 155,
    "start_time": "2023-04-17T08:31:31.896Z"
   },
   {
    "duration": 169,
    "start_time": "2023-04-17T08:31:32.053Z"
   },
   {
    "duration": 7,
    "start_time": "2023-04-17T08:31:32.223Z"
   },
   {
    "duration": 44,
    "start_time": "2023-04-17T08:31:32.232Z"
   },
   {
    "duration": 26,
    "start_time": "2023-04-17T08:31:32.278Z"
   },
   {
    "duration": 37,
    "start_time": "2023-04-17T08:31:32.305Z"
   },
   {
    "duration": 46,
    "start_time": "2023-04-17T08:31:32.343Z"
   },
   {
    "duration": 32,
    "start_time": "2023-04-17T08:31:32.391Z"
   },
   {
    "duration": 20,
    "start_time": "2023-04-17T08:31:32.425Z"
   },
   {
    "duration": 19,
    "start_time": "2023-04-17T08:31:32.448Z"
   },
   {
    "duration": 16,
    "start_time": "2023-04-17T08:31:32.469Z"
   },
   {
    "duration": 57,
    "start_time": "2023-04-17T08:31:32.487Z"
   },
   {
    "duration": 17,
    "start_time": "2023-04-17T08:31:32.546Z"
   },
   {
    "duration": 51,
    "start_time": "2023-04-17T08:31:32.565Z"
   },
   {
    "duration": 23,
    "start_time": "2023-04-17T08:31:32.617Z"
   },
   {
    "duration": 53,
    "start_time": "2023-04-17T08:31:32.642Z"
   },
   {
    "duration": 19,
    "start_time": "2023-04-17T08:31:32.696Z"
   },
   {
    "duration": 74,
    "start_time": "2023-04-17T08:31:32.717Z"
   },
   {
    "duration": 75,
    "start_time": "2023-04-17T08:31:32.793Z"
   },
   {
    "duration": 96,
    "start_time": "2023-04-17T08:31:32.870Z"
   },
   {
    "duration": 7,
    "start_time": "2023-04-17T08:31:32.971Z"
   },
   {
    "duration": 7,
    "start_time": "2023-04-17T08:31:32.979Z"
   },
   {
    "duration": 23,
    "start_time": "2023-04-17T08:31:32.987Z"
   },
   {
    "duration": 40,
    "start_time": "2023-04-17T08:31:33.012Z"
   },
   {
    "duration": 18,
    "start_time": "2023-04-17T08:31:33.055Z"
   },
   {
    "duration": 8,
    "start_time": "2023-04-17T08:31:33.076Z"
   },
   {
    "duration": 25,
    "start_time": "2023-04-17T08:31:33.085Z"
   },
   {
    "duration": 9,
    "start_time": "2023-04-17T08:31:33.112Z"
   },
   {
    "duration": 14,
    "start_time": "2023-04-17T08:31:33.123Z"
   },
   {
    "duration": 12,
    "start_time": "2023-04-17T08:31:33.139Z"
   },
   {
    "duration": 9,
    "start_time": "2023-04-17T08:31:33.153Z"
   },
   {
    "duration": 9,
    "start_time": "2023-04-17T08:31:33.163Z"
   },
   {
    "duration": 25,
    "start_time": "2023-04-17T08:31:33.173Z"
   },
   {
    "duration": 3,
    "start_time": "2023-04-17T08:31:33.200Z"
   },
   {
    "duration": 13,
    "start_time": "2023-04-17T08:31:33.205Z"
   },
   {
    "duration": 9,
    "start_time": "2023-04-17T08:31:33.248Z"
   },
   {
    "duration": 1206,
    "start_time": "2023-04-17T08:34:19.657Z"
   },
   {
    "duration": 28,
    "start_time": "2023-04-17T08:34:20.865Z"
   },
   {
    "duration": 4,
    "start_time": "2023-04-17T08:34:20.894Z"
   },
   {
    "duration": 35,
    "start_time": "2023-04-17T08:34:20.900Z"
   },
   {
    "duration": 7,
    "start_time": "2023-04-17T08:34:20.936Z"
   },
   {
    "duration": 5,
    "start_time": "2023-04-17T08:34:20.944Z"
   },
   {
    "duration": 70,
    "start_time": "2023-04-17T08:34:20.950Z"
   },
   {
    "duration": 42,
    "start_time": "2023-04-17T08:34:21.022Z"
   },
   {
    "duration": 25,
    "start_time": "2023-04-17T08:34:21.067Z"
   },
   {
    "duration": 39,
    "start_time": "2023-04-17T08:34:21.094Z"
   },
   {
    "duration": 24,
    "start_time": "2023-04-17T08:34:21.134Z"
   },
   {
    "duration": 7,
    "start_time": "2023-04-17T08:34:21.160Z"
   },
   {
    "duration": 6,
    "start_time": "2023-04-17T08:34:21.168Z"
   },
   {
    "duration": 6,
    "start_time": "2023-04-17T08:34:21.176Z"
   },
   {
    "duration": 5,
    "start_time": "2023-04-17T08:34:21.184Z"
   },
   {
    "duration": 4,
    "start_time": "2023-04-17T08:34:21.190Z"
   },
   {
    "duration": 6,
    "start_time": "2023-04-17T08:34:21.196Z"
   },
   {
    "duration": 11,
    "start_time": "2023-04-17T08:34:21.203Z"
   },
   {
    "duration": 36,
    "start_time": "2023-04-17T08:34:21.216Z"
   },
   {
    "duration": 8,
    "start_time": "2023-04-17T08:34:21.254Z"
   },
   {
    "duration": 12,
    "start_time": "2023-04-17T08:34:21.264Z"
   },
   {
    "duration": 3,
    "start_time": "2023-04-17T08:34:21.278Z"
   },
   {
    "duration": 26,
    "start_time": "2023-04-17T08:34:21.283Z"
   },
   {
    "duration": 16,
    "start_time": "2023-04-17T08:34:21.311Z"
   },
   {
    "duration": 35,
    "start_time": "2023-04-17T08:34:21.329Z"
   },
   {
    "duration": 6,
    "start_time": "2023-04-17T08:34:21.366Z"
   },
   {
    "duration": 10,
    "start_time": "2023-04-17T08:34:21.374Z"
   },
   {
    "duration": 507,
    "start_time": "2023-04-17T08:34:21.389Z"
   },
   {
    "duration": 4,
    "start_time": "2023-04-17T08:34:21.898Z"
   },
   {
    "duration": 7,
    "start_time": "2023-04-17T08:34:21.903Z"
   },
   {
    "duration": 6,
    "start_time": "2023-04-17T08:34:21.911Z"
   },
   {
    "duration": 12,
    "start_time": "2023-04-17T08:34:21.919Z"
   },
   {
    "duration": 166,
    "start_time": "2023-04-17T08:34:21.933Z"
   },
   {
    "duration": 125,
    "start_time": "2023-04-17T08:34:22.100Z"
   },
   {
    "duration": 23,
    "start_time": "2023-04-17T08:34:22.227Z"
   },
   {
    "duration": 303,
    "start_time": "2023-04-17T08:34:22.252Z"
   },
   {
    "duration": 220,
    "start_time": "2023-04-17T08:34:22.557Z"
   },
   {
    "duration": 274,
    "start_time": "2023-04-17T08:34:22.779Z"
   },
   {
    "duration": 231,
    "start_time": "2023-04-17T08:34:23.055Z"
   },
   {
    "duration": 226,
    "start_time": "2023-04-17T08:34:23.287Z"
   },
   {
    "duration": 12,
    "start_time": "2023-04-17T08:34:23.515Z"
   },
   {
    "duration": 331,
    "start_time": "2023-04-17T08:34:23.529Z"
   },
   {
    "duration": 6,
    "start_time": "2023-04-17T08:34:23.862Z"
   },
   {
    "duration": 297,
    "start_time": "2023-04-17T08:34:23.869Z"
   },
   {
    "duration": 11,
    "start_time": "2023-04-17T08:34:24.167Z"
   },
   {
    "duration": 28,
    "start_time": "2023-04-17T08:34:24.180Z"
   },
   {
    "duration": 220,
    "start_time": "2023-04-17T08:34:24.210Z"
   },
   {
    "duration": 26,
    "start_time": "2023-04-17T08:34:24.432Z"
   },
   {
    "duration": 362,
    "start_time": "2023-04-17T08:34:24.460Z"
   },
   {
    "duration": 24,
    "start_time": "2023-04-17T08:34:24.825Z"
   },
   {
    "duration": 6,
    "start_time": "2023-04-17T08:34:24.851Z"
   },
   {
    "duration": 157,
    "start_time": "2023-04-17T08:34:24.859Z"
   },
   {
    "duration": 12,
    "start_time": "2023-04-17T08:34:25.018Z"
   },
   {
    "duration": 153,
    "start_time": "2023-04-17T08:34:25.032Z"
   },
   {
    "duration": 12,
    "start_time": "2023-04-17T08:34:25.186Z"
   },
   {
    "duration": 21,
    "start_time": "2023-04-17T08:34:25.200Z"
   },
   {
    "duration": 5,
    "start_time": "2023-04-17T08:34:25.223Z"
   },
   {
    "duration": 22,
    "start_time": "2023-04-17T08:34:25.229Z"
   },
   {
    "duration": 4,
    "start_time": "2023-04-17T08:34:25.252Z"
   },
   {
    "duration": 162,
    "start_time": "2023-04-17T08:34:25.257Z"
   },
   {
    "duration": 178,
    "start_time": "2023-04-17T08:34:25.421Z"
   },
   {
    "duration": 158,
    "start_time": "2023-04-17T08:34:25.601Z"
   },
   {
    "duration": 163,
    "start_time": "2023-04-17T08:34:25.761Z"
   },
   {
    "duration": 6,
    "start_time": "2023-04-17T08:34:25.926Z"
   },
   {
    "duration": 24,
    "start_time": "2023-04-17T08:34:25.933Z"
   },
   {
    "duration": 10,
    "start_time": "2023-04-17T08:34:25.958Z"
   },
   {
    "duration": 20,
    "start_time": "2023-04-17T08:34:25.970Z"
   },
   {
    "duration": 32,
    "start_time": "2023-04-17T08:34:25.991Z"
   },
   {
    "duration": 16,
    "start_time": "2023-04-17T08:34:26.024Z"
   },
   {
    "duration": 11,
    "start_time": "2023-04-17T08:34:26.042Z"
   },
   {
    "duration": 17,
    "start_time": "2023-04-17T08:34:26.055Z"
   },
   {
    "duration": 15,
    "start_time": "2023-04-17T08:34:26.074Z"
   },
   {
    "duration": 13,
    "start_time": "2023-04-17T08:34:26.091Z"
   },
   {
    "duration": 67,
    "start_time": "2023-04-17T08:34:26.105Z"
   },
   {
    "duration": 82,
    "start_time": "2023-04-17T08:34:26.173Z"
   },
   {
    "duration": 8,
    "start_time": "2023-04-17T08:34:26.256Z"
   },
   {
    "duration": 7,
    "start_time": "2023-04-17T08:34:26.265Z"
   },
   {
    "duration": 23,
    "start_time": "2023-04-17T08:34:26.274Z"
   },
   {
    "duration": 5,
    "start_time": "2023-04-17T08:34:26.299Z"
   },
   {
    "duration": 45,
    "start_time": "2023-04-17T08:34:26.306Z"
   },
   {
    "duration": 8,
    "start_time": "2023-04-17T08:34:26.353Z"
   },
   {
    "duration": 7,
    "start_time": "2023-04-17T08:34:26.366Z"
   },
   {
    "duration": 9,
    "start_time": "2023-04-17T08:34:26.376Z"
   },
   {
    "duration": 8,
    "start_time": "2023-04-17T08:34:26.387Z"
   },
   {
    "duration": 5,
    "start_time": "2023-04-17T08:34:26.397Z"
   },
   {
    "duration": 10,
    "start_time": "2023-04-17T08:34:26.404Z"
   },
   {
    "duration": 35,
    "start_time": "2023-04-17T08:34:26.415Z"
   },
   {
    "duration": 27,
    "start_time": "2023-04-17T08:34:26.452Z"
   },
   {
    "duration": 4,
    "start_time": "2023-04-17T08:34:26.480Z"
   },
   {
    "duration": 17,
    "start_time": "2023-04-17T08:34:26.485Z"
   },
   {
    "duration": 11,
    "start_time": "2023-04-17T08:34:26.503Z"
   },
   {
    "duration": 1341,
    "start_time": "2023-04-17T08:37:50.929Z"
   },
   {
    "duration": 27,
    "start_time": "2023-04-17T08:37:52.272Z"
   },
   {
    "duration": 4,
    "start_time": "2023-04-17T08:37:52.301Z"
   },
   {
    "duration": 52,
    "start_time": "2023-04-17T08:37:52.307Z"
   },
   {
    "duration": 7,
    "start_time": "2023-04-17T08:37:52.361Z"
   },
   {
    "duration": 5,
    "start_time": "2023-04-17T08:37:52.369Z"
   },
   {
    "duration": 77,
    "start_time": "2023-04-17T08:37:52.375Z"
   },
   {
    "duration": 17,
    "start_time": "2023-04-17T08:37:52.454Z"
   },
   {
    "duration": 29,
    "start_time": "2023-04-17T08:37:52.473Z"
   },
   {
    "duration": 58,
    "start_time": "2023-04-17T08:37:52.505Z"
   },
   {
    "duration": 25,
    "start_time": "2023-04-17T08:37:52.565Z"
   },
   {
    "duration": 5,
    "start_time": "2023-04-17T08:37:52.592Z"
   },
   {
    "duration": 18,
    "start_time": "2023-04-17T08:37:52.598Z"
   },
   {
    "duration": 21,
    "start_time": "2023-04-17T08:37:52.618Z"
   },
   {
    "duration": 15,
    "start_time": "2023-04-17T08:37:52.640Z"
   },
   {
    "duration": 22,
    "start_time": "2023-04-17T08:37:52.657Z"
   },
   {
    "duration": 15,
    "start_time": "2023-04-17T08:37:52.681Z"
   },
   {
    "duration": 20,
    "start_time": "2023-04-17T08:37:52.697Z"
   },
   {
    "duration": 14,
    "start_time": "2023-04-17T08:37:52.718Z"
   },
   {
    "duration": 23,
    "start_time": "2023-04-17T08:37:52.734Z"
   },
   {
    "duration": 19,
    "start_time": "2023-04-17T08:37:52.758Z"
   },
   {
    "duration": 25,
    "start_time": "2023-04-17T08:37:52.778Z"
   },
   {
    "duration": 27,
    "start_time": "2023-04-17T08:37:52.804Z"
   },
   {
    "duration": 15,
    "start_time": "2023-04-17T08:37:52.833Z"
   },
   {
    "duration": 21,
    "start_time": "2023-04-17T08:37:52.850Z"
   },
   {
    "duration": 6,
    "start_time": "2023-04-17T08:37:52.873Z"
   },
   {
    "duration": 20,
    "start_time": "2023-04-17T08:37:52.880Z"
   },
   {
    "duration": 485,
    "start_time": "2023-04-17T08:37:52.904Z"
   },
   {
    "duration": 5,
    "start_time": "2023-04-17T08:37:53.391Z"
   },
   {
    "duration": 62,
    "start_time": "2023-04-17T08:37:53.398Z"
   },
   {
    "duration": 8,
    "start_time": "2023-04-17T08:37:53.462Z"
   },
   {
    "duration": 19,
    "start_time": "2023-04-17T08:37:53.472Z"
   },
   {
    "duration": 166,
    "start_time": "2023-04-17T08:37:53.493Z"
   },
   {
    "duration": 137,
    "start_time": "2023-04-17T08:37:53.661Z"
   },
   {
    "duration": 13,
    "start_time": "2023-04-17T08:37:53.800Z"
   },
   {
    "duration": 313,
    "start_time": "2023-04-17T08:37:53.814Z"
   },
   {
    "duration": 210,
    "start_time": "2023-04-17T08:37:54.128Z"
   },
   {
    "duration": 269,
    "start_time": "2023-04-17T08:37:54.348Z"
   },
   {
    "duration": 228,
    "start_time": "2023-04-17T08:37:54.619Z"
   },
   {
    "duration": 247,
    "start_time": "2023-04-17T08:37:54.849Z"
   },
   {
    "duration": 11,
    "start_time": "2023-04-17T08:37:55.098Z"
   },
   {
    "duration": 338,
    "start_time": "2023-04-17T08:37:55.111Z"
   },
   {
    "duration": 7,
    "start_time": "2023-04-17T08:37:55.450Z"
   },
   {
    "duration": 295,
    "start_time": "2023-04-17T08:37:55.458Z"
   },
   {
    "duration": 11,
    "start_time": "2023-04-17T08:37:55.754Z"
   },
   {
    "duration": 6,
    "start_time": "2023-04-17T08:37:55.767Z"
   },
   {
    "duration": 230,
    "start_time": "2023-04-17T08:37:55.774Z"
   },
   {
    "duration": 14,
    "start_time": "2023-04-17T08:37:56.006Z"
   },
   {
    "duration": 381,
    "start_time": "2023-04-17T08:37:56.021Z"
   },
   {
    "duration": 13,
    "start_time": "2023-04-17T08:37:56.403Z"
   },
   {
    "duration": 7,
    "start_time": "2023-04-17T08:37:56.418Z"
   },
   {
    "duration": 176,
    "start_time": "2023-04-17T08:37:56.427Z"
   },
   {
    "duration": 12,
    "start_time": "2023-04-17T08:37:56.604Z"
   },
   {
    "duration": 141,
    "start_time": "2023-04-17T08:37:56.617Z"
   },
   {
    "duration": 11,
    "start_time": "2023-04-17T08:37:56.760Z"
   },
   {
    "duration": 29,
    "start_time": "2023-04-17T08:37:56.772Z"
   },
   {
    "duration": 12,
    "start_time": "2023-04-17T08:37:56.803Z"
   },
   {
    "duration": 16,
    "start_time": "2023-04-17T08:37:56.816Z"
   },
   {
    "duration": 12,
    "start_time": "2023-04-17T08:37:56.834Z"
   },
   {
    "duration": 150,
    "start_time": "2023-04-17T08:37:56.848Z"
   },
   {
    "duration": 177,
    "start_time": "2023-04-17T08:37:57.000Z"
   },
   {
    "duration": 159,
    "start_time": "2023-04-17T08:37:57.178Z"
   },
   {
    "duration": 164,
    "start_time": "2023-04-17T08:37:57.339Z"
   },
   {
    "duration": 6,
    "start_time": "2023-04-17T08:37:57.505Z"
   },
   {
    "duration": 27,
    "start_time": "2023-04-17T08:37:57.512Z"
   },
   {
    "duration": 12,
    "start_time": "2023-04-17T08:37:57.541Z"
   },
   {
    "duration": 16,
    "start_time": "2023-04-17T08:37:57.554Z"
   },
   {
    "duration": 12,
    "start_time": "2023-04-17T08:37:57.571Z"
   },
   {
    "duration": 12,
    "start_time": "2023-04-17T08:37:57.584Z"
   },
   {
    "duration": 13,
    "start_time": "2023-04-17T08:37:57.597Z"
   },
   {
    "duration": 7,
    "start_time": "2023-04-17T08:37:57.611Z"
   },
   {
    "duration": 15,
    "start_time": "2023-04-17T08:37:57.620Z"
   },
   {
    "duration": 30,
    "start_time": "2023-04-17T08:37:57.637Z"
   },
   {
    "duration": 67,
    "start_time": "2023-04-17T08:37:57.669Z"
   },
   {
    "duration": 75,
    "start_time": "2023-04-17T08:37:57.738Z"
   },
   {
    "duration": 8,
    "start_time": "2023-04-17T08:37:57.815Z"
   },
   {
    "duration": 30,
    "start_time": "2023-04-17T08:37:57.826Z"
   },
   {
    "duration": 37,
    "start_time": "2023-04-17T08:37:57.858Z"
   },
   {
    "duration": 4,
    "start_time": "2023-04-17T08:37:57.897Z"
   },
   {
    "duration": 13,
    "start_time": "2023-04-17T08:37:57.902Z"
   },
   {
    "duration": 35,
    "start_time": "2023-04-17T08:37:57.917Z"
   },
   {
    "duration": 8,
    "start_time": "2023-04-17T08:37:57.958Z"
   },
   {
    "duration": 14,
    "start_time": "2023-04-17T08:37:57.969Z"
   },
   {
    "duration": 8,
    "start_time": "2023-04-17T08:37:57.985Z"
   },
   {
    "duration": 8,
    "start_time": "2023-04-17T08:37:57.995Z"
   },
   {
    "duration": 11,
    "start_time": "2023-04-17T08:37:58.005Z"
   },
   {
    "duration": 37,
    "start_time": "2023-04-17T08:37:58.018Z"
   },
   {
    "duration": 27,
    "start_time": "2023-04-17T08:37:58.058Z"
   },
   {
    "duration": 4,
    "start_time": "2023-04-17T08:37:58.086Z"
   },
   {
    "duration": 25,
    "start_time": "2023-04-17T08:37:58.092Z"
   },
   {
    "duration": 7,
    "start_time": "2023-04-17T08:37:58.120Z"
   },
   {
    "duration": 1181,
    "start_time": "2023-04-17T08:47:18.977Z"
   },
   {
    "duration": 27,
    "start_time": "2023-04-17T08:47:20.160Z"
   },
   {
    "duration": 3,
    "start_time": "2023-04-17T08:47:20.189Z"
   },
   {
    "duration": 50,
    "start_time": "2023-04-17T08:47:20.194Z"
   },
   {
    "duration": 6,
    "start_time": "2023-04-17T08:47:20.245Z"
   },
   {
    "duration": 15,
    "start_time": "2023-04-17T08:47:20.253Z"
   },
   {
    "duration": 69,
    "start_time": "2023-04-17T08:47:20.269Z"
   },
   {
    "duration": 15,
    "start_time": "2023-04-17T08:47:20.340Z"
   },
   {
    "duration": 18,
    "start_time": "2023-04-17T08:47:20.357Z"
   },
   {
    "duration": 64,
    "start_time": "2023-04-17T08:47:20.377Z"
   },
   {
    "duration": 23,
    "start_time": "2023-04-17T08:47:20.443Z"
   },
   {
    "duration": 24,
    "start_time": "2023-04-17T08:47:20.467Z"
   },
   {
    "duration": 19,
    "start_time": "2023-04-17T08:47:20.493Z"
   },
   {
    "duration": 26,
    "start_time": "2023-04-17T08:47:20.514Z"
   },
   {
    "duration": 22,
    "start_time": "2023-04-17T08:47:20.542Z"
   },
   {
    "duration": 21,
    "start_time": "2023-04-17T08:47:20.566Z"
   },
   {
    "duration": 41,
    "start_time": "2023-04-17T08:47:20.589Z"
   },
   {
    "duration": 17,
    "start_time": "2023-04-17T08:47:20.632Z"
   },
   {
    "duration": 29,
    "start_time": "2023-04-17T08:47:20.651Z"
   },
   {
    "duration": 12,
    "start_time": "2023-04-17T08:47:20.681Z"
   },
   {
    "duration": 40,
    "start_time": "2023-04-17T08:47:20.695Z"
   },
   {
    "duration": 24,
    "start_time": "2023-04-17T08:47:20.737Z"
   },
   {
    "duration": 32,
    "start_time": "2023-04-17T08:47:20.762Z"
   },
   {
    "duration": 16,
    "start_time": "2023-04-17T08:47:20.796Z"
   },
   {
    "duration": 24,
    "start_time": "2023-04-17T08:47:20.814Z"
   },
   {
    "duration": 5,
    "start_time": "2023-04-17T08:47:20.840Z"
   },
   {
    "duration": 28,
    "start_time": "2023-04-17T08:47:20.847Z"
   },
   {
    "duration": 505,
    "start_time": "2023-04-17T08:47:20.879Z"
   },
   {
    "duration": 4,
    "start_time": "2023-04-17T08:47:21.386Z"
   },
   {
    "duration": 21,
    "start_time": "2023-04-17T08:47:21.392Z"
   },
   {
    "duration": 8,
    "start_time": "2023-04-17T08:47:21.414Z"
   },
   {
    "duration": 17,
    "start_time": "2023-04-17T08:47:21.423Z"
   },
   {
    "duration": 187,
    "start_time": "2023-04-17T08:47:21.442Z"
   },
   {
    "duration": 124,
    "start_time": "2023-04-17T08:47:21.630Z"
   },
   {
    "duration": 12,
    "start_time": "2023-04-17T08:47:21.755Z"
   },
   {
    "duration": 291,
    "start_time": "2023-04-17T08:47:21.768Z"
   },
   {
    "duration": 218,
    "start_time": "2023-04-17T08:47:22.060Z"
   },
   {
    "duration": 284,
    "start_time": "2023-04-17T08:47:22.280Z"
   },
   {
    "duration": 226,
    "start_time": "2023-04-17T08:47:22.565Z"
   },
   {
    "duration": 220,
    "start_time": "2023-04-17T08:47:22.792Z"
   },
   {
    "duration": 12,
    "start_time": "2023-04-17T08:47:23.013Z"
   },
   {
    "duration": 327,
    "start_time": "2023-04-17T08:47:23.027Z"
   },
   {
    "duration": 5,
    "start_time": "2023-04-17T08:47:23.356Z"
   },
   {
    "duration": 301,
    "start_time": "2023-04-17T08:47:23.363Z"
   },
   {
    "duration": 10,
    "start_time": "2023-04-17T08:47:23.666Z"
   },
   {
    "duration": 16,
    "start_time": "2023-04-17T08:47:23.678Z"
   },
   {
    "duration": 226,
    "start_time": "2023-04-17T08:47:23.696Z"
   },
   {
    "duration": 26,
    "start_time": "2023-04-17T08:47:23.924Z"
   },
   {
    "duration": 310,
    "start_time": "2023-04-17T08:47:23.951Z"
   },
   {
    "duration": 10,
    "start_time": "2023-04-17T08:47:24.263Z"
   },
   {
    "duration": 9,
    "start_time": "2023-04-17T08:47:24.275Z"
   },
   {
    "duration": 154,
    "start_time": "2023-04-17T08:47:24.285Z"
   },
   {
    "duration": 25,
    "start_time": "2023-04-17T08:47:24.441Z"
   },
   {
    "duration": 182,
    "start_time": "2023-04-17T08:47:24.468Z"
   },
   {
    "duration": 14,
    "start_time": "2023-04-17T08:47:24.652Z"
   },
   {
    "duration": 49,
    "start_time": "2023-04-17T08:47:24.668Z"
   },
   {
    "duration": 25,
    "start_time": "2023-04-17T08:47:24.719Z"
   },
   {
    "duration": 16,
    "start_time": "2023-04-17T08:47:24.746Z"
   },
   {
    "duration": 29,
    "start_time": "2023-04-17T08:47:24.764Z"
   },
   {
    "duration": 150,
    "start_time": "2023-04-17T08:47:24.795Z"
   },
   {
    "duration": 169,
    "start_time": "2023-04-17T08:47:24.947Z"
   },
   {
    "duration": 147,
    "start_time": "2023-04-17T08:47:25.117Z"
   },
   {
    "duration": 158,
    "start_time": "2023-04-17T08:47:25.265Z"
   },
   {
    "duration": 5,
    "start_time": "2023-04-17T08:47:25.425Z"
   },
   {
    "duration": 19,
    "start_time": "2023-04-17T08:47:25.432Z"
   },
   {
    "duration": 8,
    "start_time": "2023-04-17T08:47:25.452Z"
   },
   {
    "duration": 16,
    "start_time": "2023-04-17T08:47:25.462Z"
   },
   {
    "duration": 14,
    "start_time": "2023-04-17T08:47:25.480Z"
   },
   {
    "duration": 15,
    "start_time": "2023-04-17T08:47:25.496Z"
   },
   {
    "duration": 9,
    "start_time": "2023-04-17T08:47:25.513Z"
   },
   {
    "duration": 10,
    "start_time": "2023-04-17T08:47:25.524Z"
   },
   {
    "duration": 51,
    "start_time": "2023-04-17T08:47:25.535Z"
   },
   {
    "duration": 33,
    "start_time": "2023-04-17T08:47:25.588Z"
   },
   {
    "duration": 75,
    "start_time": "2023-04-17T08:47:25.622Z"
   },
   {
    "duration": 81,
    "start_time": "2023-04-17T08:47:25.699Z"
   },
   {
    "duration": 19,
    "start_time": "2023-04-17T08:47:25.781Z"
   },
   {
    "duration": 12,
    "start_time": "2023-04-17T08:47:25.802Z"
   },
   {
    "duration": 33,
    "start_time": "2023-04-17T08:47:25.816Z"
   },
   {
    "duration": 4,
    "start_time": "2023-04-17T08:47:25.850Z"
   },
   {
    "duration": 16,
    "start_time": "2023-04-17T08:47:25.855Z"
   },
   {
    "duration": 5,
    "start_time": "2023-04-17T08:47:25.873Z"
   },
   {
    "duration": 7,
    "start_time": "2023-04-17T08:47:25.883Z"
   },
   {
    "duration": 14,
    "start_time": "2023-04-17T08:47:25.891Z"
   },
   {
    "duration": 14,
    "start_time": "2023-04-17T08:47:25.907Z"
   },
   {
    "duration": 9,
    "start_time": "2023-04-17T08:47:25.923Z"
   },
   {
    "duration": 23,
    "start_time": "2023-04-17T08:47:25.934Z"
   },
   {
    "duration": 17,
    "start_time": "2023-04-17T08:47:25.959Z"
   },
   {
    "duration": 20,
    "start_time": "2023-04-17T08:47:25.978Z"
   },
   {
    "duration": 4,
    "start_time": "2023-04-17T08:47:25.999Z"
   },
   {
    "duration": 13,
    "start_time": "2023-04-17T08:47:26.004Z"
   },
   {
    "duration": 8,
    "start_time": "2023-04-17T08:47:26.019Z"
   },
   {
    "duration": 1472,
    "start_time": "2023-04-18T03:43:21.535Z"
   },
   {
    "duration": 74,
    "start_time": "2023-04-18T03:43:23.009Z"
   },
   {
    "duration": 4,
    "start_time": "2023-04-18T03:43:23.085Z"
   },
   {
    "duration": 33,
    "start_time": "2023-04-18T03:43:23.090Z"
   },
   {
    "duration": 6,
    "start_time": "2023-04-18T03:43:23.124Z"
   },
   {
    "duration": 7,
    "start_time": "2023-04-18T03:43:23.132Z"
   },
   {
    "duration": 67,
    "start_time": "2023-04-18T03:43:23.140Z"
   },
   {
    "duration": 18,
    "start_time": "2023-04-18T03:43:23.209Z"
   },
   {
    "duration": 37,
    "start_time": "2023-04-18T03:43:23.228Z"
   },
   {
    "duration": 80,
    "start_time": "2023-04-18T03:43:23.268Z"
   },
   {
    "duration": 28,
    "start_time": "2023-04-18T03:43:23.349Z"
   },
   {
    "duration": 4,
    "start_time": "2023-04-18T03:43:23.379Z"
   },
   {
    "duration": 6,
    "start_time": "2023-04-18T03:43:23.385Z"
   },
   {
    "duration": 5,
    "start_time": "2023-04-18T03:43:23.393Z"
   },
   {
    "duration": 5,
    "start_time": "2023-04-18T03:43:23.400Z"
   },
   {
    "duration": 6,
    "start_time": "2023-04-18T03:43:23.406Z"
   },
   {
    "duration": 46,
    "start_time": "2023-04-18T03:43:23.414Z"
   },
   {
    "duration": 5,
    "start_time": "2023-04-18T03:43:23.462Z"
   },
   {
    "duration": 11,
    "start_time": "2023-04-18T03:43:23.468Z"
   },
   {
    "duration": 4,
    "start_time": "2023-04-18T03:43:23.481Z"
   },
   {
    "duration": 17,
    "start_time": "2023-04-18T03:43:23.486Z"
   },
   {
    "duration": 24,
    "start_time": "2023-04-18T03:43:23.504Z"
   },
   {
    "duration": 41,
    "start_time": "2023-04-18T03:43:23.529Z"
   },
   {
    "duration": 60,
    "start_time": "2023-04-18T03:43:23.572Z"
   },
   {
    "duration": 20,
    "start_time": "2023-04-18T03:43:23.633Z"
   },
   {
    "duration": 11,
    "start_time": "2023-04-18T03:43:23.655Z"
   },
   {
    "duration": 7,
    "start_time": "2023-04-18T03:43:23.668Z"
   },
   {
    "duration": 574,
    "start_time": "2023-04-18T03:43:23.679Z"
   },
   {
    "duration": 5,
    "start_time": "2023-04-18T03:43:24.255Z"
   },
   {
    "duration": 8,
    "start_time": "2023-04-18T03:43:24.262Z"
   },
   {
    "duration": 10,
    "start_time": "2023-04-18T03:43:24.272Z"
   },
   {
    "duration": 16,
    "start_time": "2023-04-18T03:43:24.284Z"
   },
   {
    "duration": 179,
    "start_time": "2023-04-18T03:43:24.301Z"
   },
   {
    "duration": 137,
    "start_time": "2023-04-18T03:43:24.482Z"
   },
   {
    "duration": 13,
    "start_time": "2023-04-18T03:43:24.621Z"
   },
   {
    "duration": 341,
    "start_time": "2023-04-18T03:43:24.635Z"
   },
   {
    "duration": 236,
    "start_time": "2023-04-18T03:43:24.978Z"
   },
   {
    "duration": 301,
    "start_time": "2023-04-18T03:43:25.216Z"
   },
   {
    "duration": 265,
    "start_time": "2023-04-18T03:43:25.519Z"
   },
   {
    "duration": 256,
    "start_time": "2023-04-18T03:43:25.785Z"
   },
   {
    "duration": 17,
    "start_time": "2023-04-18T03:43:26.043Z"
   },
   {
    "duration": 344,
    "start_time": "2023-04-18T03:43:26.062Z"
   },
   {
    "duration": 7,
    "start_time": "2023-04-18T03:43:26.407Z"
   },
   {
    "duration": 313,
    "start_time": "2023-04-18T03:43:26.416Z"
   },
   {
    "duration": 10,
    "start_time": "2023-04-18T03:43:26.731Z"
   },
   {
    "duration": 24,
    "start_time": "2023-04-18T03:43:26.742Z"
   },
   {
    "duration": 240,
    "start_time": "2023-04-18T03:43:26.768Z"
   },
   {
    "duration": 14,
    "start_time": "2023-04-18T03:43:27.009Z"
   },
   {
    "duration": 392,
    "start_time": "2023-04-18T03:43:27.025Z"
   },
   {
    "duration": 12,
    "start_time": "2023-04-18T03:43:27.418Z"
   },
   {
    "duration": 16,
    "start_time": "2023-04-18T03:43:27.431Z"
   },
   {
    "duration": 158,
    "start_time": "2023-04-18T03:43:27.449Z"
   },
   {
    "duration": 11,
    "start_time": "2023-04-18T03:43:27.609Z"
   },
   {
    "duration": 162,
    "start_time": "2023-04-18T03:43:27.622Z"
   },
   {
    "duration": 14,
    "start_time": "2023-04-18T03:43:27.786Z"
   },
   {
    "duration": 32,
    "start_time": "2023-04-18T03:43:27.802Z"
   },
   {
    "duration": 8,
    "start_time": "2023-04-18T03:43:27.836Z"
   },
   {
    "duration": 21,
    "start_time": "2023-04-18T03:43:27.846Z"
   },
   {
    "duration": 20,
    "start_time": "2023-04-18T03:43:27.869Z"
   },
   {
    "duration": 190,
    "start_time": "2023-04-18T03:43:27.891Z"
   },
   {
    "duration": 183,
    "start_time": "2023-04-18T03:43:28.082Z"
   },
   {
    "duration": 167,
    "start_time": "2023-04-18T03:43:28.266Z"
   },
   {
    "duration": 172,
    "start_time": "2023-04-18T03:43:28.434Z"
   },
   {
    "duration": 5,
    "start_time": "2023-04-18T03:43:28.608Z"
   },
   {
    "duration": 23,
    "start_time": "2023-04-18T03:43:28.615Z"
   },
   {
    "duration": 18,
    "start_time": "2023-04-18T03:43:28.640Z"
   },
   {
    "duration": 14,
    "start_time": "2023-04-18T03:43:28.660Z"
   },
   {
    "duration": 23,
    "start_time": "2023-04-18T03:43:28.676Z"
   },
   {
    "duration": 16,
    "start_time": "2023-04-18T03:43:28.701Z"
   },
   {
    "duration": 29,
    "start_time": "2023-04-18T03:43:28.718Z"
   },
   {
    "duration": 39,
    "start_time": "2023-04-18T03:43:28.749Z"
   },
   {
    "duration": 25,
    "start_time": "2023-04-18T03:43:28.790Z"
   },
   {
    "duration": 27,
    "start_time": "2023-04-18T03:43:28.816Z"
   },
   {
    "duration": 82,
    "start_time": "2023-04-18T03:43:28.845Z"
   },
   {
    "duration": 91,
    "start_time": "2023-04-18T03:43:28.929Z"
   },
   {
    "duration": 8,
    "start_time": "2023-04-18T03:43:29.022Z"
   },
   {
    "duration": 10,
    "start_time": "2023-04-18T03:43:29.032Z"
   },
   {
    "duration": 50,
    "start_time": "2023-04-18T03:43:29.043Z"
   },
   {
    "duration": 5,
    "start_time": "2023-04-18T03:43:29.095Z"
   },
   {
    "duration": 44,
    "start_time": "2023-04-18T03:43:29.101Z"
   },
   {
    "duration": 48,
    "start_time": "2023-04-18T03:43:29.147Z"
   },
   {
    "duration": 28,
    "start_time": "2023-04-18T03:43:29.201Z"
   },
   {
    "duration": 30,
    "start_time": "2023-04-18T03:43:29.231Z"
   },
   {
    "duration": 24,
    "start_time": "2023-04-18T03:43:29.263Z"
   },
   {
    "duration": 22,
    "start_time": "2023-04-18T03:43:29.289Z"
   },
   {
    "duration": 27,
    "start_time": "2023-04-18T03:43:29.313Z"
   },
   {
    "duration": 23,
    "start_time": "2023-04-18T03:43:29.342Z"
   },
   {
    "duration": 37,
    "start_time": "2023-04-18T03:43:29.366Z"
   },
   {
    "duration": 4,
    "start_time": "2023-04-18T03:43:29.405Z"
   },
   {
    "duration": 20,
    "start_time": "2023-04-18T03:43:29.411Z"
   },
   {
    "duration": 30,
    "start_time": "2023-04-18T03:43:29.433Z"
   },
   {
    "duration": 75,
    "start_time": "2023-05-13T10:33:26.194Z"
   },
   {
    "duration": 1460,
    "start_time": "2023-05-13T10:33:39.389Z"
   },
   {
    "duration": 90,
    "start_time": "2023-05-13T10:33:40.851Z"
   },
   {
    "duration": 5,
    "start_time": "2023-05-13T10:33:40.944Z"
   },
   {
    "duration": 47,
    "start_time": "2023-05-13T10:33:40.953Z"
   },
   {
    "duration": 8,
    "start_time": "2023-05-13T10:33:41.003Z"
   },
   {
    "duration": 8,
    "start_time": "2023-05-13T10:33:41.014Z"
   },
   {
    "duration": 101,
    "start_time": "2023-05-13T10:33:41.025Z"
   },
   {
    "duration": 40,
    "start_time": "2023-05-13T10:33:41.128Z"
   },
   {
    "duration": 55,
    "start_time": "2023-05-13T10:33:41.175Z"
   },
   {
    "duration": 114,
    "start_time": "2023-05-13T10:33:41.233Z"
   },
   {
    "duration": 44,
    "start_time": "2023-05-13T10:33:41.349Z"
   },
   {
    "duration": 133,
    "start_time": "2023-05-13T10:33:41.395Z"
   },
   {
    "duration": 22,
    "start_time": "2023-05-13T10:33:41.530Z"
   },
   {
    "duration": 38,
    "start_time": "2023-05-13T10:33:41.555Z"
   },
   {
    "duration": 20,
    "start_time": "2023-05-13T10:33:41.595Z"
   },
   {
    "duration": 19,
    "start_time": "2023-05-13T10:33:41.617Z"
   },
   {
    "duration": 17,
    "start_time": "2023-05-13T10:33:41.638Z"
   },
   {
    "duration": 29,
    "start_time": "2023-05-13T10:33:41.657Z"
   },
   {
    "duration": 39,
    "start_time": "2023-05-13T10:33:41.688Z"
   },
   {
    "duration": 10,
    "start_time": "2023-05-13T10:33:41.729Z"
   },
   {
    "duration": 10,
    "start_time": "2023-05-13T10:33:41.742Z"
   },
   {
    "duration": 11,
    "start_time": "2023-05-13T10:33:41.755Z"
   },
   {
    "duration": 60,
    "start_time": "2023-05-13T10:33:41.769Z"
   },
   {
    "duration": 132,
    "start_time": "2023-05-13T10:33:41.831Z"
   },
   {
    "duration": 42,
    "start_time": "2023-05-13T10:33:41.965Z"
   },
   {
    "duration": 9,
    "start_time": "2023-05-13T10:33:42.009Z"
   },
   {
    "duration": 14,
    "start_time": "2023-05-13T10:33:42.021Z"
   },
   {
    "duration": 537,
    "start_time": "2023-05-13T10:33:42.042Z"
   },
   {
    "duration": 11,
    "start_time": "2023-05-13T10:33:42.581Z"
   },
   {
    "duration": 25,
    "start_time": "2023-05-13T10:33:42.594Z"
   },
   {
    "duration": 20,
    "start_time": "2023-05-13T10:33:42.622Z"
   },
   {
    "duration": 35,
    "start_time": "2023-05-13T10:33:42.645Z"
   },
   {
    "duration": 249,
    "start_time": "2023-05-13T10:33:42.684Z"
   },
   {
    "duration": 166,
    "start_time": "2023-05-13T10:33:42.935Z"
   },
   {
    "duration": 20,
    "start_time": "2023-05-13T10:33:43.103Z"
   },
   {
    "duration": 385,
    "start_time": "2023-05-13T10:33:43.125Z"
   },
   {
    "duration": 290,
    "start_time": "2023-05-13T10:33:43.513Z"
   },
   {
    "duration": 360,
    "start_time": "2023-05-13T10:33:43.805Z"
   },
   {
    "duration": 278,
    "start_time": "2023-05-13T10:33:44.167Z"
   },
   {
    "duration": 320,
    "start_time": "2023-05-13T10:33:44.448Z"
   },
   {
    "duration": 24,
    "start_time": "2023-05-13T10:33:44.772Z"
   },
   {
    "duration": 368,
    "start_time": "2023-05-13T10:33:44.798Z"
   },
   {
    "duration": 8,
    "start_time": "2023-05-13T10:33:45.172Z"
   },
   {
    "duration": 436,
    "start_time": "2023-05-13T10:33:45.183Z"
   },
   {
    "duration": 13,
    "start_time": "2023-05-13T10:33:45.622Z"
   },
   {
    "duration": 25,
    "start_time": "2023-05-13T10:33:45.637Z"
   },
   {
    "duration": 299,
    "start_time": "2023-05-13T10:33:45.665Z"
   },
   {
    "duration": 26,
    "start_time": "2023-05-13T10:33:45.974Z"
   },
   {
    "duration": 413,
    "start_time": "2023-05-13T10:33:46.003Z"
   },
   {
    "duration": 18,
    "start_time": "2023-05-13T10:33:46.418Z"
   },
   {
    "duration": 16,
    "start_time": "2023-05-13T10:33:46.439Z"
   },
   {
    "duration": 245,
    "start_time": "2023-05-13T10:33:46.472Z"
   },
   {
    "duration": 17,
    "start_time": "2023-05-13T10:33:46.719Z"
   },
   {
    "duration": 211,
    "start_time": "2023-05-13T10:33:46.739Z"
   },
   {
    "duration": 26,
    "start_time": "2023-05-13T10:33:46.952Z"
   },
   {
    "duration": 40,
    "start_time": "2023-05-13T10:33:46.981Z"
   },
   {
    "duration": 8,
    "start_time": "2023-05-13T10:33:47.024Z"
   },
   {
    "duration": 17,
    "start_time": "2023-05-13T10:33:47.034Z"
   },
   {
    "duration": 6,
    "start_time": "2023-05-13T10:33:47.054Z"
   },
   {
    "duration": 237,
    "start_time": "2023-05-13T10:33:47.063Z"
   },
   {
    "duration": 244,
    "start_time": "2023-05-13T10:33:47.303Z"
   },
   {
    "duration": 252,
    "start_time": "2023-05-13T10:33:47.549Z"
   },
   {
    "duration": 250,
    "start_time": "2023-05-13T10:33:47.803Z"
   },
   {
    "duration": 7,
    "start_time": "2023-05-13T10:33:48.055Z"
   },
   {
    "duration": 54,
    "start_time": "2023-05-13T10:33:48.072Z"
   },
   {
    "duration": 15,
    "start_time": "2023-05-13T10:33:48.128Z"
   },
   {
    "duration": 25,
    "start_time": "2023-05-13T10:33:48.145Z"
   },
   {
    "duration": 38,
    "start_time": "2023-05-13T10:33:48.173Z"
   },
   {
    "duration": 15,
    "start_time": "2023-05-13T10:33:48.213Z"
   },
   {
    "duration": 12,
    "start_time": "2023-05-13T10:33:48.230Z"
   },
   {
    "duration": 20,
    "start_time": "2023-05-13T10:33:48.244Z"
   },
   {
    "duration": 32,
    "start_time": "2023-05-13T10:33:48.268Z"
   },
   {
    "duration": 19,
    "start_time": "2023-05-13T10:33:48.302Z"
   },
   {
    "duration": 84,
    "start_time": "2023-05-13T10:33:48.323Z"
   },
   {
    "duration": 132,
    "start_time": "2023-05-13T10:33:48.409Z"
   },
   {
    "duration": 8,
    "start_time": "2023-05-13T10:33:48.543Z"
   },
   {
    "duration": 47,
    "start_time": "2023-05-13T10:33:48.552Z"
   },
   {
    "duration": 37,
    "start_time": "2023-05-13T10:33:48.601Z"
   },
   {
    "duration": 6,
    "start_time": "2023-05-13T10:33:48.639Z"
   },
   {
    "duration": 33,
    "start_time": "2023-05-13T10:33:48.646Z"
   },
   {
    "duration": 38,
    "start_time": "2023-05-13T10:33:48.681Z"
   },
   {
    "duration": 20,
    "start_time": "2023-05-13T10:33:48.728Z"
   },
   {
    "duration": 16,
    "start_time": "2023-05-13T10:33:48.750Z"
   },
   {
    "duration": 40,
    "start_time": "2023-05-13T10:33:48.768Z"
   },
   {
    "duration": 11,
    "start_time": "2023-05-13T10:33:48.811Z"
   },
   {
    "duration": 18,
    "start_time": "2023-05-13T10:33:48.824Z"
   },
   {
    "duration": 48,
    "start_time": "2023-05-13T10:33:48.844Z"
   },
   {
    "duration": 62,
    "start_time": "2023-05-13T10:33:48.894Z"
   },
   {
    "duration": 5,
    "start_time": "2023-05-13T10:33:48.959Z"
   },
   {
    "duration": 43,
    "start_time": "2023-05-13T10:33:48.967Z"
   },
   {
    "duration": 18,
    "start_time": "2023-05-13T10:33:49.013Z"
   },
   {
    "duration": 1231,
    "start_time": "2023-06-07T10:23:06.523Z"
   },
   {
    "duration": 67,
    "start_time": "2023-06-07T10:23:07.756Z"
   },
   {
    "duration": 4,
    "start_time": "2023-06-07T10:23:07.825Z"
   },
   {
    "duration": 31,
    "start_time": "2023-06-07T10:23:07.831Z"
   },
   {
    "duration": 6,
    "start_time": "2023-06-07T10:23:07.863Z"
   },
   {
    "duration": 8,
    "start_time": "2023-06-07T10:23:07.870Z"
   },
   {
    "duration": 52,
    "start_time": "2023-06-07T10:23:07.880Z"
   },
   {
    "duration": 30,
    "start_time": "2023-06-07T10:23:07.934Z"
   },
   {
    "duration": 16,
    "start_time": "2023-06-07T10:23:07.966Z"
   },
   {
    "duration": 77,
    "start_time": "2023-06-07T10:23:07.984Z"
   },
   {
    "duration": 23,
    "start_time": "2023-06-07T10:23:08.063Z"
   },
   {
    "duration": 5,
    "start_time": "2023-06-07T10:23:08.088Z"
   },
   {
    "duration": 4,
    "start_time": "2023-06-07T10:23:08.095Z"
   },
   {
    "duration": 7,
    "start_time": "2023-06-07T10:23:08.100Z"
   },
   {
    "duration": 5,
    "start_time": "2023-06-07T10:23:08.108Z"
   },
   {
    "duration": 5,
    "start_time": "2023-06-07T10:23:08.115Z"
   },
   {
    "duration": 31,
    "start_time": "2023-06-07T10:23:08.122Z"
   },
   {
    "duration": 6,
    "start_time": "2023-06-07T10:23:08.155Z"
   },
   {
    "duration": 8,
    "start_time": "2023-06-07T10:23:08.163Z"
   },
   {
    "duration": 4,
    "start_time": "2023-06-07T10:23:08.172Z"
   },
   {
    "duration": 5,
    "start_time": "2023-06-07T10:23:08.178Z"
   },
   {
    "duration": 13,
    "start_time": "2023-06-07T10:23:08.184Z"
   },
   {
    "duration": 19,
    "start_time": "2023-06-07T10:23:08.199Z"
   },
   {
    "duration": 54,
    "start_time": "2023-06-07T10:23:08.220Z"
   },
   {
    "duration": 20,
    "start_time": "2023-06-07T10:23:08.276Z"
   },
   {
    "duration": 11,
    "start_time": "2023-06-07T10:23:08.297Z"
   },
   {
    "duration": 8,
    "start_time": "2023-06-07T10:23:08.309Z"
   },
   {
    "duration": 452,
    "start_time": "2023-06-07T10:23:08.321Z"
   },
   {
    "duration": 5,
    "start_time": "2023-06-07T10:23:08.774Z"
   },
   {
    "duration": 16,
    "start_time": "2023-06-07T10:23:08.780Z"
   },
   {
    "duration": 11,
    "start_time": "2023-06-07T10:23:08.797Z"
   },
   {
    "duration": 15,
    "start_time": "2023-06-07T10:23:08.810Z"
   },
   {
    "duration": 176,
    "start_time": "2023-06-07T10:23:08.827Z"
   },
   {
    "duration": 132,
    "start_time": "2023-06-07T10:23:09.005Z"
   },
   {
    "duration": 17,
    "start_time": "2023-06-07T10:23:09.139Z"
   },
   {
    "duration": 352,
    "start_time": "2023-06-07T10:23:09.157Z"
   },
   {
    "duration": 228,
    "start_time": "2023-06-07T10:23:09.510Z"
   },
   {
    "duration": 288,
    "start_time": "2023-06-07T10:23:09.740Z"
   },
   {
    "duration": 240,
    "start_time": "2023-06-07T10:23:10.029Z"
   },
   {
    "duration": 250,
    "start_time": "2023-06-07T10:23:10.271Z"
   },
   {
    "duration": 12,
    "start_time": "2023-06-07T10:23:10.523Z"
   },
   {
    "duration": 346,
    "start_time": "2023-06-07T10:23:10.536Z"
   },
   {
    "duration": 6,
    "start_time": "2023-06-07T10:23:10.884Z"
   },
   {
    "duration": 303,
    "start_time": "2023-06-07T10:23:10.892Z"
   },
   {
    "duration": 10,
    "start_time": "2023-06-07T10:23:11.197Z"
   },
   {
    "duration": 17,
    "start_time": "2023-06-07T10:23:11.209Z"
   },
   {
    "duration": 234,
    "start_time": "2023-06-07T10:23:11.227Z"
   },
   {
    "duration": 14,
    "start_time": "2023-06-07T10:23:11.463Z"
   },
   {
    "duration": 320,
    "start_time": "2023-06-07T10:23:11.479Z"
   },
   {
    "duration": 11,
    "start_time": "2023-06-07T10:23:11.801Z"
   },
   {
    "duration": 5,
    "start_time": "2023-06-07T10:23:11.814Z"
   },
   {
    "duration": 165,
    "start_time": "2023-06-07T10:23:11.820Z"
   },
   {
    "duration": 12,
    "start_time": "2023-06-07T10:23:11.986Z"
   },
   {
    "duration": 143,
    "start_time": "2023-06-07T10:23:11.999Z"
   },
   {
    "duration": 15,
    "start_time": "2023-06-07T10:23:12.143Z"
   },
   {
    "duration": 26,
    "start_time": "2023-06-07T10:23:12.159Z"
   },
   {
    "duration": 19,
    "start_time": "2023-06-07T10:23:12.186Z"
   },
   {
    "duration": 14,
    "start_time": "2023-06-07T10:23:12.206Z"
   },
   {
    "duration": 4,
    "start_time": "2023-06-07T10:23:12.222Z"
   },
   {
    "duration": 161,
    "start_time": "2023-06-07T10:23:12.227Z"
   },
   {
    "duration": 195,
    "start_time": "2023-06-07T10:23:12.390Z"
   },
   {
    "duration": 159,
    "start_time": "2023-06-07T10:23:12.586Z"
   },
   {
    "duration": 163,
    "start_time": "2023-06-07T10:23:12.749Z"
   },
   {
    "duration": 6,
    "start_time": "2023-06-07T10:23:12.914Z"
   },
   {
    "duration": 8,
    "start_time": "2023-06-07T10:23:12.922Z"
   },
   {
    "duration": 25,
    "start_time": "2023-06-07T10:23:12.931Z"
   },
   {
    "duration": 11,
    "start_time": "2023-06-07T10:23:12.957Z"
   },
   {
    "duration": 9,
    "start_time": "2023-06-07T10:23:12.970Z"
   },
   {
    "duration": 17,
    "start_time": "2023-06-07T10:23:12.981Z"
   },
   {
    "duration": 6,
    "start_time": "2023-06-07T10:23:13.000Z"
   },
   {
    "duration": 5,
    "start_time": "2023-06-07T10:23:13.008Z"
   },
   {
    "duration": 39,
    "start_time": "2023-06-07T10:23:13.015Z"
   },
   {
    "duration": 10,
    "start_time": "2023-06-07T10:23:13.056Z"
   },
   {
    "duration": 88,
    "start_time": "2023-06-07T10:23:13.068Z"
   },
   {
    "duration": 93,
    "start_time": "2023-06-07T10:23:13.158Z"
   },
   {
    "duration": 8,
    "start_time": "2023-06-07T10:23:13.252Z"
   },
   {
    "duration": 9,
    "start_time": "2023-06-07T10:23:13.261Z"
   },
   {
    "duration": 21,
    "start_time": "2023-06-07T10:23:13.272Z"
   },
   {
    "duration": 4,
    "start_time": "2023-06-07T10:23:13.295Z"
   },
   {
    "duration": 10,
    "start_time": "2023-06-07T10:23:13.300Z"
   },
   {
    "duration": 5,
    "start_time": "2023-06-07T10:23:13.312Z"
   },
   {
    "duration": 8,
    "start_time": "2023-06-07T10:23:13.349Z"
   },
   {
    "duration": 8,
    "start_time": "2023-06-07T10:23:13.359Z"
   },
   {
    "duration": 8,
    "start_time": "2023-06-07T10:23:13.368Z"
   },
   {
    "duration": 5,
    "start_time": "2023-06-07T10:23:13.377Z"
   },
   {
    "duration": 10,
    "start_time": "2023-06-07T10:23:13.383Z"
   },
   {
    "duration": 7,
    "start_time": "2023-06-07T10:23:13.395Z"
   },
   {
    "duration": 52,
    "start_time": "2023-06-07T10:23:13.403Z"
   },
   {
    "duration": 4,
    "start_time": "2023-06-07T10:23:13.456Z"
   },
   {
    "duration": 10,
    "start_time": "2023-06-07T10:23:13.462Z"
   },
   {
    "duration": 8,
    "start_time": "2023-06-07T10:23:13.473Z"
   }
  ],
  "kernelspec": {
   "display_name": "Python 3 (ipykernel)",
   "language": "python",
   "name": "python3"
  },
  "language_info": {
   "codemirror_mode": {
    "name": "ipython",
    "version": 3
   },
   "file_extension": ".py",
   "mimetype": "text/x-python",
   "name": "python",
   "nbconvert_exporter": "python",
   "pygments_lexer": "ipython3",
   "version": "3.9.5"
  },
  "toc": {
   "base_numbering": 1,
   "nav_menu": {
    "height": "314px",
    "width": "220px"
   },
   "number_sections": true,
   "sideBar": true,
   "skip_h1_title": false,
   "title_cell": "Table of Contents",
   "title_sidebar": "Contents",
   "toc_cell": false,
   "toc_position": {
    "height": "calc(100% - 180px)",
    "left": "10px",
    "top": "150px",
    "width": "346.989px"
   },
   "toc_section_display": true,
   "toc_window_display": false
  }
 },
 "nbformat": 4,
 "nbformat_minor": 2
}
