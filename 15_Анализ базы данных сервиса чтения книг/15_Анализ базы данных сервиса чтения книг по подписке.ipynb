{
 "cells": [
  {
   "cell_type": "markdown",
   "id": "9c555030",
   "metadata": {},
   "source": [
    "# Проект: анализ базы данных сервиса чтения книг по подписке (SQL)"
   ]
  },
  {
   "cell_type": "markdown",
   "id": "b694bd7e",
   "metadata": {},
   "source": [
    "## Описание проекта"
   ]
  },
  {
   "cell_type": "markdown",
   "id": "f7117ad9",
   "metadata": {},
   "source": [
    "<div style=\"border:solid darkgreen 2px; padding: 20px\"> \n",
    "    \n",
    "<b>Заказчик:</b>\n",
    "    \n",
    "новый владелец крупного сервиса для чтения книг по подписке. \n",
    "    \n",
    "    \n",
    "<b>Цель проекта:</b>  \n",
    "    \n",
    "- сформулировать ценностное предложение для нового продукта\n",
    "    \n",
    "    \n",
    "<b>Задача проекта:</b>\n",
    "    \n",
    "- исследовать исходные данные;\n",
    "- посчитать, сколько книг вышло после 1 января 2000 года;\n",
    "- для каждой книги посчитать количество обзоров и среднюю оценку;\n",
    "- определить издательство, которое выпустило наибольшее число книг толще 50 страниц (так можно исключить из анализа брошюры);\n",
    "- определить автора с самой высокой средней оценкой книг (учитываем только книги с 50 и более оценками);\n",
    "- посчитать среднее количество обзоров от пользователей, которые поставили больше 48 оценок;\n",
    "- сформулировать выводы;\n",
    "- сформулировать предложение для нового продукта.\n",
    "    \n",
    "    \n",
    "<b>Источник данных:</b>\n",
    "    \n",
    "Реляционная база данных postgresql (5 таблиц)\n",
    "    \n",
    "    \n",
    "<b>Описание данных:</b>\n",
    "    \n",
    "<b>1. Таблица `books`</b>\n",
    "\n",
    "Содержит данные о книгах:\n",
    "\n",
    "- `book_id` — идентификатор книги;\n",
    "- `author_id` — идентификатор автора;\n",
    "- `title` — название книги;\n",
    "- `num_pages` — количество страниц;\n",
    "- `publication_date` — дата публикации книги;\n",
    "- `publisher_id` — идентификатор издателя.\n",
    "\n",
    "<b>2. Таблица `authors`</b>\n",
    "\n",
    "Содержит данные об авторах:\n",
    "\n",
    "- `author_id` — идентификатор автора;\n",
    "- `author` — имя автора.\n",
    "\n",
    "<b>3. Таблица `publishers`</b>\n",
    "    \n",
    "Содержит данные об издательствах:\n",
    "\n",
    "- `publisher_id` — идентификатор издательства;\n",
    "- `publisher` — название издательства.\n",
    "    \n",
    "<b>4. Таблица `ratings`</b>\n",
    "\n",
    "Содержит данные о пользовательских оценках книг:\n",
    "\n",
    "- `rating_id` — идентификатор оценки;\n",
    "- `book_id` — идентификатор книги;\n",
    "- `username` — имя пользователя, оставившего оценку;\n",
    "- `rating` — оценка книги.\n",
    "\n",
    "<b>5. Таблица `reviews`</b>\n",
    "\n",
    "Содержит данные о пользовательских обзорах на книги:\n",
    "\n",
    "- `review_id` — идентификатор обзора;\n",
    "- `book_id` — идентификатор книги;\n",
    "- `username` — имя пользователя, написавшего обзор;\n",
    "- `text` — текст обзора.\n",
    "</div>\n",
    "\n"
   ]
  },
  {
   "cell_type": "markdown",
   "id": "876b5dfd",
   "metadata": {},
   "source": [
    "<a id='start'></a>\n",
    "[К выводам](#total)"
   ]
  },
  {
   "cell_type": "markdown",
   "id": "0ee6073e",
   "metadata": {},
   "source": [
    "## Подготовительный этап анализа"
   ]
  },
  {
   "cell_type": "markdown",
   "id": "7c046621",
   "metadata": {},
   "source": [
    "### Загрузка библиотек"
   ]
  },
  {
   "cell_type": "code",
   "execution_count": 1,
   "id": "203c44f4",
   "metadata": {},
   "outputs": [],
   "source": [
    "# загрузим библиотеки\n",
    "import pandas as pd\n",
    "from sqlalchemy import text, create_engine"
   ]
  },
  {
   "cell_type": "markdown",
   "id": "1b34435e",
   "metadata": {},
   "source": [
    "### Подключение к базе данных"
   ]
  },
  {
   "cell_type": "code",
   "execution_count": 2,
   "id": "ebd2be1f",
   "metadata": {},
   "outputs": [],
   "source": [
    "# установим параметры\n",
    "db_config = {'user': 'praktikum_student', # имя пользователя\n",
    "'pwd': 'Sdf4$2;d-d30pp', # пароль\n",
    "'host': 'rc1b-wcoijxj3yxfsf3fs.mdb.yandexcloud.net',\n",
    "'port': 6432, # порт подключения\n",
    "'db': 'data-analyst-final-project-db'} # название базы данных\n",
    "connection_string = 'postgresql://{user}:{pwd}@{host}:{port}/{db}'.format(**db_config)\n",
    "\n",
    "# сохраним коннектор\n",
    "engine = create_engine(connection_string, connect_args={'sslmode':'require'})\n",
    "\n",
    "con=engine.connect()"
   ]
  },
  {
   "cell_type": "markdown",
   "id": "cf49d91c",
   "metadata": {},
   "source": [
    "### Исследование таблиц"
   ]
  },
  {
   "cell_type": "markdown",
   "id": "cb6829ff",
   "metadata": {},
   "source": [
    "#### Таблица books"
   ]
  },
  {
   "cell_type": "code",
   "execution_count": 3,
   "id": "f06fe4de",
   "metadata": {},
   "outputs": [],
   "source": [
    "# выполним SQL-запрос в Pandas\n",
    "query = '''SELECT * FROM books'''"
   ]
  },
  {
   "cell_type": "code",
   "execution_count": 4,
   "id": "bdc1aaac",
   "metadata": {},
   "outputs": [
    {
     "data": {
      "text/html": [
       "<div>\n",
       "<style scoped>\n",
       "    .dataframe tbody tr th:only-of-type {\n",
       "        vertical-align: middle;\n",
       "    }\n",
       "\n",
       "    .dataframe tbody tr th {\n",
       "        vertical-align: top;\n",
       "    }\n",
       "\n",
       "    .dataframe thead th {\n",
       "        text-align: right;\n",
       "    }\n",
       "</style>\n",
       "<table border=\"1\" class=\"dataframe\">\n",
       "  <thead>\n",
       "    <tr style=\"text-align: right;\">\n",
       "      <th></th>\n",
       "      <th>book_id</th>\n",
       "      <th>author_id</th>\n",
       "      <th>title</th>\n",
       "      <th>num_pages</th>\n",
       "      <th>publication_date</th>\n",
       "      <th>publisher_id</th>\n",
       "    </tr>\n",
       "  </thead>\n",
       "  <tbody>\n",
       "    <tr>\n",
       "      <th>0</th>\n",
       "      <td>1</td>\n",
       "      <td>546</td>\n",
       "      <td>'Salem's Lot</td>\n",
       "      <td>594</td>\n",
       "      <td>2005-11-01</td>\n",
       "      <td>93</td>\n",
       "    </tr>\n",
       "    <tr>\n",
       "      <th>1</th>\n",
       "      <td>2</td>\n",
       "      <td>465</td>\n",
       "      <td>1 000 Places to See Before You Die</td>\n",
       "      <td>992</td>\n",
       "      <td>2003-05-22</td>\n",
       "      <td>336</td>\n",
       "    </tr>\n",
       "    <tr>\n",
       "      <th>2</th>\n",
       "      <td>3</td>\n",
       "      <td>407</td>\n",
       "      <td>13 Little Blue Envelopes (Little Blue Envelope...</td>\n",
       "      <td>322</td>\n",
       "      <td>2010-12-21</td>\n",
       "      <td>135</td>\n",
       "    </tr>\n",
       "    <tr>\n",
       "      <th>3</th>\n",
       "      <td>4</td>\n",
       "      <td>82</td>\n",
       "      <td>1491: New Revelations of the Americas Before C...</td>\n",
       "      <td>541</td>\n",
       "      <td>2006-10-10</td>\n",
       "      <td>309</td>\n",
       "    </tr>\n",
       "    <tr>\n",
       "      <th>4</th>\n",
       "      <td>5</td>\n",
       "      <td>125</td>\n",
       "      <td>1776</td>\n",
       "      <td>386</td>\n",
       "      <td>2006-07-04</td>\n",
       "      <td>268</td>\n",
       "    </tr>\n",
       "    <tr>\n",
       "      <th>...</th>\n",
       "      <td>...</td>\n",
       "      <td>...</td>\n",
       "      <td>...</td>\n",
       "      <td>...</td>\n",
       "      <td>...</td>\n",
       "      <td>...</td>\n",
       "    </tr>\n",
       "    <tr>\n",
       "      <th>995</th>\n",
       "      <td>996</td>\n",
       "      <td>571</td>\n",
       "      <td>Wyrd Sisters (Discworld  #6; Witches #2)</td>\n",
       "      <td>265</td>\n",
       "      <td>2001-02-06</td>\n",
       "      <td>147</td>\n",
       "    </tr>\n",
       "    <tr>\n",
       "      <th>996</th>\n",
       "      <td>997</td>\n",
       "      <td>454</td>\n",
       "      <td>Xenocide (Ender's Saga  #3)</td>\n",
       "      <td>592</td>\n",
       "      <td>1996-07-15</td>\n",
       "      <td>297</td>\n",
       "    </tr>\n",
       "    <tr>\n",
       "      <th>997</th>\n",
       "      <td>998</td>\n",
       "      <td>201</td>\n",
       "      <td>Year of Wonders</td>\n",
       "      <td>358</td>\n",
       "      <td>2002-04-30</td>\n",
       "      <td>212</td>\n",
       "    </tr>\n",
       "    <tr>\n",
       "      <th>998</th>\n",
       "      <td>999</td>\n",
       "      <td>94</td>\n",
       "      <td>You Suck (A Love Story  #2)</td>\n",
       "      <td>328</td>\n",
       "      <td>2007-01-16</td>\n",
       "      <td>331</td>\n",
       "    </tr>\n",
       "    <tr>\n",
       "      <th>999</th>\n",
       "      <td>1000</td>\n",
       "      <td>509</td>\n",
       "      <td>Zen and the Art of Motorcycle Maintenance: An ...</td>\n",
       "      <td>540</td>\n",
       "      <td>2006-04-25</td>\n",
       "      <td>143</td>\n",
       "    </tr>\n",
       "  </tbody>\n",
       "</table>\n",
       "<p>1000 rows × 6 columns</p>\n",
       "</div>"
      ],
      "text/plain": [
       "     book_id  author_id                                              title  \\\n",
       "0          1        546                                       'Salem's Lot   \n",
       "1          2        465                 1 000 Places to See Before You Die   \n",
       "2          3        407  13 Little Blue Envelopes (Little Blue Envelope...   \n",
       "3          4         82  1491: New Revelations of the Americas Before C...   \n",
       "4          5        125                                               1776   \n",
       "..       ...        ...                                                ...   \n",
       "995      996        571           Wyrd Sisters (Discworld  #6; Witches #2)   \n",
       "996      997        454                        Xenocide (Ender's Saga  #3)   \n",
       "997      998        201                                    Year of Wonders   \n",
       "998      999         94                        You Suck (A Love Story  #2)   \n",
       "999     1000        509  Zen and the Art of Motorcycle Maintenance: An ...   \n",
       "\n",
       "     num_pages publication_date  publisher_id  \n",
       "0          594       2005-11-01            93  \n",
       "1          992       2003-05-22           336  \n",
       "2          322       2010-12-21           135  \n",
       "3          541       2006-10-10           309  \n",
       "4          386       2006-07-04           268  \n",
       "..         ...              ...           ...  \n",
       "995        265       2001-02-06           147  \n",
       "996        592       1996-07-15           297  \n",
       "997        358       2002-04-30           212  \n",
       "998        328       2007-01-16           331  \n",
       "999        540       2006-04-25           143  \n",
       "\n",
       "[1000 rows x 6 columns]"
      ]
     },
     "execution_count": 4,
     "metadata": {},
     "output_type": "execute_result"
    }
   ],
   "source": [
    "# выведем таблицу на экран\n",
    "pd.io.sql.read_sql(sql=text(query), con = con)"
   ]
  },
  {
   "cell_type": "markdown",
   "id": "c4ed56ab",
   "metadata": {},
   "source": [
    "<div style=\"border:solid darkgreen 2px; padding: 20px\"> \n",
    "    \n",
    "<b>Вывод:</b>\n",
    "    \n",
    "- таблица books содержит 6 колонок и 1000 строк;\n",
    "- названия столбцов:\n",
    "    - book_id — идентификатор книги;\n",
    "    - author_id — идентификатор автора;\n",
    "    - title — название книги;\n",
    "    - num_pages — количество страниц;\n",
    "    - publication_date — дата публикации книги;\n",
    "    - publisher_id — идентификатор издателя.\n",
    " \n",
    "</div>\n",
    "\n"
   ]
  },
  {
   "cell_type": "markdown",
   "id": "105ebc2c",
   "metadata": {},
   "source": [
    "#### Таблица authors"
   ]
  },
  {
   "cell_type": "code",
   "execution_count": 5,
   "id": "20687806",
   "metadata": {},
   "outputs": [],
   "source": [
    "# выполним SQL-запрос в Pandas\n",
    "query2 = '''SELECT * FROM authors'''"
   ]
  },
  {
   "cell_type": "code",
   "execution_count": 6,
   "id": "ffa6fcf6",
   "metadata": {},
   "outputs": [
    {
     "data": {
      "text/html": [
       "<div>\n",
       "<style scoped>\n",
       "    .dataframe tbody tr th:only-of-type {\n",
       "        vertical-align: middle;\n",
       "    }\n",
       "\n",
       "    .dataframe tbody tr th {\n",
       "        vertical-align: top;\n",
       "    }\n",
       "\n",
       "    .dataframe thead th {\n",
       "        text-align: right;\n",
       "    }\n",
       "</style>\n",
       "<table border=\"1\" class=\"dataframe\">\n",
       "  <thead>\n",
       "    <tr style=\"text-align: right;\">\n",
       "      <th></th>\n",
       "      <th>author_id</th>\n",
       "      <th>author</th>\n",
       "    </tr>\n",
       "  </thead>\n",
       "  <tbody>\n",
       "    <tr>\n",
       "      <th>0</th>\n",
       "      <td>1</td>\n",
       "      <td>A.S. Byatt</td>\n",
       "    </tr>\n",
       "    <tr>\n",
       "      <th>1</th>\n",
       "      <td>2</td>\n",
       "      <td>Aesop/Laura Harris/Laura Gibbs</td>\n",
       "    </tr>\n",
       "    <tr>\n",
       "      <th>2</th>\n",
       "      <td>3</td>\n",
       "      <td>Agatha Christie</td>\n",
       "    </tr>\n",
       "    <tr>\n",
       "      <th>3</th>\n",
       "      <td>4</td>\n",
       "      <td>Alan Brennert</td>\n",
       "    </tr>\n",
       "    <tr>\n",
       "      <th>4</th>\n",
       "      <td>5</td>\n",
       "      <td>Alan Moore/David   Lloyd</td>\n",
       "    </tr>\n",
       "    <tr>\n",
       "      <th>...</th>\n",
       "      <td>...</td>\n",
       "      <td>...</td>\n",
       "    </tr>\n",
       "    <tr>\n",
       "      <th>631</th>\n",
       "      <td>632</td>\n",
       "      <td>William Strunk Jr./E.B. White</td>\n",
       "    </tr>\n",
       "    <tr>\n",
       "      <th>632</th>\n",
       "      <td>633</td>\n",
       "      <td>Zadie Smith</td>\n",
       "    </tr>\n",
       "    <tr>\n",
       "      <th>633</th>\n",
       "      <td>634</td>\n",
       "      <td>Zilpha Keatley Snyder</td>\n",
       "    </tr>\n",
       "    <tr>\n",
       "      <th>634</th>\n",
       "      <td>635</td>\n",
       "      <td>Zora Neale Hurston</td>\n",
       "    </tr>\n",
       "    <tr>\n",
       "      <th>635</th>\n",
       "      <td>636</td>\n",
       "      <td>Åsne Seierstad/Ingrid Christopherson</td>\n",
       "    </tr>\n",
       "  </tbody>\n",
       "</table>\n",
       "<p>636 rows × 2 columns</p>\n",
       "</div>"
      ],
      "text/plain": [
       "     author_id                                author\n",
       "0            1                            A.S. Byatt\n",
       "1            2        Aesop/Laura Harris/Laura Gibbs\n",
       "2            3                       Agatha Christie\n",
       "3            4                         Alan Brennert\n",
       "4            5              Alan Moore/David   Lloyd\n",
       "..         ...                                   ...\n",
       "631        632         William Strunk Jr./E.B. White\n",
       "632        633                           Zadie Smith\n",
       "633        634                 Zilpha Keatley Snyder\n",
       "634        635                    Zora Neale Hurston\n",
       "635        636  Åsne Seierstad/Ingrid Christopherson\n",
       "\n",
       "[636 rows x 2 columns]"
      ]
     },
     "execution_count": 6,
     "metadata": {},
     "output_type": "execute_result"
    }
   ],
   "source": [
    "# выведем таблицу на экран\n",
    "pd.io.sql.read_sql(sql=text(query2), con = con)"
   ]
  },
  {
   "cell_type": "markdown",
   "id": "2501bb41",
   "metadata": {},
   "source": [
    "<div style=\"border:solid darkgreen 2px; padding: 20px\"> \n",
    "    \n",
    "<b>Вывод:</b>\n",
    "    \n",
    "- таблица authors содержит 2 колонки и 636 строк;\n",
    "- названия столбцов:\n",
    "     - `author_id` — идентификатор автора;\n",
    "     - `author` — имя автора.\n",
    " </div>\n"
   ]
  },
  {
   "cell_type": "markdown",
   "id": "49210b75",
   "metadata": {},
   "source": [
    "#### Таблица `publishers`"
   ]
  },
  {
   "cell_type": "code",
   "execution_count": 7,
   "id": "9d0b2c20",
   "metadata": {},
   "outputs": [],
   "source": [
    "# выполним SQL-запрос в Pandas\n",
    "query3 = '''SELECT * FROM publishers'''"
   ]
  },
  {
   "cell_type": "code",
   "execution_count": 8,
   "id": "e252f4cc",
   "metadata": {},
   "outputs": [
    {
     "data": {
      "text/html": [
       "<div>\n",
       "<style scoped>\n",
       "    .dataframe tbody tr th:only-of-type {\n",
       "        vertical-align: middle;\n",
       "    }\n",
       "\n",
       "    .dataframe tbody tr th {\n",
       "        vertical-align: top;\n",
       "    }\n",
       "\n",
       "    .dataframe thead th {\n",
       "        text-align: right;\n",
       "    }\n",
       "</style>\n",
       "<table border=\"1\" class=\"dataframe\">\n",
       "  <thead>\n",
       "    <tr style=\"text-align: right;\">\n",
       "      <th></th>\n",
       "      <th>publisher_id</th>\n",
       "      <th>publisher</th>\n",
       "    </tr>\n",
       "  </thead>\n",
       "  <tbody>\n",
       "    <tr>\n",
       "      <th>0</th>\n",
       "      <td>1</td>\n",
       "      <td>Ace</td>\n",
       "    </tr>\n",
       "    <tr>\n",
       "      <th>1</th>\n",
       "      <td>2</td>\n",
       "      <td>Ace Book</td>\n",
       "    </tr>\n",
       "    <tr>\n",
       "      <th>2</th>\n",
       "      <td>3</td>\n",
       "      <td>Ace Books</td>\n",
       "    </tr>\n",
       "    <tr>\n",
       "      <th>3</th>\n",
       "      <td>4</td>\n",
       "      <td>Ace Hardcover</td>\n",
       "    </tr>\n",
       "    <tr>\n",
       "      <th>4</th>\n",
       "      <td>5</td>\n",
       "      <td>Addison Wesley Publishing Company</td>\n",
       "    </tr>\n",
       "    <tr>\n",
       "      <th>...</th>\n",
       "      <td>...</td>\n",
       "      <td>...</td>\n",
       "    </tr>\n",
       "    <tr>\n",
       "      <th>335</th>\n",
       "      <td>336</td>\n",
       "      <td>Workman Publishing Company</td>\n",
       "    </tr>\n",
       "    <tr>\n",
       "      <th>336</th>\n",
       "      <td>337</td>\n",
       "      <td>Wyatt Book</td>\n",
       "    </tr>\n",
       "    <tr>\n",
       "      <th>337</th>\n",
       "      <td>338</td>\n",
       "      <td>Yale University Press</td>\n",
       "    </tr>\n",
       "    <tr>\n",
       "      <th>338</th>\n",
       "      <td>339</td>\n",
       "      <td>Yearling</td>\n",
       "    </tr>\n",
       "    <tr>\n",
       "      <th>339</th>\n",
       "      <td>340</td>\n",
       "      <td>Yearling Books</td>\n",
       "    </tr>\n",
       "  </tbody>\n",
       "</table>\n",
       "<p>340 rows × 2 columns</p>\n",
       "</div>"
      ],
      "text/plain": [
       "     publisher_id                          publisher\n",
       "0               1                                Ace\n",
       "1               2                           Ace Book\n",
       "2               3                          Ace Books\n",
       "3               4                      Ace Hardcover\n",
       "4               5  Addison Wesley Publishing Company\n",
       "..            ...                                ...\n",
       "335           336         Workman Publishing Company\n",
       "336           337                         Wyatt Book\n",
       "337           338              Yale University Press\n",
       "338           339                           Yearling\n",
       "339           340                     Yearling Books\n",
       "\n",
       "[340 rows x 2 columns]"
      ]
     },
     "execution_count": 8,
     "metadata": {},
     "output_type": "execute_result"
    }
   ],
   "source": [
    "# выведем таблицу на экран\n",
    "pd.io.sql.read_sql(sql=text(query3), con = con)"
   ]
  },
  {
   "cell_type": "markdown",
   "id": "c5d20f69",
   "metadata": {},
   "source": [
    "<div style=\"border:solid darkgreen 2px; padding: 20px\"> \n",
    "    \n",
    "<b>Вывод:</b>\n",
    "    \n",
    "- таблица publishers содержит 2 колонки и 340 строк;\n",
    "- названия столбцов:\n",
    "     - `publisher_id` — идентификатор издательства;\n",
    "     - `publisher` — название издательства.\n",
    " </div>"
   ]
  },
  {
   "cell_type": "markdown",
   "id": "383c0c15",
   "metadata": {},
   "source": [
    "#### Таблица `ratings`"
   ]
  },
  {
   "cell_type": "code",
   "execution_count": 9,
   "id": "222fba99",
   "metadata": {},
   "outputs": [],
   "source": [
    "# выполним SQL-запрос в Pandas\n",
    "query4 = '''SELECT * FROM ratings'''"
   ]
  },
  {
   "cell_type": "code",
   "execution_count": 10,
   "id": "19b9a1eb",
   "metadata": {},
   "outputs": [
    {
     "data": {
      "text/html": [
       "<div>\n",
       "<style scoped>\n",
       "    .dataframe tbody tr th:only-of-type {\n",
       "        vertical-align: middle;\n",
       "    }\n",
       "\n",
       "    .dataframe tbody tr th {\n",
       "        vertical-align: top;\n",
       "    }\n",
       "\n",
       "    .dataframe thead th {\n",
       "        text-align: right;\n",
       "    }\n",
       "</style>\n",
       "<table border=\"1\" class=\"dataframe\">\n",
       "  <thead>\n",
       "    <tr style=\"text-align: right;\">\n",
       "      <th></th>\n",
       "      <th>rating_id</th>\n",
       "      <th>book_id</th>\n",
       "      <th>username</th>\n",
       "      <th>rating</th>\n",
       "    </tr>\n",
       "  </thead>\n",
       "  <tbody>\n",
       "    <tr>\n",
       "      <th>0</th>\n",
       "      <td>1</td>\n",
       "      <td>1</td>\n",
       "      <td>ryanfranco</td>\n",
       "      <td>4</td>\n",
       "    </tr>\n",
       "    <tr>\n",
       "      <th>1</th>\n",
       "      <td>2</td>\n",
       "      <td>1</td>\n",
       "      <td>grantpatricia</td>\n",
       "      <td>2</td>\n",
       "    </tr>\n",
       "    <tr>\n",
       "      <th>2</th>\n",
       "      <td>3</td>\n",
       "      <td>1</td>\n",
       "      <td>brandtandrea</td>\n",
       "      <td>5</td>\n",
       "    </tr>\n",
       "    <tr>\n",
       "      <th>3</th>\n",
       "      <td>4</td>\n",
       "      <td>2</td>\n",
       "      <td>lorichen</td>\n",
       "      <td>3</td>\n",
       "    </tr>\n",
       "    <tr>\n",
       "      <th>4</th>\n",
       "      <td>5</td>\n",
       "      <td>2</td>\n",
       "      <td>mariokeller</td>\n",
       "      <td>2</td>\n",
       "    </tr>\n",
       "    <tr>\n",
       "      <th>...</th>\n",
       "      <td>...</td>\n",
       "      <td>...</td>\n",
       "      <td>...</td>\n",
       "      <td>...</td>\n",
       "    </tr>\n",
       "    <tr>\n",
       "      <th>6451</th>\n",
       "      <td>6452</td>\n",
       "      <td>1000</td>\n",
       "      <td>carolrodriguez</td>\n",
       "      <td>4</td>\n",
       "    </tr>\n",
       "    <tr>\n",
       "      <th>6452</th>\n",
       "      <td>6453</td>\n",
       "      <td>1000</td>\n",
       "      <td>wendy18</td>\n",
       "      <td>4</td>\n",
       "    </tr>\n",
       "    <tr>\n",
       "      <th>6453</th>\n",
       "      <td>6454</td>\n",
       "      <td>1000</td>\n",
       "      <td>jarvispaul</td>\n",
       "      <td>5</td>\n",
       "    </tr>\n",
       "    <tr>\n",
       "      <th>6454</th>\n",
       "      <td>6455</td>\n",
       "      <td>1000</td>\n",
       "      <td>zross</td>\n",
       "      <td>2</td>\n",
       "    </tr>\n",
       "    <tr>\n",
       "      <th>6455</th>\n",
       "      <td>6456</td>\n",
       "      <td>1000</td>\n",
       "      <td>fharris</td>\n",
       "      <td>5</td>\n",
       "    </tr>\n",
       "  </tbody>\n",
       "</table>\n",
       "<p>6456 rows × 4 columns</p>\n",
       "</div>"
      ],
      "text/plain": [
       "      rating_id  book_id        username  rating\n",
       "0             1        1      ryanfranco       4\n",
       "1             2        1   grantpatricia       2\n",
       "2             3        1    brandtandrea       5\n",
       "3             4        2        lorichen       3\n",
       "4             5        2     mariokeller       2\n",
       "...         ...      ...             ...     ...\n",
       "6451       6452     1000  carolrodriguez       4\n",
       "6452       6453     1000         wendy18       4\n",
       "6453       6454     1000      jarvispaul       5\n",
       "6454       6455     1000           zross       2\n",
       "6455       6456     1000         fharris       5\n",
       "\n",
       "[6456 rows x 4 columns]"
      ]
     },
     "execution_count": 10,
     "metadata": {},
     "output_type": "execute_result"
    }
   ],
   "source": [
    "# выведем таблицу на экран\n",
    "pd.io.sql.read_sql(sql=text(query4), con = con)"
   ]
  },
  {
   "cell_type": "markdown",
   "id": "d8353aba",
   "metadata": {},
   "source": [
    "<div style=\"border:solid darkgreen 2px; padding: 20px\"> \n",
    "    \n",
    "<b>Вывод:</b>\n",
    "    \n",
    "- таблица ratings содержит 4 колонки и 6456  строк;\n",
    "- названия столбцов:\n",
    "     - `rating_id` — идентификатор оценки;\n",
    "     - `book_id` — идентификатор книги;\n",
    "     - `username` — имя пользователя, оставившего оценку;\n",
    "     - `rating` — оценка книги.\n",
    " </div>"
   ]
  },
  {
   "cell_type": "markdown",
   "id": "ae7a7ae2",
   "metadata": {},
   "source": [
    "#### Таблица `reviews`"
   ]
  },
  {
   "cell_type": "code",
   "execution_count": 11,
   "id": "f8a00f4f",
   "metadata": {},
   "outputs": [],
   "source": [
    "# выполним SQL-запрос в Pandas\n",
    "query5 = '''SELECT * FROM reviews'''"
   ]
  },
  {
   "cell_type": "code",
   "execution_count": 12,
   "id": "d65302f7",
   "metadata": {},
   "outputs": [
    {
     "data": {
      "text/html": [
       "<div>\n",
       "<style scoped>\n",
       "    .dataframe tbody tr th:only-of-type {\n",
       "        vertical-align: middle;\n",
       "    }\n",
       "\n",
       "    .dataframe tbody tr th {\n",
       "        vertical-align: top;\n",
       "    }\n",
       "\n",
       "    .dataframe thead th {\n",
       "        text-align: right;\n",
       "    }\n",
       "</style>\n",
       "<table border=\"1\" class=\"dataframe\">\n",
       "  <thead>\n",
       "    <tr style=\"text-align: right;\">\n",
       "      <th></th>\n",
       "      <th>review_id</th>\n",
       "      <th>book_id</th>\n",
       "      <th>username</th>\n",
       "      <th>text</th>\n",
       "    </tr>\n",
       "  </thead>\n",
       "  <tbody>\n",
       "    <tr>\n",
       "      <th>0</th>\n",
       "      <td>1</td>\n",
       "      <td>1</td>\n",
       "      <td>brandtandrea</td>\n",
       "      <td>Mention society tell send professor analysis. ...</td>\n",
       "    </tr>\n",
       "    <tr>\n",
       "      <th>1</th>\n",
       "      <td>2</td>\n",
       "      <td>1</td>\n",
       "      <td>ryanfranco</td>\n",
       "      <td>Foot glass pretty audience hit themselves. Amo...</td>\n",
       "    </tr>\n",
       "    <tr>\n",
       "      <th>2</th>\n",
       "      <td>3</td>\n",
       "      <td>2</td>\n",
       "      <td>lorichen</td>\n",
       "      <td>Listen treat keep worry. Miss husband tax but ...</td>\n",
       "    </tr>\n",
       "    <tr>\n",
       "      <th>3</th>\n",
       "      <td>4</td>\n",
       "      <td>3</td>\n",
       "      <td>johnsonamanda</td>\n",
       "      <td>Finally month interesting blue could nature cu...</td>\n",
       "    </tr>\n",
       "    <tr>\n",
       "      <th>4</th>\n",
       "      <td>5</td>\n",
       "      <td>3</td>\n",
       "      <td>scotttamara</td>\n",
       "      <td>Nation purpose heavy give wait song will. List...</td>\n",
       "    </tr>\n",
       "    <tr>\n",
       "      <th>...</th>\n",
       "      <td>...</td>\n",
       "      <td>...</td>\n",
       "      <td>...</td>\n",
       "      <td>...</td>\n",
       "    </tr>\n",
       "    <tr>\n",
       "      <th>2788</th>\n",
       "      <td>2789</td>\n",
       "      <td>999</td>\n",
       "      <td>martinadam</td>\n",
       "      <td>Later hospital turn easy community. Fact same ...</td>\n",
       "    </tr>\n",
       "    <tr>\n",
       "      <th>2789</th>\n",
       "      <td>2790</td>\n",
       "      <td>1000</td>\n",
       "      <td>wknight</td>\n",
       "      <td>Change lose answer close pressure. Spend so now.</td>\n",
       "    </tr>\n",
       "    <tr>\n",
       "      <th>2790</th>\n",
       "      <td>2791</td>\n",
       "      <td>1000</td>\n",
       "      <td>carolrodriguez</td>\n",
       "      <td>Authority go who television entire hair guy po...</td>\n",
       "    </tr>\n",
       "    <tr>\n",
       "      <th>2791</th>\n",
       "      <td>2792</td>\n",
       "      <td>1000</td>\n",
       "      <td>wendy18</td>\n",
       "      <td>Or western offer wonder ask. More hear phone f...</td>\n",
       "    </tr>\n",
       "    <tr>\n",
       "      <th>2792</th>\n",
       "      <td>2793</td>\n",
       "      <td>1000</td>\n",
       "      <td>jarvispaul</td>\n",
       "      <td>Republican staff bit eat material measure plan...</td>\n",
       "    </tr>\n",
       "  </tbody>\n",
       "</table>\n",
       "<p>2793 rows × 4 columns</p>\n",
       "</div>"
      ],
      "text/plain": [
       "      review_id  book_id        username  \\\n",
       "0             1        1    brandtandrea   \n",
       "1             2        1      ryanfranco   \n",
       "2             3        2        lorichen   \n",
       "3             4        3   johnsonamanda   \n",
       "4             5        3     scotttamara   \n",
       "...         ...      ...             ...   \n",
       "2788       2789      999      martinadam   \n",
       "2789       2790     1000         wknight   \n",
       "2790       2791     1000  carolrodriguez   \n",
       "2791       2792     1000         wendy18   \n",
       "2792       2793     1000      jarvispaul   \n",
       "\n",
       "                                                   text  \n",
       "0     Mention society tell send professor analysis. ...  \n",
       "1     Foot glass pretty audience hit themselves. Amo...  \n",
       "2     Listen treat keep worry. Miss husband tax but ...  \n",
       "3     Finally month interesting blue could nature cu...  \n",
       "4     Nation purpose heavy give wait song will. List...  \n",
       "...                                                 ...  \n",
       "2788  Later hospital turn easy community. Fact same ...  \n",
       "2789   Change lose answer close pressure. Spend so now.  \n",
       "2790  Authority go who television entire hair guy po...  \n",
       "2791  Or western offer wonder ask. More hear phone f...  \n",
       "2792  Republican staff bit eat material measure plan...  \n",
       "\n",
       "[2793 rows x 4 columns]"
      ]
     },
     "execution_count": 12,
     "metadata": {},
     "output_type": "execute_result"
    }
   ],
   "source": [
    "# выведем таблицу на экран\n",
    "pd.io.sql.read_sql(sql=text(query5), con = con)"
   ]
  },
  {
   "cell_type": "markdown",
   "id": "5bde51ab",
   "metadata": {},
   "source": [
    "<div style=\"border:solid darkgreen 2px; padding: 20px\"> \n",
    "    \n",
    "<b>Вывод:</b>\n",
    "    \n",
    "- таблица reviews содержит 2 колонки и 2793 строк;\n",
    "- названия столбцов:\n",
    "     -`review_id` — идентификатор обзора;\n",
    "     - `book_id` — идентификатор книги;\n",
    "     - `username` — имя пользователя, написавшего обзор;\n",
    "     - `text` — текст обзора.\n",
    " </div>"
   ]
  },
  {
   "cell_type": "markdown",
   "id": "b480e0d9",
   "metadata": {},
   "source": [
    "## Исследовательский этап анализа"
   ]
  },
  {
   "cell_type": "markdown",
   "id": "b3b53ec4",
   "metadata": {},
   "source": [
    "### Задача 1"
   ]
  },
  {
   "cell_type": "markdown",
   "id": "bd0a104e",
   "metadata": {},
   "source": [
    "<div style=\"border:solid darkgreen 2px; padding: 20px\"> \n",
    "    \n",
    "<b>Формулировка задачи:</b>\n",
    "    \n",
    "- Посчитать, сколько книг вышло после 1 января 2000 года\n",
    " </div>"
   ]
  },
  {
   "cell_type": "code",
   "execution_count": 13,
   "id": "771f7382",
   "metadata": {},
   "outputs": [
    {
     "data": {
      "text/html": [
       "<div>\n",
       "<style scoped>\n",
       "    .dataframe tbody tr th:only-of-type {\n",
       "        vertical-align: middle;\n",
       "    }\n",
       "\n",
       "    .dataframe tbody tr th {\n",
       "        vertical-align: top;\n",
       "    }\n",
       "\n",
       "    .dataframe thead th {\n",
       "        text-align: right;\n",
       "    }\n",
       "</style>\n",
       "<table border=\"1\" class=\"dataframe\">\n",
       "  <thead>\n",
       "    <tr style=\"text-align: right;\">\n",
       "      <th></th>\n",
       "      <th>count_books</th>\n",
       "    </tr>\n",
       "  </thead>\n",
       "  <tbody>\n",
       "    <tr>\n",
       "      <th>0</th>\n",
       "      <td>819</td>\n",
       "    </tr>\n",
       "  </tbody>\n",
       "</table>\n",
       "</div>"
      ],
      "text/plain": [
       "   count_books\n",
       "0          819"
      ]
     },
     "execution_count": 13,
     "metadata": {},
     "output_type": "execute_result"
    }
   ],
   "source": [
    "# выполним SQL-запрос в Pandas и выведем результат на экран\n",
    "query6 = '''\n",
    "SELECT \n",
    "    COUNT(DISTINCT book_id) AS count_books\n",
    "FROM \n",
    "    books\n",
    "WHERE\n",
    "    publication_date > '2000-01-01'\n",
    "'''\n",
    "pd.io.sql.read_sql(query6, con = engine)"
   ]
  },
  {
   "cell_type": "markdown",
   "id": "7460f21c",
   "metadata": {},
   "source": [
    "<div style=\"border:solid darkgreen 2px; padding: 20px\"> \n",
    "    \n",
    "<b>Вывод:</b>\n",
    "    \n",
    "- в базе данных сервиса для чтения книг хранится 819 книг, вышедших после 01.01.2000 г.\n",
    " </div>"
   ]
  },
  {
   "cell_type": "markdown",
   "id": "5ec18d3e",
   "metadata": {},
   "source": [
    "### Задача 2"
   ]
  },
  {
   "cell_type": "markdown",
   "id": "8e0f1c53",
   "metadata": {},
   "source": [
    "<div style=\"border:solid darkgreen 2px; padding: 20px\"> \n",
    "    \n",
    "<b>Формулировка задачи:</b>\n",
    "    \n",
    "- Для каждой книги посчитать количество обзоров и среднюю оценку\n",
    " </div>"
   ]
  },
  {
   "cell_type": "code",
   "execution_count": 14,
   "id": "c6f3608b",
   "metadata": {},
   "outputs": [
    {
     "data": {
      "text/html": [
       "<div>\n",
       "<style scoped>\n",
       "    .dataframe tbody tr th:only-of-type {\n",
       "        vertical-align: middle;\n",
       "    }\n",
       "\n",
       "    .dataframe tbody tr th {\n",
       "        vertical-align: top;\n",
       "    }\n",
       "\n",
       "    .dataframe thead th {\n",
       "        text-align: right;\n",
       "    }\n",
       "</style>\n",
       "<table border=\"1\" class=\"dataframe\">\n",
       "  <thead>\n",
       "    <tr style=\"text-align: right;\">\n",
       "      <th></th>\n",
       "      <th>book_name</th>\n",
       "      <th>count_reviews</th>\n",
       "      <th>avg_rating</th>\n",
       "    </tr>\n",
       "  </thead>\n",
       "  <tbody>\n",
       "    <tr>\n",
       "      <th>0</th>\n",
       "      <td>A Dirty Job (Grim Reaper  #1)</td>\n",
       "      <td>4</td>\n",
       "      <td>5.00</td>\n",
       "    </tr>\n",
       "    <tr>\n",
       "      <th>1</th>\n",
       "      <td>School's Out—Forever (Maximum Ride  #2)</td>\n",
       "      <td>3</td>\n",
       "      <td>5.00</td>\n",
       "    </tr>\n",
       "    <tr>\n",
       "      <th>2</th>\n",
       "      <td>Moneyball: The Art of Winning an Unfair Game</td>\n",
       "      <td>3</td>\n",
       "      <td>5.00</td>\n",
       "    </tr>\n",
       "    <tr>\n",
       "      <th>3</th>\n",
       "      <td>Arrows of the Queen (Heralds of Valdemar  #1)</td>\n",
       "      <td>2</td>\n",
       "      <td>5.00</td>\n",
       "    </tr>\n",
       "    <tr>\n",
       "      <th>4</th>\n",
       "      <td>Wherever You Go  There You Are: Mindfulness Me...</td>\n",
       "      <td>2</td>\n",
       "      <td>5.00</td>\n",
       "    </tr>\n",
       "    <tr>\n",
       "      <th>...</th>\n",
       "      <td>...</td>\n",
       "      <td>...</td>\n",
       "      <td>...</td>\n",
       "    </tr>\n",
       "    <tr>\n",
       "      <th>995</th>\n",
       "      <td>The World Is Flat: A Brief History of the Twen...</td>\n",
       "      <td>3</td>\n",
       "      <td>2.25</td>\n",
       "    </tr>\n",
       "    <tr>\n",
       "      <th>996</th>\n",
       "      <td>Drowning Ruth</td>\n",
       "      <td>3</td>\n",
       "      <td>2.00</td>\n",
       "    </tr>\n",
       "    <tr>\n",
       "      <th>997</th>\n",
       "      <td>His Excellency: George Washington</td>\n",
       "      <td>2</td>\n",
       "      <td>2.00</td>\n",
       "    </tr>\n",
       "    <tr>\n",
       "      <th>998</th>\n",
       "      <td>Junky</td>\n",
       "      <td>2</td>\n",
       "      <td>2.00</td>\n",
       "    </tr>\n",
       "    <tr>\n",
       "      <th>999</th>\n",
       "      <td>Harvesting the Heart</td>\n",
       "      <td>2</td>\n",
       "      <td>1.50</td>\n",
       "    </tr>\n",
       "  </tbody>\n",
       "</table>\n",
       "<p>1000 rows × 3 columns</p>\n",
       "</div>"
      ],
      "text/plain": [
       "                                             book_name  count_reviews  \\\n",
       "0                        A Dirty Job (Grim Reaper  #1)              4   \n",
       "1              School's Out—Forever (Maximum Ride  #2)              3   \n",
       "2         Moneyball: The Art of Winning an Unfair Game              3   \n",
       "3        Arrows of the Queen (Heralds of Valdemar  #1)              2   \n",
       "4    Wherever You Go  There You Are: Mindfulness Me...              2   \n",
       "..                                                 ...            ...   \n",
       "995  The World Is Flat: A Brief History of the Twen...              3   \n",
       "996                                      Drowning Ruth              3   \n",
       "997                  His Excellency: George Washington              2   \n",
       "998                                              Junky              2   \n",
       "999                               Harvesting the Heart              2   \n",
       "\n",
       "     avg_rating  \n",
       "0          5.00  \n",
       "1          5.00  \n",
       "2          5.00  \n",
       "3          5.00  \n",
       "4          5.00  \n",
       "..          ...  \n",
       "995        2.25  \n",
       "996        2.00  \n",
       "997        2.00  \n",
       "998        2.00  \n",
       "999        1.50  \n",
       "\n",
       "[1000 rows x 3 columns]"
      ]
     },
     "execution_count": 14,
     "metadata": {},
     "output_type": "execute_result"
    }
   ],
   "source": [
    "# выполним SQL-запрос в Pandas и выведем результат на экран\n",
    "query7 = '''\n",
    "SELECT \n",
    "    b.title AS book_name,\n",
    "    COUNT(DISTINCT rv.review_id) AS count_reviews,\n",
    "    AVG(rt.rating) AS avg_rating\n",
    "FROM books AS b\n",
    "LEFT JOIN reviews AS rv USING(book_id)\n",
    "LEFT JOIN ratings AS rt USING(book_id)\n",
    "GROUP BY b.book_id, 1\n",
    "ORDER BY 3 DESC, 2 DESC\n",
    "'''\n",
    "pd.io.sql.read_sql(query7, con = engine)"
   ]
  },
  {
   "cell_type": "markdown",
   "id": "19412597",
   "metadata": {},
   "source": [
    "<div style=\"border:solid darkgreen 2px; padding: 20px\"> \n",
    "    \n",
    "<b>Вывод:</b>\n",
    "    \n",
    "- максимальный средний рейтинг у книг - 5;\n",
    "- минимальный средний рейтинг - 1.5;\n",
    "- максимальное кол-во обзоров - 8;\n",
    "- минимальное кол-во обзоров - 0;\n",
    "- топ-3 лучших по рейтингу книг с максимальным кол-вом обзоров:\n",
    "    - A Dirty Job (Grim Reaper #1);\n",
    "    - Moneyball: The Art of Winning an Unfair Game\n",
    "    - School's Out—Forever (Maximum Ride #2)\n",
    "- анти топ-3 (min средний рейтинг + min кол-во обзоров):\n",
    "    - Harvesting the Heart;\n",
    "    - Junky;\n",
    "    - His Excellency: George Washington\n",
    " </div>"
   ]
  },
  {
   "cell_type": "markdown",
   "id": "bcb537f3",
   "metadata": {},
   "source": [
    "### Задача 3"
   ]
  },
  {
   "cell_type": "markdown",
   "id": "944b1e60",
   "metadata": {},
   "source": [
    "<div style=\"border:solid darkgreen 2px; padding: 20px\"> \n",
    "    \n",
    "<b>Формулировка задачи:</b>\n",
    "    \n",
    "- определить издательство, которое выпустило наибольшее число книг толще 50 страниц (так можно исключить из анализа брошюры).\n",
    " </div>"
   ]
  },
  {
   "cell_type": "code",
   "execution_count": 15,
   "id": "77b46a56",
   "metadata": {},
   "outputs": [
    {
     "data": {
      "text/html": [
       "<div>\n",
       "<style scoped>\n",
       "    .dataframe tbody tr th:only-of-type {\n",
       "        vertical-align: middle;\n",
       "    }\n",
       "\n",
       "    .dataframe tbody tr th {\n",
       "        vertical-align: top;\n",
       "    }\n",
       "\n",
       "    .dataframe thead th {\n",
       "        text-align: right;\n",
       "    }\n",
       "</style>\n",
       "<table border=\"1\" class=\"dataframe\">\n",
       "  <thead>\n",
       "    <tr style=\"text-align: right;\">\n",
       "      <th></th>\n",
       "      <th>publisher</th>\n",
       "      <th>count_books</th>\n",
       "    </tr>\n",
       "  </thead>\n",
       "  <tbody>\n",
       "    <tr>\n",
       "      <th>0</th>\n",
       "      <td>Penguin Books</td>\n",
       "      <td>42</td>\n",
       "    </tr>\n",
       "  </tbody>\n",
       "</table>\n",
       "</div>"
      ],
      "text/plain": [
       "       publisher  count_books\n",
       "0  Penguin Books           42"
      ]
     },
     "execution_count": 15,
     "metadata": {},
     "output_type": "execute_result"
    }
   ],
   "source": [
    "# выполним SQL-запрос в Pandas и выведем результат на экран\n",
    "query8 = '''\n",
    "WITH book_publisher AS (\n",
    "    SELECT \n",
    "        b.book_id,\n",
    "        p.publisher\n",
    "    FROM books AS b\n",
    "    LEFT JOIN publishers AS p USING(publisher_id)\n",
    "    WHERE b.num_pages>50\n",
    "    ),\n",
    "\n",
    "    publisher_count_books AS (\n",
    "    SELECT\n",
    "    publisher,\n",
    "    COUNT(book_id) AS count_books\n",
    "    FROM book_publisher\n",
    "    GROUP BY 1)\n",
    "\n",
    "SELECT\n",
    "    publisher,\n",
    "    count_books\n",
    "FROM publisher_count_books\n",
    "WHERE count_books = (SELECT MAX(count_books) FROM publisher_count_books)    \n",
    "'''\n",
    "pd.io.sql.read_sql(query8, con = engine)"
   ]
  },
  {
   "cell_type": "markdown",
   "id": "9493ec91",
   "metadata": {},
   "source": [
    "<div style=\"border:solid darkgreen 2px; padding: 20px\"> \n",
    "    \n",
    "<b>Вывод:</b>\n",
    "    \n",
    "- наибольшее число книг толще 50 страниц выпустило издательство Penguin Books - 42 книги.\n",
    " </div>"
   ]
  },
  {
   "cell_type": "markdown",
   "id": "89e0ee76",
   "metadata": {},
   "source": [
    "### Задача 4"
   ]
  },
  {
   "cell_type": "markdown",
   "id": "4edaaf67",
   "metadata": {},
   "source": [
    "<div style=\"border:solid darkgreen 2px; padding: 20px\"> \n",
    "    \n",
    "<b>Формулировка задачи:</b>\n",
    "    \n",
    "- определить автора с самой высокой средней оценкой книг (учитываем только книги с 50 и более оценками).\n",
    " </div>"
   ]
  },
  {
   "cell_type": "code",
   "execution_count": 16,
   "id": "2bb35cf5",
   "metadata": {},
   "outputs": [
    {
     "data": {
      "text/html": [
       "<div>\n",
       "<style scoped>\n",
       "    .dataframe tbody tr th:only-of-type {\n",
       "        vertical-align: middle;\n",
       "    }\n",
       "\n",
       "    .dataframe tbody tr th {\n",
       "        vertical-align: top;\n",
       "    }\n",
       "\n",
       "    .dataframe thead th {\n",
       "        text-align: right;\n",
       "    }\n",
       "</style>\n",
       "<table border=\"1\" class=\"dataframe\">\n",
       "  <thead>\n",
       "    <tr style=\"text-align: right;\">\n",
       "      <th></th>\n",
       "      <th>author</th>\n",
       "      <th>avg</th>\n",
       "    </tr>\n",
       "  </thead>\n",
       "  <tbody>\n",
       "    <tr>\n",
       "      <th>0</th>\n",
       "      <td>J.K. Rowling/Mary GrandPré</td>\n",
       "      <td>4.287097</td>\n",
       "    </tr>\n",
       "  </tbody>\n",
       "</table>\n",
       "</div>"
      ],
      "text/plain": [
       "                       author       avg\n",
       "0  J.K. Rowling/Mary GrandPré  4.287097"
      ]
     },
     "execution_count": 16,
     "metadata": {},
     "output_type": "execute_result"
    }
   ],
   "source": [
    "query9 = '''\n",
    "WITH df1 AS (\n",
    "             SELECT \n",
    "                   b.book_id,\n",
    "                   a.author,\n",
    "                   r.rating\n",
    "             FROM books AS b\n",
    "             LEFT JOIN authors AS a USING(author_id)\n",
    "             LEFT JOIN ratings AS r USING(book_id)\n",
    "             WHERE b.book_id IN (SELECT \n",
    "                                       book_id\n",
    "                                 FROM ratings\n",
    "                                 GROUP BY book_id\n",
    "                                 HAVING COUNT(rating)>=50)\n",
    "                                 )\n",
    "SELECT author,\n",
    "       AVG(rating)\n",
    "FROM df1\n",
    "GROUP BY 1\n",
    "ORDER BY 2 DESC\n",
    "LIMIT 1\n",
    "'''\n",
    "pd.io.sql.read_sql(query9, con = engine)"
   ]
  },
  {
   "cell_type": "markdown",
   "id": "a648ecfb",
   "metadata": {},
   "source": [
    "<div style=\"border:solid darkgreen 2px; padding: 20px\"> \n",
    "    \n",
    "<b>Вывод:</b>\n",
    "    \n",
    "- автор с самой высокой средней оценкой книг (среди книг с 50 и более оценками) - J.K. Rowling/Mary GrandPré, ее книги имеют среднюю оценку 4.287097.\n",
    " </div>"
   ]
  },
  {
   "cell_type": "markdown",
   "id": "f5330253",
   "metadata": {},
   "source": [
    "### Задача 5"
   ]
  },
  {
   "cell_type": "markdown",
   "id": "e14b5c0b",
   "metadata": {},
   "source": [
    "<div style=\"border:solid darkgreen 2px; padding: 20px\"> \n",
    "    \n",
    "<b>Формулировка задачи:</b>\n",
    "    \n",
    "- посчитаем среднее количество обзоров от пользователей, которые поставили больше 48 оценок.\n",
    " </div>"
   ]
  },
  {
   "cell_type": "code",
   "execution_count": 17,
   "id": "5c8bb3a7",
   "metadata": {},
   "outputs": [
    {
     "data": {
      "text/html": [
       "<div>\n",
       "<style scoped>\n",
       "    .dataframe tbody tr th:only-of-type {\n",
       "        vertical-align: middle;\n",
       "    }\n",
       "\n",
       "    .dataframe tbody tr th {\n",
       "        vertical-align: top;\n",
       "    }\n",
       "\n",
       "    .dataframe thead th {\n",
       "        text-align: right;\n",
       "    }\n",
       "</style>\n",
       "<table border=\"1\" class=\"dataframe\">\n",
       "  <thead>\n",
       "    <tr style=\"text-align: right;\">\n",
       "      <th></th>\n",
       "      <th>avg</th>\n",
       "    </tr>\n",
       "  </thead>\n",
       "  <tbody>\n",
       "    <tr>\n",
       "      <th>0</th>\n",
       "      <td>24.0</td>\n",
       "    </tr>\n",
       "  </tbody>\n",
       "</table>\n",
       "</div>"
      ],
      "text/plain": [
       "    avg\n",
       "0  24.0"
      ]
     },
     "execution_count": 17,
     "metadata": {},
     "output_type": "execute_result"
    }
   ],
   "source": [
    "# выполним SQL-запрос в Pandas и выведем результат на экран\n",
    "query10 = '''\n",
    "WITH df AS (\n",
    "             SELECT \n",
    "                   username,\n",
    "                   COUNT(review_id) AS count_review\n",
    "             FROM reviews\n",
    "             WHERE username IN (SELECT \n",
    "                                      username\n",
    "                                FROM \n",
    "                                      ratings\n",
    "                                GROUP BY 1\n",
    "                                HAVING COUNT(rating)>48\n",
    "                                 )\n",
    "             GROUP BY 1\n",
    ")\n",
    "\n",
    "SELECT AVG(count_review)\n",
    "FROM df\n",
    "'''\n",
    "pd.io.sql.read_sql(query10, con = engine)"
   ]
  },
  {
   "cell_type": "markdown",
   "id": "234ae999",
   "metadata": {},
   "source": [
    "<div style=\"border:solid darkgreen 2px; padding: 20px\"> \n",
    "    \n",
    "<b>Вывод:</b>\n",
    "    \n",
    "- среднее количество обзоров от пользователей, которые поставили больше 48 оценок, равно 24.\n",
    " </div>"
   ]
  },
  {
   "cell_type": "markdown",
   "id": "0acbc174",
   "metadata": {},
   "source": [
    "## Общий вывод"
   ]
  },
  {
   "cell_type": "markdown",
   "id": "59ec6e3e",
   "metadata": {},
   "source": [
    "<a id='total'></a>\n",
    "[К началу](#start)"
   ]
  },
  {
   "cell_type": "markdown",
   "id": "0c43a401",
   "metadata": {},
   "source": [
    "<div style=\"border:solid darkgreen 2px; padding: 20px\"> \n",
    "    \n",
    "- в базе сервиса для чтения книг по подписке - 1000 книг;\n",
    "- в базе представлены 636 авторов, 340 издательств;\n",
    "- пользователями сервиса выставлено 6456 оценок и написано 2793 обзоров;\n",
    "- 819 книг были выпущены в свет после 01.01.2000 г.;\n",
    "- максимальный средний рейтинг у книг - 5, минимальный - 1.5;\n",
    "- книги имеют максимальное кол-во обзоров - 8. минимальное - 0;\n",
    "- издательство - лидер по количеству выпущенных книг Penguin Books, им выпущено 42 книги;\n",
    "- автор с самой высокой средней оценкой книг J.K. Rowling/Mary GrandPré;\n",
    "- пользователи, которые активно ставят оценки, также активно пишут обзоры.\n",
    " </div>"
   ]
  },
  {
   "cell_type": "markdown",
   "id": "4f1db3d4",
   "metadata": {},
   "source": [
    "<div style=\"border:solid darkgreen 2px; padding: 20px\"> \n",
    "    \n",
    "<b>Рекомендация:</b>\n",
    "    \n",
    "- в базе сервиса мало книг, ее нужно активно пополнять;\n",
    "- 636 авторов, а книг всего 1000, думаю можно найти популярных у аудитории авторов и дополнить базу другими их произведениями;\n",
    "- пользователям интересно не только читать сами книги, но и читать и писать обзоры, поэтому можно разработать бонусную программу для активных в плане написания обзоров клиентов.\n",
    " </div>"
   ]
  }
 ],
 "metadata": {
  "ExecuteTimeLog": [
   {
    "duration": 28447,
    "start_time": "2023-06-28T05:37:23.929Z"
   },
   {
    "duration": 292,
    "start_time": "2023-06-28T05:45:21.263Z"
   },
   {
    "duration": 5,
    "start_time": "2023-06-28T05:45:51.719Z"
   },
   {
    "duration": 61,
    "start_time": "2023-06-28T05:46:24.622Z"
   },
   {
    "duration": 150,
    "start_time": "2023-06-28T05:46:42.159Z"
   },
   {
    "duration": 132,
    "start_time": "2023-06-28T05:47:15.147Z"
   },
   {
    "duration": 77,
    "start_time": "2023-06-28T05:48:48.180Z"
   },
   {
    "duration": 79,
    "start_time": "2023-06-28T05:49:12.675Z"
   },
   {
    "duration": 67,
    "start_time": "2023-06-28T05:49:29.854Z"
   },
   {
    "duration": 220,
    "start_time": "2023-06-28T05:56:13.720Z"
   },
   {
    "duration": 97,
    "start_time": "2023-06-28T05:56:56.490Z"
   },
   {
    "duration": 4,
    "start_time": "2023-06-28T06:57:02.458Z"
   },
   {
    "duration": 2,
    "start_time": "2023-06-28T07:03:01.161Z"
   },
   {
    "duration": 184,
    "start_time": "2023-06-28T07:03:05.693Z"
   },
   {
    "duration": 3,
    "start_time": "2023-06-28T07:03:07.700Z"
   },
   {
    "duration": 73,
    "start_time": "2023-06-28T07:03:43.887Z"
   },
   {
    "duration": 3,
    "start_time": "2023-06-28T07:08:19.999Z"
   },
   {
    "duration": 45,
    "start_time": "2023-06-28T07:08:26.832Z"
   },
   {
    "duration": 2,
    "start_time": "2023-06-28T07:11:30.018Z"
   },
   {
    "duration": 35,
    "start_time": "2023-06-28T07:11:36.011Z"
   },
   {
    "duration": 2,
    "start_time": "2023-06-28T07:14:09.754Z"
   },
   {
    "duration": 2,
    "start_time": "2023-06-28T07:14:39.739Z"
   },
   {
    "duration": 85,
    "start_time": "2023-06-28T07:16:35.600Z"
   },
   {
    "duration": 80,
    "start_time": "2023-06-28T07:17:41.620Z"
   },
   {
    "duration": 173,
    "start_time": "2023-06-28T07:22:04.956Z"
   },
   {
    "duration": 99,
    "start_time": "2023-06-28T07:23:45.461Z"
   },
   {
    "duration": 554,
    "start_time": "2023-06-28T16:52:10.272Z"
   },
   {
    "duration": 30923,
    "start_time": "2023-06-28T16:52:10.828Z"
   },
   {
    "duration": 3,
    "start_time": "2023-06-28T16:52:41.753Z"
   },
   {
    "duration": 87,
    "start_time": "2023-06-28T16:52:41.758Z"
   },
   {
    "duration": 3,
    "start_time": "2023-06-28T16:52:41.847Z"
   },
   {
    "duration": 50,
    "start_time": "2023-06-28T16:52:41.852Z"
   },
   {
    "duration": 2,
    "start_time": "2023-06-28T16:52:41.904Z"
   },
   {
    "duration": 63,
    "start_time": "2023-06-28T16:52:41.908Z"
   },
   {
    "duration": 3,
    "start_time": "2023-06-28T16:52:41.973Z"
   },
   {
    "duration": 186,
    "start_time": "2023-06-28T16:52:41.978Z"
   },
   {
    "duration": 3,
    "start_time": "2023-06-28T16:52:42.167Z"
   },
   {
    "duration": 125,
    "start_time": "2023-06-28T16:52:42.172Z"
   },
   {
    "duration": 168,
    "start_time": "2023-06-28T16:52:42.299Z"
   },
   {
    "duration": 76,
    "start_time": "2023-06-28T17:00:05.418Z"
   },
   {
    "duration": 105,
    "start_time": "2023-06-28T17:00:21.018Z"
   },
   {
    "duration": 114,
    "start_time": "2023-06-28T17:01:27.222Z"
   },
   {
    "duration": 112,
    "start_time": "2023-06-28T17:19:28.654Z"
   },
   {
    "duration": 112,
    "start_time": "2023-06-28T17:20:25.293Z"
   },
   {
    "duration": 110,
    "start_time": "2023-06-28T17:21:35.394Z"
   },
   {
    "duration": 121,
    "start_time": "2023-06-28T17:23:01.207Z"
   },
   {
    "duration": 116,
    "start_time": "2023-06-28T17:33:25.428Z"
   },
   {
    "duration": 103,
    "start_time": "2023-06-28T17:33:39.942Z"
   },
   {
    "duration": 121,
    "start_time": "2023-06-28T17:34:55.696Z"
   },
   {
    "duration": 116,
    "start_time": "2023-06-28T17:42:41.467Z"
   },
   {
    "duration": 117,
    "start_time": "2023-06-28T17:43:04.615Z"
   },
   {
    "duration": 119,
    "start_time": "2023-06-28T17:43:31.853Z"
   },
   {
    "duration": 116,
    "start_time": "2023-06-28T17:43:46.892Z"
   },
   {
    "duration": 94,
    "start_time": "2023-06-28T17:47:41.395Z"
   },
   {
    "duration": 118,
    "start_time": "2023-06-28T17:48:39.723Z"
   },
   {
    "duration": 117,
    "start_time": "2023-06-28T17:48:54.043Z"
   },
   {
    "duration": 97,
    "start_time": "2023-06-28T17:50:55.302Z"
   },
   {
    "duration": 119,
    "start_time": "2023-06-28T17:51:30.407Z"
   },
   {
    "duration": 116,
    "start_time": "2023-06-28T17:53:27.402Z"
   },
   {
    "duration": 117,
    "start_time": "2023-06-28T17:55:05.590Z"
   },
   {
    "duration": 123,
    "start_time": "2023-06-28T17:56:49.736Z"
   },
   {
    "duration": 126,
    "start_time": "2023-06-28T17:57:06.098Z"
   },
   {
    "duration": 123,
    "start_time": "2023-06-28T17:57:28.668Z"
   },
   {
    "duration": 131,
    "start_time": "2023-06-28T18:04:47.845Z"
   },
   {
    "duration": 123,
    "start_time": "2023-06-28T18:05:52.305Z"
   },
   {
    "duration": 92,
    "start_time": "2023-06-28T18:09:49.812Z"
   },
   {
    "duration": 90,
    "start_time": "2023-06-28T18:10:24.326Z"
   },
   {
    "duration": 94,
    "start_time": "2023-06-28T18:14:49.282Z"
   },
   {
    "duration": 184,
    "start_time": "2023-06-28T18:17:35.470Z"
   },
   {
    "duration": 292,
    "start_time": "2023-06-28T18:18:18.899Z"
   },
   {
    "duration": 286,
    "start_time": "2023-06-28T18:19:04.164Z"
   },
   {
    "duration": 192,
    "start_time": "2023-06-28T18:19:09.898Z"
   },
   {
    "duration": 84,
    "start_time": "2023-06-28T18:20:24.535Z"
   },
   {
    "duration": 224,
    "start_time": "2023-06-28T18:25:01.821Z"
   },
   {
    "duration": 81,
    "start_time": "2023-06-28T18:26:10.139Z"
   },
   {
    "duration": 80,
    "start_time": "2023-06-28T18:27:08.891Z"
   },
   {
    "duration": 212,
    "start_time": "2023-06-28T18:28:59.386Z"
   },
   {
    "duration": 80,
    "start_time": "2023-06-28T18:29:08.428Z"
   },
   {
    "duration": 84,
    "start_time": "2023-06-28T18:33:07.224Z"
   },
   {
    "duration": 540,
    "start_time": "2023-06-28T18:33:18.018Z"
   },
   {
    "duration": 15352,
    "start_time": "2023-06-28T18:33:18.560Z"
   },
   {
    "duration": 3,
    "start_time": "2023-06-28T18:33:33.914Z"
   },
   {
    "duration": 90,
    "start_time": "2023-06-28T18:33:33.919Z"
   },
   {
    "duration": 3,
    "start_time": "2023-06-28T18:33:34.012Z"
   },
   {
    "duration": 46,
    "start_time": "2023-06-28T18:33:34.017Z"
   },
   {
    "duration": 2,
    "start_time": "2023-06-28T18:33:34.066Z"
   },
   {
    "duration": 47,
    "start_time": "2023-06-28T18:33:34.070Z"
   },
   {
    "duration": 4,
    "start_time": "2023-06-28T18:33:34.119Z"
   },
   {
    "duration": 72,
    "start_time": "2023-06-28T18:33:34.125Z"
   },
   {
    "duration": 3,
    "start_time": "2023-06-28T18:33:34.199Z"
   },
   {
    "duration": 66,
    "start_time": "2023-06-28T18:33:34.203Z"
   },
   {
    "duration": 161,
    "start_time": "2023-06-28T18:33:34.270Z"
   },
   {
    "duration": 126,
    "start_time": "2023-06-28T18:33:34.433Z"
   },
   {
    "duration": 79,
    "start_time": "2023-06-28T18:33:34.560Z"
   },
   {
    "duration": 83,
    "start_time": "2023-06-28T18:49:25.825Z"
   },
   {
    "duration": 93,
    "start_time": "2023-06-28T18:52:13.499Z"
   },
   {
    "duration": 275,
    "start_time": "2023-06-28T18:53:28.048Z"
   },
   {
    "duration": 185,
    "start_time": "2023-06-28T18:53:43.896Z"
   },
   {
    "duration": 83,
    "start_time": "2023-06-28T18:55:04.935Z"
   },
   {
    "duration": 108,
    "start_time": "2023-06-28T18:57:54.088Z"
   },
   {
    "duration": 85,
    "start_time": "2023-06-28T19:02:37.916Z"
   },
   {
    "duration": 1458,
    "start_time": "2023-06-28T19:02:59.861Z"
   },
   {
    "duration": 83,
    "start_time": "2023-06-28T19:03:12.435Z"
   },
   {
    "duration": 81,
    "start_time": "2023-06-28T19:13:20.988Z"
   },
   {
    "duration": 198,
    "start_time": "2023-06-28T19:17:53.788Z"
   },
   {
    "duration": 82,
    "start_time": "2023-06-28T19:18:21.936Z"
   },
   {
    "duration": 83,
    "start_time": "2023-06-28T19:21:34.724Z"
   },
   {
    "duration": 573,
    "start_time": "2023-06-28T20:13:00.887Z"
   },
   {
    "duration": 10481,
    "start_time": "2023-06-28T20:13:01.462Z"
   },
   {
    "duration": 3,
    "start_time": "2023-06-28T20:13:11.945Z"
   },
   {
    "duration": 95,
    "start_time": "2023-06-28T20:13:11.950Z"
   },
   {
    "duration": 3,
    "start_time": "2023-06-28T20:13:12.046Z"
   },
   {
    "duration": 44,
    "start_time": "2023-06-28T20:13:12.050Z"
   },
   {
    "duration": 2,
    "start_time": "2023-06-28T20:13:12.096Z"
   },
   {
    "duration": 40,
    "start_time": "2023-06-28T20:13:12.100Z"
   },
   {
    "duration": 3,
    "start_time": "2023-06-28T20:13:12.142Z"
   },
   {
    "duration": 65,
    "start_time": "2023-06-28T20:13:12.148Z"
   },
   {
    "duration": 3,
    "start_time": "2023-06-28T20:13:12.215Z"
   },
   {
    "duration": 69,
    "start_time": "2023-06-28T20:13:12.219Z"
   },
   {
    "duration": 160,
    "start_time": "2023-06-28T20:13:12.290Z"
   },
   {
    "duration": 124,
    "start_time": "2023-06-28T20:13:12.452Z"
   },
   {
    "duration": 80,
    "start_time": "2023-06-28T20:13:12.577Z"
   },
   {
    "duration": 83,
    "start_time": "2023-06-28T20:13:12.658Z"
   },
   {
    "duration": 80,
    "start_time": "2023-06-28T20:13:12.742Z"
   },
   {
    "duration": 516,
    "start_time": "2023-06-29T09:11:52.086Z"
   },
   {
    "duration": 9793,
    "start_time": "2023-06-29T09:11:52.604Z"
   },
   {
    "duration": 3,
    "start_time": "2023-06-29T09:12:02.399Z"
   },
   {
    "duration": 45,
    "start_time": "2023-06-29T09:12:02.403Z"
   },
   {
    "duration": 3,
    "start_time": "2023-06-29T09:12:02.451Z"
   },
   {
    "duration": 49,
    "start_time": "2023-06-29T09:12:02.455Z"
   },
   {
    "duration": 13,
    "start_time": "2023-06-29T09:12:02.505Z"
   },
   {
    "duration": 49,
    "start_time": "2023-06-29T09:12:02.519Z"
   },
   {
    "duration": 26,
    "start_time": "2023-06-29T09:12:02.570Z"
   },
   {
    "duration": 36,
    "start_time": "2023-06-29T09:12:02.598Z"
   },
   {
    "duration": 3,
    "start_time": "2023-06-29T09:12:02.635Z"
   },
   {
    "duration": 59,
    "start_time": "2023-06-29T09:12:02.639Z"
   },
   {
    "duration": 38,
    "start_time": "2023-06-29T09:12:02.700Z"
   },
   {
    "duration": 55,
    "start_time": "2023-06-29T09:12:02.740Z"
   },
   {
    "duration": 12,
    "start_time": "2023-06-29T09:12:02.797Z"
   },
   {
    "duration": 14,
    "start_time": "2023-06-29T09:12:02.811Z"
   },
   {
    "duration": 12,
    "start_time": "2023-06-29T09:12:02.826Z"
   },
   {
    "duration": 505,
    "start_time": "2023-06-29T09:13:58.057Z"
   },
   {
    "duration": 9064,
    "start_time": "2023-06-29T09:13:58.564Z"
   },
   {
    "duration": 2,
    "start_time": "2023-06-29T09:14:07.630Z"
   },
   {
    "duration": 52,
    "start_time": "2023-06-29T09:14:07.634Z"
   },
   {
    "duration": 2,
    "start_time": "2023-06-29T09:14:07.689Z"
   },
   {
    "duration": 50,
    "start_time": "2023-06-29T09:14:07.693Z"
   },
   {
    "duration": 2,
    "start_time": "2023-06-29T09:14:07.745Z"
   },
   {
    "duration": 104,
    "start_time": "2023-06-29T09:14:07.748Z"
   },
   {
    "duration": 54,
    "start_time": "2023-06-29T09:14:07.854Z"
   },
   {
    "duration": 109,
    "start_time": "2023-06-29T09:14:07.910Z"
   },
   {
    "duration": 3,
    "start_time": "2023-06-29T09:14:08.022Z"
   },
   {
    "duration": 32,
    "start_time": "2023-06-29T09:14:08.027Z"
   },
   {
    "duration": 38,
    "start_time": "2023-06-29T09:14:08.061Z"
   },
   {
    "duration": 35,
    "start_time": "2023-06-29T09:14:08.101Z"
   },
   {
    "duration": 11,
    "start_time": "2023-06-29T09:14:08.138Z"
   },
   {
    "duration": 34,
    "start_time": "2023-06-29T09:14:08.151Z"
   },
   {
    "duration": 22,
    "start_time": "2023-06-29T09:14:08.187Z"
   }
  ],
  "kernelspec": {
   "display_name": "Python 3 (ipykernel)",
   "language": "python",
   "name": "python3"
  },
  "language_info": {
   "codemirror_mode": {
    "name": "ipython",
    "version": 3
   },
   "file_extension": ".py",
   "mimetype": "text/x-python",
   "name": "python",
   "nbconvert_exporter": "python",
   "pygments_lexer": "ipython3",
   "version": "3.9.5"
  },
  "toc": {
   "base_numbering": 1,
   "nav_menu": {},
   "number_sections": true,
   "sideBar": true,
   "skip_h1_title": true,
   "title_cell": "Table of Contents",
   "title_sidebar": "Contents",
   "toc_cell": false,
   "toc_position": {},
   "toc_section_display": true,
   "toc_window_display": false
  }
 },
 "nbformat": 4,
 "nbformat_minor": 5
}
