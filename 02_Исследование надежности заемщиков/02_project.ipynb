{
 "cells": [
  {
   "cell_type": "markdown",
   "id": "126ff0c1",
   "metadata": {
    "deletable": false,
    "editable": false,
    "id": "126ff0c1"
   },
   "source": [
    "# **Проект: Исследование надежности заемщиков**\n"
   ]
  },
  {
   "cell_type": "markdown",
   "id": "670d91a6",
   "metadata": {
    "deletable": false,
    "editable": false,
    "id": "670d91a6"
   },
   "source": [
    "## **1. Откроем таблицу и изучим общую информацию о данных**"
   ]
  },
  {
   "cell_type": "code",
   "execution_count": 2,
   "id": "7c511c68",
   "metadata": {
    "deletable": false,
    "id": "7c511c68"
   },
   "outputs": [],
   "source": [
    "# подключим библиотеку и загрузим данные\n",
    "import pandas as pd\n",
    "\n",
    "data = pd.read_csv('data.csv')"
   ]
  },
  {
   "cell_type": "code",
   "execution_count": 3,
   "id": "eeff557d",
   "metadata": {
    "colab": {
     "base_uri": "https://localhost:8080/",
     "height": 581
    },
    "deletable": false,
    "id": "eeff557d",
    "outputId": "3ba90464-0df2-4bc3-8e6b-c14bf0143771"
   },
   "outputs": [
    {
     "data": {
      "text/html": [
       "\n",
       "  <div id=\"df-9bd99c9c-3c8c-4f3e-9a67-06ab1716d0e1\">\n",
       "    <div class=\"colab-df-container\">\n",
       "      <div>\n",
       "<style scoped>\n",
       "    .dataframe tbody tr th:only-of-type {\n",
       "        vertical-align: middle;\n",
       "    }\n",
       "\n",
       "    .dataframe tbody tr th {\n",
       "        vertical-align: top;\n",
       "    }\n",
       "\n",
       "    .dataframe thead th {\n",
       "        text-align: right;\n",
       "    }\n",
       "</style>\n",
       "<table border=\"1\" class=\"dataframe\">\n",
       "  <thead>\n",
       "    <tr style=\"text-align: right;\">\n",
       "      <th></th>\n",
       "      <th>children</th>\n",
       "      <th>days_employed</th>\n",
       "      <th>dob_years</th>\n",
       "      <th>education</th>\n",
       "      <th>education_id</th>\n",
       "      <th>family_status</th>\n",
       "      <th>family_status_id</th>\n",
       "      <th>gender</th>\n",
       "      <th>income_type</th>\n",
       "      <th>debt</th>\n",
       "      <th>total_income</th>\n",
       "      <th>purpose</th>\n",
       "    </tr>\n",
       "  </thead>\n",
       "  <tbody>\n",
       "    <tr>\n",
       "      <th>0</th>\n",
       "      <td>1</td>\n",
       "      <td>-8437.673028</td>\n",
       "      <td>42</td>\n",
       "      <td>высшее</td>\n",
       "      <td>0</td>\n",
       "      <td>женат / замужем</td>\n",
       "      <td>0</td>\n",
       "      <td>F</td>\n",
       "      <td>сотрудник</td>\n",
       "      <td>0</td>\n",
       "      <td>253875.639453</td>\n",
       "      <td>покупка жилья</td>\n",
       "    </tr>\n",
       "    <tr>\n",
       "      <th>1</th>\n",
       "      <td>1</td>\n",
       "      <td>-4024.803754</td>\n",
       "      <td>36</td>\n",
       "      <td>среднее</td>\n",
       "      <td>1</td>\n",
       "      <td>женат / замужем</td>\n",
       "      <td>0</td>\n",
       "      <td>F</td>\n",
       "      <td>сотрудник</td>\n",
       "      <td>0</td>\n",
       "      <td>112080.014102</td>\n",
       "      <td>приобретение автомобиля</td>\n",
       "    </tr>\n",
       "    <tr>\n",
       "      <th>2</th>\n",
       "      <td>0</td>\n",
       "      <td>-5623.422610</td>\n",
       "      <td>33</td>\n",
       "      <td>Среднее</td>\n",
       "      <td>1</td>\n",
       "      <td>женат / замужем</td>\n",
       "      <td>0</td>\n",
       "      <td>M</td>\n",
       "      <td>сотрудник</td>\n",
       "      <td>0</td>\n",
       "      <td>145885.952297</td>\n",
       "      <td>покупка жилья</td>\n",
       "    </tr>\n",
       "    <tr>\n",
       "      <th>3</th>\n",
       "      <td>3</td>\n",
       "      <td>-4124.747207</td>\n",
       "      <td>32</td>\n",
       "      <td>среднее</td>\n",
       "      <td>1</td>\n",
       "      <td>женат / замужем</td>\n",
       "      <td>0</td>\n",
       "      <td>M</td>\n",
       "      <td>сотрудник</td>\n",
       "      <td>0</td>\n",
       "      <td>267628.550329</td>\n",
       "      <td>дополнительное образование</td>\n",
       "    </tr>\n",
       "    <tr>\n",
       "      <th>4</th>\n",
       "      <td>0</td>\n",
       "      <td>340266.072047</td>\n",
       "      <td>53</td>\n",
       "      <td>среднее</td>\n",
       "      <td>1</td>\n",
       "      <td>гражданский брак</td>\n",
       "      <td>1</td>\n",
       "      <td>F</td>\n",
       "      <td>пенсионер</td>\n",
       "      <td>0</td>\n",
       "      <td>158616.077870</td>\n",
       "      <td>сыграть свадьбу</td>\n",
       "    </tr>\n",
       "    <tr>\n",
       "      <th>5</th>\n",
       "      <td>0</td>\n",
       "      <td>-926.185831</td>\n",
       "      <td>27</td>\n",
       "      <td>высшее</td>\n",
       "      <td>0</td>\n",
       "      <td>гражданский брак</td>\n",
       "      <td>1</td>\n",
       "      <td>M</td>\n",
       "      <td>компаньон</td>\n",
       "      <td>0</td>\n",
       "      <td>255763.565419</td>\n",
       "      <td>покупка жилья</td>\n",
       "    </tr>\n",
       "    <tr>\n",
       "      <th>6</th>\n",
       "      <td>0</td>\n",
       "      <td>-2879.202052</td>\n",
       "      <td>43</td>\n",
       "      <td>высшее</td>\n",
       "      <td>0</td>\n",
       "      <td>женат / замужем</td>\n",
       "      <td>0</td>\n",
       "      <td>F</td>\n",
       "      <td>компаньон</td>\n",
       "      <td>0</td>\n",
       "      <td>240525.971920</td>\n",
       "      <td>операции с жильем</td>\n",
       "    </tr>\n",
       "    <tr>\n",
       "      <th>7</th>\n",
       "      <td>0</td>\n",
       "      <td>-152.779569</td>\n",
       "      <td>50</td>\n",
       "      <td>СРЕДНЕЕ</td>\n",
       "      <td>1</td>\n",
       "      <td>женат / замужем</td>\n",
       "      <td>0</td>\n",
       "      <td>M</td>\n",
       "      <td>сотрудник</td>\n",
       "      <td>0</td>\n",
       "      <td>135823.934197</td>\n",
       "      <td>образование</td>\n",
       "    </tr>\n",
       "    <tr>\n",
       "      <th>8</th>\n",
       "      <td>2</td>\n",
       "      <td>-6929.865299</td>\n",
       "      <td>35</td>\n",
       "      <td>ВЫСШЕЕ</td>\n",
       "      <td>0</td>\n",
       "      <td>гражданский брак</td>\n",
       "      <td>1</td>\n",
       "      <td>F</td>\n",
       "      <td>сотрудник</td>\n",
       "      <td>0</td>\n",
       "      <td>95856.832424</td>\n",
       "      <td>на проведение свадьбы</td>\n",
       "    </tr>\n",
       "    <tr>\n",
       "      <th>9</th>\n",
       "      <td>0</td>\n",
       "      <td>-2188.756445</td>\n",
       "      <td>41</td>\n",
       "      <td>среднее</td>\n",
       "      <td>1</td>\n",
       "      <td>женат / замужем</td>\n",
       "      <td>0</td>\n",
       "      <td>M</td>\n",
       "      <td>сотрудник</td>\n",
       "      <td>0</td>\n",
       "      <td>144425.938277</td>\n",
       "      <td>покупка жилья для семьи</td>\n",
       "    </tr>\n",
       "  </tbody>\n",
       "</table>\n",
       "</div>\n",
       "      <button class=\"colab-df-convert\" onclick=\"convertToInteractive('df-9bd99c9c-3c8c-4f3e-9a67-06ab1716d0e1')\"\n",
       "              title=\"Convert this dataframe to an interactive table.\"\n",
       "              style=\"display:none;\">\n",
       "        \n",
       "  <svg xmlns=\"http://www.w3.org/2000/svg\" height=\"24px\"viewBox=\"0 0 24 24\"\n",
       "       width=\"24px\">\n",
       "    <path d=\"M0 0h24v24H0V0z\" fill=\"none\"/>\n",
       "    <path d=\"M18.56 5.44l.94 2.06.94-2.06 2.06-.94-2.06-.94-.94-2.06-.94 2.06-2.06.94zm-11 1L8.5 8.5l.94-2.06 2.06-.94-2.06-.94L8.5 2.5l-.94 2.06-2.06.94zm10 10l.94 2.06.94-2.06 2.06-.94-2.06-.94-.94-2.06-.94 2.06-2.06.94z\"/><path d=\"M17.41 7.96l-1.37-1.37c-.4-.4-.92-.59-1.43-.59-.52 0-1.04.2-1.43.59L10.3 9.45l-7.72 7.72c-.78.78-.78 2.05 0 2.83L4 21.41c.39.39.9.59 1.41.59.51 0 1.02-.2 1.41-.59l7.78-7.78 2.81-2.81c.8-.78.8-2.07 0-2.86zM5.41 20L4 18.59l7.72-7.72 1.47 1.35L5.41 20z\"/>\n",
       "  </svg>\n",
       "      </button>\n",
       "      \n",
       "  <style>\n",
       "    .colab-df-container {\n",
       "      display:flex;\n",
       "      flex-wrap:wrap;\n",
       "      gap: 12px;\n",
       "    }\n",
       "\n",
       "    .colab-df-convert {\n",
       "      background-color: #E8F0FE;\n",
       "      border: none;\n",
       "      border-radius: 50%;\n",
       "      cursor: pointer;\n",
       "      display: none;\n",
       "      fill: #1967D2;\n",
       "      height: 32px;\n",
       "      padding: 0 0 0 0;\n",
       "      width: 32px;\n",
       "    }\n",
       "\n",
       "    .colab-df-convert:hover {\n",
       "      background-color: #E2EBFA;\n",
       "      box-shadow: 0px 1px 2px rgba(60, 64, 67, 0.3), 0px 1px 3px 1px rgba(60, 64, 67, 0.15);\n",
       "      fill: #174EA6;\n",
       "    }\n",
       "\n",
       "    [theme=dark] .colab-df-convert {\n",
       "      background-color: #3B4455;\n",
       "      fill: #D2E3FC;\n",
       "    }\n",
       "\n",
       "    [theme=dark] .colab-df-convert:hover {\n",
       "      background-color: #434B5C;\n",
       "      box-shadow: 0px 1px 3px 1px rgba(0, 0, 0, 0.15);\n",
       "      filter: drop-shadow(0px 1px 2px rgba(0, 0, 0, 0.3));\n",
       "      fill: #FFFFFF;\n",
       "    }\n",
       "  </style>\n",
       "\n",
       "      <script>\n",
       "        const buttonEl =\n",
       "          document.querySelector('#df-9bd99c9c-3c8c-4f3e-9a67-06ab1716d0e1 button.colab-df-convert');\n",
       "        buttonEl.style.display =\n",
       "          google.colab.kernel.accessAllowed ? 'block' : 'none';\n",
       "\n",
       "        async function convertToInteractive(key) {\n",
       "          const element = document.querySelector('#df-9bd99c9c-3c8c-4f3e-9a67-06ab1716d0e1');\n",
       "          const dataTable =\n",
       "            await google.colab.kernel.invokeFunction('convertToInteractive',\n",
       "                                                     [key], {});\n",
       "          if (!dataTable) return;\n",
       "\n",
       "          const docLinkHtml = 'Like what you see? Visit the ' +\n",
       "            '<a target=\"_blank\" href=https://colab.research.google.com/notebooks/data_table.ipynb>data table notebook</a>'\n",
       "            + ' to learn more about interactive tables.';\n",
       "          element.innerHTML = '';\n",
       "          dataTable['output_type'] = 'display_data';\n",
       "          await google.colab.output.renderOutput(dataTable, element);\n",
       "          const docLink = document.createElement('div');\n",
       "          docLink.innerHTML = docLinkHtml;\n",
       "          element.appendChild(docLink);\n",
       "        }\n",
       "      </script>\n",
       "    </div>\n",
       "  </div>\n",
       "  "
      ],
      "text/plain": [
       "   children  days_employed  dob_years education  education_id  \\\n",
       "0         1   -8437.673028         42    высшее             0   \n",
       "1         1   -4024.803754         36   среднее             1   \n",
       "2         0   -5623.422610         33   Среднее             1   \n",
       "3         3   -4124.747207         32   среднее             1   \n",
       "4         0  340266.072047         53   среднее             1   \n",
       "5         0    -926.185831         27    высшее             0   \n",
       "6         0   -2879.202052         43    высшее             0   \n",
       "7         0    -152.779569         50   СРЕДНЕЕ             1   \n",
       "8         2   -6929.865299         35    ВЫСШЕЕ             0   \n",
       "9         0   -2188.756445         41   среднее             1   \n",
       "\n",
       "      family_status  family_status_id gender income_type  debt   total_income  \\\n",
       "0   женат / замужем                 0      F   сотрудник     0  253875.639453   \n",
       "1   женат / замужем                 0      F   сотрудник     0  112080.014102   \n",
       "2   женат / замужем                 0      M   сотрудник     0  145885.952297   \n",
       "3   женат / замужем                 0      M   сотрудник     0  267628.550329   \n",
       "4  гражданский брак                 1      F   пенсионер     0  158616.077870   \n",
       "5  гражданский брак                 1      M   компаньон     0  255763.565419   \n",
       "6   женат / замужем                 0      F   компаньон     0  240525.971920   \n",
       "7   женат / замужем                 0      M   сотрудник     0  135823.934197   \n",
       "8  гражданский брак                 1      F   сотрудник     0   95856.832424   \n",
       "9   женат / замужем                 0      M   сотрудник     0  144425.938277   \n",
       "\n",
       "                      purpose  \n",
       "0               покупка жилья  \n",
       "1     приобретение автомобиля  \n",
       "2               покупка жилья  \n",
       "3  дополнительное образование  \n",
       "4             сыграть свадьбу  \n",
       "5               покупка жилья  \n",
       "6           операции с жильем  \n",
       "7                 образование  \n",
       "8       на проведение свадьбы  \n",
       "9     покупка жилья для семьи  "
      ]
     },
     "execution_count": 3,
     "metadata": {},
     "output_type": "execute_result"
    }
   ],
   "source": [
    "# выведем первые 10 строчек датафрейма \n",
    "data.head(10)"
   ]
  },
  {
   "cell_type": "code",
   "execution_count": null,
   "id": "0d791751",
   "metadata": {
    "deletable": false,
    "id": "0d791751",
    "outputId": "15376089-8dad-46c9-b520-c05248d43158"
   },
   "outputs": [
    {
     "name": "stdout",
     "output_type": "stream",
     "text": [
      "<class 'pandas.core.frame.DataFrame'>\n",
      "RangeIndex: 21525 entries, 0 to 21524\n",
      "Data columns (total 12 columns):\n",
      " #   Column            Non-Null Count  Dtype  \n",
      "---  ------            --------------  -----  \n",
      " 0   children          21525 non-null  int64  \n",
      " 1   days_employed     19351 non-null  float64\n",
      " 2   dob_years         21525 non-null  int64  \n",
      " 3   education         21525 non-null  object \n",
      " 4   education_id      21525 non-null  int64  \n",
      " 5   family_status     21525 non-null  object \n",
      " 6   family_status_id  21525 non-null  int64  \n",
      " 7   gender            21525 non-null  object \n",
      " 8   income_type       21525 non-null  object \n",
      " 9   debt              21525 non-null  int64  \n",
      " 10  total_income      19351 non-null  float64\n",
      " 11  purpose           21525 non-null  object \n",
      "dtypes: float64(2), int64(5), object(5)\n",
      "memory usage: 2.0+ MB\n"
     ]
    }
   ],
   "source": [
    "# Выведем основную информацию о датафрейме с помощью метода info()\n",
    "data.info()"
   ]
  },
  {
   "cell_type": "markdown",
   "id": "737ed77d",
   "metadata": {
    "deletable": false,
    "editable": false,
    "id": "737ed77d"
   },
   "source": [
    "## **2. Предобработка данных**"
   ]
  },
  {
   "cell_type": "markdown",
   "id": "77a9c5a7",
   "metadata": {
    "deletable": false,
    "editable": false,
    "id": "77a9c5a7"
   },
   "source": [
    "### **2.1.Удаление пропусков**"
   ]
  },
  {
   "cell_type": "code",
   "execution_count": null,
   "id": "5cb14f52",
   "metadata": {
    "deletable": false,
    "id": "5cb14f52",
    "outputId": "81f4d817-781c-465c-ed15-91ce4446810d"
   },
   "outputs": [
    {
     "data": {
      "text/plain": [
       "children               0\n",
       "days_employed       2174\n",
       "dob_years              0\n",
       "education              0\n",
       "education_id           0\n",
       "family_status          0\n",
       "family_status_id       0\n",
       "gender                 0\n",
       "income_type            0\n",
       "debt                   0\n",
       "total_income        2174\n",
       "purpose                0\n",
       "dtype: int64"
      ]
     },
     "execution_count": 4,
     "metadata": {},
     "output_type": "execute_result"
    }
   ],
   "source": [
    "# Выведем количество пропущенных значений для каждого столбца\n",
    "data.isna().sum()"
   ]
  },
  {
   "cell_type": "markdown",
   "id": "5f0cafaf",
   "metadata": {
    "deletable": false,
    "editable": false,
    "id": "5f0cafaf"
   },
   "source": [
    "В двух столбцах есть пропущенные значения. Один из них — `days_employed`. Пропуски в этом столбце  обработаем на следующем этапе. Другой столбец с пропущенными значениями — `total_income` — хранит данные о доходах. На сумму дохода сильнее всего влияет тип занятости, поэтому заполним пропуски в этом столбце медианным значением по каждому типу из столбца `income_type`."
   ]
  },
  {
   "cell_type": "code",
   "execution_count": null,
   "id": "da0fe190",
   "metadata": {
    "deletable": false,
    "id": "da0fe190"
   },
   "outputs": [],
   "source": [
    "# Заполним пропуски в столбце total_income\n",
    "for t in data['income_type'].unique():\n",
    "    data.loc[(data['income_type'] == t) & (data['total_income'].isna()), 'total_income'] = \\\n",
    "    data.loc[(data['income_type'] == t), 'total_income'].median()"
   ]
  },
  {
   "cell_type": "markdown",
   "id": "f61463aa",
   "metadata": {
    "deletable": false,
    "editable": false,
    "id": "f61463aa"
   },
   "source": [
    "### **2.2. Обработка аномальных значений**"
   ]
  },
  {
   "cell_type": "markdown",
   "id": "eec29fa2",
   "metadata": {
    "deletable": false,
    "editable": false,
    "id": "eec29fa2"
   },
   "source": [
    "В данных могут встречаться артефакты (аномалии) — значения, которые не отражают действительность и появились по какой-то ошибке. \n",
    "\n",
    "Таким артефактом будет отрицательное количество дней трудового стажа в столбце `days_employed`. Для реальных данных это нормально. \n",
    "\n",
    "Обработаем значения в этом столбце: заменим все отрицательные значения положительными с помощью метода `abs()`.**"
   ]
  },
  {
   "cell_type": "code",
   "execution_count": null,
   "id": "0bfc27a8",
   "metadata": {
    "deletable": false,
    "id": "0bfc27a8"
   },
   "outputs": [],
   "source": [
    "# заменим в столбце days_employed все отрицательные значения положительными\n",
    "data['days_employed'] = data['days_employed'].abs()"
   ]
  },
  {
   "cell_type": "code",
   "execution_count": null,
   "id": "d226cf69",
   "metadata": {
    "deletable": false,
    "id": "d226cf69",
    "outputId": "801ef80e-522b-4668-f34e-565af7432bcf"
   },
   "outputs": [
    {
     "data": {
      "text/plain": [
       "income_type\n",
       "безработный        366413.652744\n",
       "в декрете            3296.759962\n",
       "госслужащий          2689.368353\n",
       "компаньон            1547.382223\n",
       "пенсионер          365213.306266\n",
       "предприниматель       520.848083\n",
       "сотрудник            1574.202821\n",
       "студент               578.751554\n",
       "Name: days_employed, dtype: float64"
      ]
     },
     "execution_count": 7,
     "metadata": {},
     "output_type": "execute_result"
    }
   ],
   "source": [
    "# Для каждого типа занятости выведем медианное значение трудового стажа days_employed в днях\n",
    "data.groupby('income_type')['days_employed'].agg('median')"
   ]
  },
  {
   "cell_type": "markdown",
   "id": "37950263",
   "metadata": {
    "deletable": false,
    "editable": false,
    "id": "37950263"
   },
   "source": [
    "У двух типов (безработные и пенсионеры) аномально большие значения. Исправить такие значения сложно, поэтому оставим их как есть. Тем более этот столбец не понадобится для исследования."
   ]
  },
  {
   "cell_type": "code",
   "execution_count": null,
   "id": "7249b12c",
   "metadata": {
    "deletable": false,
    "id": "7249b12c",
    "outputId": "6975b15c-7f95-4697-d16d-a0c79b657b03"
   },
   "outputs": [
    {
     "data": {
      "text/plain": [
       "array([ 1,  0,  3,  2, -1,  4, 20,  5])"
      ]
     },
     "execution_count": 8,
     "metadata": {},
     "output_type": "execute_result"
    }
   ],
   "source": [
    "# Выведем перечень уникальных значений столбца children\n",
    "data['children'].unique()"
   ]
  },
  {
   "cell_type": "markdown",
   "id": "18fa3f22",
   "metadata": {
    "deletable": false,
    "editable": false,
    "id": "18fa3f22"
   },
   "source": [
    "В столбце `children` есть два аномальных значения. Удалим строки, в которых встречаются такие аномальные значения."
   ]
  },
  {
   "cell_type": "code",
   "execution_count": null,
   "id": "ad3dad63",
   "metadata": {
    "deletable": false,
    "id": "ad3dad63"
   },
   "outputs": [],
   "source": [
    "# Удалим строки, в которых встречаются аномальные значения в столбце children\n",
    "data = data[(data['children'] != -1) & (data['children'] != 20)]"
   ]
  },
  {
   "cell_type": "code",
   "execution_count": null,
   "id": "f41eccf5",
   "metadata": {
    "deletable": false,
    "id": "f41eccf5",
    "outputId": "b2097101-d49d-44d9-901b-32a65c9463d1"
   },
   "outputs": [
    {
     "data": {
      "text/plain": [
       "array([1, 0, 3, 2, 4, 5])"
      ]
     },
     "execution_count": 10,
     "metadata": {},
     "output_type": "execute_result"
    }
   ],
   "source": [
    "#  выведем перечень уникальных значений столбца children, чтобы убедиться, что артефакты удалены\n",
    "data['children'].unique()"
   ]
  },
  {
   "cell_type": "markdown",
   "id": "cf814545",
   "metadata": {
    "deletable": false,
    "editable": false,
    "id": "cf814545"
   },
   "source": [
    "### **2.3. Удаление пропусков (продолжение)**"
   ]
  },
  {
   "cell_type": "code",
   "execution_count": null,
   "id": "930727fd",
   "metadata": {
    "deletable": false,
    "id": "930727fd"
   },
   "outputs": [],
   "source": [
    "# заполним пропуски в столбце days_employed медианными значениями по каждого типа занятости income_type\n",
    "for t in data['income_type'].unique():\n",
    "    data.loc[(data['income_type'] == t) & (data['days_employed'].isna()), 'days_employed'] = \\\n",
    "    data.loc[(data['income_type'] == t), 'days_employed'].median()"
   ]
  },
  {
   "cell_type": "code",
   "execution_count": null,
   "id": "460a1313",
   "metadata": {
    "deletable": false,
    "id": "460a1313",
    "outputId": "8da1e4e1-358e-4e87-98c9-f261bce0a7b2"
   },
   "outputs": [
    {
     "data": {
      "text/plain": [
       "children            0\n",
       "days_employed       0\n",
       "dob_years           0\n",
       "education           0\n",
       "education_id        0\n",
       "family_status       0\n",
       "family_status_id    0\n",
       "gender              0\n",
       "income_type         0\n",
       "debt                0\n",
       "total_income        0\n",
       "purpose             0\n",
       "dtype: int64"
      ]
     },
     "execution_count": 12,
     "metadata": {},
     "output_type": "execute_result"
    }
   ],
   "source": [
    "# проверим, что все пропуски заполнены\n",
    "data.isna().sum()"
   ]
  },
  {
   "cell_type": "markdown",
   "id": "a7787bf8",
   "metadata": {
    "deletable": false,
    "editable": false,
    "id": "a7787bf8"
   },
   "source": [
    "### **2.4. Изменение типов данных**"
   ]
  },
  {
   "cell_type": "code",
   "execution_count": null,
   "id": "24d23b89",
   "metadata": {
    "deletable": false,
    "id": "24d23b89"
   },
   "outputs": [],
   "source": [
    "# Заменим вещественный тип данных в столбце total_income на целочисленный с помощью метода astype()\n",
    "data['total_income'] = data['total_income'].astype(int)"
   ]
  },
  {
   "cell_type": "markdown",
   "id": "b3293b69",
   "metadata": {
    "deletable": false,
    "editable": false,
    "id": "b3293b69"
   },
   "source": [
    "### **2.5. Обработка дубликатов**"
   ]
  },
  {
   "cell_type": "markdown",
   "id": "4547dc10",
   "metadata": {
    "deletable": false,
    "editable": false,
    "id": "4547dc10"
   },
   "source": [
    "Обработаем неявные дубликаты в столбце `education`. В этом столбце есть одни и те же значения, но записанные по-разному: с использованием заглавных и строчных букв. "
   ]
  },
  {
   "cell_type": "code",
   "execution_count": null,
   "id": "4779afec",
   "metadata": {
    "deletable": false,
    "id": "4779afec"
   },
   "outputs": [],
   "source": [
    "# приведем к нижнему регистру названия в столбце education\n",
    "data['education'] = data['education'].str.lower()"
   ]
  },
  {
   "cell_type": "code",
   "execution_count": null,
   "id": "d11d800c",
   "metadata": {
    "deletable": false,
    "id": "d11d800c",
    "outputId": "9684deba-1934-42d1-99e1-cda61740f822"
   },
   "outputs": [
    {
     "data": {
      "text/plain": [
       "71"
      ]
     },
     "execution_count": 15,
     "metadata": {},
     "output_type": "execute_result"
    }
   ],
   "source": [
    "# выведем на экран количество строк-дубликатов в данных\n",
    "data.duplicated().sum()"
   ]
  },
  {
   "cell_type": "code",
   "execution_count": null,
   "id": "bc6714aa",
   "metadata": {
    "deletable": false,
    "id": "bc6714aa"
   },
   "outputs": [],
   "source": [
    "# удалим строки-дубликаты\n",
    "data = data.drop_duplicates()"
   ]
  },
  {
   "cell_type": "markdown",
   "id": "e9e8cee0",
   "metadata": {
    "deletable": false,
    "editable": false,
    "id": "e9e8cee0"
   },
   "source": [
    "### **2.6. Категоризация данных**"
   ]
  },
  {
   "cell_type": "markdown",
   "id": "35e692c2",
   "metadata": {
    "deletable": false,
    "editable": false,
    "id": "35e692c2"
   },
   "source": [
    "На основании диапазонов, указанных ниже, создадим в датафрейме `data` столбец `total_income_category` с категориями заемщиков по уровню дохода:\n",
    "\n",
    "- 0–30000 — `'E'`;\n",
    "- 30001–50000 — `'D'`;\n",
    "- 50001–200000 — `'C'`;\n",
    "- 200001–1000000 — `'B'`;\n",
    "- 1000001 и выше — `'A'`."
   ]
  },
  {
   "cell_type": "code",
   "execution_count": null,
   "id": "3101828b",
   "metadata": {
    "deletable": false,
    "id": "3101828b"
   },
   "outputs": [],
   "source": [
    "# напишем функцию с именем categorize_income() для категоризации данных\n",
    "def categorize_income(income):\n",
    "    try:\n",
    "        if 0 <= income <= 30000:\n",
    "            return 'E'\n",
    "        elif 30001 <= income <= 50000:\n",
    "            return 'D'\n",
    "        elif 50001 <= income <= 200000:\n",
    "            return 'C'\n",
    "        elif 200001 <= income <= 1000000:\n",
    "            return 'B'\n",
    "        elif income >= 1000001:\n",
    "            return 'A'\n",
    "    except:\n",
    "        pass"
   ]
  },
  {
   "cell_type": "code",
   "execution_count": null,
   "id": "a48bc739",
   "metadata": {
    "deletable": false,
    "id": "a48bc739"
   },
   "outputs": [],
   "source": [
    "# создадим столбец total_income_category\n",
    "data['total_income_category'] = data['total_income'].apply(categorize_income)"
   ]
  },
  {
   "cell_type": "code",
   "execution_count": null,
   "id": "f1127d34",
   "metadata": {
    "deletable": false,
    "id": "f1127d34",
    "outputId": "673c12d9-7d7e-4ae0-9812-c622c89dd244"
   },
   "outputs": [
    {
     "data": {
      "text/plain": [
       "array(['покупка жилья', 'приобретение автомобиля',\n",
       "       'дополнительное образование', 'сыграть свадьбу',\n",
       "       'операции с жильем', 'образование', 'на проведение свадьбы',\n",
       "       'покупка жилья для семьи', 'покупка недвижимости',\n",
       "       'покупка коммерческой недвижимости', 'покупка жилой недвижимости',\n",
       "       'строительство собственной недвижимости', 'недвижимость',\n",
       "       'строительство недвижимости', 'на покупку подержанного автомобиля',\n",
       "       'на покупку своего автомобиля',\n",
       "       'операции с коммерческой недвижимостью',\n",
       "       'строительство жилой недвижимости', 'жилье',\n",
       "       'операции со своей недвижимостью', 'автомобили',\n",
       "       'заняться образованием', 'сделка с подержанным автомобилем',\n",
       "       'получение образования', 'автомобиль', 'свадьба',\n",
       "       'получение дополнительного образования', 'покупка своего жилья',\n",
       "       'операции с недвижимостью', 'получение высшего образования',\n",
       "       'свой автомобиль', 'сделка с автомобилем',\n",
       "       'профильное образование', 'высшее образование',\n",
       "       'покупка жилья для сдачи', 'на покупку автомобиля', 'ремонт жилью',\n",
       "       'заняться высшим образованием'], dtype=object)"
      ]
     },
     "execution_count": 19,
     "metadata": {},
     "output_type": "execute_result"
    }
   ],
   "source": [
    "# выведем на экран перечень уникальных целей взятия кредита из столбца purpose\n",
    "data['purpose'].unique()"
   ]
  },
  {
   "cell_type": "markdown",
   "id": "dfe53866",
   "metadata": {
    "deletable": false,
    "editable": false,
    "id": "dfe53866"
   },
   "source": [
    "Создадим функцию, которая на основании данных из столбца `purpose` сформирует новый столбец `purpose_category`, в который войдут следующие категории:**\n",
    "\n",
    "- `'операции с автомобилем'`,\n",
    "- `'операции с недвижимостью'`,\n",
    "- `'проведение свадьбы'`,\n",
    "- `'получение образования'`."
   ]
  },
  {
   "cell_type": "code",
   "execution_count": null,
   "id": "7e896cd0",
   "metadata": {
    "deletable": false,
    "id": "7e896cd0"
   },
   "outputs": [],
   "source": [
    "# создание функции categorize_purpose\n",
    "def categorize_purpose(row):\n",
    "    try:\n",
    "        if 'автом' in row:\n",
    "            return 'операции с автомобилем'\n",
    "        elif 'жил' in row or 'недвиж' in row:\n",
    "            return 'операции с недвижимостью'\n",
    "        elif 'свад' in row:\n",
    "            return 'проведение свадьбы'\n",
    "        elif 'образов' in row:\n",
    "            return 'получение образования'\n",
    "    except:\n",
    "        return 'нет категории'"
   ]
  },
  {
   "cell_type": "code",
   "execution_count": null,
   "id": "1398db82",
   "metadata": {
    "deletable": false,
    "id": "1398db82"
   },
   "outputs": [],
   "source": [
    "# создадим столбец purpose_category\n",
    "data['purpose_category'] = data['purpose'].apply(categorize_purpose)"
   ]
  },
  {
   "cell_type": "markdown",
   "id": "522d6a10",
   "metadata": {
    "deletable": false,
    "editable": false,
    "id": "522d6a10"
   },
   "source": [
    "### **3. Исследование данных**"
   ]
  },
  {
   "cell_type": "markdown",
   "id": "8fbfc797",
   "metadata": {
    "deletable": false,
    "editable": false,
    "id": "8fbfc797"
   },
   "source": [
    "#### **3.1 Проверим наличие зависимости между количеством детей и возвратом кредита в срок**"
   ]
  },
  {
   "cell_type": "markdown",
   "id": "644b9086",
   "metadata": {
    "id": "644b9086"
   },
   "source": [
    "Сгруппируем заемщиков по количеству детей в семье и рассчитаем по каждой группе:\n",
    "\n",
    "- общее количество заемщиков в группе,\n",
    "- количество заемщиков, имеющих задолженность по возврату кредита.\n",
    "\n",
    "Даннае запишем в таблицу data_groupby_children. \n",
    "\n",
    "Создадим в таблице data_groupby_children столбец relative_weight, \n",
    "в котором рассчитаем процент заемщиков, имеющих задолженность, о общему количеству заемщиков в группе."
   ]
  },
  {
   "cell_type": "code",
   "execution_count": null,
   "id": "930727ac",
   "metadata": {
    "deletable": false,
    "id": "930727ac",
    "outputId": "827cc7f6-b523-4248-ef40-4d5e7d4b78c3",
    "scrolled": true
   },
   "outputs": [
    {
     "data": {
      "text/html": [
       "<div>\n",
       "<style scoped>\n",
       "    .dataframe tbody tr th:only-of-type {\n",
       "        vertical-align: middle;\n",
       "    }\n",
       "\n",
       "    .dataframe tbody tr th {\n",
       "        vertical-align: top;\n",
       "    }\n",
       "\n",
       "    .dataframe thead tr th {\n",
       "        text-align: left;\n",
       "    }\n",
       "\n",
       "    .dataframe thead tr:last-of-type th {\n",
       "        text-align: right;\n",
       "    }\n",
       "</style>\n",
       "<table border=\"1\" class=\"dataframe\">\n",
       "  <thead>\n",
       "    <tr>\n",
       "      <th></th>\n",
       "      <th>count</th>\n",
       "      <th>sum</th>\n",
       "      <th>relative_weight</th>\n",
       "    </tr>\n",
       "    <tr>\n",
       "      <th></th>\n",
       "      <th>debt</th>\n",
       "      <th>debt</th>\n",
       "      <th></th>\n",
       "    </tr>\n",
       "    <tr>\n",
       "      <th>children</th>\n",
       "      <th></th>\n",
       "      <th></th>\n",
       "      <th></th>\n",
       "    </tr>\n",
       "  </thead>\n",
       "  <tbody>\n",
       "    <tr>\n",
       "      <th>5</th>\n",
       "      <td>9</td>\n",
       "      <td>0</td>\n",
       "      <td>0.000000</td>\n",
       "    </tr>\n",
       "    <tr>\n",
       "      <th>0</th>\n",
       "      <td>14091</td>\n",
       "      <td>1063</td>\n",
       "      <td>7.543822</td>\n",
       "    </tr>\n",
       "    <tr>\n",
       "      <th>3</th>\n",
       "      <td>330</td>\n",
       "      <td>27</td>\n",
       "      <td>8.181818</td>\n",
       "    </tr>\n",
       "    <tr>\n",
       "      <th>1</th>\n",
       "      <td>4808</td>\n",
       "      <td>444</td>\n",
       "      <td>9.234609</td>\n",
       "    </tr>\n",
       "    <tr>\n",
       "      <th>2</th>\n",
       "      <td>2052</td>\n",
       "      <td>194</td>\n",
       "      <td>9.454191</td>\n",
       "    </tr>\n",
       "    <tr>\n",
       "      <th>4</th>\n",
       "      <td>41</td>\n",
       "      <td>4</td>\n",
       "      <td>9.756098</td>\n",
       "    </tr>\n",
       "  </tbody>\n",
       "</table>\n",
       "</div>"
      ],
      "text/plain": [
       "          count   sum relative_weight\n",
       "           debt  debt                \n",
       "children                             \n",
       "5             9     0        0.000000\n",
       "0         14091  1063        7.543822\n",
       "3           330    27        8.181818\n",
       "1          4808   444        9.234609\n",
       "2          2052   194        9.454191\n",
       "4            41     4        9.756098"
      ]
     },
     "execution_count": 22,
     "metadata": {},
     "output_type": "execute_result"
    }
   ],
   "source": [
    "# создадим сводную таблицу data_groupby_children\n",
    "data_groupby_children = pd.pivot_table(data, index=['children'], values = ['debt'], aggfunc = ['count', 'sum'])\n",
    "data_groupby_children['relative_weight'] = data_groupby_children['sum']['debt']/data_groupby_children['count']['debt']*100\n",
    "data_groupby_children.sort_values(by='relative_weight')"
   ]
  },
  {
   "cell_type": "markdown",
   "id": "80fee2e6",
   "metadata": {
    "deletable": false,
    "id": "80fee2e6"
   },
   "source": [
    "**Вывод:**\n",
    "\n",
    "- Наименьший процент заемщиков, имеющих задолженность по кредиту, к общему количеству заемщиков наблюдается в группе бездетных заемщиков - 7.54%.\n",
    "- Группы заемщиков, имеющих 3-5 детей в семье, не являются репрезентативными ввиду своей малочисленности.\n",
    "- Заемщиков, имеющих детей в семье, существенно меньше, чем заемщиков, не имеющих детей.\n",
    "\n",
    "Таким образом, наличие детей в семье имеет негативное влияние на возврат кредита в срок."
   ]
  },
  {
   "cell_type": "markdown",
   "id": "f0cd1a76",
   "metadata": {
    "id": "f0cd1a76"
   },
   "source": [
    "Можно поработать с многодетными \n",
    "и разделить заемщиков на категории в зависимости от количества детей в семье:\n",
    "\n",
    "0 - бездетные\n",
    "1-2 - малодетные\n",
    "3-5 - многодетные"
   ]
  },
  {
   "cell_type": "code",
   "execution_count": null,
   "id": "41f6f06d",
   "metadata": {
    "id": "41f6f06d"
   },
   "outputs": [],
   "source": [
    "# создадим функцию категоризации заемщиков по количеству детей\n",
    "def categorize_children(children):\n",
    "    try:\n",
    "        if 1<=children<=2:\n",
    "            return 'малодетные'\n",
    "        if 3<=children:\n",
    "            return 'многодетные' \n",
    "        return 'бездетные'\n",
    "    except:\n",
    "        pass"
   ]
  },
  {
   "cell_type": "code",
   "execution_count": null,
   "id": "eb919078",
   "metadata": {
    "id": "eb919078"
   },
   "outputs": [],
   "source": [
    "# создадим столбец children_category\n",
    "data['children_category'] = data['children'].apply(categorize_children)"
   ]
  },
  {
   "cell_type": "code",
   "execution_count": null,
   "id": "0e698e36",
   "metadata": {
    "id": "0e698e36",
    "outputId": "d05e0e1f-a0df-45c6-bc14-9e3b1f266e4d"
   },
   "outputs": [
    {
     "data": {
      "text/html": [
       "<div>\n",
       "<style scoped>\n",
       "    .dataframe tbody tr th:only-of-type {\n",
       "        vertical-align: middle;\n",
       "    }\n",
       "\n",
       "    .dataframe tbody tr th {\n",
       "        vertical-align: top;\n",
       "    }\n",
       "\n",
       "    .dataframe thead tr th {\n",
       "        text-align: left;\n",
       "    }\n",
       "\n",
       "    .dataframe thead tr:last-of-type th {\n",
       "        text-align: right;\n",
       "    }\n",
       "</style>\n",
       "<table border=\"1\" class=\"dataframe\">\n",
       "  <thead>\n",
       "    <tr>\n",
       "      <th></th>\n",
       "      <th>count</th>\n",
       "      <th>sum</th>\n",
       "      <th>relative_weight</th>\n",
       "    </tr>\n",
       "    <tr>\n",
       "      <th></th>\n",
       "      <th>debt</th>\n",
       "      <th>debt</th>\n",
       "      <th></th>\n",
       "    </tr>\n",
       "    <tr>\n",
       "      <th>children_category</th>\n",
       "      <th></th>\n",
       "      <th></th>\n",
       "      <th></th>\n",
       "    </tr>\n",
       "  </thead>\n",
       "  <tbody>\n",
       "    <tr>\n",
       "      <th>бездетные</th>\n",
       "      <td>14091</td>\n",
       "      <td>1063</td>\n",
       "      <td>7.543822</td>\n",
       "    </tr>\n",
       "    <tr>\n",
       "      <th>многодетные</th>\n",
       "      <td>380</td>\n",
       "      <td>31</td>\n",
       "      <td>8.157895</td>\n",
       "    </tr>\n",
       "    <tr>\n",
       "      <th>малодетные</th>\n",
       "      <td>6860</td>\n",
       "      <td>638</td>\n",
       "      <td>9.300292</td>\n",
       "    </tr>\n",
       "  </tbody>\n",
       "</table>\n",
       "</div>"
      ],
      "text/plain": [
       "                   count   sum relative_weight\n",
       "                    debt  debt                \n",
       "children_category                             \n",
       "бездетные          14091  1063        7.543822\n",
       "многодетные          380    31        8.157895\n",
       "малодетные          6860   638        9.300292"
      ]
     },
     "execution_count": 25,
     "metadata": {},
     "output_type": "execute_result"
    }
   ],
   "source": [
    "# повторим первый шаг, используя столбец 'children_category'\n",
    "data_groupby_children2 = pd.pivot_table(data, index=['children_category'], values = ['debt'], aggfunc = ['count', 'sum'])\n",
    "data_groupby_children2['relative_weight'] = data_groupby_children2['sum']['debt']/data_groupby_children2['count']['debt']*100\n",
    "data_groupby_children2.sort_values(by='relative_weight')"
   ]
  },
  {
   "cell_type": "markdown",
   "id": "26aa5dee",
   "metadata": {
    "id": "26aa5dee"
   },
   "source": [
    "**Вывод:**\n",
    "\n",
    "График стал компактнее, но вывод не изменился: \n",
    "наличие детей в семье имеет негативное влияние на возврат кредита в срок. \n",
    "Многодетные семьи либо более ответственные заемщики в сравнении с малодетными, либо их выборка нерепрезентативна.\n"
   ]
  },
  {
   "cell_type": "markdown",
   "id": "d5bb1379",
   "metadata": {
    "deletable": false,
    "editable": false,
    "id": "d5bb1379"
   },
   "source": [
    "#### **3.2 Проверим наличие зависимости между семейным положением и возвратом кредита в срок**"
   ]
  },
  {
   "cell_type": "markdown",
   "id": "1c2d7827",
   "metadata": {
    "id": "1c2d7827"
   },
   "source": [
    "Сгруппируем заемщиков по семейному положению и рассчитаем по каждой группе:\n",
    "\n",
    "- общее количество заемщиков в группе,\n",
    "- количество заемщиков, имеющих задолженность по возврату кредита.\n",
    "\n",
    "Даннае запишем в таблицу data_groupby_family_status. \n",
    "Создадим в таблице data_groupby_family_status столбец relative_weight, в котором рассчитаем процент заемщиков, имеющих задолженность, о общему количеству заемщиков в группе."
   ]
  },
  {
   "cell_type": "code",
   "execution_count": null,
   "id": "de47e222",
   "metadata": {
    "deletable": false,
    "id": "de47e222",
    "outputId": "37c94e22-bef4-4116-d08a-566a25b9228b"
   },
   "outputs": [
    {
     "data": {
      "text/html": [
       "<div>\n",
       "<style scoped>\n",
       "    .dataframe tbody tr th:only-of-type {\n",
       "        vertical-align: middle;\n",
       "    }\n",
       "\n",
       "    .dataframe tbody tr th {\n",
       "        vertical-align: top;\n",
       "    }\n",
       "\n",
       "    .dataframe thead tr th {\n",
       "        text-align: left;\n",
       "    }\n",
       "\n",
       "    .dataframe thead tr:last-of-type th {\n",
       "        text-align: right;\n",
       "    }\n",
       "</style>\n",
       "<table border=\"1\" class=\"dataframe\">\n",
       "  <thead>\n",
       "    <tr>\n",
       "      <th></th>\n",
       "      <th>count</th>\n",
       "      <th>sum</th>\n",
       "      <th>relative_weight</th>\n",
       "    </tr>\n",
       "    <tr>\n",
       "      <th></th>\n",
       "      <th>debt</th>\n",
       "      <th>debt</th>\n",
       "      <th></th>\n",
       "    </tr>\n",
       "    <tr>\n",
       "      <th>family_status</th>\n",
       "      <th></th>\n",
       "      <th></th>\n",
       "      <th></th>\n",
       "    </tr>\n",
       "  </thead>\n",
       "  <tbody>\n",
       "    <tr>\n",
       "      <th>вдовец / вдова</th>\n",
       "      <td>951</td>\n",
       "      <td>63</td>\n",
       "      <td>6.624606</td>\n",
       "    </tr>\n",
       "    <tr>\n",
       "      <th>в разводе</th>\n",
       "      <td>1189</td>\n",
       "      <td>84</td>\n",
       "      <td>7.064760</td>\n",
       "    </tr>\n",
       "    <tr>\n",
       "      <th>женат / замужем</th>\n",
       "      <td>12261</td>\n",
       "      <td>927</td>\n",
       "      <td>7.560558</td>\n",
       "    </tr>\n",
       "    <tr>\n",
       "      <th>гражданский брак</th>\n",
       "      <td>4134</td>\n",
       "      <td>385</td>\n",
       "      <td>9.313014</td>\n",
       "    </tr>\n",
       "    <tr>\n",
       "      <th>Не женат / не замужем</th>\n",
       "      <td>2796</td>\n",
       "      <td>273</td>\n",
       "      <td>9.763948</td>\n",
       "    </tr>\n",
       "  </tbody>\n",
       "</table>\n",
       "</div>"
      ],
      "text/plain": [
       "                       count  sum relative_weight\n",
       "                        debt debt                \n",
       "family_status                                    \n",
       "вдовец / вдова           951   63        6.624606\n",
       "в разводе               1189   84        7.064760\n",
       "женат / замужем        12261  927        7.560558\n",
       "гражданский брак        4134  385        9.313014\n",
       "Не женат / не замужем   2796  273        9.763948"
      ]
     },
     "execution_count": 26,
     "metadata": {},
     "output_type": "execute_result"
    }
   ],
   "source": [
    "# создадим сводную таблицу data_groupby_family_status\n",
    "data_groupby_family_status = pd.pivot_table(data, index=['family_status'], values = ['debt'], aggfunc = ['count', 'sum'])\n",
    "data_groupby_family_status['relative_weight'] = data_groupby_family_status['sum']['debt']/data_groupby_family_status['count']['debt']*100\n",
    "data_groupby_family_status.sort_values(by='relative_weight')"
   ]
  },
  {
   "cell_type": "markdown",
   "id": "d9c53442",
   "metadata": {
    "deletable": false,
    "id": "d9c53442"
   },
   "source": [
    "Вывод:\n",
    "\n",
    "- Лица, состоящие в браке берут кредиты чаще, чем одинокие.\n",
    "- Лица, состоящие или состоявщие ранее в официальном браке, являются более ответственными заемщиками.\n",
    "- Лица, состоящие в гражданском браке либо имеющие статус \"не женат / не замужем\", наименее ответственные заемщики.\n",
    "\n",
    "Таким образом, зависимость между семейным положением и возвратом кредита в срок существует: лица, состоящие или состоявшие ранее в официальном браке, чаще гасят кредит в срок, чем лица, живущие в гражданском браке или незамужние/неженатые."
   ]
  },
  {
   "cell_type": "markdown",
   "id": "20a98cc3",
   "metadata": {
    "deletable": false,
    "editable": false,
    "id": "20a98cc3"
   },
   "source": [
    "#### **3.3 Проверим наличие зависимости между уровнем дохода и возвратом кредита в срок**"
   ]
  },
  {
   "cell_type": "markdown",
   "id": "d664bcf4",
   "metadata": {
    "id": "d664bcf4"
   },
   "source": [
    "Сгруппируем заемщиков по уровню дохода и рассчитаем по каждой группе:\n",
    "\n",
    "- общее количество заемщиков в группе,\n",
    "- количество заемщиков, имеющих задолженность по возврату кредита.\n",
    "\n",
    "Даннае запишем в таблицу data_groupby_income_category . \n",
    "Создадим в таблице data_groupby_income_category столбец relative_weight, в котором рассчитаем процент заемщиков, имеющих задолженность, о общему количеству заемщиков в группе."
   ]
  },
  {
   "cell_type": "code",
   "execution_count": null,
   "id": "9e99c2c8",
   "metadata": {
    "deletable": false,
    "id": "9e99c2c8",
    "outputId": "90b76795-1b4c-4510-abb7-00132b30b370"
   },
   "outputs": [
    {
     "data": {
      "text/html": [
       "<div>\n",
       "<style scoped>\n",
       "    .dataframe tbody tr th:only-of-type {\n",
       "        vertical-align: middle;\n",
       "    }\n",
       "\n",
       "    .dataframe tbody tr th {\n",
       "        vertical-align: top;\n",
       "    }\n",
       "\n",
       "    .dataframe thead tr th {\n",
       "        text-align: left;\n",
       "    }\n",
       "\n",
       "    .dataframe thead tr:last-of-type th {\n",
       "        text-align: right;\n",
       "    }\n",
       "</style>\n",
       "<table border=\"1\" class=\"dataframe\">\n",
       "  <thead>\n",
       "    <tr>\n",
       "      <th></th>\n",
       "      <th>count</th>\n",
       "      <th>sum</th>\n",
       "      <th>relative_weight</th>\n",
       "    </tr>\n",
       "    <tr>\n",
       "      <th></th>\n",
       "      <th>debt</th>\n",
       "      <th>debt</th>\n",
       "      <th></th>\n",
       "    </tr>\n",
       "    <tr>\n",
       "      <th>total_income_category</th>\n",
       "      <th></th>\n",
       "      <th></th>\n",
       "      <th></th>\n",
       "    </tr>\n",
       "  </thead>\n",
       "  <tbody>\n",
       "    <tr>\n",
       "      <th>D</th>\n",
       "      <td>349</td>\n",
       "      <td>21</td>\n",
       "      <td>6.017192</td>\n",
       "    </tr>\n",
       "    <tr>\n",
       "      <th>B</th>\n",
       "      <td>5014</td>\n",
       "      <td>354</td>\n",
       "      <td>7.060231</td>\n",
       "    </tr>\n",
       "    <tr>\n",
       "      <th>A</th>\n",
       "      <td>25</td>\n",
       "      <td>2</td>\n",
       "      <td>8.000000</td>\n",
       "    </tr>\n",
       "    <tr>\n",
       "      <th>C</th>\n",
       "      <td>15921</td>\n",
       "      <td>1353</td>\n",
       "      <td>8.498210</td>\n",
       "    </tr>\n",
       "    <tr>\n",
       "      <th>E</th>\n",
       "      <td>22</td>\n",
       "      <td>2</td>\n",
       "      <td>9.090909</td>\n",
       "    </tr>\n",
       "  </tbody>\n",
       "</table>\n",
       "</div>"
      ],
      "text/plain": [
       "                       count   sum relative_weight\n",
       "                        debt  debt                \n",
       "total_income_category                             \n",
       "D                        349    21        6.017192\n",
       "B                       5014   354        7.060231\n",
       "A                         25     2        8.000000\n",
       "C                      15921  1353        8.498210\n",
       "E                         22     2        9.090909"
      ]
     },
     "execution_count": 27,
     "metadata": {},
     "output_type": "execute_result"
    }
   ],
   "source": [
    "# создадим сводную таблицу data_groupby_income_category\n",
    "data_groupby_income_category = pd.pivot_table(data, index=['total_income_category'], values = ['debt'], aggfunc = ['count', 'sum'])\n",
    "data_groupby_income_category['relative_weight'] = data_groupby_income_category['sum']['debt']/data_groupby_income_category['count']['debt']*100\n",
    "data_groupby_income_category.sort_values(by='relative_weight')"
   ]
  },
  {
   "cell_type": "markdown",
   "id": "b9eebc98",
   "metadata": {
    "deletable": false,
    "id": "b9eebc98"
   },
   "source": [
    "**Вывод:** \n",
    "\n",
    "- Наибольшее количество кредитов приходится на лиц с доходом от 50001 до 200000 и от 2000001 до 1000000.\n",
    "- Группы заемщиков, имеющих категрию дохода D, A и E, не являются репрезентативными ввиду своей малочисленности.\n",
    "- Если сравнивать заемщиков, имеющих категорию дохода В и С, то наблюдается прямая зависимость между уровнем дохода и возвратом кредита в срок.\n",
    "\n",
    "Таким образом, если отказаться от анализа малочисленных категорий заемщиков, то уровень дохода влияет на возврат кредита в срок: процент задолженности по возврату кредита в категории В ниже, чем в категории С на 1.43%."
   ]
  },
  {
   "cell_type": "markdown",
   "id": "cc682e1d",
   "metadata": {
    "deletable": false,
    "editable": false,
    "id": "cc682e1d"
   },
   "source": [
    "#### **3.4 Проверим влияние цели кредита на его возврат в срок**"
   ]
  },
  {
   "cell_type": "markdown",
   "id": "20385915",
   "metadata": {
    "id": "20385915"
   },
   "source": [
    "Сгруппируем заемщиков по целям кредита и рассчитаем по каждой группе:\n",
    "\n",
    "- общее количество заемщиков в группе,\n",
    "- количество заемщиков, имеющих задолженность по возврату кредита.\n",
    "\n",
    "Даннае запишем в таблицу data_groupby_purpose_category. \n",
    "Создадим в таблице data_groupby_purpose_category столбец relative_weight, в котором рассчитаем процент заемщиков, имеющих задолженность, о общему количеству заемщиков в группе."
   ]
  },
  {
   "cell_type": "code",
   "execution_count": null,
   "id": "2b3cb602",
   "metadata": {
    "deletable": false,
    "id": "2b3cb602",
    "outputId": "63c26f31-b82d-4d67-91c3-855ff3cdb105"
   },
   "outputs": [
    {
     "data": {
      "text/html": [
       "<div>\n",
       "<style scoped>\n",
       "    .dataframe tbody tr th:only-of-type {\n",
       "        vertical-align: middle;\n",
       "    }\n",
       "\n",
       "    .dataframe tbody tr th {\n",
       "        vertical-align: top;\n",
       "    }\n",
       "\n",
       "    .dataframe thead tr th {\n",
       "        text-align: left;\n",
       "    }\n",
       "\n",
       "    .dataframe thead tr:last-of-type th {\n",
       "        text-align: right;\n",
       "    }\n",
       "</style>\n",
       "<table border=\"1\" class=\"dataframe\">\n",
       "  <thead>\n",
       "    <tr>\n",
       "      <th></th>\n",
       "      <th>count</th>\n",
       "      <th>sum</th>\n",
       "      <th>relative_weight</th>\n",
       "    </tr>\n",
       "    <tr>\n",
       "      <th></th>\n",
       "      <th>debt</th>\n",
       "      <th>debt</th>\n",
       "      <th></th>\n",
       "    </tr>\n",
       "    <tr>\n",
       "      <th>purpose_category</th>\n",
       "      <th></th>\n",
       "      <th></th>\n",
       "      <th></th>\n",
       "    </tr>\n",
       "  </thead>\n",
       "  <tbody>\n",
       "    <tr>\n",
       "      <th>операции с недвижимостью</th>\n",
       "      <td>10751</td>\n",
       "      <td>780</td>\n",
       "      <td>7.255139</td>\n",
       "    </tr>\n",
       "    <tr>\n",
       "      <th>проведение свадьбы</th>\n",
       "      <td>2313</td>\n",
       "      <td>183</td>\n",
       "      <td>7.911803</td>\n",
       "    </tr>\n",
       "    <tr>\n",
       "      <th>получение образования</th>\n",
       "      <td>3988</td>\n",
       "      <td>369</td>\n",
       "      <td>9.252758</td>\n",
       "    </tr>\n",
       "    <tr>\n",
       "      <th>операции с автомобилем</th>\n",
       "      <td>4279</td>\n",
       "      <td>400</td>\n",
       "      <td>9.347978</td>\n",
       "    </tr>\n",
       "  </tbody>\n",
       "</table>\n",
       "</div>"
      ],
      "text/plain": [
       "                          count  sum relative_weight\n",
       "                           debt debt                \n",
       "purpose_category                                    \n",
       "операции с недвижимостью  10751  780        7.255139\n",
       "проведение свадьбы         2313  183        7.911803\n",
       "получение образования      3988  369        9.252758\n",
       "операции с автомобилем     4279  400        9.347978"
      ]
     },
     "execution_count": 28,
     "metadata": {},
     "output_type": "execute_result"
    }
   ],
   "source": [
    "# создадим сводну таблицу data_groupby_purpose_category\n",
    "data_groupby_purpose_category = pd.pivot_table(data, index=['purpose_category'], values = ['debt'], aggfunc = ['count', 'sum'])\n",
    "data_groupby_purpose_category['relative_weight'] = data_groupby_purpose_category['sum']['debt']/data_groupby_purpose_category['count']['debt']*100\n",
    "data_groupby_purpose_category.sort_values(by='relative_weight')"
   ]
  },
  {
   "cell_type": "markdown",
   "id": "9bd62a59",
   "metadata": {
    "deletable": false,
    "id": "9bd62a59"
   },
   "source": [
    "**Вывод:** \n",
    "\n",
    "- Кредиты с целью \"операции с недвижимостью\" имеют наименьший процент задолженности - 7.25%.\n",
    "- Кредиты с целью \"проведение свадьбы\" на втором месте по своевременности возврата кредита, процент задолженности - 7.91%.\n",
    "- Кредиты с целью \"получение образования\" и \"операции с автомобилем\" чаще имеют задолженность по возврату кредита, процент задолженности - 9.25% и 9.34% соответственно.\n",
    "\n",
    "Таким образом: цель кредита влияет на возврат кредита в срок. Наиболее надежные заемщики - лица, берущие кредиты на операции с недвижимостью, возможно, это связано с наличием залога. Кредиты на проведение свадьбы и на получение образования вроде бы подпадают под категорию потребительские кредиты, но заемщики ведут себя по разному, возможно сказывается возраст и социальный статус(гипотеза для дальнейшего изучения). Кредиты по операциям с автомобилем имеют наибольший процент несвоевременного возврата кредита."
   ]
  },
  {
   "cell_type": "markdown",
   "id": "356825ea",
   "metadata": {
    "deletable": false,
    "editable": false,
    "id": "356825ea"
   },
   "source": [
    "#### **3.5 Определим возможные причины появления пропусков в исходных данных**"
   ]
  },
  {
   "cell_type": "markdown",
   "id": "d3623ea4",
   "metadata": {
    "deletable": false,
    "id": "d3623ea4"
   },
   "source": [
    "Причины пропуска данных можно разделить на 2 группы:\n",
    "\n",
    "- человеческий фактор;\n",
    "- технический сбой.\n",
    "\n",
    "Человеческий фактор возникает при ручном вводе данных и может быть связан с невнимательностью, ленью, отсутствием четких инструкций по заполению данных, осознанным желанием скрыть информацию или просто отсутствием необходимой информации.\n",
    "\n",
    "Технический сбой может произойти, например, если датасет собран из нескольких источников, если с одной базой данных работают несколько пользователей, если данные фиксируются автоматически и прибор фиксации данных вышел из строя."
   ]
  },
  {
   "cell_type": "markdown",
   "id": "2a4db94b",
   "metadata": {
    "deletable": false,
    "editable": false,
    "id": "2a4db94b"
   },
   "source": [
    "#### **3.6 Объясним, почему заполнить пропуски медианным значением — лучшее решение для количественных переменных**"
   ]
  },
  {
   "cell_type": "markdown",
   "id": "3f802c97",
   "metadata": {
    "deletable": false,
    "id": "3f802c97"
   },
   "source": [
    "Решение чем запонять пропуски зависит от целей исследования и характера данных.\n",
    "\n",
    "Медиана устойчива к аномальным отклонениям (выбросам) и проста в расчете. \n",
    "При большом количестве наблюдений использование медианы для заполнения пропусков в количественных переменных, действительно, может быть лучшим решением. \n",
    "Когда количество наблюдений минимально, медиана непредсказуема, и может не отражать истинной картины данных."
   ]
  },
  {
   "cell_type": "markdown",
   "id": "68b74b46",
   "metadata": {
    "deletable": false,
    "editable": false,
    "id": "68b74b46"
   },
   "source": [
    "### **4. Общий вывод**"
   ]
  },
  {
   "cell_type": "markdown",
   "id": "a6f1408f",
   "metadata": {
    "deletable": false,
    "id": "a6f1408f"
   },
   "source": [
    "Проведенный анализ говорит о том, что наличие детей и семейное положение оказывают влияние на возврат кредита в срок. \n",
    "\n",
    "Однако у меня вызывают сомнения репрезентативность выборки и статистическая значимость полученных результатов. "
   ]
  },
  {
   "cell_type": "markdown",
   "id": "4f43f995",
   "metadata": {
    "id": "4f43f995"
   },
   "source": [
    "Полагаю, что наличие детей в семье и семейное положение - два взаимосвязанных фактора. Например, одинокие многодетные родители \n",
    "более рискованная категория заемщиков для банка, чем лица, состоящие в официальном браке и не имеющие детей.\n",
    "\n",
    "Проверим данную гипотезу на имеющемся датасете."
   ]
  },
  {
   "cell_type": "code",
   "execution_count": null,
   "id": "16f0d9a1",
   "metadata": {
    "id": "16f0d9a1",
    "outputId": "8341c318-1e78-432f-d460-fb32675956c4"
   },
   "outputs": [
    {
     "data": {
      "text/html": [
       "<div>\n",
       "<style scoped>\n",
       "    .dataframe tbody tr th:only-of-type {\n",
       "        vertical-align: middle;\n",
       "    }\n",
       "\n",
       "    .dataframe tbody tr th {\n",
       "        vertical-align: top;\n",
       "    }\n",
       "\n",
       "    .dataframe thead tr th {\n",
       "        text-align: left;\n",
       "    }\n",
       "\n",
       "    .dataframe thead tr:last-of-type th {\n",
       "        text-align: right;\n",
       "    }\n",
       "</style>\n",
       "<table border=\"1\" class=\"dataframe\">\n",
       "  <thead>\n",
       "    <tr>\n",
       "      <th></th>\n",
       "      <th></th>\n",
       "      <th>count</th>\n",
       "      <th>sum</th>\n",
       "      <th>relative_weight</th>\n",
       "    </tr>\n",
       "    <tr>\n",
       "      <th></th>\n",
       "      <th></th>\n",
       "      <th>debt</th>\n",
       "      <th>debt</th>\n",
       "      <th></th>\n",
       "    </tr>\n",
       "    <tr>\n",
       "      <th>family_status</th>\n",
       "      <th>children_category</th>\n",
       "      <th></th>\n",
       "      <th></th>\n",
       "      <th></th>\n",
       "    </tr>\n",
       "  </thead>\n",
       "  <tbody>\n",
       "    <tr>\n",
       "      <th rowspan=\"2\" valign=\"top\">вдовец / вдова</th>\n",
       "      <th>многодетные</th>\n",
       "      <td>7</td>\n",
       "      <td>0</td>\n",
       "      <td>0.000000</td>\n",
       "    </tr>\n",
       "    <tr>\n",
       "      <th>бездетные</th>\n",
       "      <td>847</td>\n",
       "      <td>53</td>\n",
       "      <td>6.257379</td>\n",
       "    </tr>\n",
       "    <tr>\n",
       "      <th>женат / замужем</th>\n",
       "      <th>бездетные</th>\n",
       "      <td>7468</td>\n",
       "      <td>516</td>\n",
       "      <td>6.909480</td>\n",
       "    </tr>\n",
       "    <tr>\n",
       "      <th>в разводе</th>\n",
       "      <th>бездетные</th>\n",
       "      <td>784</td>\n",
       "      <td>55</td>\n",
       "      <td>7.015306</td>\n",
       "    </tr>\n",
       "    <tr>\n",
       "      <th>женат / замужем</th>\n",
       "      <th>многодетные</th>\n",
       "      <td>285</td>\n",
       "      <td>20</td>\n",
       "      <td>7.017544</td>\n",
       "    </tr>\n",
       "    <tr>\n",
       "      <th rowspan=\"2\" valign=\"top\">в разводе</th>\n",
       "      <th>малодетные</th>\n",
       "      <td>393</td>\n",
       "      <td>28</td>\n",
       "      <td>7.124682</td>\n",
       "    </tr>\n",
       "    <tr>\n",
       "      <th>многодетные</th>\n",
       "      <td>12</td>\n",
       "      <td>1</td>\n",
       "      <td>8.333333</td>\n",
       "    </tr>\n",
       "    <tr>\n",
       "      <th>гражданский брак</th>\n",
       "      <th>бездетные</th>\n",
       "      <td>2730</td>\n",
       "      <td>229</td>\n",
       "      <td>8.388278</td>\n",
       "    </tr>\n",
       "    <tr>\n",
       "      <th>женат / замужем</th>\n",
       "      <th>малодетные</th>\n",
       "      <td>4508</td>\n",
       "      <td>391</td>\n",
       "      <td>8.673469</td>\n",
       "    </tr>\n",
       "    <tr>\n",
       "      <th>Не женат / не замужем</th>\n",
       "      <th>бездетные</th>\n",
       "      <td>2262</td>\n",
       "      <td>210</td>\n",
       "      <td>9.283820</td>\n",
       "    </tr>\n",
       "    <tr>\n",
       "      <th>вдовец / вдова</th>\n",
       "      <th>малодетные</th>\n",
       "      <td>97</td>\n",
       "      <td>10</td>\n",
       "      <td>10.309278</td>\n",
       "    </tr>\n",
       "    <tr>\n",
       "      <th>гражданский брак</th>\n",
       "      <th>малодетные</th>\n",
       "      <td>1338</td>\n",
       "      <td>148</td>\n",
       "      <td>11.061286</td>\n",
       "    </tr>\n",
       "    <tr>\n",
       "      <th>Не женат / не замужем</th>\n",
       "      <th>малодетные</th>\n",
       "      <td>524</td>\n",
       "      <td>61</td>\n",
       "      <td>11.641221</td>\n",
       "    </tr>\n",
       "    <tr>\n",
       "      <th>гражданский брак</th>\n",
       "      <th>многодетные</th>\n",
       "      <td>66</td>\n",
       "      <td>8</td>\n",
       "      <td>12.121212</td>\n",
       "    </tr>\n",
       "    <tr>\n",
       "      <th>Не женат / не замужем</th>\n",
       "      <th>многодетные</th>\n",
       "      <td>10</td>\n",
       "      <td>2</td>\n",
       "      <td>20.000000</td>\n",
       "    </tr>\n",
       "  </tbody>\n",
       "</table>\n",
       "</div>"
      ],
      "text/plain": [
       "                                        count  sum relative_weight\n",
       "                                         debt debt                \n",
       "family_status         children_category                           \n",
       "вдовец / вдова        многодетные           7    0        0.000000\n",
       "                      бездетные           847   53        6.257379\n",
       "женат / замужем       бездетные          7468  516        6.909480\n",
       "в разводе             бездетные           784   55        7.015306\n",
       "женат / замужем       многодетные         285   20        7.017544\n",
       "в разводе             малодетные          393   28        7.124682\n",
       "                      многодетные          12    1        8.333333\n",
       "гражданский брак      бездетные          2730  229        8.388278\n",
       "женат / замужем       малодетные         4508  391        8.673469\n",
       "Не женат / не замужем бездетные          2262  210        9.283820\n",
       "вдовец / вдова        малодетные           97   10       10.309278\n",
       "гражданский брак      малодетные         1338  148       11.061286\n",
       "Не женат / не замужем малодетные          524   61       11.641221\n",
       "гражданский брак      многодетные          66    8       12.121212\n",
       "Не женат / не замужем многодетные          10    2       20.000000"
      ]
     },
     "execution_count": 29,
     "metadata": {},
     "output_type": "execute_result"
    }
   ],
   "source": [
    "# создадим сводную таблицу data_groupby_children_family\n",
    "data_groupby_children_family = pd.pivot_table(data, index=['family_status', 'children_category'], values = ['debt'], aggfunc = ['count', 'sum'])\n",
    "data_groupby_children_family['relative_weight'] = data_groupby_children_family['sum']['debt']/data_groupby_children_family['count']['debt']*100\n",
    "data_groupby_children_family.sort_values('relative_weight')"
   ]
  },
  {
   "cell_type": "markdown",
   "id": "272086d1",
   "metadata": {
    "id": "272086d1"
   },
   "source": [
    "Действительно, \n",
    "наименьший процент задолженности у бездетных заюмщиков, состоящих в официальном браке, \n",
    "а наибольший - у заемщиков, имеющих детей и либо не состоящих в браке, либо разведенных.\n",
    "\n",
    "Опять присутствует нерепрезентативная выборка - многодетные заемщики. \n",
    "\n",
    "Для создания качественной системы скоринга имеет смысл продолжить анализ и учесть другие факторы."
   ]
  }
 ],
 "metadata": {
  "ExecuteTimeLog": [
   {
    "duration": 43,
    "start_time": "2023-01-01T19:35:34.714Z"
   },
   {
    "duration": 7,
    "start_time": "2023-01-01T19:35:56.390Z"
   },
   {
    "duration": 622,
    "start_time": "2023-01-01T19:36:17.654Z"
   },
   {
    "duration": 21,
    "start_time": "2023-01-01T19:36:18.278Z"
   },
   {
    "duration": 17,
    "start_time": "2023-01-01T19:36:18.304Z"
   },
   {
    "duration": 14,
    "start_time": "2023-01-01T19:36:18.323Z"
   },
   {
    "duration": 28,
    "start_time": "2023-01-01T19:36:18.339Z"
   },
   {
    "duration": 2,
    "start_time": "2023-01-01T19:36:18.369Z"
   },
   {
    "duration": 10,
    "start_time": "2023-01-01T19:36:18.373Z"
   },
   {
    "duration": 4,
    "start_time": "2023-01-01T19:36:18.385Z"
   },
   {
    "duration": 13,
    "start_time": "2023-01-01T19:36:18.390Z"
   },
   {
    "duration": 16,
    "start_time": "2023-01-01T19:36:18.407Z"
   },
   {
    "duration": 52,
    "start_time": "2023-01-01T19:36:18.425Z"
   },
   {
    "duration": 8,
    "start_time": "2023-01-01T19:36:18.478Z"
   },
   {
    "duration": 25,
    "start_time": "2023-01-01T19:36:18.487Z"
   },
   {
    "duration": 20,
    "start_time": "2023-01-01T19:36:18.514Z"
   },
   {
    "duration": 23,
    "start_time": "2023-01-01T19:36:18.536Z"
   },
   {
    "duration": 52,
    "start_time": "2023-01-01T19:36:18.561Z"
   },
   {
    "duration": 4,
    "start_time": "2023-01-01T19:36:18.615Z"
   },
   {
    "duration": 12,
    "start_time": "2023-01-01T19:36:18.620Z"
   },
   {
    "duration": 6,
    "start_time": "2023-01-01T19:36:18.633Z"
   },
   {
    "duration": 4,
    "start_time": "2023-01-01T19:36:18.642Z"
   },
   {
    "duration": 14,
    "start_time": "2023-01-01T19:36:18.647Z"
   },
   {
    "duration": 19,
    "start_time": "2023-01-01T19:36:24.505Z"
   },
   {
    "duration": 6,
    "start_time": "2023-01-01T19:36:54.182Z"
   },
   {
    "duration": 4,
    "start_time": "2023-01-01T19:38:23.745Z"
   },
   {
    "duration": 4,
    "start_time": "2023-01-01T19:42:17.541Z"
   },
   {
    "duration": 4,
    "start_time": "2023-01-01T19:42:24.110Z"
   },
   {
    "duration": 46,
    "start_time": "2023-01-02T15:40:51.237Z"
   },
   {
    "duration": 707,
    "start_time": "2023-01-02T15:41:13.047Z"
   },
   {
    "duration": 29,
    "start_time": "2023-01-02T15:41:13.757Z"
   },
   {
    "duration": 17,
    "start_time": "2023-01-02T15:41:13.789Z"
   },
   {
    "duration": 10,
    "start_time": "2023-01-02T15:41:13.808Z"
   },
   {
    "duration": 63,
    "start_time": "2023-01-02T15:41:13.819Z"
   },
   {
    "duration": 4,
    "start_time": "2023-01-02T15:41:13.884Z"
   },
   {
    "duration": 12,
    "start_time": "2023-01-02T15:41:13.891Z"
   },
   {
    "duration": 6,
    "start_time": "2023-01-02T15:41:13.905Z"
   },
   {
    "duration": 11,
    "start_time": "2023-01-02T15:41:13.913Z"
   },
   {
    "duration": 5,
    "start_time": "2023-01-02T15:41:13.926Z"
   },
   {
    "duration": 69,
    "start_time": "2023-01-02T15:41:13.932Z"
   },
   {
    "duration": 10,
    "start_time": "2023-01-02T15:41:14.003Z"
   },
   {
    "duration": 6,
    "start_time": "2023-01-02T15:41:14.014Z"
   },
   {
    "duration": 17,
    "start_time": "2023-01-02T15:41:14.021Z"
   },
   {
    "duration": 42,
    "start_time": "2023-01-02T15:41:14.040Z"
   },
   {
    "duration": 17,
    "start_time": "2023-01-02T15:41:14.084Z"
   },
   {
    "duration": 4,
    "start_time": "2023-01-02T15:41:14.103Z"
   },
   {
    "duration": 19,
    "start_time": "2023-01-02T15:41:14.109Z"
   },
   {
    "duration": 8,
    "start_time": "2023-01-02T15:41:14.130Z"
   },
   {
    "duration": 6,
    "start_time": "2023-01-02T15:41:14.140Z"
   },
   {
    "duration": 15,
    "start_time": "2023-01-02T15:41:14.178Z"
   },
   {
    "duration": 15,
    "start_time": "2023-01-02T15:41:14.195Z"
   },
   {
    "duration": 18,
    "start_time": "2023-01-02T15:46:57.858Z"
   },
   {
    "duration": 26,
    "start_time": "2023-01-02T15:54:26.616Z"
   },
   {
    "duration": 11,
    "start_time": "2023-01-02T16:26:06.986Z"
   },
   {
    "duration": 12,
    "start_time": "2023-01-02T16:27:07.782Z"
   },
   {
    "duration": 19,
    "start_time": "2023-01-02T16:38:47.801Z"
   },
   {
    "duration": 28,
    "start_time": "2023-01-02T16:47:46.115Z"
   },
   {
    "duration": 48,
    "start_time": "2023-01-02T16:48:29.288Z"
   },
   {
    "duration": 25,
    "start_time": "2023-01-02T16:49:52.578Z"
   },
   {
    "duration": 526,
    "start_time": "2023-01-06T14:33:47.518Z"
   },
   {
    "duration": 21,
    "start_time": "2023-01-06T14:33:48.046Z"
   },
   {
    "duration": 15,
    "start_time": "2023-01-06T14:33:48.068Z"
   },
   {
    "duration": 20,
    "start_time": "2023-01-06T14:33:48.085Z"
   },
   {
    "duration": 43,
    "start_time": "2023-01-06T14:33:48.107Z"
   },
   {
    "duration": 5,
    "start_time": "2023-01-06T14:33:48.152Z"
   },
   {
    "duration": 17,
    "start_time": "2023-01-06T14:33:48.159Z"
   },
   {
    "duration": 27,
    "start_time": "2023-01-06T14:33:48.178Z"
   },
   {
    "duration": 9,
    "start_time": "2023-01-06T14:33:48.206Z"
   },
   {
    "duration": 6,
    "start_time": "2023-01-06T14:33:48.217Z"
   },
   {
    "duration": 46,
    "start_time": "2023-01-06T14:33:48.225Z"
   },
   {
    "duration": 11,
    "start_time": "2023-01-06T14:33:48.273Z"
   },
   {
    "duration": 4,
    "start_time": "2023-01-06T14:33:48.304Z"
   },
   {
    "duration": 15,
    "start_time": "2023-01-06T14:33:48.310Z"
   },
   {
    "duration": 21,
    "start_time": "2023-01-06T14:33:48.327Z"
   },
   {
    "duration": 17,
    "start_time": "2023-01-06T14:33:48.349Z"
   },
   {
    "duration": 3,
    "start_time": "2023-01-06T14:33:48.368Z"
   },
   {
    "duration": 13,
    "start_time": "2023-01-06T14:33:48.405Z"
   },
   {
    "duration": 15,
    "start_time": "2023-01-06T14:33:48.420Z"
   },
   {
    "duration": 5,
    "start_time": "2023-01-06T14:33:48.437Z"
   },
   {
    "duration": 19,
    "start_time": "2023-01-06T14:33:48.444Z"
   },
   {
    "duration": 70,
    "start_time": "2023-01-06T14:33:48.465Z"
   },
   {
    "duration": 72,
    "start_time": "2023-01-06T14:34:49.508Z"
   },
   {
    "duration": 32,
    "start_time": "2023-01-06T14:35:22.317Z"
   },
   {
    "duration": 23,
    "start_time": "2023-01-06T14:36:44.783Z"
   },
   {
    "duration": 3,
    "start_time": "2023-01-06T14:41:51.234Z"
   },
   {
    "duration": 7,
    "start_time": "2023-01-06T14:42:19.953Z"
   },
   {
    "duration": 28,
    "start_time": "2023-01-06T14:44:58.093Z"
   },
   {
    "duration": 25,
    "start_time": "2023-01-06T14:51:47.849Z"
   },
   {
    "duration": 14,
    "start_time": "2023-01-06T15:00:13.680Z"
   },
   {
    "duration": 24,
    "start_time": "2023-01-06T15:00:56.693Z"
   },
   {
    "duration": 34,
    "start_time": "2023-01-06T15:04:41.905Z"
   },
   {
    "duration": 45,
    "start_time": "2023-01-06T15:26:38.292Z"
   },
   {
    "duration": 29,
    "start_time": "2023-01-06T15:26:52.766Z"
   },
   {
    "duration": 33,
    "start_time": "2023-01-06T15:27:56.372Z"
   },
   {
    "duration": 630,
    "start_time": "2023-01-06T15:42:09.645Z"
   },
   {
    "duration": 20,
    "start_time": "2023-01-06T15:42:10.277Z"
   },
   {
    "duration": 13,
    "start_time": "2023-01-06T15:42:10.298Z"
   },
   {
    "duration": 9,
    "start_time": "2023-01-06T15:42:10.312Z"
   },
   {
    "duration": 29,
    "start_time": "2023-01-06T15:42:10.322Z"
   },
   {
    "duration": 3,
    "start_time": "2023-01-06T15:42:10.352Z"
   },
   {
    "duration": 8,
    "start_time": "2023-01-06T15:42:10.356Z"
   },
   {
    "duration": 9,
    "start_time": "2023-01-06T15:42:10.366Z"
   },
   {
    "duration": 11,
    "start_time": "2023-01-06T15:42:10.376Z"
   },
   {
    "duration": 3,
    "start_time": "2023-01-06T15:42:10.389Z"
   },
   {
    "duration": 34,
    "start_time": "2023-01-06T15:42:10.411Z"
   },
   {
    "duration": 9,
    "start_time": "2023-01-06T15:42:10.446Z"
   },
   {
    "duration": 4,
    "start_time": "2023-01-06T15:42:10.456Z"
   },
   {
    "duration": 13,
    "start_time": "2023-01-06T15:42:10.462Z"
   },
   {
    "duration": 37,
    "start_time": "2023-01-06T15:42:10.476Z"
   },
   {
    "duration": 17,
    "start_time": "2023-01-06T15:42:10.514Z"
   },
   {
    "duration": 3,
    "start_time": "2023-01-06T15:42:10.533Z"
   },
   {
    "duration": 13,
    "start_time": "2023-01-06T15:42:10.538Z"
   },
   {
    "duration": 5,
    "start_time": "2023-01-06T15:42:10.552Z"
   },
   {
    "duration": 3,
    "start_time": "2023-01-06T15:42:10.559Z"
   },
   {
    "duration": 18,
    "start_time": "2023-01-06T15:42:10.563Z"
   },
   {
    "duration": 44,
    "start_time": "2023-01-06T15:42:10.583Z"
   },
   {
    "duration": 49,
    "start_time": "2023-01-06T15:42:10.628Z"
   },
   {
    "duration": 0,
    "start_time": "2023-01-06T15:42:10.679Z"
   },
   {
    "duration": 0,
    "start_time": "2023-01-06T15:42:10.680Z"
   },
   {
    "duration": 0,
    "start_time": "2023-01-06T15:42:10.681Z"
   },
   {
    "duration": 0,
    "start_time": "2023-01-06T15:42:10.682Z"
   },
   {
    "duration": 0,
    "start_time": "2023-01-06T15:42:10.683Z"
   },
   {
    "duration": 0,
    "start_time": "2023-01-06T15:42:10.684Z"
   },
   {
    "duration": 0,
    "start_time": "2023-01-06T15:42:10.685Z"
   },
   {
    "duration": 0,
    "start_time": "2023-01-06T15:42:10.686Z"
   },
   {
    "duration": 0,
    "start_time": "2023-01-06T15:42:10.687Z"
   },
   {
    "duration": 451,
    "start_time": "2023-01-06T15:42:27.600Z"
   },
   {
    "duration": 20,
    "start_time": "2023-01-06T15:42:28.053Z"
   },
   {
    "duration": 20,
    "start_time": "2023-01-06T15:42:28.074Z"
   },
   {
    "duration": 19,
    "start_time": "2023-01-06T15:42:28.096Z"
   },
   {
    "duration": 30,
    "start_time": "2023-01-06T15:42:28.117Z"
   },
   {
    "duration": 3,
    "start_time": "2023-01-06T15:42:28.148Z"
   },
   {
    "duration": 9,
    "start_time": "2023-01-06T15:42:28.153Z"
   },
   {
    "duration": 4,
    "start_time": "2023-01-06T15:42:28.164Z"
   },
   {
    "duration": 8,
    "start_time": "2023-01-06T15:42:28.169Z"
   },
   {
    "duration": 36,
    "start_time": "2023-01-06T15:42:28.178Z"
   },
   {
    "duration": 34,
    "start_time": "2023-01-06T15:42:28.215Z"
   },
   {
    "duration": 9,
    "start_time": "2023-01-06T15:42:28.251Z"
   },
   {
    "duration": 4,
    "start_time": "2023-01-06T15:42:28.261Z"
   },
   {
    "duration": 10,
    "start_time": "2023-01-06T15:42:28.267Z"
   },
   {
    "duration": 42,
    "start_time": "2023-01-06T15:42:28.279Z"
   },
   {
    "duration": 16,
    "start_time": "2023-01-06T15:42:28.322Z"
   },
   {
    "duration": 3,
    "start_time": "2023-01-06T15:42:28.340Z"
   },
   {
    "duration": 12,
    "start_time": "2023-01-06T15:42:28.344Z"
   },
   {
    "duration": 6,
    "start_time": "2023-01-06T15:42:28.357Z"
   },
   {
    "duration": 4,
    "start_time": "2023-01-06T15:42:28.364Z"
   },
   {
    "duration": 10,
    "start_time": "2023-01-06T15:42:28.370Z"
   },
   {
    "duration": 54,
    "start_time": "2023-01-06T15:42:28.381Z"
   },
   {
    "duration": 3,
    "start_time": "2023-01-06T15:42:28.437Z"
   },
   {
    "duration": 9,
    "start_time": "2023-01-06T15:42:28.441Z"
   },
   {
    "duration": 27,
    "start_time": "2023-01-06T15:42:28.451Z"
   },
   {
    "duration": 55,
    "start_time": "2023-01-06T15:42:28.479Z"
   },
   {
    "duration": 0,
    "start_time": "2023-01-06T15:42:28.536Z"
   },
   {
    "duration": 0,
    "start_time": "2023-01-06T15:42:28.537Z"
   },
   {
    "duration": 0,
    "start_time": "2023-01-06T15:42:28.538Z"
   },
   {
    "duration": 0,
    "start_time": "2023-01-06T15:42:28.539Z"
   },
   {
    "duration": 0,
    "start_time": "2023-01-06T15:42:28.540Z"
   },
   {
    "duration": 407,
    "start_time": "2023-01-06T15:42:38.861Z"
   },
   {
    "duration": 26,
    "start_time": "2023-01-06T15:42:39.270Z"
   },
   {
    "duration": 16,
    "start_time": "2023-01-06T15:42:39.298Z"
   },
   {
    "duration": 10,
    "start_time": "2023-01-06T15:42:39.317Z"
   },
   {
    "duration": 47,
    "start_time": "2023-01-06T15:42:39.328Z"
   },
   {
    "duration": 5,
    "start_time": "2023-01-06T15:42:39.376Z"
   },
   {
    "duration": 24,
    "start_time": "2023-01-06T15:42:39.383Z"
   },
   {
    "duration": 4,
    "start_time": "2023-01-06T15:42:39.412Z"
   },
   {
    "duration": 9,
    "start_time": "2023-01-06T15:42:39.418Z"
   },
   {
    "duration": 4,
    "start_time": "2023-01-06T15:42:39.430Z"
   },
   {
    "duration": 29,
    "start_time": "2023-01-06T15:42:39.436Z"
   },
   {
    "duration": 9,
    "start_time": "2023-01-06T15:42:39.467Z"
   },
   {
    "duration": 36,
    "start_time": "2023-01-06T15:42:39.477Z"
   },
   {
    "duration": 11,
    "start_time": "2023-01-06T15:42:39.514Z"
   },
   {
    "duration": 19,
    "start_time": "2023-01-06T15:42:39.526Z"
   },
   {
    "duration": 15,
    "start_time": "2023-01-06T15:42:39.547Z"
   },
   {
    "duration": 4,
    "start_time": "2023-01-06T15:42:39.563Z"
   },
   {
    "duration": 11,
    "start_time": "2023-01-06T15:42:39.569Z"
   },
   {
    "duration": 31,
    "start_time": "2023-01-06T15:42:39.582Z"
   },
   {
    "duration": 4,
    "start_time": "2023-01-06T15:42:39.614Z"
   },
   {
    "duration": 10,
    "start_time": "2023-01-06T15:42:39.620Z"
   },
   {
    "duration": 26,
    "start_time": "2023-01-06T15:42:39.631Z"
   },
   {
    "duration": 3,
    "start_time": "2023-01-06T15:42:39.659Z"
   },
   {
    "duration": 15,
    "start_time": "2023-01-06T15:42:39.664Z"
   },
   {
    "duration": 68,
    "start_time": "2023-01-06T15:42:39.681Z"
   },
   {
    "duration": 29,
    "start_time": "2023-01-06T15:42:39.751Z"
   },
   {
    "duration": 50,
    "start_time": "2023-01-06T15:42:39.781Z"
   },
   {
    "duration": 30,
    "start_time": "2023-01-06T15:42:39.835Z"
   },
   {
    "duration": 53,
    "start_time": "2023-01-06T15:42:39.866Z"
   },
   {
    "duration": 0,
    "start_time": "2023-01-06T15:42:39.921Z"
   },
   {
    "duration": 440,
    "start_time": "2023-01-06T15:42:48.408Z"
   },
   {
    "duration": 22,
    "start_time": "2023-01-06T15:42:48.850Z"
   },
   {
    "duration": 14,
    "start_time": "2023-01-06T15:42:48.873Z"
   },
   {
    "duration": 26,
    "start_time": "2023-01-06T15:42:48.888Z"
   },
   {
    "duration": 31,
    "start_time": "2023-01-06T15:42:48.915Z"
   },
   {
    "duration": 3,
    "start_time": "2023-01-06T15:42:48.947Z"
   },
   {
    "duration": 9,
    "start_time": "2023-01-06T15:42:48.951Z"
   },
   {
    "duration": 4,
    "start_time": "2023-01-06T15:42:48.962Z"
   },
   {
    "duration": 7,
    "start_time": "2023-01-06T15:42:48.968Z"
   },
   {
    "duration": 35,
    "start_time": "2023-01-06T15:42:48.978Z"
   },
   {
    "duration": 30,
    "start_time": "2023-01-06T15:42:49.014Z"
   },
   {
    "duration": 10,
    "start_time": "2023-01-06T15:42:49.045Z"
   },
   {
    "duration": 4,
    "start_time": "2023-01-06T15:42:49.056Z"
   },
   {
    "duration": 17,
    "start_time": "2023-01-06T15:42:49.061Z"
   },
   {
    "duration": 51,
    "start_time": "2023-01-06T15:42:49.080Z"
   },
   {
    "duration": 19,
    "start_time": "2023-01-06T15:42:49.132Z"
   },
   {
    "duration": 3,
    "start_time": "2023-01-06T15:42:49.153Z"
   },
   {
    "duration": 17,
    "start_time": "2023-01-06T15:42:49.158Z"
   },
   {
    "duration": 7,
    "start_time": "2023-01-06T15:42:49.177Z"
   },
   {
    "duration": 26,
    "start_time": "2023-01-06T15:42:49.186Z"
   },
   {
    "duration": 12,
    "start_time": "2023-01-06T15:42:49.214Z"
   },
   {
    "duration": 32,
    "start_time": "2023-01-06T15:42:49.228Z"
   },
   {
    "duration": 4,
    "start_time": "2023-01-06T15:42:49.262Z"
   },
   {
    "duration": 18,
    "start_time": "2023-01-06T15:42:49.268Z"
   },
   {
    "duration": 49,
    "start_time": "2023-01-06T15:42:49.288Z"
   },
   {
    "duration": 29,
    "start_time": "2023-01-06T15:42:49.338Z"
   },
   {
    "duration": 44,
    "start_time": "2023-01-06T15:42:49.369Z"
   },
   {
    "duration": 27,
    "start_time": "2023-01-06T15:42:49.416Z"
   },
   {
    "duration": 32,
    "start_time": "2023-01-06T15:42:49.444Z"
   }
  ],
  "colab": {
   "provenance": []
  },
  "kernelspec": {
   "display_name": "Python 3 (ipykernel)",
   "language": "python",
   "name": "python3"
  },
  "language_info": {
   "codemirror_mode": {
    "name": "ipython",
    "version": 3
   },
   "file_extension": ".py",
   "mimetype": "text/x-python",
   "name": "python",
   "nbconvert_exporter": "python",
   "pygments_lexer": "ipython3",
   "version": "3.9.5"
  },
  "toc": {
   "base_numbering": 1,
   "nav_menu": {},
   "number_sections": true,
   "sideBar": true,
   "skip_h1_title": true,
   "title_cell": "Table of Contents",
   "title_sidebar": "Contents",
   "toc_cell": false,
   "toc_position": {},
   "toc_section_display": true,
   "toc_window_display": false
  }
 },
 "nbformat": 4,
 "nbformat_minor": 5
}
